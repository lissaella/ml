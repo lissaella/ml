{
  "cells": [
    {
      "cell_type": "markdown",
      "metadata": {
        "id": "view-in-github",
        "colab_type": "text"
      },
      "source": [
        "<a href=\"https://colab.research.google.com/github/lissaella/ml/blob/main/zenml.ipynb\" target=\"_parent\"><img src=\"https://colab.research.google.com/assets/colab-badge.svg\" alt=\"Open In Colab\"/></a>"
      ]
    },
    {
      "cell_type": "code",
      "execution_count": null,
      "metadata": {
        "colab": {
          "base_uri": "https://localhost:8080/"
        },
        "id": "jXwU-vZIwL-9",
        "outputId": "9c1b5fe5-1c27-4be7-a5c5-5efe8ef8e0a8"
      },
      "outputs": [
        {
          "name": "stdout",
          "output_type": "stream",
          "text": [
            "Requirement already satisfied: zenml[server] in /usr/local/lib/python3.10/dist-packages (0.55.5)\n",
            "Requirement already satisfied: alembic<1.9.0,>=1.8.1 in /usr/local/lib/python3.10/dist-packages (from zenml[server]) (1.8.1)\n",
            "Requirement already satisfied: azure-mgmt-resource>=21.0.0 in /usr/local/lib/python3.10/dist-packages (from zenml[server]) (23.0.1)\n",
            "Requirement already satisfied: bcrypt==4.0.1 in /usr/local/lib/python3.10/dist-packages (from zenml[server]) (4.0.1)\n",
            "Requirement already satisfied: click<8.1.4,>=8.0.1 in /usr/local/lib/python3.10/dist-packages (from zenml[server]) (8.1.3)\n",
            "Requirement already satisfied: click-params<0.4.0,>=0.3.0 in /usr/local/lib/python3.10/dist-packages (from zenml[server]) (0.3.0)\n",
            "Requirement already satisfied: cloudpickle<3,>=2.0.0 in /usr/local/lib/python3.10/dist-packages (from zenml[server]) (2.2.1)\n",
            "Requirement already satisfied: distro<2.0.0,>=1.6.0 in /usr/lib/python3/dist-packages (from zenml[server]) (1.7.0)\n",
            "Requirement already satisfied: docker<6.2.0,>=6.1.0 in /usr/local/lib/python3.10/dist-packages (from zenml[server]) (6.1.3)\n",
            "Requirement already satisfied: gitpython<4.0.0,>=3.1.18 in /usr/local/lib/python3.10/dist-packages (from zenml[server]) (3.1.42)\n",
            "Requirement already satisfied: httplib2<0.20,>=0.19.1 in /usr/local/lib/python3.10/dist-packages (from zenml[server]) (0.19.1)\n",
            "Requirement already satisfied: pandas>=1.1.5 in /usr/local/lib/python3.10/dist-packages (from zenml[server]) (1.5.3)\n",
            "Requirement already satisfied: passlib[bcrypt]<1.8.0,>=1.7.4 in /usr/local/lib/python3.10/dist-packages (from zenml[server]) (1.7.4)\n",
            "Requirement already satisfied: psutil>=5.0.0 in /usr/local/lib/python3.10/dist-packages (from zenml[server]) (5.9.5)\n",
            "Requirement already satisfied: pydantic<1.11,>=1.9.0 in /usr/local/lib/python3.10/dist-packages (from zenml[server]) (1.10.14)\n",
            "Requirement already satisfied: pymysql<1.1.0,>=1.0.2 in /usr/local/lib/python3.10/dist-packages (from zenml[server]) (1.0.3)\n",
            "Requirement already satisfied: pyparsing<3,>=2.4.0 in /usr/local/lib/python3.10/dist-packages (from zenml[server]) (2.4.2)\n",
            "Requirement already satisfied: python-dateutil<3.0.0,>=2.8.1 in /usr/local/lib/python3.10/dist-packages (from zenml[server]) (2.8.2)\n",
            "Requirement already satisfied: pyyaml>=6.0.1 in /usr/local/lib/python3.10/dist-packages (from zenml[server]) (6.0.1)\n",
            "Requirement already satisfied: rich[jupyter]>=12.0.0 in /usr/local/lib/python3.10/dist-packages (from zenml[server]) (13.7.1)\n",
            "Requirement already satisfied: sqlalchemy_utils==0.38.3 in /usr/local/lib/python3.10/dist-packages (from zenml[server]) (0.38.3)\n",
            "Requirement already satisfied: sqlmodel==0.0.8 in /usr/local/lib/python3.10/dist-packages (from zenml[server]) (0.0.8)\n",
            "Requirement already satisfied: Jinja2 in /usr/local/lib/python3.10/dist-packages (from zenml[server]) (3.1.3)\n",
            "Requirement already satisfied: fastapi<0.100,>=0.75 in /usr/local/lib/python3.10/dist-packages (from zenml[server]) (0.99.1)\n",
            "Requirement already satisfied: fastapi-utils<0.3.0,>=0.2.1 in /usr/local/lib/python3.10/dist-packages (from zenml[server]) (0.2.1)\n",
            "Requirement already satisfied: ipinfo>=4.4.3 in /usr/local/lib/python3.10/dist-packages (from zenml[server]) (5.0.1)\n",
            "Requirement already satisfied: orjson<3.9.0,>=3.8.3 in /usr/local/lib/python3.10/dist-packages (from zenml[server]) (3.8.14)\n",
            "Requirement already satisfied: pyjwt[crypto]==2.7.* in /usr/local/lib/python3.10/dist-packages (from zenml[server]) (2.7.0)\n",
            "Requirement already satisfied: python-multipart<0.1.0,>=0.0.5 in /usr/local/lib/python3.10/dist-packages (from zenml[server]) (0.0.9)\n",
            "Requirement already satisfied: uvicorn[standard]>=0.17.5 in /usr/local/lib/python3.10/dist-packages (from zenml[server]) (0.28.0)\n",
            "Requirement already satisfied: cryptography>=3.4.0 in /usr/local/lib/python3.10/dist-packages (from pyjwt[crypto]==2.7.*->zenml[server]) (42.0.5)\n",
            "Requirement already satisfied: SQLAlchemy>=1.3 in /usr/local/lib/python3.10/dist-packages (from sqlalchemy_utils==0.38.3->zenml[server]) (1.4.41)\n",
            "Requirement already satisfied: sqlalchemy2-stubs in /usr/local/lib/python3.10/dist-packages (from sqlmodel==0.0.8->zenml[server]) (0.0.2a38)\n",
            "Requirement already satisfied: Mako in /usr/local/lib/python3.10/dist-packages (from alembic<1.9.0,>=1.8.1->zenml[server]) (1.3.2)\n",
            "Requirement already satisfied: isodate<1.0.0,>=0.6.1 in /usr/local/lib/python3.10/dist-packages (from azure-mgmt-resource>=21.0.0->zenml[server]) (0.6.1)\n",
            "Requirement already satisfied: azure-common~=1.1 in /usr/local/lib/python3.10/dist-packages (from azure-mgmt-resource>=21.0.0->zenml[server]) (1.1.28)\n",
            "Requirement already satisfied: azure-mgmt-core<2.0.0,>=1.3.2 in /usr/local/lib/python3.10/dist-packages (from azure-mgmt-resource>=21.0.0->zenml[server]) (1.4.0)\n",
            "Requirement already satisfied: validators<0.19,>=0.18 in /usr/local/lib/python3.10/dist-packages (from click-params<0.4.0,>=0.3.0->zenml[server]) (0.18.2)\n",
            "Requirement already satisfied: packaging>=14.0 in /usr/local/lib/python3.10/dist-packages (from docker<6.2.0,>=6.1.0->zenml[server]) (24.0)\n",
            "Requirement already satisfied: requests>=2.26.0 in /usr/local/lib/python3.10/dist-packages (from docker<6.2.0,>=6.1.0->zenml[server]) (2.31.0)\n",
            "Requirement already satisfied: urllib3>=1.26.0 in /usr/local/lib/python3.10/dist-packages (from docker<6.2.0,>=6.1.0->zenml[server]) (2.0.7)\n",
            "Requirement already satisfied: websocket-client>=0.32.0 in /usr/local/lib/python3.10/dist-packages (from docker<6.2.0,>=6.1.0->zenml[server]) (1.7.0)\n",
            "Requirement already satisfied: starlette<0.28.0,>=0.27.0 in /usr/local/lib/python3.10/dist-packages (from fastapi<0.100,>=0.75->zenml[server]) (0.27.0)\n",
            "Requirement already satisfied: typing-extensions>=4.5.0 in /usr/local/lib/python3.10/dist-packages (from fastapi<0.100,>=0.75->zenml[server]) (4.10.0)\n",
            "Requirement already satisfied: gitdb<5,>=4.0.1 in /usr/local/lib/python3.10/dist-packages (from gitpython<4.0.0,>=3.1.18->zenml[server]) (4.0.11)\n",
            "Requirement already satisfied: cachetools in /usr/local/lib/python3.10/dist-packages (from ipinfo>=4.4.3->zenml[server]) (5.3.3)\n",
            "Requirement already satisfied: aiohttp<=4 in /usr/local/lib/python3.10/dist-packages (from ipinfo>=4.4.3->zenml[server]) (3.9.3)\n",
            "Requirement already satisfied: pytz>=2020.1 in /usr/local/lib/python3.10/dist-packages (from pandas>=1.1.5->zenml[server]) (2023.4)\n",
            "Requirement already satisfied: numpy>=1.21.0 in /usr/local/lib/python3.10/dist-packages (from pandas>=1.1.5->zenml[server]) (1.25.2)\n",
            "Requirement already satisfied: six>=1.5 in /usr/local/lib/python3.10/dist-packages (from python-dateutil<3.0.0,>=2.8.1->zenml[server]) (1.16.0)\n",
            "Requirement already satisfied: markdown-it-py>=2.2.0 in /usr/local/lib/python3.10/dist-packages (from rich[jupyter]>=12.0.0->zenml[server]) (3.0.0)\n",
            "Requirement already satisfied: pygments<3.0.0,>=2.13.0 in /usr/local/lib/python3.10/dist-packages (from rich[jupyter]>=12.0.0->zenml[server]) (2.16.1)\n",
            "Requirement already satisfied: ipywidgets<9,>=7.5.1 in /usr/local/lib/python3.10/dist-packages (from rich[jupyter]>=12.0.0->zenml[server]) (7.7.1)\n",
            "Requirement already satisfied: h11>=0.8 in /usr/local/lib/python3.10/dist-packages (from uvicorn[standard]>=0.17.5->zenml[server]) (0.14.0)\n",
            "Requirement already satisfied: httptools>=0.5.0 in /usr/local/lib/python3.10/dist-packages (from uvicorn[standard]>=0.17.5->zenml[server]) (0.6.1)\n",
            "Requirement already satisfied: python-dotenv>=0.13 in /usr/local/lib/python3.10/dist-packages (from uvicorn[standard]>=0.17.5->zenml[server]) (1.0.1)\n",
            "Requirement already satisfied: uvloop!=0.15.0,!=0.15.1,>=0.14.0 in /usr/local/lib/python3.10/dist-packages (from uvicorn[standard]>=0.17.5->zenml[server]) (0.19.0)\n",
            "Requirement already satisfied: watchfiles>=0.13 in /usr/local/lib/python3.10/dist-packages (from uvicorn[standard]>=0.17.5->zenml[server]) (0.21.0)\n",
            "Requirement already satisfied: websockets>=10.4 in /usr/local/lib/python3.10/dist-packages (from uvicorn[standard]>=0.17.5->zenml[server]) (12.0)\n",
            "Requirement already satisfied: MarkupSafe>=2.0 in /usr/local/lib/python3.10/dist-packages (from Jinja2->zenml[server]) (2.1.5)\n",
            "Requirement already satisfied: aiosignal>=1.1.2 in /usr/local/lib/python3.10/dist-packages (from aiohttp<=4->ipinfo>=4.4.3->zenml[server]) (1.3.1)\n",
            "Requirement already satisfied: attrs>=17.3.0 in /usr/local/lib/python3.10/dist-packages (from aiohttp<=4->ipinfo>=4.4.3->zenml[server]) (23.2.0)\n",
            "Requirement already satisfied: frozenlist>=1.1.1 in /usr/local/lib/python3.10/dist-packages (from aiohttp<=4->ipinfo>=4.4.3->zenml[server]) (1.4.1)\n",
            "Requirement already satisfied: multidict<7.0,>=4.5 in /usr/local/lib/python3.10/dist-packages (from aiohttp<=4->ipinfo>=4.4.3->zenml[server]) (6.0.5)\n",
            "Requirement already satisfied: yarl<2.0,>=1.0 in /usr/local/lib/python3.10/dist-packages (from aiohttp<=4->ipinfo>=4.4.3->zenml[server]) (1.9.4)\n",
            "Requirement already satisfied: async-timeout<5.0,>=4.0 in /usr/local/lib/python3.10/dist-packages (from aiohttp<=4->ipinfo>=4.4.3->zenml[server]) (4.0.3)\n",
            "Requirement already satisfied: azure-core<2.0.0,>=1.26.2 in /usr/local/lib/python3.10/dist-packages (from azure-mgmt-core<2.0.0,>=1.3.2->azure-mgmt-resource>=21.0.0->zenml[server]) (1.30.1)\n",
            "Requirement already satisfied: cffi>=1.12 in /usr/local/lib/python3.10/dist-packages (from cryptography>=3.4.0->pyjwt[crypto]==2.7.*->zenml[server]) (1.16.0)\n",
            "Requirement already satisfied: smmap<6,>=3.0.1 in /usr/local/lib/python3.10/dist-packages (from gitdb<5,>=4.0.1->gitpython<4.0.0,>=3.1.18->zenml[server]) (5.0.1)\n",
            "Requirement already satisfied: ipykernel>=4.5.1 in /usr/local/lib/python3.10/dist-packages (from ipywidgets<9,>=7.5.1->rich[jupyter]>=12.0.0->zenml[server]) (5.5.6)\n",
            "Requirement already satisfied: ipython-genutils~=0.2.0 in /usr/local/lib/python3.10/dist-packages (from ipywidgets<9,>=7.5.1->rich[jupyter]>=12.0.0->zenml[server]) (0.2.0)\n",
            "Requirement already satisfied: traitlets>=4.3.1 in /usr/local/lib/python3.10/dist-packages (from ipywidgets<9,>=7.5.1->rich[jupyter]>=12.0.0->zenml[server]) (5.7.1)\n",
            "Requirement already satisfied: widgetsnbextension~=3.6.0 in /usr/local/lib/python3.10/dist-packages (from ipywidgets<9,>=7.5.1->rich[jupyter]>=12.0.0->zenml[server]) (3.6.6)\n",
            "Requirement already satisfied: ipython>=4.0.0 in /usr/local/lib/python3.10/dist-packages (from ipywidgets<9,>=7.5.1->rich[jupyter]>=12.0.0->zenml[server]) (7.34.0)\n",
            "Requirement already satisfied: jupyterlab-widgets>=1.0.0 in /usr/local/lib/python3.10/dist-packages (from ipywidgets<9,>=7.5.1->rich[jupyter]>=12.0.0->zenml[server]) (3.0.10)\n",
            "Requirement already satisfied: mdurl~=0.1 in /usr/local/lib/python3.10/dist-packages (from markdown-it-py>=2.2.0->rich[jupyter]>=12.0.0->zenml[server]) (0.1.2)\n",
            "Requirement already satisfied: charset-normalizer<4,>=2 in /usr/local/lib/python3.10/dist-packages (from requests>=2.26.0->docker<6.2.0,>=6.1.0->zenml[server]) (3.3.2)\n",
            "Requirement already satisfied: idna<4,>=2.5 in /usr/local/lib/python3.10/dist-packages (from requests>=2.26.0->docker<6.2.0,>=6.1.0->zenml[server]) (3.6)\n",
            "Requirement already satisfied: certifi>=2017.4.17 in /usr/local/lib/python3.10/dist-packages (from requests>=2.26.0->docker<6.2.0,>=6.1.0->zenml[server]) (2024.2.2)\n",
            "Requirement already satisfied: greenlet!=0.4.17 in /usr/local/lib/python3.10/dist-packages (from SQLAlchemy>=1.3->sqlalchemy_utils==0.38.3->zenml[server]) (3.0.3)\n",
            "Requirement already satisfied: anyio<5,>=3.4.0 in /usr/local/lib/python3.10/dist-packages (from starlette<0.28.0,>=0.27.0->fastapi<0.100,>=0.75->zenml[server]) (3.7.1)\n",
            "Requirement already satisfied: decorator>=3.4.0 in /usr/local/lib/python3.10/dist-packages (from validators<0.19,>=0.18->click-params<0.4.0,>=0.3.0->zenml[server]) (4.4.2)\n",
            "Requirement already satisfied: sniffio>=1.1 in /usr/local/lib/python3.10/dist-packages (from anyio<5,>=3.4.0->starlette<0.28.0,>=0.27.0->fastapi<0.100,>=0.75->zenml[server]) (1.3.1)\n",
            "Requirement already satisfied: exceptiongroup in /usr/local/lib/python3.10/dist-packages (from anyio<5,>=3.4.0->starlette<0.28.0,>=0.27.0->fastapi<0.100,>=0.75->zenml[server]) (1.2.0)\n",
            "Requirement already satisfied: pycparser in /usr/local/lib/python3.10/dist-packages (from cffi>=1.12->cryptography>=3.4.0->pyjwt[crypto]==2.7.*->zenml[server]) (2.21)\n",
            "Requirement already satisfied: jupyter-client in /usr/local/lib/python3.10/dist-packages (from ipykernel>=4.5.1->ipywidgets<9,>=7.5.1->rich[jupyter]>=12.0.0->zenml[server]) (6.1.12)\n",
            "Requirement already satisfied: tornado>=4.2 in /usr/local/lib/python3.10/dist-packages (from ipykernel>=4.5.1->ipywidgets<9,>=7.5.1->rich[jupyter]>=12.0.0->zenml[server]) (6.3.3)\n",
            "Requirement already satisfied: setuptools>=18.5 in /usr/local/lib/python3.10/dist-packages (from ipython>=4.0.0->ipywidgets<9,>=7.5.1->rich[jupyter]>=12.0.0->zenml[server]) (67.7.2)\n",
            "Requirement already satisfied: jedi>=0.16 in /usr/local/lib/python3.10/dist-packages (from ipython>=4.0.0->ipywidgets<9,>=7.5.1->rich[jupyter]>=12.0.0->zenml[server]) (0.19.1)\n",
            "Requirement already satisfied: pickleshare in /usr/local/lib/python3.10/dist-packages (from ipython>=4.0.0->ipywidgets<9,>=7.5.1->rich[jupyter]>=12.0.0->zenml[server]) (0.7.5)\n",
            "Requirement already satisfied: prompt-toolkit!=3.0.0,!=3.0.1,<3.1.0,>=2.0.0 in /usr/local/lib/python3.10/dist-packages (from ipython>=4.0.0->ipywidgets<9,>=7.5.1->rich[jupyter]>=12.0.0->zenml[server]) (3.0.43)\n",
            "Requirement already satisfied: backcall in /usr/local/lib/python3.10/dist-packages (from ipython>=4.0.0->ipywidgets<9,>=7.5.1->rich[jupyter]>=12.0.0->zenml[server]) (0.2.0)\n",
            "Requirement already satisfied: matplotlib-inline in /usr/local/lib/python3.10/dist-packages (from ipython>=4.0.0->ipywidgets<9,>=7.5.1->rich[jupyter]>=12.0.0->zenml[server]) (0.1.6)\n",
            "Requirement already satisfied: pexpect>4.3 in /usr/local/lib/python3.10/dist-packages (from ipython>=4.0.0->ipywidgets<9,>=7.5.1->rich[jupyter]>=12.0.0->zenml[server]) (4.9.0)\n",
            "Requirement already satisfied: notebook>=4.4.1 in /usr/local/lib/python3.10/dist-packages (from widgetsnbextension~=3.6.0->ipywidgets<9,>=7.5.1->rich[jupyter]>=12.0.0->zenml[server]) (6.5.5)\n",
            "Requirement already satisfied: parso<0.9.0,>=0.8.3 in /usr/local/lib/python3.10/dist-packages (from jedi>=0.16->ipython>=4.0.0->ipywidgets<9,>=7.5.1->rich[jupyter]>=12.0.0->zenml[server]) (0.8.3)\n",
            "Requirement already satisfied: pyzmq<25,>=17 in /usr/local/lib/python3.10/dist-packages (from notebook>=4.4.1->widgetsnbextension~=3.6.0->ipywidgets<9,>=7.5.1->rich[jupyter]>=12.0.0->zenml[server]) (23.2.1)\n",
            "Requirement already satisfied: argon2-cffi in /usr/local/lib/python3.10/dist-packages (from notebook>=4.4.1->widgetsnbextension~=3.6.0->ipywidgets<9,>=7.5.1->rich[jupyter]>=12.0.0->zenml[server]) (23.1.0)\n",
            "Requirement already satisfied: jupyter-core>=4.6.1 in /usr/local/lib/python3.10/dist-packages (from notebook>=4.4.1->widgetsnbextension~=3.6.0->ipywidgets<9,>=7.5.1->rich[jupyter]>=12.0.0->zenml[server]) (5.7.2)\n",
            "Requirement already satisfied: nbformat in /usr/local/lib/python3.10/dist-packages (from notebook>=4.4.1->widgetsnbextension~=3.6.0->ipywidgets<9,>=7.5.1->rich[jupyter]>=12.0.0->zenml[server]) (5.10.2)\n",
            "Requirement already satisfied: nbconvert>=5 in /usr/local/lib/python3.10/dist-packages (from notebook>=4.4.1->widgetsnbextension~=3.6.0->ipywidgets<9,>=7.5.1->rich[jupyter]>=12.0.0->zenml[server]) (6.5.4)\n",
            "Requirement already satisfied: nest-asyncio>=1.5 in /usr/local/lib/python3.10/dist-packages (from notebook>=4.4.1->widgetsnbextension~=3.6.0->ipywidgets<9,>=7.5.1->rich[jupyter]>=12.0.0->zenml[server]) (1.6.0)\n",
            "Requirement already satisfied: Send2Trash>=1.8.0 in /usr/local/lib/python3.10/dist-packages (from notebook>=4.4.1->widgetsnbextension~=3.6.0->ipywidgets<9,>=7.5.1->rich[jupyter]>=12.0.0->zenml[server]) (1.8.2)\n",
            "Requirement already satisfied: terminado>=0.8.3 in /usr/local/lib/python3.10/dist-packages (from notebook>=4.4.1->widgetsnbextension~=3.6.0->ipywidgets<9,>=7.5.1->rich[jupyter]>=12.0.0->zenml[server]) (0.18.1)\n",
            "Requirement already satisfied: prometheus-client in /usr/local/lib/python3.10/dist-packages (from notebook>=4.4.1->widgetsnbextension~=3.6.0->ipywidgets<9,>=7.5.1->rich[jupyter]>=12.0.0->zenml[server]) (0.20.0)\n",
            "Requirement already satisfied: nbclassic>=0.4.7 in /usr/local/lib/python3.10/dist-packages (from notebook>=4.4.1->widgetsnbextension~=3.6.0->ipywidgets<9,>=7.5.1->rich[jupyter]>=12.0.0->zenml[server]) (1.0.0)\n",
            "Requirement already satisfied: ptyprocess>=0.5 in /usr/local/lib/python3.10/dist-packages (from pexpect>4.3->ipython>=4.0.0->ipywidgets<9,>=7.5.1->rich[jupyter]>=12.0.0->zenml[server]) (0.7.0)\n",
            "Requirement already satisfied: wcwidth in /usr/local/lib/python3.10/dist-packages (from prompt-toolkit!=3.0.0,!=3.0.1,<3.1.0,>=2.0.0->ipython>=4.0.0->ipywidgets<9,>=7.5.1->rich[jupyter]>=12.0.0->zenml[server]) (0.2.13)\n",
            "Requirement already satisfied: platformdirs>=2.5 in /usr/local/lib/python3.10/dist-packages (from jupyter-core>=4.6.1->notebook>=4.4.1->widgetsnbextension~=3.6.0->ipywidgets<9,>=7.5.1->rich[jupyter]>=12.0.0->zenml[server]) (4.2.0)\n",
            "Requirement already satisfied: jupyter-server>=1.8 in /usr/local/lib/python3.10/dist-packages (from nbclassic>=0.4.7->notebook>=4.4.1->widgetsnbextension~=3.6.0->ipywidgets<9,>=7.5.1->rich[jupyter]>=12.0.0->zenml[server]) (1.24.0)\n",
            "Requirement already satisfied: notebook-shim>=0.2.3 in /usr/local/lib/python3.10/dist-packages (from nbclassic>=0.4.7->notebook>=4.4.1->widgetsnbextension~=3.6.0->ipywidgets<9,>=7.5.1->rich[jupyter]>=12.0.0->zenml[server]) (0.2.4)\n",
            "Requirement already satisfied: lxml in /usr/local/lib/python3.10/dist-packages (from nbconvert>=5->notebook>=4.4.1->widgetsnbextension~=3.6.0->ipywidgets<9,>=7.5.1->rich[jupyter]>=12.0.0->zenml[server]) (4.9.4)\n",
            "Requirement already satisfied: beautifulsoup4 in /usr/local/lib/python3.10/dist-packages (from nbconvert>=5->notebook>=4.4.1->widgetsnbextension~=3.6.0->ipywidgets<9,>=7.5.1->rich[jupyter]>=12.0.0->zenml[server]) (4.12.3)\n",
            "Requirement already satisfied: bleach in /usr/local/lib/python3.10/dist-packages (from nbconvert>=5->notebook>=4.4.1->widgetsnbextension~=3.6.0->ipywidgets<9,>=7.5.1->rich[jupyter]>=12.0.0->zenml[server]) (6.1.0)\n",
            "Requirement already satisfied: defusedxml in /usr/local/lib/python3.10/dist-packages (from nbconvert>=5->notebook>=4.4.1->widgetsnbextension~=3.6.0->ipywidgets<9,>=7.5.1->rich[jupyter]>=12.0.0->zenml[server]) (0.7.1)\n",
            "Requirement already satisfied: entrypoints>=0.2.2 in /usr/local/lib/python3.10/dist-packages (from nbconvert>=5->notebook>=4.4.1->widgetsnbextension~=3.6.0->ipywidgets<9,>=7.5.1->rich[jupyter]>=12.0.0->zenml[server]) (0.4)\n",
            "Requirement already satisfied: jupyterlab-pygments in /usr/local/lib/python3.10/dist-packages (from nbconvert>=5->notebook>=4.4.1->widgetsnbextension~=3.6.0->ipywidgets<9,>=7.5.1->rich[jupyter]>=12.0.0->zenml[server]) (0.3.0)\n",
            "Requirement already satisfied: mistune<2,>=0.8.1 in /usr/local/lib/python3.10/dist-packages (from nbconvert>=5->notebook>=4.4.1->widgetsnbextension~=3.6.0->ipywidgets<9,>=7.5.1->rich[jupyter]>=12.0.0->zenml[server]) (0.8.4)\n",
            "Requirement already satisfied: nbclient>=0.5.0 in /usr/local/lib/python3.10/dist-packages (from nbconvert>=5->notebook>=4.4.1->widgetsnbextension~=3.6.0->ipywidgets<9,>=7.5.1->rich[jupyter]>=12.0.0->zenml[server]) (0.10.0)\n",
            "Requirement already satisfied: pandocfilters>=1.4.1 in /usr/local/lib/python3.10/dist-packages (from nbconvert>=5->notebook>=4.4.1->widgetsnbextension~=3.6.0->ipywidgets<9,>=7.5.1->rich[jupyter]>=12.0.0->zenml[server]) (1.5.1)\n",
            "Requirement already satisfied: tinycss2 in /usr/local/lib/python3.10/dist-packages (from nbconvert>=5->notebook>=4.4.1->widgetsnbextension~=3.6.0->ipywidgets<9,>=7.5.1->rich[jupyter]>=12.0.0->zenml[server]) (1.2.1)\n",
            "Requirement already satisfied: fastjsonschema in /usr/local/lib/python3.10/dist-packages (from nbformat->notebook>=4.4.1->widgetsnbextension~=3.6.0->ipywidgets<9,>=7.5.1->rich[jupyter]>=12.0.0->zenml[server]) (2.19.1)\n",
            "Requirement already satisfied: jsonschema>=2.6 in /usr/local/lib/python3.10/dist-packages (from nbformat->notebook>=4.4.1->widgetsnbextension~=3.6.0->ipywidgets<9,>=7.5.1->rich[jupyter]>=12.0.0->zenml[server]) (4.19.2)\n",
            "Requirement already satisfied: argon2-cffi-bindings in /usr/local/lib/python3.10/dist-packages (from argon2-cffi->notebook>=4.4.1->widgetsnbextension~=3.6.0->ipywidgets<9,>=7.5.1->rich[jupyter]>=12.0.0->zenml[server]) (21.2.0)\n",
            "Requirement already satisfied: jsonschema-specifications>=2023.03.6 in /usr/local/lib/python3.10/dist-packages (from jsonschema>=2.6->nbformat->notebook>=4.4.1->widgetsnbextension~=3.6.0->ipywidgets<9,>=7.5.1->rich[jupyter]>=12.0.0->zenml[server]) (2023.12.1)\n",
            "Requirement already satisfied: referencing>=0.28.4 in /usr/local/lib/python3.10/dist-packages (from jsonschema>=2.6->nbformat->notebook>=4.4.1->widgetsnbextension~=3.6.0->ipywidgets<9,>=7.5.1->rich[jupyter]>=12.0.0->zenml[server]) (0.33.0)\n",
            "Requirement already satisfied: rpds-py>=0.7.1 in /usr/local/lib/python3.10/dist-packages (from jsonschema>=2.6->nbformat->notebook>=4.4.1->widgetsnbextension~=3.6.0->ipywidgets<9,>=7.5.1->rich[jupyter]>=12.0.0->zenml[server]) (0.18.0)\n",
            "Requirement already satisfied: soupsieve>1.2 in /usr/local/lib/python3.10/dist-packages (from beautifulsoup4->nbconvert>=5->notebook>=4.4.1->widgetsnbextension~=3.6.0->ipywidgets<9,>=7.5.1->rich[jupyter]>=12.0.0->zenml[server]) (2.5)\n",
            "Requirement already satisfied: webencodings in /usr/local/lib/python3.10/dist-packages (from bleach->nbconvert>=5->notebook>=4.4.1->widgetsnbextension~=3.6.0->ipywidgets<9,>=7.5.1->rich[jupyter]>=12.0.0->zenml[server]) (0.5.1)\n",
            "\u001b[1;35mNumExpr defaulting to 2 threads.\u001b[0m\n",
            "\u001b[2K\u001b[32m⠴\u001b[0m Installing integrations...\n",
            "\u001b[1A\u001b[2KRequirement already satisfied: pyparsing==2.4.2 in /usr/local/lib/python3.10/dist-packages (2.4.2)\n"
          ]
        },
        {
          "data": {
            "text/plain": [
              "{'status': 'ok', 'restart': True}"
            ]
          },
          "execution_count": 1,
          "metadata": {},
          "output_type": "execute_result"
        }
      ],
      "source": [
        "%pip install \"zenml[server]\"\n",
        "!zenml integration install sklearn -y\n",
        "%pip install pyparsing==2.4.2\n",
        "import IPython\n",
        "IPython.Application.instance().kernel.do_shutdown(restart=True)"
      ]
    },
    {
      "cell_type": "code",
      "execution_count": null,
      "metadata": {
        "id": "SpfxuZhRvu9g"
      },
      "outputs": [],
      "source": [
        "NGROK_TOKEN =\"2doGh2Z8xF4Ni68Y1mhie4xIXc2_7ch3KjAx4yNQbwyw8puuJ\""
      ]
    },
    {
      "cell_type": "code",
      "execution_count": null,
      "metadata": {
        "colab": {
          "base_uri": "https://localhost:8080/"
        },
        "id": "M0AELfeAv2ii",
        "outputId": "fa8ee403-d318-4fd7-ccd7-3a498ff6c3af"
      },
      "outputs": [
        {
          "name": "stderr",
          "output_type": "stream",
          "text": [
            "INFO:numexpr.utils:NumExpr defaulting to 2 threads.\n"
          ]
        },
        {
          "name": "stdout",
          "output_type": "stream",
          "text": [
            "\u001b[1;35mNumExpr defaulting to 2 threads.\u001b[0m\n",
            "Requirement already satisfied: pyngrok in /usr/local/lib/python3.10/dist-packages (7.1.5)\n",
            "Requirement already satisfied: PyYAML>=5.1 in /usr/local/lib/python3.10/dist-packages (from pyngrok) (6.0.1)\n",
            "ngrok - tunnel local ports to public URLs and inspect traffic\n",
            "\n",
            "USAGE:\n",
            "  ngrok [command] [flags]\n",
            "\n",
            "AUTHOR:\n",
            "  ngrok - <support@ngrok.com>\n",
            "\n",
            "COMMANDS: \n",
            "  config          update or migrate ngrok's configuration file\n",
            "  http            start an HTTP tunnel\n",
            "  tcp             start a TCP tunnel\n",
            "  tunnel          start a tunnel for use with a tunnel-group backend\n",
            "\n",
            "EXAMPLES: \n",
            "  ngrok http 80                                                 # secure public URL for port 80 web server\n",
            "  ngrok http --domain baz.ngrok.dev 8080                        # port 8080 available at baz.ngrok.dev\n",
            "  ngrok tcp 22                                                  # tunnel arbitrary TCP traffic to port 22\n",
            "  ngrok http 80 --oauth=google --oauth-allow-email=foo@foo.com  # secure your app with oauth\n",
            "\n",
            "Paid Features: \n",
            "  ngrok http 80 --domain mydomain.com                           # run ngrok with your own custom domain\n",
            "  ngrok http 80 --allow-cidr 2600:8c00::a03c:91ee:fe69:9695/32  # run ngrok with IP policy restrictions\n",
            "  Upgrade your account at https://dashboard.ngrok.com/billing/subscription to access paid features\n",
            "\n",
            "Upgrade your account at https://dashboard.ngrok.com/billing/subscription to access paid features\n",
            "\n",
            "Flags:\n",
            "  -h, --help      help for ngrok\n",
            "\n",
            "Use \"ngrok [command] --help\" for more information about a command.\n"
          ]
        }
      ],
      "source": [
        "from zenml.environment import Environment\n",
        "if Environment.in_google_colab():\n",
        "  !pip install pyngrok\n",
        "  !ngrok authtoken{NGROK_TOKEN}"
      ]
    },
    {
      "cell_type": "code",
      "execution_count": null,
      "metadata": {
        "colab": {
          "base_uri": "https://localhost:8080/"
        },
        "id": "48_uJNvsFpe2",
        "outputId": "d736dcd5-5bc4-4745-b9c7-b79832022d93"
      },
      "outputs": [
        {
          "name": "stdout",
          "output_type": "stream",
          "text": [
            "\u001b[1;35mNumExpr defaulting to 2 threads.\u001b[0m\n",
            "\u001b[?25l\u001b[32m⠋\u001b[0m Initializing ZenML repository at /content.\n",
            "\u001b[2K\u001b[1A\u001b[2K\u001b[32m⠹\u001b[0m Initializing ZenML repository at /content.\n",
            "\u001b[2K\u001b[1A\u001b[2K\u001b[32m⠸\u001b[0m Initializing ZenML repository at /content.\n",
            "\u001b[2K\u001b[1A\u001b[2K\u001b[32m⠼\u001b[0m Initializing ZenML repository at /content.\n",
            "\u001b[2K\u001b[1A\u001b[2K\u001b[32m⠴\u001b[0m Initializing ZenML repository at /content.\n",
            "\u001b[2K\u001b[1A\u001b[2K\u001b[32m⠧\u001b[0m Initializing ZenML repository at /content.\n",
            "\u001b[2K\u001b[1A\u001b[2K\u001b[32m⠇\u001b[0m Initializing ZenML repository at /content.\n",
            "\u001b[1;35mSetting the repo active workspace to 'default'.\u001b[0m\n",
            "\u001b[33mSetting the repo active stack to default.\u001b[0m\n",
            "\u001b[2K\u001b[1A\u001b[2K\u001b[2;36mZenML repository initialized at \u001b[0m\u001b[2;35m/\u001b[0m\u001b[2;95mcontent.\u001b[0m\n",
            "\u001b[2;32m⠇\u001b[0m\u001b[2;36m Initializing ZenML repository at /content.\u001b[0m\n",
            "\u001b[2K\u001b[1A\u001b[2K\u001b[32m⠇\u001b[0m Initializing ZenML repository at /content.\n",
            "\n",
            "\u001b[1A\u001b[2K\u001b[1A\u001b[2K\u001b[2;36mThe local active stack was initialized to \u001b[0m\u001b[2;32m'default'\u001b[0m\u001b[2;36m. This local configuration will only take effect \u001b[0m\n",
            "\u001b[2;36mwhen you're running ZenML from the initialized repository root, or from a subdirectory. For more \u001b[0m\n",
            "\u001b[2;36minformation on repositories and configurations, please visit \u001b[0m\n",
            "\u001b[2;4;94mhttps://docs.zenml.io/user-guide/starter-guide/understand-stacks.\u001b[0m\n"
          ]
        }
      ],
      "source": [
        "!rm -rf .zen\n",
        "!zenml init"
      ]
    },
    {
      "cell_type": "code",
      "execution_count": null,
      "metadata": {
        "colab": {
          "base_uri": "https://localhost:8080/"
        },
        "id": "u-ysAy3WFpT1",
        "outputId": "5c1dfd84-30f6-472e-f124-59d0e1f6f42a"
      },
      "outputs": [
        {
          "name": "stdout",
          "output_type": "stream",
          "text": [
            "Test accuracy: 0.8859649122807017\n"
          ]
        }
      ],
      "source": [
        "import numpy as np\n",
        "from sklearn.tree import DecisionTreeClassifier\n",
        "from sklearn.base import ClassifierMixin\n",
        "from sklearn.svm import SVC\n",
        "from sklearn.datasets import load_breast_cancer\n",
        "from sklearn.model_selection import train_test_split\n",
        "\n",
        "def train_test() -> None:\n",
        "  data = load_breast_cancer()\n",
        "  X_train, X_test, y_train, y_test = train_test_split(\n",
        "      data.data,data.target,test_size=0.2, shuffle=False\n",
        "  )\n",
        "  model = SVC(gamma = 0.001)\n",
        "  model.fit(X_train, y_train)\n",
        "  test_acc = model.score(X_test, y_test)\n",
        "  print(f\"Test accuracy: {test_acc}\")\n",
        "train_test()"
      ]
    },
    {
      "cell_type": "code",
      "execution_count": null,
      "metadata": {
        "colab": {
          "base_uri": "https://localhost:8080/"
        },
        "id": "zYX5vmfLFpNX",
        "outputId": "fe38b8f4-764f-4e56-e2a8-fb755f71cf29"
      },
      "outputs": [
        {
          "name": "stdout",
          "output_type": "stream",
          "text": [
            "\u001b[33mThe \u001b[0m\u001b[1;36m@step\u001b[33m decorator that you used to define your data_loader step is deprecated. Check out the 0.40.0 migration guide for more information on how to migrate your steps to the new syntax: https://docs.zenml.io/reference/migration-guide/migration-zero-forty\u001b[0m\n",
            "\u001b[33mUsing the \u001b[0m\u001b[1;36mOutput\u001b[33m class to define the outputs of your steps is deprecated. You should instead use the standard Python way of type annotating your functions. Check out our documentation https://docs.zenml.io/user-guide/advanced-guide/pipelining-features/configure-steps-pipelines#step-output-names for more information on how to assign custom names to your step outputs.\u001b[0m\n",
            "\u001b[33mThe \u001b[0m\u001b[1;36m@step\u001b[33m decorator that you used to define your svc_trainer step is deprecated. Check out the 0.40.0 migration guide for more information on how to migrate your steps to the new syntax: https://docs.zenml.io/reference/migration-guide/migration-zero-forty\u001b[0m\n",
            "\u001b[33mThe \u001b[0m\u001b[1;36m@pipeline\u001b[33m decorator that you used to define your first_pipeline pipeline is deprecated. Check out the 0.40.0 migration guide for more information on how to migrate your pipelines to the new syntax: https://docs.zenml.io/reference/migration-guide/migration-zero-forty.html\u001b[0m\n",
            "\u001b[33mUsing the \u001b[0m\u001b[1;36mOutput\u001b[33m class to define the outputs of your steps is deprecated. You should instead use the standard Python way of type annotating your functions. Check out our documentation https://docs.zenml.io/user-guide/advanced-guide/pipelining-features/configure-steps-pipelines#step-output-names for more information on how to assign custom names to your step outputs.\u001b[0m\n",
            "\u001b[1;35mInitiating a new run for the pipeline: \u001b[0m\u001b[1;36mfirst_pipeline\u001b[1;35m.\u001b[0m\n",
            "\u001b[1;35mRegistered new version: \u001b[0m\u001b[1;36m(version 1)\u001b[1;35m.\u001b[0m\n",
            "\u001b[1;35mExecuting a new run.\u001b[0m\n",
            "\u001b[1;35mUsing user: \u001b[0m\u001b[1;36mdefault\u001b[1;35m\u001b[0m\n",
            "\u001b[1;35mUsing stack: \u001b[0m\u001b[1;36mdefault\u001b[1;35m\u001b[0m\n",
            "\u001b[1;35m  orchestrator: \u001b[0m\u001b[1;36mdefault\u001b[1;35m\u001b[0m\n",
            "\u001b[1;35m  artifact_store: \u001b[0m\u001b[1;36mdefault\u001b[1;35m\u001b[0m\n",
            "\u001b[33mUsing the \u001b[0m\u001b[1;36mOutput\u001b[33m class to define the outputs of your steps is deprecated. You should instead use the standard Python way of type annotating your functions. Check out our documentation https://docs.zenml.io/user-guide/advanced-guide/pipelining-features/configure-steps-pipelines#step-output-names for more information on how to assign custom names to your step outputs.\u001b[0m\n",
            "\u001b[1;35mStep \u001b[0m\u001b[1;36mstep_1\u001b[1;35m has started.\u001b[0m\n",
            "\u001b[33mUsing the \u001b[0m\u001b[1;36mOutput\u001b[33m class to define the outputs of your steps is deprecated. You should instead use the standard Python way of type annotating your functions. Check out our documentation https://docs.zenml.io/user-guide/advanced-guide/pipelining-features/configure-steps-pipelines#step-output-names for more information on how to assign custom names to your step outputs.\u001b[0m\n",
            "\u001b[33mUsing the \u001b[0m\u001b[1;36mOutput\u001b[33m class to define the outputs of your steps is deprecated. You should instead use the standard Python way of type annotating your functions. Check out our documentation https://docs.zenml.io/user-guide/advanced-guide/pipelining-features/configure-steps-pipelines#step-output-names for more information on how to assign custom names to your step outputs.\u001b[0m\n",
            "\u001b[1;35mStep \u001b[0m\u001b[1;36mstep_1\u001b[1;35m has finished in \u001b[0m\u001b[1;36m6.535s\u001b[1;35m.\u001b[0m\n",
            "\u001b[1;35mStep \u001b[0m\u001b[1;36mstep_2\u001b[1;35m has started.\u001b[0m\n",
            "\u001b[1;35mStep \u001b[0m\u001b[1;36mstep_2\u001b[1;35m has finished in \u001b[0m\u001b[1;36m1.269s\u001b[1;35m.\u001b[0m\n",
            "\u001b[1;35mPipeline run has finished in \u001b[0m\u001b[1;36m8.272s\u001b[1;35m.\u001b[0m\n",
            "\u001b[1;35mYou can visualize your pipeline runs in the \u001b[0m\u001b[1;36mZenML Dashboard\u001b[1;35m. In order to try it locally, please run \u001b[0m\u001b[1;36mzenml up\u001b[1;35m.\u001b[0m\n"
          ]
        }
      ],
      "source": [
        "from zenml.steps import step,Output\n",
        "from sklearn.model_selection import train_test_split\n",
        "from zenml.pipelines import pipeline\n",
        "import numpy as np\n",
        "from sklearn.base import ClassifierMixin\n",
        "@step\n",
        "def data_loader() -> Output(\n",
        "    X_train=np.ndarray,\n",
        "    X_test=np.ndarray,\n",
        "    y_train=np.ndarray,\n",
        "    y_test=np.ndarray,\n",
        "):\n",
        "    data = load_breast_cancer()  # Load data within the step\n",
        "    X_train, X_test, y_train, y_test = train_test_split(\n",
        "        data.data, data.target, test_size=0.2, shuffle=False\n",
        "    )\n",
        "    return X_train, X_test, y_train, y_test\n",
        "\n",
        "@step\n",
        "def svc_trainer(\n",
        "    X_train: np.ndarray,\n",
        "    y_train: np.ndarray,\n",
        ") -> ClassifierMixin:\n",
        "    model = SVC(gamma = 0.001)\n",
        "    model.fit(X_train, y_train)\n",
        "    return model\n",
        "\n",
        "\n",
        "@pipeline\n",
        "def first_pipeline(step_1, step_2):\n",
        "    X_train, X_test, y_train, y_test = step_1()\n",
        "    step_2(X_train, y_train)\n",
        "\n",
        "\n",
        "first_pipeline_instance = first_pipeline(\n",
        "    step_1=data_loader(),\n",
        "    step_2=svc_trainer(),\n",
        ")\n",
        "\n",
        "first_pipeline_instance.run()\n",
        "\n",
        "\n",
        "\n"
      ]
    },
    {
      "cell_type": "code",
      "execution_count": null,
      "metadata": {
        "colab": {
          "base_uri": "https://localhost:8080/"
        },
        "id": "gEUgnrUFQQkL",
        "outputId": "a3e64b61-3c4c-4407-a23f-9dd7555eec5f"
      },
      "outputs": [
        {
          "name": "stdout",
          "output_type": "stream",
          "text": [
            "Authtoken saved to configuration file: /root/.config/ngrok/ngrok.yml\n"
          ]
        }
      ],
      "source": [
        "!ngrok config add-authtoken 2doGh2Z8xF4Ni68Y1mhie4xIXc2_7ch3KjAx4yNQbwyw8puuJ"
      ]
    },
    {
      "cell_type": "code",
      "execution_count": null,
      "metadata": {
        "colab": {
          "background_save": true,
          "base_uri": "https://localhost:8080/"
        },
        "id": "ppTlb5n5KvbR",
        "outputId": "a647eae8-0991-464a-f395-857def8e9ed8"
      },
      "outputs": [
        {
          "name": "stderr",
          "output_type": "stream",
          "text": [
            "INFO:numexpr.utils:NumExpr defaulting to 2 threads.\n"
          ]
        },
        {
          "name": "stdout",
          "output_type": "stream",
          "text": [
            "\u001b[1;35mNumExpr defaulting to 2 threads.\u001b[0m\n"
          ]
        },
        {
          "name": "stderr",
          "output_type": "stream",
          "text": [
            "INFO:pyngrok.ngrok:Opening tunnel named: http-8237-acb03486-e9cc-468d-a2fb-7da3bb9015cd\n"
          ]
        },
        {
          "name": "stdout",
          "output_type": "stream",
          "text": [
            "\u001b[1;35mOpening tunnel named: http-8237-acb03486-e9cc-468d-a2fb-7da3bb9015cd\u001b[0m\n"
          ]
        },
        {
          "name": "stderr",
          "output_type": "stream",
          "text": [
            "INFO:pyngrok.process.ngrok:t=2024-03-18T13:30:44+0000 lvl=info msg=\"no configuration paths supplied\"\n"
          ]
        },
        {
          "name": "stdout",
          "output_type": "stream",
          "text": [
            "\u001b[1;35mt=2024-03-18T13:30:44+0000 lvl=info msg=\"no configuration paths supplied\"\u001b[0m\n"
          ]
        },
        {
          "name": "stderr",
          "output_type": "stream",
          "text": [
            "INFO:pyngrok.process.ngrok:t=2024-03-18T13:30:44+0000 lvl=info msg=\"using configuration at default config path\" path=/root/.config/ngrok/ngrok.yml\n"
          ]
        },
        {
          "name": "stdout",
          "output_type": "stream",
          "text": [
            "\u001b[1;35mt=2024-03-18T13:30:44+0000 lvl=info msg=\"using configuration at default config path\" path=/root/.config/ngrok/ngrok.yml\u001b[0m\n"
          ]
        },
        {
          "name": "stderr",
          "output_type": "stream",
          "text": [
            "INFO:pyngrok.process.ngrok:t=2024-03-18T13:30:44+0000 lvl=info msg=\"open config file\" path=/root/.config/ngrok/ngrok.yml err=nil\n"
          ]
        },
        {
          "name": "stdout",
          "output_type": "stream",
          "text": [
            "\u001b[1;35mt=2024-03-18T13:30:44+0000 lvl=info msg=\"open config file\" path=/root/.config/ngrok/ngrok.yml err=nil\u001b[0m\n"
          ]
        },
        {
          "name": "stderr",
          "output_type": "stream",
          "text": [
            "INFO:pyngrok.process.ngrok:t=2024-03-18T13:30:44+0000 lvl=info msg=\"starting web service\" obj=web addr=127.0.0.1:4040 allow_hosts=[]\n"
          ]
        },
        {
          "name": "stdout",
          "output_type": "stream",
          "text": [
            "\u001b[1;35mt=2024-03-18T13:30:44+0000 lvl=info msg=\"starting web service\" obj=web addr=127.0.0.1:4040 allow_hosts=[]\u001b[0m\n"
          ]
        },
        {
          "name": "stderr",
          "output_type": "stream",
          "text": [
            "INFO:pyngrok.process.ngrok:t=2024-03-18T13:30:44+0000 lvl=info msg=\"client session established\" obj=tunnels.session\n"
          ]
        },
        {
          "name": "stdout",
          "output_type": "stream",
          "text": [
            "\u001b[1;35mt=2024-03-18T13:30:44+0000 lvl=info msg=\"client session established\" obj=tunnels.session\u001b[0m\n"
          ]
        },
        {
          "name": "stderr",
          "output_type": "stream",
          "text": [
            "INFO:pyngrok.process.ngrok:t=2024-03-18T13:30:44+0000 lvl=info msg=\"tunnel session started\" obj=tunnels.session\n"
          ]
        },
        {
          "name": "stdout",
          "output_type": "stream",
          "text": [
            "\u001b[1;35mt=2024-03-18T13:30:44+0000 lvl=info msg=\"tunnel session started\" obj=tunnels.session\u001b[0m\n"
          ]
        },
        {
          "name": "stderr",
          "output_type": "stream",
          "text": [
            "INFO:pyngrok.process.ngrok:t=2024-03-18T13:30:44+0000 lvl=info msg=start pg=/api/tunnels id=c916d1ec90590bde\n"
          ]
        },
        {
          "name": "stdout",
          "output_type": "stream",
          "text": [
            "\u001b[1;35mt=2024-03-18T13:30:44+0000 lvl=info msg=start pg=/api/tunnels id=c916d1ec90590bde\u001b[0m\n"
          ]
        },
        {
          "name": "stderr",
          "output_type": "stream",
          "text": [
            "INFO:pyngrok.process.ngrok:t=2024-03-18T13:30:44+0000 lvl=info msg=end pg=/api/tunnels id=c916d1ec90590bde status=200 dur=396.042µs\n"
          ]
        },
        {
          "name": "stdout",
          "output_type": "stream",
          "text": [
            "\u001b[1;35mt=2024-03-18T13:30:44+0000 lvl=info msg=end pg=/api/tunnels id=c916d1ec90590bde status=200 dur=396.042µs\u001b[0m\n"
          ]
        },
        {
          "name": "stderr",
          "output_type": "stream",
          "text": [
            "INFO:pyngrok.process.ngrok:t=2024-03-18T13:30:44+0000 lvl=info msg=start pg=/api/tunnels id=b1750ad28859bed6\n"
          ]
        },
        {
          "name": "stdout",
          "output_type": "stream",
          "text": [
            "\u001b[1;35mt=2024-03-18T13:30:44+0000 lvl=info msg=start pg=/api/tunnels id=b1750ad28859bed6\u001b[0m\n"
          ]
        },
        {
          "name": "stderr",
          "output_type": "stream",
          "text": [
            "INFO:pyngrok.process.ngrok:t=2024-03-18T13:30:44+0000 lvl=info msg=end pg=/api/tunnels id=b1750ad28859bed6 status=200 dur=152.635µs\n"
          ]
        },
        {
          "name": "stdout",
          "output_type": "stream",
          "text": [
            "\u001b[1;35mt=2024-03-18T13:30:44+0000 lvl=info msg=end pg=/api/tunnels id=b1750ad28859bed6 status=200 dur=152.635µs\u001b[0m\n"
          ]
        },
        {
          "name": "stderr",
          "output_type": "stream",
          "text": [
            "INFO:pyngrok.process.ngrok:t=2024-03-18T13:30:44+0000 lvl=info msg=start pg=/api/tunnels id=a48d9de75751877e\n"
          ]
        },
        {
          "name": "stdout",
          "output_type": "stream",
          "text": [
            "\u001b[31mIn Colab, use this URL instead: NgrokTunnel: \"https://be8d-130-211-194-154.ngrok-free.app\" -> \"http://localhost:8237\"!\u001b[0m\n",
            "\u001b[1;35mt=2024-03-18T13:30:44+0000 lvl=info msg=start pg=/api/tunnels id=a48d9de75751877e\u001b[0m\n"
          ]
        },
        {
          "name": "stderr",
          "output_type": "stream",
          "text": [
            "INFO:pyngrok.process.ngrok:t=2024-03-18T13:30:44+0000 lvl=info msg=\"started tunnel\" obj=tunnels name=http-8237-acb03486-e9cc-468d-a2fb-7da3bb9015cd addr=http://localhost:8237 url=https://be8d-130-211-194-154.ngrok-free.app\n"
          ]
        },
        {
          "name": "stdout",
          "output_type": "stream",
          "text": [
            "\u001b[1;35mt=2024-03-18T13:30:44+0000 lvl=info msg=\"started tunnel\" obj=tunnels name=http-8237-acb03486-e9cc-468d-a2fb-7da3bb9015cd addr=http://localhost:8237 url=https://be8d-130-211-194-154.ngrok-free.app\u001b[0m\n"
          ]
        },
        {
          "name": "stderr",
          "output_type": "stream",
          "text": [
            "INFO:pyngrok.process.ngrok:t=2024-03-18T13:30:44+0000 lvl=info msg=end pg=/api/tunnels id=a48d9de75751877e status=201 dur=29.769678ms\n"
          ]
        },
        {
          "name": "stdout",
          "output_type": "stream",
          "text": [
            "\u001b[1;35mt=2024-03-18T13:30:44+0000 lvl=info msg=end pg=/api/tunnels id=a48d9de75751877e status=201 dur=29.769678ms\u001b[0m\n",
            "\u001b[1;35mNumExpr defaulting to 2 threads.\u001b[0m\n",
            "\u001b[2;36mThe local ZenML dashboard is about to deploy in a blocking process. You can connect to it using the \u001b[0m\n",
            "\u001b[2;32m'default'\u001b[0m\u001b[2;36m username and an empty password.\u001b[0m\n",
            "\u001b[1;35mDeploying a local ZenML server with name 'local'.\u001b[0m\n",
            "\u001b[1;35mStarting ZenML Server as blocking process... press CTRL+C once to stop it.\u001b[0m\n"
          ]
        },
        {
          "name": "stderr",
          "output_type": "stream",
          "text": [
            "WARNING:pyngrok.process.ngrok:t=2024-03-18T13:30:58+0000 lvl=warn msg=\"failed to open private leg\" id=a68c562aa2f8 privaddr=localhost:8237 err=\"dial tcp 127.0.0.1:8237: connect: connection refused\"\n"
          ]
        },
        {
          "name": "stdout",
          "output_type": "stream",
          "text": [
            "\u001b[33mt=2024-03-18T13:30:58+0000 lvl=warn msg=\"failed to open private leg\" id=a68c562aa2f8 privaddr=localhost:8237 err=\"dial tcp 127.0.0.1:8237: connect: connection refused\"\u001b[0m\n"
          ]
        },
        {
          "name": "stderr",
          "output_type": "stream",
          "text": [
            "WARNING:pyngrok.process.ngrok:t=2024-03-18T13:30:59+0000 lvl=warn msg=\"failed to open private leg\" id=a243ef3d14c1 privaddr=localhost:8237 err=\"dial tcp 127.0.0.1:8237: connect: connection refused\"\n"
          ]
        },
        {
          "name": "stdout",
          "output_type": "stream",
          "text": [
            "\u001b[33mt=2024-03-18T13:30:59+0000 lvl=warn msg=\"failed to open private leg\" id=a243ef3d14c1 privaddr=localhost:8237 err=\"dial tcp 127.0.0.1:8237: connect: connection refused\"\u001b[0m\n",
            "\u001b[32mINFO\u001b[0m:     Started server process [\u001b[36m29591\u001b[0m]\n",
            "\u001b[32mINFO\u001b[0m:     Waiting for application startup.\n",
            "\u001b[1;35mNot writing the global configuration to disk in a ZenML server environment.\u001b[0m\n",
            "\u001b[1;35mNot writing the global configuration to disk in a ZenML server environment.\u001b[0m\n",
            "\u001b[32mINFO\u001b[0m:     Application startup complete.\n",
            "\u001b[32mINFO\u001b[0m:     Uvicorn running on \u001b[1mhttp://127.0.0.1:8237\u001b[0m (Press CTRL+C to quit)\n"
          ]
        },
        {
          "name": "stderr",
          "output_type": "stream",
          "text": [
            "INFO:pyngrok.process.ngrok:t=2024-03-18T13:31:16+0000 lvl=info msg=\"join connections\" obj=join id=c9ea92febecb l=127.0.0.1:8237 r=102.222.234.175:18458\n"
          ]
        },
        {
          "name": "stdout",
          "output_type": "stream",
          "text": [
            "\u001b[1;35mt=2024-03-18T13:31:16+0000 lvl=info msg=\"join connections\" obj=join id=c9ea92febecb l=127.0.0.1:8237 r=102.222.234.175:18458\u001b[0m\n",
            "\u001b[32mINFO\u001b[0m:     102.222.234.175:0 - \"\u001b[1mGET / HTTP/1.1\u001b[0m\" \u001b[32m200 OK\u001b[0m\n"
          ]
        },
        {
          "name": "stderr",
          "output_type": "stream",
          "text": [
            "INFO:pyngrok.process.ngrok:t=2024-03-18T13:31:16+0000 lvl=info msg=\"join connections\" obj=join id=7176f7389c1c l=127.0.0.1:8237 r=102.222.234.175:18458\n"
          ]
        },
        {
          "name": "stdout",
          "output_type": "stream",
          "text": [
            "\u001b[32mINFO\u001b[0m:     102.222.234.175:0 - \"\u001b[1mGET /css/2.5b37d44a.chunk.css HTTP/1.1\u001b[0m\" \u001b[32m200 OK\u001b[0m\n",
            "\u001b[1;35mt=2024-03-18T13:31:16+0000 lvl=info msg=\"join connections\" obj=join id=7176f7389c1c l=127.0.0.1:8237 r=102.222.234.175:18458\u001b[0m\n"
          ]
        },
        {
          "name": "stderr",
          "output_type": "stream",
          "text": [
            "INFO:pyngrok.process.ngrok:t=2024-03-18T13:31:16+0000 lvl=info msg=\"join connections\" obj=join id=2718c6059fb6 l=127.0.0.1:8237 r=102.222.234.175:18458\n"
          ]
        },
        {
          "name": "stdout",
          "output_type": "stream",
          "text": [
            "\u001b[1;35mt=2024-03-18T13:31:16+0000 lvl=info msg=\"join connections\" obj=join id=2718c6059fb6 l=127.0.0.1:8237 r=102.222.234.175:18458\u001b[0m\n"
          ]
        },
        {
          "name": "stderr",
          "output_type": "stream",
          "text": [
            "INFO:pyngrok.process.ngrok:t=2024-03-18T13:31:16+0000 lvl=info msg=\"join connections\" obj=join id=cc095e254979 l=127.0.0.1:8237 r=102.222.234.175:18458\n"
          ]
        },
        {
          "name": "stdout",
          "output_type": "stream",
          "text": [
            "\u001b[1;35mt=2024-03-18T13:31:16+0000 lvl=info msg=\"join connections\" obj=join id=cc095e254979 l=127.0.0.1:8237 r=102.222.234.175:18458\u001b[0m\n",
            "\u001b[32mINFO\u001b[0m:     102.222.234.175:0 - \"\u001b[1mGET /css/main.77e46c35.chunk.css HTTP/1.1\u001b[0m\" \u001b[32m200 OK\u001b[0m\n",
            "\u001b[32mINFO\u001b[0m:     102.222.234.175:0 - \"\u001b[1mGET /js/2.bb4cef22.chunk.js HTTP/1.1\u001b[0m\" \u001b[32m200 OK\u001b[0m\n",
            "\u001b[32mINFO\u001b[0m:     102.222.234.175:0 - \"\u001b[1mGET /js/main.490d7ef3.chunk.js HTTP/1.1\u001b[0m\" \u001b[32m200 OK\u001b[0m\n"
          ]
        },
        {
          "name": "stderr",
          "output_type": "stream",
          "text": [
            "INFO:pyngrok.process.ngrok:t=2024-03-18T13:31:25+0000 lvl=info msg=\"join connections\" obj=join id=2a26483b11cd l=127.0.0.1:8237 r=102.222.234.175:18458\n"
          ]
        },
        {
          "name": "stdout",
          "output_type": "stream",
          "text": [
            "\u001b[1;35mt=2024-03-18T13:31:25+0000 lvl=info msg=\"join connections\" obj=join id=2a26483b11cd l=127.0.0.1:8237 r=102.222.234.175:18458\u001b[0m\n",
            "\u001b[32mINFO\u001b[0m:     102.222.234.175:0 - \"\u001b[1mGET /favicon.ico HTTP/1.1\u001b[0m\" \u001b[32m200 OK\u001b[0m\n"
          ]
        },
        {
          "name": "stderr",
          "output_type": "stream",
          "text": [
            "INFO:pyngrok.process.ngrok:t=2024-03-18T13:31:25+0000 lvl=info msg=\"join connections\" obj=join id=950cd5f45b12 l=127.0.0.1:8237 r=102.222.234.175:18458\n"
          ]
        },
        {
          "name": "stdout",
          "output_type": "stream",
          "text": [
            "\u001b[32mINFO\u001b[0m:     102.222.234.175:0 - \"\u001b[1mGET /api/v1/workspaces HTTP/1.1\u001b[0m\" \u001b[31m401 Unauthorized\u001b[0m\n",
            "\u001b[1;35mt=2024-03-18T13:31:25+0000 lvl=info msg=\"join connections\" obj=join id=950cd5f45b12 l=127.0.0.1:8237 r=102.222.234.175:18458\u001b[0m\n"
          ]
        },
        {
          "name": "stderr",
          "output_type": "stream",
          "text": [
            "INFO:pyngrok.process.ngrok:t=2024-03-18T13:31:25+0000 lvl=info msg=\"join connections\" obj=join id=f6b66846c727 l=127.0.0.1:8237 r=102.222.234.175:18458\n"
          ]
        },
        {
          "name": "stdout",
          "output_type": "stream",
          "text": [
            "\u001b[1;35mt=2024-03-18T13:31:25+0000 lvl=info msg=\"join connections\" obj=join id=f6b66846c727 l=127.0.0.1:8237 r=102.222.234.175:18458\u001b[0m\n"
          ]
        },
        {
          "name": "stderr",
          "output_type": "stream",
          "text": [
            "INFO:pyngrok.process.ngrok:t=2024-03-18T13:31:25+0000 lvl=info msg=\"join connections\" obj=join id=2c5ccd22cddd l=127.0.0.1:8237 r=102.222.234.175:18458\n"
          ]
        },
        {
          "name": "stdout",
          "output_type": "stream",
          "text": [
            "\u001b[1;35mt=2024-03-18T13:31:25+0000 lvl=info msg=\"join connections\" obj=join id=2c5ccd22cddd l=127.0.0.1:8237 r=102.222.234.175:18458\u001b[0m\n"
          ]
        },
        {
          "name": "stderr",
          "output_type": "stream",
          "text": [
            "INFO:pyngrok.process.ngrok:t=2024-03-18T13:31:25+0000 lvl=info msg=\"join connections\" obj=join id=b8ef1918925b l=127.0.0.1:8237 r=102.222.234.175:18458\n"
          ]
        },
        {
          "name": "stdout",
          "output_type": "stream",
          "text": [
            "\u001b[1;35mt=2024-03-18T13:31:25+0000 lvl=info msg=\"join connections\" obj=join id=b8ef1918925b l=127.0.0.1:8237 r=102.222.234.175:18458\u001b[0m\n"
          ]
        },
        {
          "name": "stderr",
          "output_type": "stream",
          "text": [
            "INFO:pyngrok.process.ngrok:t=2024-03-18T13:31:25+0000 lvl=info msg=\"join connections\" obj=join id=f30b5e6c0a07 l=127.0.0.1:8237 r=102.222.234.175:18458\n"
          ]
        },
        {
          "name": "stdout",
          "output_type": "stream",
          "text": [
            "\u001b[1;35mt=2024-03-18T13:31:25+0000 lvl=info msg=\"join connections\" obj=join id=f30b5e6c0a07 l=127.0.0.1:8237 r=102.222.234.175:18458\u001b[0m\n",
            "\u001b[32mINFO\u001b[0m:     102.222.234.175:0 - \"\u001b[1mGET /media/Rubik-Medium.c87313aa.ttf HTTP/1.1\u001b[0m\" \u001b[32m200 OK\u001b[0m\n",
            "\u001b[32mINFO\u001b[0m:     102.222.234.175:0 - \"\u001b[1mGET /media/logo_small.4204397d.svg HTTP/1.1\u001b[0m\" \u001b[32m200 OK\u001b[0m\n",
            "\u001b[32mINFO\u001b[0m:     102.222.234.175:0 - \"\u001b[1mGET /media/Rubik-Regular.b3d0902b.ttf HTTP/1.1\u001b[0m\" \u001b[32m200 OK\u001b[0m\n",
            "\u001b[32mINFO\u001b[0m:     102.222.234.175:0 - \"\u001b[1mGET /api/v1/info HTTP/1.1\u001b[0m\" \u001b[32m200 OK\u001b[0m\n",
            "\u001b[32mINFO\u001b[0m:     102.222.234.175:0 - \"\u001b[1mGET /api/v1/info HTTP/1.1\u001b[0m\" \u001b[32m200 OK\u001b[0m\n",
            "\u001b[32mINFO\u001b[0m:     102.222.234.175:0 - \"\u001b[1mPOST /api/v1/login HTTP/1.1\u001b[0m\" \u001b[32m200 OK\u001b[0m\n"
          ]
        },
        {
          "name": "stderr",
          "output_type": "stream",
          "text": [
            "INFO:pyngrok.process.ngrok:t=2024-03-18T13:31:33+0000 lvl=info msg=\"join connections\" obj=join id=3fc3491d54da l=127.0.0.1:8237 r=102.222.234.175:18458\n"
          ]
        },
        {
          "name": "stdout",
          "output_type": "stream",
          "text": [
            "\u001b[1;35mGot token from cookie\u001b[0m\n",
            "\u001b[32mINFO\u001b[0m:     102.222.234.175:0 - \"\u001b[1mGET /api/v1/workspaces HTTP/1.1\u001b[0m\" \u001b[32m200 OK\u001b[0m\n",
            "\u001b[1;35mt=2024-03-18T13:31:33+0000 lvl=info msg=\"join connections\" obj=join id=3fc3491d54da l=127.0.0.1:8237 r=102.222.234.175:18458\u001b[0m\n",
            "\u001b[1;35mGot token from cookie\u001b[0m\n",
            "\u001b[32mINFO\u001b[0m:     102.222.234.175:0 - \"\u001b[1mGET /api/v1/component-types HTTP/1.1\u001b[0m\" \u001b[32m200 OK\u001b[0m\n"
          ]
        },
        {
          "name": "stderr",
          "output_type": "stream",
          "text": [
            "INFO:pyngrok.process.ngrok:t=2024-03-18T13:31:33+0000 lvl=info msg=\"join connections\" obj=join id=c78615ab6c8d l=127.0.0.1:8237 r=102.222.234.175:18458\n"
          ]
        },
        {
          "name": "stdout",
          "output_type": "stream",
          "text": [
            "\u001b[1;35mt=2024-03-18T13:31:33+0000 lvl=info msg=\"join connections\" obj=join id=c78615ab6c8d l=127.0.0.1:8237 r=102.222.234.175:18458\u001b[0m\n"
          ]
        },
        {
          "name": "stderr",
          "output_type": "stream",
          "text": [
            "INFO:pyngrok.process.ngrok:t=2024-03-18T13:31:33+0000 lvl=info msg=\"join connections\" obj=join id=0399b093eb62 l=127.0.0.1:8237 r=102.222.234.175:18458\n"
          ]
        },
        {
          "name": "stdout",
          "output_type": "stream",
          "text": [
            "\u001b[1;35mt=2024-03-18T13:31:33+0000 lvl=info msg=\"join connections\" obj=join id=0399b093eb62 l=127.0.0.1:8237 r=102.222.234.175:18458\u001b[0m\n"
          ]
        },
        {
          "name": "stderr",
          "output_type": "stream",
          "text": [
            "INFO:pyngrok.process.ngrok:t=2024-03-18T13:31:33+0000 lvl=info msg=\"join connections\" obj=join id=bb7f1b467ca2 l=127.0.0.1:8237 r=102.222.234.175:18458\n"
          ]
        },
        {
          "name": "stdout",
          "output_type": "stream",
          "text": [
            "\u001b[1;35mt=2024-03-18T13:31:33+0000 lvl=info msg=\"join connections\" obj=join id=bb7f1b467ca2 l=127.0.0.1:8237 r=102.222.234.175:18458\u001b[0m\n",
            "\u001b[1;35mGot token from cookie\u001b[0m\n",
            "\u001b[1;35mGot token from cookie\u001b[0m\n",
            "\u001b[32mINFO\u001b[0m:     102.222.234.175:0 - \"\u001b[1mGET /api/v1/info HTTP/1.1\u001b[0m\" \u001b[32m200 OK\u001b[0m\n",
            "\u001b[32mINFO\u001b[0m:     102.222.234.175:0 - \"\u001b[1mGET /api/v1/current-user HTTP/1.1\u001b[0m\" \u001b[32m200 OK\u001b[0m\n",
            "\u001b[32mINFO\u001b[0m:     102.222.234.175:0 - \"\u001b[1mGET /api/v1/users?hydrate=true&size=1000&page=1 HTTP/1.1\u001b[0m\" \u001b[32m200 OK\u001b[0m\n",
            "\u001b[1;35mGot token from cookie\u001b[0m\n",
            "\u001b[32mINFO\u001b[0m:     102.222.234.175:0 - \"\u001b[1mGET /api/v1/workspaces HTTP/1.1\u001b[0m\" \u001b[32m200 OK\u001b[0m\n",
            "\u001b[1;35mGot token from cookie\u001b[0m\n",
            "\u001b[1;35mGot token from cookie\u001b[0m\n",
            "\u001b[32mINFO\u001b[0m:     102.222.234.175:0 - \"\u001b[1mGET /api/v1/users?hydrate=true&size=1000&page=1 HTTP/1.1\u001b[0m\" \u001b[32m200 OK\u001b[0m\n",
            "\u001b[32mINFO\u001b[0m:     102.222.234.175:0 - \"\u001b[1mGET /api/v1/workspaces/default/statistics HTTP/1.1\u001b[0m\" \u001b[32m200 OK\u001b[0m\n"
          ]
        },
        {
          "name": "stderr",
          "output_type": "stream",
          "text": [
            "INFO:pyngrok.process.ngrok:t=2024-03-18T13:42:54+0000 lvl=info msg=\"join connections\" obj=join id=b430ca8b4757 l=127.0.0.1:8237 r=102.211.61.95:54321\n"
          ]
        },
        {
          "name": "stdout",
          "output_type": "stream",
          "text": [
            "\u001b[1;35mt=2024-03-18T13:42:54+0000 lvl=info msg=\"join connections\" obj=join id=b430ca8b4757 l=127.0.0.1:8237 r=102.211.61.95:54321\u001b[0m\n"
          ]
        },
        {
          "name": "stderr",
          "output_type": "stream",
          "text": [
            "INFO:pyngrok.process.ngrok:t=2024-03-18T13:42:54+0000 lvl=info msg=\"join connections\" obj=join id=8620232f2c3c l=127.0.0.1:8237 r=102.211.61.95:54321\n"
          ]
        },
        {
          "name": "stdout",
          "output_type": "stream",
          "text": [
            "\u001b[1;35mt=2024-03-18T13:42:54+0000 lvl=info msg=\"join connections\" obj=join id=8620232f2c3c l=127.0.0.1:8237 r=102.211.61.95:54321\u001b[0m\n"
          ]
        },
        {
          "name": "stderr",
          "output_type": "stream",
          "text": [
            "INFO:pyngrok.process.ngrok:t=2024-03-18T13:42:54+0000 lvl=info msg=\"join connections\" obj=join id=021718a63604 l=127.0.0.1:8237 r=102.211.61.95:54321\n"
          ]
        },
        {
          "name": "stdout",
          "output_type": "stream",
          "text": [
            "\u001b[1;35mt=2024-03-18T13:42:54+0000 lvl=info msg=\"join connections\" obj=join id=021718a63604 l=127.0.0.1:8237 r=102.211.61.95:54321\u001b[0m\n",
            "\u001b[1;35mGot token from cookie\u001b[0m\n",
            "\u001b[1;35mGot token from cookie\u001b[0m\n",
            "\u001b[32mINFO\u001b[0m:     102.211.61.95:0 - \"\u001b[1mGET /api/v1/info HTTP/1.1\u001b[0m\" \u001b[32m200 OK\u001b[0m\n",
            "\u001b[32mINFO\u001b[0m:     102.211.61.95:0 - \"\u001b[1mGET /api/v1/workspaces HTTP/1.1\u001b[0m\" \u001b[32m200 OK\u001b[0m\n",
            "\u001b[32mINFO\u001b[0m:     102.211.61.95:0 - \"\u001b[1mGET /api/v1/workspaces/default/runs?sort_by=desc:created&logical_operator=and&page=1&size=10 HTTP/1.1\u001b[0m\" \u001b[32m200 OK\u001b[0m\n"
          ]
        },
        {
          "name": "stderr",
          "output_type": "stream",
          "text": [
            "INFO:pyngrok.process.ngrok:t=2024-03-18T13:43:00+0000 lvl=info msg=\"join connections\" obj=join id=41e2c4434516 l=127.0.0.1:8237 r=102.211.61.95:54321\n"
          ]
        },
        {
          "name": "stdout",
          "output_type": "stream",
          "text": [
            "\u001b[1;35mt=2024-03-18T13:43:00+0000 lvl=info msg=\"join connections\" obj=join id=41e2c4434516 l=127.0.0.1:8237 r=102.211.61.95:54321\u001b[0m\n",
            "\u001b[1;35mGot token from cookie\u001b[0m\n",
            "\u001b[32mINFO\u001b[0m:     102.211.61.95:0 - \"\u001b[1mGET /api/v1/workspaces/default/runs?sort_by=desc:created&logical_operator=and&page=1&size=10 HTTP/1.1\u001b[0m\" \u001b[32m200 OK\u001b[0m\n"
          ]
        },
        {
          "name": "stderr",
          "output_type": "stream",
          "text": [
            "INFO:pyngrok.process.ngrok:t=2024-03-18T13:43:02+0000 lvl=info msg=\"join connections\" obj=join id=31b40b1dd3e7 l=127.0.0.1:8237 r=102.211.61.95:54321\n"
          ]
        },
        {
          "name": "stdout",
          "output_type": "stream",
          "text": [
            "\u001b[1;35mGot token from cookie\u001b[0m\n",
            "\u001b[32mINFO\u001b[0m:     102.211.61.95:0 - \"\u001b[1mGET /api/v1/runs/e3a32f65-6b01-4efe-ab0d-ef5f0b41cbc2 HTTP/1.1\u001b[0m\" \u001b[32m200 OK\u001b[0m\n",
            "\u001b[1;35mt=2024-03-18T13:43:02+0000 lvl=info msg=\"join connections\" obj=join id=31b40b1dd3e7 l=127.0.0.1:8237 r=102.211.61.95:54321\u001b[0m\n"
          ]
        },
        {
          "name": "stderr",
          "output_type": "stream",
          "text": [
            "INFO:pyngrok.process.ngrok:t=2024-03-18T13:43:02+0000 lvl=info msg=\"join connections\" obj=join id=fa3c9036cc91 l=127.0.0.1:8237 r=102.211.61.95:54321\n"
          ]
        },
        {
          "name": "stdout",
          "output_type": "stream",
          "text": [
            "\u001b[1;35mt=2024-03-18T13:43:02+0000 lvl=info msg=\"join connections\" obj=join id=fa3c9036cc91 l=127.0.0.1:8237 r=102.211.61.95:54321\u001b[0m\n",
            "\u001b[1;35mGot token from cookie\u001b[0m\n",
            "\u001b[32mINFO\u001b[0m:     102.211.61.95:0 - \"\u001b[1mGET /api/v1/workspaces HTTP/1.1\u001b[0m\" \u001b[32m200 OK\u001b[0m\n",
            "\u001b[32mINFO\u001b[0m:     102.211.61.95:0 - \"\u001b[1mGET /api/v1/info HTTP/1.1\u001b[0m\" \u001b[32m200 OK\u001b[0m\n",
            "\u001b[1;35mGot token from cookie\u001b[0m\n",
            "\u001b[32mINFO\u001b[0m:     102.211.61.95:0 - \"\u001b[1mGET /api/v1/runs/e3a32f65-6b01-4efe-ab0d-ef5f0b41cbc2/graph HTTP/1.1\u001b[0m\" \u001b[32m200 OK\u001b[0m\n",
            "\u001b[32mINFO\u001b[0m:     102.211.61.95:0 - \"\u001b[1mGET /media/arrowClose.cbd53f3f.svg HTTP/1.1\u001b[0m\" \u001b[32m200 OK\u001b[0m\n",
            "\u001b[1;35mGot token from cookie\u001b[0m\n",
            "\u001b[32mINFO\u001b[0m:     102.211.61.95:0 - \"\u001b[1mGET /api/v1/run-metadata?pipeline_run_id=e3a32f65-6b01-4efe-ab0d-ef5f0b41cbc2&key=orchestrator_url HTTP/1.1\u001b[0m\" \u001b[32m200 OK\u001b[0m\n"
          ]
        },
        {
          "name": "stderr",
          "output_type": "stream",
          "text": [
            "INFO:pyngrok.process.ngrok:t=2024-03-18T13:43:13+0000 lvl=info msg=\"join connections\" obj=join id=261347282ae3 l=127.0.0.1:8237 r=102.211.61.95:54321\n"
          ]
        },
        {
          "name": "stdout",
          "output_type": "stream",
          "text": [
            "\u001b[1;35mt=2024-03-18T13:43:13+0000 lvl=info msg=\"join connections\" obj=join id=261347282ae3 l=127.0.0.1:8237 r=102.211.61.95:54321\u001b[0m\n"
          ]
        },
        {
          "name": "stderr",
          "output_type": "stream",
          "text": [
            "INFO:pyngrok.process.ngrok:t=2024-03-18T13:43:13+0000 lvl=info msg=\"join connections\" obj=join id=a3e70b6045c9 l=127.0.0.1:8237 r=102.211.61.95:54321\n"
          ]
        },
        {
          "name": "stdout",
          "output_type": "stream",
          "text": [
            "\u001b[1;35mt=2024-03-18T13:43:13+0000 lvl=info msg=\"join connections\" obj=join id=a3e70b6045c9 l=127.0.0.1:8237 r=102.211.61.95:54321\u001b[0m\n"
          ]
        },
        {
          "name": "stderr",
          "output_type": "stream",
          "text": [
            "INFO:pyngrok.process.ngrok:t=2024-03-18T13:43:13+0000 lvl=info msg=\"join connections\" obj=join id=7584113f48c0 l=127.0.0.1:8237 r=102.211.61.95:54321\n"
          ]
        },
        {
          "name": "stdout",
          "output_type": "stream",
          "text": [
            "\u001b[1;35mGot token from cookie\u001b[0m\n",
            "\u001b[32mINFO\u001b[0m:     102.211.61.95:0 - \"\u001b[1mGET /api/v1/info HTTP/1.1\u001b[0m\" \u001b[32m200 OK\u001b[0m\n",
            "\u001b[1;35mt=2024-03-18T13:43:13+0000 lvl=info msg=\"join connections\" obj=join id=7584113f48c0 l=127.0.0.1:8237 r=102.211.61.95:54321\u001b[0m\n",
            "\u001b[1;35mGot token from cookie\u001b[0m\n",
            "\u001b[32mINFO\u001b[0m:     102.211.61.95:0 - \"\u001b[1mGET /api/v1/workspaces HTTP/1.1\u001b[0m\" \u001b[32m200 OK\u001b[0m\n",
            "\u001b[32mINFO\u001b[0m:     102.211.61.95:0 - \"\u001b[1mGET /api/v1/runs/e3a32f65-6b01-4efe-ab0d-ef5f0b41cbc2 HTTP/1.1\u001b[0m\" \u001b[32m200 OK\u001b[0m\n",
            "\u001b[1;35mGot token from cookie\u001b[0m\n",
            "\u001b[32mINFO\u001b[0m:     102.211.61.95:0 - \"\u001b[1mGET /api/v1/runs/e3a32f65-6b01-4efe-ab0d-ef5f0b41cbc2/graph HTTP/1.1\u001b[0m\" \u001b[32m200 OK\u001b[0m\n",
            "\u001b[1;35mGot token from cookie\u001b[0m\n",
            "\u001b[32mINFO\u001b[0m:     102.211.61.95:0 - \"\u001b[1mGET /api/v1/run-metadata?pipeline_run_id=e3a32f65-6b01-4efe-ab0d-ef5f0b41cbc2&key=orchestrator_url HTTP/1.1\u001b[0m\" \u001b[32m200 OK\u001b[0m\n"
          ]
        },
        {
          "name": "stderr",
          "output_type": "stream",
          "text": [
            "INFO:pyngrok.process.ngrok:t=2024-03-18T13:43:16+0000 lvl=info msg=\"join connections\" obj=join id=411ad1787ecc l=127.0.0.1:8237 r=102.211.61.95:54321\n"
          ]
        },
        {
          "name": "stdout",
          "output_type": "stream",
          "text": [
            "\u001b[1;35mGot token from cookie\u001b[0m\n",
            "\u001b[32mINFO\u001b[0m:     102.211.61.95:0 - \"\u001b[1mGET /api/v1/info HTTP/1.1\u001b[0m\" \u001b[32m200 OK\u001b[0m\n",
            "\u001b[32mINFO\u001b[0m:     102.211.61.95:0 - \"\u001b[1mGET /api/v1/workspaces HTTP/1.1\u001b[0m\" \u001b[32m200 OK\u001b[0m\n",
            "\u001b[1;35mt=2024-03-18T13:43:16+0000 lvl=info msg=\"join connections\" obj=join id=411ad1787ecc l=127.0.0.1:8237 r=102.211.61.95:54321\u001b[0m\n",
            "\u001b[1;35mGot token from cookie\u001b[0m\n",
            "\u001b[32mINFO\u001b[0m:     102.211.61.95:0 - \"\u001b[1mGET /api/v1/runs/e3a32f65-6b01-4efe-ab0d-ef5f0b41cbc2 HTTP/1.1\u001b[0m\" \u001b[32m200 OK\u001b[0m\n",
            "\u001b[1;35mGot token from cookie\u001b[0m\n",
            "\u001b[32mINFO\u001b[0m:     102.211.61.95:0 - \"\u001b[1mGET /api/v1/runs/e3a32f65-6b01-4efe-ab0d-ef5f0b41cbc2/graph HTTP/1.1\u001b[0m\" \u001b[32m200 OK\u001b[0m\n",
            "\u001b[1;35mGot token from cookie\u001b[0m\n",
            "\u001b[32mINFO\u001b[0m:     102.211.61.95:0 - \"\u001b[1mGET /api/v1/run-metadata?pipeline_run_id=e3a32f65-6b01-4efe-ab0d-ef5f0b41cbc2&key=orchestrator_url HTTP/1.1\u001b[0m\" \u001b[32m200 OK\u001b[0m\n"
          ]
        },
        {
          "name": "stderr",
          "output_type": "stream",
          "text": [
            "INFO:pyngrok.process.ngrok:t=2024-03-18T13:43:19+0000 lvl=info msg=\"join connections\" obj=join id=2ad6bc7ee53c l=127.0.0.1:8237 r=102.211.61.95:54321\n"
          ]
        },
        {
          "name": "stdout",
          "output_type": "stream",
          "text": [
            "\u001b[1;35mGot token from cookie\u001b[0m\n",
            "\u001b[32mINFO\u001b[0m:     102.211.61.95:0 - \"\u001b[1mGET /api/v1/info HTTP/1.1\u001b[0m\" \u001b[32m200 OK\u001b[0m\n",
            "\u001b[32mINFO\u001b[0m:     102.211.61.95:0 - \"\u001b[1mGET /api/v1/workspaces HTTP/1.1\u001b[0m\" \u001b[32m200 OK\u001b[0m\n",
            "\u001b[1;35mt=2024-03-18T13:43:19+0000 lvl=info msg=\"join connections\" obj=join id=2ad6bc7ee53c l=127.0.0.1:8237 r=102.211.61.95:54321\u001b[0m\n",
            "\u001b[1;35mGot token from cookie\u001b[0m\n",
            "\u001b[32mINFO\u001b[0m:     102.211.61.95:0 - \"\u001b[1mGET /api/v1/runs/e3a32f65-6b01-4efe-ab0d-ef5f0b41cbc2 HTTP/1.1\u001b[0m\" \u001b[32m200 OK\u001b[0m\n",
            "\u001b[1;35mGot token from cookie\u001b[0m\n",
            "\u001b[32mINFO\u001b[0m:     102.211.61.95:0 - \"\u001b[1mGET /api/v1/runs/e3a32f65-6b01-4efe-ab0d-ef5f0b41cbc2/graph HTTP/1.1\u001b[0m\" \u001b[32m200 OK\u001b[0m\n",
            "\u001b[1;35mGot token from cookie\u001b[0m\n",
            "\u001b[32mINFO\u001b[0m:     102.211.61.95:0 - \"\u001b[1mGET /api/v1/run-metadata?pipeline_run_id=e3a32f65-6b01-4efe-ab0d-ef5f0b41cbc2&key=orchestrator_url HTTP/1.1\u001b[0m\" \u001b[32m200 OK\u001b[0m\n"
          ]
        },
        {
          "name": "stderr",
          "output_type": "stream",
          "text": [
            "INFO:pyngrok.process.ngrok:t=2024-03-18T13:43:26+0000 lvl=info msg=\"join connections\" obj=join id=0535a66c887d l=127.0.0.1:8237 r=102.211.61.95:54321\n"
          ]
        },
        {
          "name": "stdout",
          "output_type": "stream",
          "text": [
            "\u001b[1;35mGot token from cookie\u001b[0m\n",
            "\u001b[32mINFO\u001b[0m:     102.211.61.95:0 - \"\u001b[1mGET /api/v1/workspaces HTTP/1.1\u001b[0m\" \u001b[32m200 OK\u001b[0m\n",
            "\u001b[1;35mt=2024-03-18T13:43:26+0000 lvl=info msg=\"join connections\" obj=join id=0535a66c887d l=127.0.0.1:8237 r=102.211.61.95:54321\u001b[0m\n"
          ]
        },
        {
          "name": "stderr",
          "output_type": "stream",
          "text": [
            "INFO:pyngrok.process.ngrok:t=2024-03-18T13:43:26+0000 lvl=info msg=\"join connections\" obj=join id=0b3dab486072 l=127.0.0.1:8237 r=102.211.61.95:54321\n"
          ]
        },
        {
          "name": "stdout",
          "output_type": "stream",
          "text": [
            "\u001b[1;35mt=2024-03-18T13:43:26+0000 lvl=info msg=\"join connections\" obj=join id=0b3dab486072 l=127.0.0.1:8237 r=102.211.61.95:54321\u001b[0m\n",
            "\u001b[32mINFO\u001b[0m:     102.211.61.95:0 - \"\u001b[1mGET /api/v1/info HTTP/1.1\u001b[0m\" \u001b[32m200 OK\u001b[0m\n",
            "\u001b[1;35mGot token from cookie\u001b[0m\n",
            "\u001b[32mINFO\u001b[0m:     102.211.61.95:0 - \"\u001b[1mGET /api/v1/workspaces/default/stacks?sort_by=desc:created&logical_operator=and&page=1&size=10 HTTP/1.1\u001b[0m\" \u001b[32m200 OK\u001b[0m\n"
          ]
        },
        {
          "name": "stderr",
          "output_type": "stream",
          "text": [
            "INFO:pyngrok.process.ngrok:t=2024-03-18T13:43:31+0000 lvl=info msg=\"join connections\" obj=join id=64cbcfae4669 l=127.0.0.1:8237 r=102.211.61.95:54321\n"
          ]
        },
        {
          "name": "stdout",
          "output_type": "stream",
          "text": [
            "\u001b[1;35mt=2024-03-18T13:43:31+0000 lvl=info msg=\"join connections\" obj=join id=64cbcfae4669 l=127.0.0.1:8237 r=102.211.61.95:54321\u001b[0m\n",
            "\u001b[1;35mGot token from cookie\u001b[0m\n",
            "\u001b[32mINFO\u001b[0m:     102.211.61.95:0 - \"\u001b[1mGET /api/v1/workspaces/default/stacks?sort_by=desc:created&logical_operator=and&page=1&size=10 HTTP/1.1\u001b[0m\" \u001b[32m200 OK\u001b[0m\n"
          ]
        },
        {
          "name": "stderr",
          "output_type": "stream",
          "text": [
            "INFO:pyngrok.process.ngrok:t=2024-03-18T13:43:38+0000 lvl=info msg=\"join connections\" obj=join id=272547d4befb l=127.0.0.1:8237 r=102.211.61.95:54321\n"
          ]
        },
        {
          "name": "stdout",
          "output_type": "stream",
          "text": [
            "\u001b[1;35mt=2024-03-18T13:43:38+0000 lvl=info msg=\"join connections\" obj=join id=272547d4befb l=127.0.0.1:8237 r=102.211.61.95:54321\u001b[0m\n",
            "\u001b[1;35mGot token from cookie\u001b[0m\n",
            "\u001b[32mINFO\u001b[0m:     102.211.61.95:0 - \"\u001b[1mGET /api/v1/workspaces/default/stacks?sort_by=desc:created&logical_operator=and&page=1&size=10 HTTP/1.1\u001b[0m\" \u001b[32m200 OK\u001b[0m\n"
          ]
        },
        {
          "name": "stderr",
          "output_type": "stream",
          "text": [
            "INFO:pyngrok.process.ngrok:t=2024-03-18T13:43:44+0000 lvl=info msg=\"join connections\" obj=join id=bba09dab7722 l=127.0.0.1:8237 r=102.211.61.95:54321\n"
          ]
        },
        {
          "name": "stdout",
          "output_type": "stream",
          "text": [
            "\u001b[1;35mt=2024-03-18T13:43:44+0000 lvl=info msg=\"join connections\" obj=join id=bba09dab7722 l=127.0.0.1:8237 r=102.211.61.95:54321\u001b[0m\n",
            "\u001b[1;35mGot token from cookie\u001b[0m\n",
            "\u001b[32mINFO\u001b[0m:     102.211.61.95:0 - \"\u001b[1mGET /api/v1/workspaces/default/stacks?sort_by=desc:created&logical_operator=and&page=1&size=10 HTTP/1.1\u001b[0m\" \u001b[32m200 OK\u001b[0m\n"
          ]
        },
        {
          "name": "stderr",
          "output_type": "stream",
          "text": [
            "INFO:pyngrok.process.ngrok:t=2024-03-18T13:43:51+0000 lvl=info msg=\"join connections\" obj=join id=f47fe5d18f8e l=127.0.0.1:8237 r=102.211.61.95:54321\n"
          ]
        },
        {
          "name": "stdout",
          "output_type": "stream",
          "text": [
            "\u001b[1;35mt=2024-03-18T13:43:51+0000 lvl=info msg=\"join connections\" obj=join id=f47fe5d18f8e l=127.0.0.1:8237 r=102.211.61.95:54321\u001b[0m\n",
            "\u001b[1;35mGot token from cookie\u001b[0m\n",
            "\u001b[32mINFO\u001b[0m:     102.211.61.95:0 - \"\u001b[1mGET /api/v1/workspaces/default/stacks?sort_by=desc:created&logical_operator=and&page=1&size=10 HTTP/1.1\u001b[0m\" \u001b[32m200 OK\u001b[0m\n"
          ]
        },
        {
          "name": "stderr",
          "output_type": "stream",
          "text": [
            "INFO:pyngrok.process.ngrok:t=2024-03-18T13:43:57+0000 lvl=info msg=\"join connections\" obj=join id=525bb650f1b9 l=127.0.0.1:8237 r=102.211.61.95:54321\n"
          ]
        },
        {
          "name": "stdout",
          "output_type": "stream",
          "text": [
            "\u001b[1;35mt=2024-03-18T13:43:57+0000 lvl=info msg=\"join connections\" obj=join id=525bb650f1b9 l=127.0.0.1:8237 r=102.211.61.95:54321\u001b[0m\n",
            "\u001b[1;35mGot token from cookie\u001b[0m\n",
            "\u001b[32mINFO\u001b[0m:     102.211.61.95:0 - \"\u001b[1mGET /api/v1/workspaces/default/stacks?sort_by=desc:created&logical_operator=and&page=1&size=10 HTTP/1.1\u001b[0m\" \u001b[32m200 OK\u001b[0m\n"
          ]
        },
        {
          "name": "stderr",
          "output_type": "stream",
          "text": [
            "INFO:pyngrok.process.ngrok:t=2024-03-18T13:44:02+0000 lvl=info msg=\"join connections\" obj=join id=251be90edd11 l=127.0.0.1:8237 r=102.211.61.95:54321\n"
          ]
        },
        {
          "name": "stdout",
          "output_type": "stream",
          "text": [
            "\u001b[1;35mt=2024-03-18T13:44:02+0000 lvl=info msg=\"join connections\" obj=join id=251be90edd11 l=127.0.0.1:8237 r=102.211.61.95:54321\u001b[0m\n",
            "\u001b[1;35mGot token from cookie\u001b[0m\n",
            "\u001b[32mINFO\u001b[0m:     102.211.61.95:0 - \"\u001b[1mGET /api/v1/workspaces/default/stacks?sort_by=desc:created&logical_operator=and&page=1&size=10 HTTP/1.1\u001b[0m\" \u001b[32m200 OK\u001b[0m\n"
          ]
        },
        {
          "name": "stderr",
          "output_type": "stream",
          "text": [
            "INFO:pyngrok.process.ngrok:t=2024-03-18T13:44:10+0000 lvl=info msg=\"join connections\" obj=join id=6101c8f334f6 l=127.0.0.1:8237 r=102.211.61.95:54321\n"
          ]
        },
        {
          "name": "stdout",
          "output_type": "stream",
          "text": [
            "\u001b[1;35mt=2024-03-18T13:44:10+0000 lvl=info msg=\"join connections\" obj=join id=6101c8f334f6 l=127.0.0.1:8237 r=102.211.61.95:54321\u001b[0m\n",
            "\u001b[1;35mGot token from cookie\u001b[0m\n",
            "\u001b[32mINFO\u001b[0m:     102.211.61.95:0 - \"\u001b[1mGET /api/v1/workspaces/default/stacks?sort_by=desc:created&logical_operator=and&page=1&size=10 HTTP/1.1\u001b[0m\" \u001b[32m200 OK\u001b[0m\n"
          ]
        },
        {
          "name": "stderr",
          "output_type": "stream",
          "text": [
            "INFO:pyngrok.process.ngrok:t=2024-03-18T13:44:15+0000 lvl=info msg=\"join connections\" obj=join id=cfec9d972144 l=127.0.0.1:8237 r=102.211.61.95:54321\n"
          ]
        },
        {
          "name": "stdout",
          "output_type": "stream",
          "text": [
            "\u001b[1;35mt=2024-03-18T13:44:15+0000 lvl=info msg=\"join connections\" obj=join id=cfec9d972144 l=127.0.0.1:8237 r=102.211.61.95:54321\u001b[0m\n",
            "\u001b[1;35mGot token from cookie\u001b[0m\n",
            "\u001b[32mINFO\u001b[0m:     102.211.61.95:0 - \"\u001b[1mGET /api/v1/workspaces/default/stacks?sort_by=desc:created&logical_operator=and&page=1&size=10 HTTP/1.1\u001b[0m\" \u001b[32m200 OK\u001b[0m\n"
          ]
        },
        {
          "name": "stderr",
          "output_type": "stream",
          "text": [
            "INFO:pyngrok.process.ngrok:t=2024-03-18T13:44:21+0000 lvl=info msg=\"join connections\" obj=join id=237d9fa2e338 l=127.0.0.1:8237 r=102.211.61.95:54321\n"
          ]
        },
        {
          "name": "stdout",
          "output_type": "stream",
          "text": [
            "\u001b[1;35mt=2024-03-18T13:44:21+0000 lvl=info msg=\"join connections\" obj=join id=237d9fa2e338 l=127.0.0.1:8237 r=102.211.61.95:54321\u001b[0m\n",
            "\u001b[1;35mGot token from cookie\u001b[0m\n",
            "\u001b[32mINFO\u001b[0m:     102.211.61.95:0 - \"\u001b[1mGET /api/v1/workspaces/default/stacks?sort_by=desc:created&logical_operator=and&page=1&size=10 HTTP/1.1\u001b[0m\" \u001b[32m200 OK\u001b[0m\n"
          ]
        },
        {
          "name": "stderr",
          "output_type": "stream",
          "text": [
            "INFO:pyngrok.process.ngrok:t=2024-03-18T13:44:27+0000 lvl=info msg=\"join connections\" obj=join id=1a606eb1557e l=127.0.0.1:8237 r=102.211.61.95:54321\n"
          ]
        },
        {
          "name": "stdout",
          "output_type": "stream",
          "text": [
            "\u001b[1;35mt=2024-03-18T13:44:27+0000 lvl=info msg=\"join connections\" obj=join id=1a606eb1557e l=127.0.0.1:8237 r=102.211.61.95:54321\u001b[0m\n",
            "\u001b[1;35mGot token from cookie\u001b[0m\n",
            "\u001b[32mINFO\u001b[0m:     102.211.61.95:0 - \"\u001b[1mGET /api/v1/workspaces/default/stacks?sort_by=desc:created&logical_operator=and&page=1&size=10 HTTP/1.1\u001b[0m\" \u001b[32m200 OK\u001b[0m\n"
          ]
        },
        {
          "name": "stderr",
          "output_type": "stream",
          "text": [
            "INFO:pyngrok.process.ngrok:t=2024-03-18T13:44:33+0000 lvl=info msg=\"join connections\" obj=join id=35f8db894c44 l=127.0.0.1:8237 r=102.211.61.95:54321\n"
          ]
        },
        {
          "name": "stdout",
          "output_type": "stream",
          "text": [
            "\u001b[1;35mt=2024-03-18T13:44:33+0000 lvl=info msg=\"join connections\" obj=join id=35f8db894c44 l=127.0.0.1:8237 r=102.211.61.95:54321\u001b[0m\n",
            "\u001b[1;35mGot token from cookie\u001b[0m\n",
            "\u001b[32mINFO\u001b[0m:     102.211.61.95:0 - \"\u001b[1mGET /api/v1/workspaces/default/stacks?sort_by=desc:created&logical_operator=and&page=1&size=10 HTTP/1.1\u001b[0m\" \u001b[32m200 OK\u001b[0m\n"
          ]
        },
        {
          "name": "stderr",
          "output_type": "stream",
          "text": [
            "INFO:pyngrok.process.ngrok:t=2024-03-18T13:44:39+0000 lvl=info msg=\"join connections\" obj=join id=81c29b219006 l=127.0.0.1:8237 r=102.211.61.95:54321\n"
          ]
        },
        {
          "name": "stdout",
          "output_type": "stream",
          "text": [
            "\u001b[1;35mt=2024-03-18T13:44:39+0000 lvl=info msg=\"join connections\" obj=join id=81c29b219006 l=127.0.0.1:8237 r=102.211.61.95:54321\u001b[0m\n",
            "\u001b[1;35mGot token from cookie\u001b[0m\n",
            "\u001b[32mINFO\u001b[0m:     102.211.61.95:0 - \"\u001b[1mGET /api/v1/workspaces/default/stacks?sort_by=desc:created&logical_operator=and&page=1&size=10 HTTP/1.1\u001b[0m\" \u001b[32m200 OK\u001b[0m\n"
          ]
        },
        {
          "name": "stderr",
          "output_type": "stream",
          "text": [
            "INFO:pyngrok.process.ngrok:t=2024-03-18T13:44:46+0000 lvl=info msg=\"join connections\" obj=join id=8d1a6f0be318 l=127.0.0.1:8237 r=102.211.61.95:54321\n"
          ]
        },
        {
          "name": "stdout",
          "output_type": "stream",
          "text": [
            "\u001b[1;35mt=2024-03-18T13:44:46+0000 lvl=info msg=\"join connections\" obj=join id=8d1a6f0be318 l=127.0.0.1:8237 r=102.211.61.95:54321\u001b[0m\n",
            "\u001b[1;35mGot token from cookie\u001b[0m\n",
            "\u001b[32mINFO\u001b[0m:     102.211.61.95:0 - \"\u001b[1mGET /api/v1/workspaces/default/stacks?sort_by=desc:created&logical_operator=and&page=1&size=10 HTTP/1.1\u001b[0m\" \u001b[32m200 OK\u001b[0m\n"
          ]
        },
        {
          "name": "stderr",
          "output_type": "stream",
          "text": [
            "INFO:pyngrok.process.ngrok:t=2024-03-18T13:44:52+0000 lvl=info msg=\"join connections\" obj=join id=9dc6ea98b23c l=127.0.0.1:8237 r=102.211.61.95:54321\n"
          ]
        },
        {
          "name": "stdout",
          "output_type": "stream",
          "text": [
            "\u001b[1;35mt=2024-03-18T13:44:52+0000 lvl=info msg=\"join connections\" obj=join id=9dc6ea98b23c l=127.0.0.1:8237 r=102.211.61.95:54321\u001b[0m\n",
            "\u001b[1;35mGot token from cookie\u001b[0m\n",
            "\u001b[32mINFO\u001b[0m:     102.211.61.95:0 - \"\u001b[1mGET /api/v1/workspaces/default/stacks?sort_by=desc:created&logical_operator=and&page=1&size=10 HTTP/1.1\u001b[0m\" \u001b[32m200 OK\u001b[0m\n"
          ]
        },
        {
          "name": "stderr",
          "output_type": "stream",
          "text": [
            "INFO:pyngrok.process.ngrok:t=2024-03-18T13:44:58+0000 lvl=info msg=\"join connections\" obj=join id=fa776ad4b25d l=127.0.0.1:8237 r=102.211.61.95:54321\n"
          ]
        },
        {
          "name": "stdout",
          "output_type": "stream",
          "text": [
            "\u001b[1;35mt=2024-03-18T13:44:58+0000 lvl=info msg=\"join connections\" obj=join id=fa776ad4b25d l=127.0.0.1:8237 r=102.211.61.95:54321\u001b[0m\n",
            "\u001b[1;35mGot token from cookie\u001b[0m\n",
            "\u001b[32mINFO\u001b[0m:     102.211.61.95:0 - \"\u001b[1mGET /api/v1/workspaces/default/stacks?sort_by=desc:created&logical_operator=and&page=1&size=10 HTTP/1.1\u001b[0m\" \u001b[32m200 OK\u001b[0m\n"
          ]
        },
        {
          "name": "stderr",
          "output_type": "stream",
          "text": [
            "INFO:pyngrok.process.ngrok:t=2024-03-18T13:45:05+0000 lvl=info msg=\"join connections\" obj=join id=b233479b042c l=127.0.0.1:8237 r=102.211.61.95:54321\n"
          ]
        },
        {
          "name": "stdout",
          "output_type": "stream",
          "text": [
            "\u001b[1;35mt=2024-03-18T13:45:05+0000 lvl=info msg=\"join connections\" obj=join id=b233479b042c l=127.0.0.1:8237 r=102.211.61.95:54321\u001b[0m\n",
            "\u001b[1;35mGot token from cookie\u001b[0m\n",
            "\u001b[32mINFO\u001b[0m:     102.211.61.95:0 - \"\u001b[1mGET /api/v1/workspaces/default/stacks?sort_by=desc:created&logical_operator=and&page=1&size=10 HTTP/1.1\u001b[0m\" \u001b[32m200 OK\u001b[0m\n"
          ]
        },
        {
          "name": "stderr",
          "output_type": "stream",
          "text": [
            "INFO:pyngrok.process.ngrok:t=2024-03-18T13:45:10+0000 lvl=info msg=\"join connections\" obj=join id=1befb7f845f7 l=127.0.0.1:8237 r=102.211.61.95:54321\n"
          ]
        },
        {
          "name": "stdout",
          "output_type": "stream",
          "text": [
            "\u001b[1;35mt=2024-03-18T13:45:10+0000 lvl=info msg=\"join connections\" obj=join id=1befb7f845f7 l=127.0.0.1:8237 r=102.211.61.95:54321\u001b[0m\n",
            "\u001b[1;35mGot token from cookie\u001b[0m\n",
            "\u001b[32mINFO\u001b[0m:     102.211.61.95:0 - \"\u001b[1mGET /api/v1/workspaces/default/stacks?sort_by=desc:created&logical_operator=and&page=1&size=10 HTTP/1.1\u001b[0m\" \u001b[32m200 OK\u001b[0m\n"
          ]
        },
        {
          "name": "stderr",
          "output_type": "stream",
          "text": [
            "INFO:pyngrok.process.ngrok:t=2024-03-18T13:45:16+0000 lvl=info msg=\"join connections\" obj=join id=b3001b51f0b2 l=127.0.0.1:8237 r=102.211.61.95:54321\n"
          ]
        },
        {
          "name": "stdout",
          "output_type": "stream",
          "text": [
            "\u001b[1;35mt=2024-03-18T13:45:16+0000 lvl=info msg=\"join connections\" obj=join id=b3001b51f0b2 l=127.0.0.1:8237 r=102.211.61.95:54321\u001b[0m\n",
            "\u001b[1;35mGot token from cookie\u001b[0m\n",
            "\u001b[32mINFO\u001b[0m:     102.211.61.95:0 - \"\u001b[1mGET /api/v1/workspaces/default/stacks?sort_by=desc:created&logical_operator=and&page=1&size=10 HTTP/1.1\u001b[0m\" \u001b[32m200 OK\u001b[0m\n"
          ]
        },
        {
          "name": "stderr",
          "output_type": "stream",
          "text": [
            "INFO:pyngrok.process.ngrok:t=2024-03-18T13:45:22+0000 lvl=info msg=\"join connections\" obj=join id=c0d953412e9a l=127.0.0.1:8237 r=102.211.61.95:54321\n"
          ]
        },
        {
          "name": "stdout",
          "output_type": "stream",
          "text": [
            "\u001b[1;35mt=2024-03-18T13:45:22+0000 lvl=info msg=\"join connections\" obj=join id=c0d953412e9a l=127.0.0.1:8237 r=102.211.61.95:54321\u001b[0m\n",
            "\u001b[1;35mGot token from cookie\u001b[0m\n",
            "\u001b[32mINFO\u001b[0m:     102.211.61.95:0 - \"\u001b[1mGET /api/v1/workspaces/default/stacks?sort_by=desc:created&logical_operator=and&page=1&size=10 HTTP/1.1\u001b[0m\" \u001b[32m200 OK\u001b[0m\n"
          ]
        },
        {
          "name": "stderr",
          "output_type": "stream",
          "text": [
            "INFO:pyngrok.process.ngrok:t=2024-03-18T13:45:28+0000 lvl=info msg=\"join connections\" obj=join id=d2b17a078583 l=127.0.0.1:8237 r=102.211.61.95:54321\n"
          ]
        },
        {
          "name": "stdout",
          "output_type": "stream",
          "text": [
            "\u001b[1;35mt=2024-03-18T13:45:28+0000 lvl=info msg=\"join connections\" obj=join id=d2b17a078583 l=127.0.0.1:8237 r=102.211.61.95:54321\u001b[0m\n",
            "\u001b[1;35mGot token from cookie\u001b[0m\n",
            "\u001b[32mINFO\u001b[0m:     102.211.61.95:0 - \"\u001b[1mGET /api/v1/workspaces/default/stacks?sort_by=desc:created&logical_operator=and&page=1&size=10 HTTP/1.1\u001b[0m\" \u001b[32m200 OK\u001b[0m\n"
          ]
        },
        {
          "name": "stderr",
          "output_type": "stream",
          "text": [
            "INFO:pyngrok.process.ngrok:t=2024-03-18T13:45:34+0000 lvl=info msg=\"join connections\" obj=join id=45c638729ce9 l=127.0.0.1:8237 r=102.211.61.95:54321\n"
          ]
        },
        {
          "name": "stdout",
          "output_type": "stream",
          "text": [
            "\u001b[1;35mt=2024-03-18T13:45:34+0000 lvl=info msg=\"join connections\" obj=join id=45c638729ce9 l=127.0.0.1:8237 r=102.211.61.95:54321\u001b[0m\n",
            "\u001b[1;35mGot token from cookie\u001b[0m\n",
            "\u001b[32mINFO\u001b[0m:     102.211.61.95:0 - \"\u001b[1mGET /api/v1/workspaces/default/stacks?sort_by=desc:created&logical_operator=and&page=1&size=10 HTTP/1.1\u001b[0m\" \u001b[32m200 OK\u001b[0m\n"
          ]
        },
        {
          "name": "stderr",
          "output_type": "stream",
          "text": [
            "INFO:pyngrok.process.ngrok:t=2024-03-18T13:45:40+0000 lvl=info msg=\"join connections\" obj=join id=ab50c20db71c l=127.0.0.1:8237 r=102.211.61.95:54321\n"
          ]
        },
        {
          "name": "stdout",
          "output_type": "stream",
          "text": [
            "\u001b[1;35mt=2024-03-18T13:45:40+0000 lvl=info msg=\"join connections\" obj=join id=ab50c20db71c l=127.0.0.1:8237 r=102.211.61.95:54321\u001b[0m\n",
            "\u001b[1;35mGot token from cookie\u001b[0m\n",
            "\u001b[32mINFO\u001b[0m:     102.211.61.95:0 - \"\u001b[1mGET /api/v1/workspaces/default/stacks?sort_by=desc:created&logical_operator=and&page=1&size=10 HTTP/1.1\u001b[0m\" \u001b[32m200 OK\u001b[0m\n"
          ]
        },
        {
          "name": "stderr",
          "output_type": "stream",
          "text": [
            "INFO:pyngrok.process.ngrok:t=2024-03-18T13:45:46+0000 lvl=info msg=\"join connections\" obj=join id=98f015c311dd l=127.0.0.1:8237 r=102.211.61.95:54321\n"
          ]
        },
        {
          "name": "stdout",
          "output_type": "stream",
          "text": [
            "\u001b[1;35mt=2024-03-18T13:45:46+0000 lvl=info msg=\"join connections\" obj=join id=98f015c311dd l=127.0.0.1:8237 r=102.211.61.95:54321\u001b[0m\n",
            "\u001b[1;35mGot token from cookie\u001b[0m\n",
            "\u001b[32mINFO\u001b[0m:     102.211.61.95:0 - \"\u001b[1mGET /api/v1/workspaces/default/stacks?sort_by=desc:created&logical_operator=and&page=1&size=10 HTTP/1.1\u001b[0m\" \u001b[32m200 OK\u001b[0m\n"
          ]
        },
        {
          "name": "stderr",
          "output_type": "stream",
          "text": [
            "INFO:pyngrok.process.ngrok:t=2024-03-18T13:45:53+0000 lvl=info msg=\"join connections\" obj=join id=ef80b1065a5e l=127.0.0.1:8237 r=102.211.61.95:54321\n"
          ]
        },
        {
          "name": "stdout",
          "output_type": "stream",
          "text": [
            "\u001b[1;35mt=2024-03-18T13:45:53+0000 lvl=info msg=\"join connections\" obj=join id=ef80b1065a5e l=127.0.0.1:8237 r=102.211.61.95:54321\u001b[0m\n",
            "\u001b[1;35mGot token from cookie\u001b[0m\n",
            "\u001b[32mINFO\u001b[0m:     102.211.61.95:0 - \"\u001b[1mGET /api/v1/workspaces/default/stacks?sort_by=desc:created&logical_operator=and&page=1&size=10 HTTP/1.1\u001b[0m\" \u001b[32m200 OK\u001b[0m\n"
          ]
        },
        {
          "name": "stderr",
          "output_type": "stream",
          "text": [
            "INFO:pyngrok.process.ngrok:t=2024-03-18T13:45:59+0000 lvl=info msg=\"join connections\" obj=join id=a72c81281642 l=127.0.0.1:8237 r=102.211.61.95:54321\n"
          ]
        },
        {
          "name": "stdout",
          "output_type": "stream",
          "text": [
            "\u001b[1;35mt=2024-03-18T13:45:59+0000 lvl=info msg=\"join connections\" obj=join id=a72c81281642 l=127.0.0.1:8237 r=102.211.61.95:54321\u001b[0m\n",
            "\u001b[1;35mGot token from cookie\u001b[0m\n",
            "\u001b[32mINFO\u001b[0m:     102.211.61.95:0 - \"\u001b[1mGET /api/v1/workspaces/default/stacks?sort_by=desc:created&logical_operator=and&page=1&size=10 HTTP/1.1\u001b[0m\" \u001b[32m200 OK\u001b[0m\n"
          ]
        },
        {
          "name": "stderr",
          "output_type": "stream",
          "text": [
            "INFO:pyngrok.process.ngrok:t=2024-03-18T13:46:04+0000 lvl=info msg=\"join connections\" obj=join id=4025f7a3ca46 l=127.0.0.1:8237 r=102.211.61.95:54321\n"
          ]
        },
        {
          "name": "stdout",
          "output_type": "stream",
          "text": [
            "\u001b[1;35mt=2024-03-18T13:46:04+0000 lvl=info msg=\"join connections\" obj=join id=4025f7a3ca46 l=127.0.0.1:8237 r=102.211.61.95:54321\u001b[0m\n",
            "\u001b[1;35mGot token from cookie\u001b[0m\n",
            "\u001b[32mINFO\u001b[0m:     102.211.61.95:0 - \"\u001b[1mGET /api/v1/workspaces/default/stacks?sort_by=desc:created&logical_operator=and&page=1&size=10 HTTP/1.1\u001b[0m\" \u001b[32m200 OK\u001b[0m\n"
          ]
        },
        {
          "name": "stderr",
          "output_type": "stream",
          "text": [
            "INFO:pyngrok.process.ngrok:t=2024-03-18T13:46:10+0000 lvl=info msg=\"join connections\" obj=join id=016255cd3ff5 l=127.0.0.1:8237 r=102.211.61.95:54321\n"
          ]
        },
        {
          "name": "stdout",
          "output_type": "stream",
          "text": [
            "\u001b[1;35mt=2024-03-18T13:46:10+0000 lvl=info msg=\"join connections\" obj=join id=016255cd3ff5 l=127.0.0.1:8237 r=102.211.61.95:54321\u001b[0m\n",
            "\u001b[1;35mGot token from cookie\u001b[0m\n",
            "\u001b[32mINFO\u001b[0m:     102.211.61.95:0 - \"\u001b[1mGET /api/v1/workspaces/default/stacks?sort_by=desc:created&logical_operator=and&page=1&size=10 HTTP/1.1\u001b[0m\" \u001b[32m200 OK\u001b[0m\n"
          ]
        },
        {
          "name": "stderr",
          "output_type": "stream",
          "text": [
            "INFO:pyngrok.process.ngrok:t=2024-03-18T13:46:17+0000 lvl=info msg=\"join connections\" obj=join id=a2094aba07ea l=127.0.0.1:8237 r=102.211.61.95:54321\n"
          ]
        },
        {
          "name": "stdout",
          "output_type": "stream",
          "text": [
            "\u001b[1;35mt=2024-03-18T13:46:17+0000 lvl=info msg=\"join connections\" obj=join id=a2094aba07ea l=127.0.0.1:8237 r=102.211.61.95:54321\u001b[0m\n",
            "\u001b[1;35mGot token from cookie\u001b[0m\n",
            "\u001b[32mINFO\u001b[0m:     102.211.61.95:0 - \"\u001b[1mGET /api/v1/workspaces/default/stacks?sort_by=desc:created&logical_operator=and&page=1&size=10 HTTP/1.1\u001b[0m\" \u001b[32m200 OK\u001b[0m\n"
          ]
        },
        {
          "name": "stderr",
          "output_type": "stream",
          "text": [
            "INFO:pyngrok.process.ngrok:t=2024-03-18T13:46:24+0000 lvl=info msg=\"join connections\" obj=join id=01d4192f5107 l=127.0.0.1:8237 r=102.211.61.95:54321\n"
          ]
        },
        {
          "name": "stdout",
          "output_type": "stream",
          "text": [
            "\u001b[1;35mt=2024-03-18T13:46:24+0000 lvl=info msg=\"join connections\" obj=join id=01d4192f5107 l=127.0.0.1:8237 r=102.211.61.95:54321\u001b[0m\n",
            "\u001b[1;35mGot token from cookie\u001b[0m\n",
            "\u001b[32mINFO\u001b[0m:     102.211.61.95:0 - \"\u001b[1mGET /api/v1/workspaces/default/stacks?sort_by=desc:created&logical_operator=and&page=1&size=10 HTTP/1.1\u001b[0m\" \u001b[32m200 OK\u001b[0m\n"
          ]
        },
        {
          "name": "stderr",
          "output_type": "stream",
          "text": [
            "INFO:pyngrok.process.ngrok:t=2024-03-18T13:46:31+0000 lvl=info msg=\"join connections\" obj=join id=de1cd65dc892 l=127.0.0.1:8237 r=102.211.61.95:54321\n"
          ]
        },
        {
          "name": "stdout",
          "output_type": "stream",
          "text": [
            "\u001b[1;35mt=2024-03-18T13:46:31+0000 lvl=info msg=\"join connections\" obj=join id=de1cd65dc892 l=127.0.0.1:8237 r=102.211.61.95:54321\u001b[0m\n",
            "\u001b[1;35mGot token from cookie\u001b[0m\n",
            "\u001b[32mINFO\u001b[0m:     102.211.61.95:0 - \"\u001b[1mGET /api/v1/workspaces/default/stacks?sort_by=desc:created&logical_operator=and&page=1&size=10 HTTP/1.1\u001b[0m\" \u001b[32m200 OK\u001b[0m\n"
          ]
        },
        {
          "name": "stderr",
          "output_type": "stream",
          "text": [
            "INFO:pyngrok.process.ngrok:t=2024-03-18T13:46:37+0000 lvl=info msg=\"join connections\" obj=join id=5355148c5807 l=127.0.0.1:8237 r=102.211.61.95:54321\n"
          ]
        },
        {
          "name": "stdout",
          "output_type": "stream",
          "text": [
            "\u001b[1;35mt=2024-03-18T13:46:37+0000 lvl=info msg=\"join connections\" obj=join id=5355148c5807 l=127.0.0.1:8237 r=102.211.61.95:54321\u001b[0m\n",
            "\u001b[1;35mGot token from cookie\u001b[0m\n",
            "\u001b[32mINFO\u001b[0m:     102.211.61.95:0 - \"\u001b[1mGET /api/v1/workspaces/default/stacks?sort_by=desc:created&logical_operator=and&page=1&size=10 HTTP/1.1\u001b[0m\" \u001b[32m200 OK\u001b[0m\n"
          ]
        },
        {
          "name": "stderr",
          "output_type": "stream",
          "text": [
            "INFO:pyngrok.process.ngrok:t=2024-03-18T13:46:43+0000 lvl=info msg=\"join connections\" obj=join id=1b92b6d114c0 l=127.0.0.1:8237 r=102.211.61.95:54321\n"
          ]
        },
        {
          "name": "stdout",
          "output_type": "stream",
          "text": [
            "\u001b[1;35mt=2024-03-18T13:46:43+0000 lvl=info msg=\"join connections\" obj=join id=1b92b6d114c0 l=127.0.0.1:8237 r=102.211.61.95:54321\u001b[0m\n",
            "\u001b[1;35mGot token from cookie\u001b[0m\n",
            "\u001b[32mINFO\u001b[0m:     102.211.61.95:0 - \"\u001b[1mGET /api/v1/workspaces/default/stacks?sort_by=desc:created&logical_operator=and&page=1&size=10 HTTP/1.1\u001b[0m\" \u001b[32m200 OK\u001b[0m\n"
          ]
        },
        {
          "name": "stderr",
          "output_type": "stream",
          "text": [
            "INFO:pyngrok.process.ngrok:t=2024-03-18T13:46:49+0000 lvl=info msg=\"join connections\" obj=join id=aafa4e1f37d5 l=127.0.0.1:8237 r=102.211.61.95:54321\n"
          ]
        },
        {
          "name": "stdout",
          "output_type": "stream",
          "text": [
            "\u001b[1;35mt=2024-03-18T13:46:49+0000 lvl=info msg=\"join connections\" obj=join id=aafa4e1f37d5 l=127.0.0.1:8237 r=102.211.61.95:54321\u001b[0m\n",
            "\u001b[1;35mGot token from cookie\u001b[0m\n",
            "\u001b[32mINFO\u001b[0m:     102.211.61.95:0 - \"\u001b[1mGET /api/v1/workspaces/default/stacks?sort_by=desc:created&logical_operator=and&page=1&size=10 HTTP/1.1\u001b[0m\" \u001b[32m200 OK\u001b[0m\n"
          ]
        },
        {
          "name": "stderr",
          "output_type": "stream",
          "text": [
            "INFO:pyngrok.process.ngrok:t=2024-03-18T13:46:55+0000 lvl=info msg=\"join connections\" obj=join id=5e52fabee3f8 l=127.0.0.1:8237 r=102.211.61.95:54321\n"
          ]
        },
        {
          "name": "stdout",
          "output_type": "stream",
          "text": [
            "\u001b[1;35mt=2024-03-18T13:46:55+0000 lvl=info msg=\"join connections\" obj=join id=5e52fabee3f8 l=127.0.0.1:8237 r=102.211.61.95:54321\u001b[0m\n",
            "\u001b[1;35mGot token from cookie\u001b[0m\n",
            "\u001b[32mINFO\u001b[0m:     102.211.61.95:0 - \"\u001b[1mGET /api/v1/workspaces/default/stacks?sort_by=desc:created&logical_operator=and&page=1&size=10 HTTP/1.1\u001b[0m\" \u001b[32m200 OK\u001b[0m\n"
          ]
        },
        {
          "name": "stderr",
          "output_type": "stream",
          "text": [
            "INFO:pyngrok.process.ngrok:t=2024-03-18T13:47:01+0000 lvl=info msg=\"join connections\" obj=join id=23368a5edf6e l=127.0.0.1:8237 r=102.211.61.95:54321\n"
          ]
        },
        {
          "name": "stdout",
          "output_type": "stream",
          "text": [
            "\u001b[1;35mt=2024-03-18T13:47:01+0000 lvl=info msg=\"join connections\" obj=join id=23368a5edf6e l=127.0.0.1:8237 r=102.211.61.95:54321\u001b[0m\n",
            "\u001b[1;35mGot token from cookie\u001b[0m\n",
            "\u001b[32mINFO\u001b[0m:     102.211.61.95:0 - \"\u001b[1mGET /api/v1/workspaces/default/stacks?sort_by=desc:created&logical_operator=and&page=1&size=10 HTTP/1.1\u001b[0m\" \u001b[32m200 OK\u001b[0m\n"
          ]
        },
        {
          "name": "stderr",
          "output_type": "stream",
          "text": [
            "INFO:pyngrok.process.ngrok:t=2024-03-18T13:47:07+0000 lvl=info msg=\"join connections\" obj=join id=8dc28de7bc2f l=127.0.0.1:8237 r=102.211.61.95:54321\n"
          ]
        },
        {
          "name": "stdout",
          "output_type": "stream",
          "text": [
            "\u001b[1;35mt=2024-03-18T13:47:07+0000 lvl=info msg=\"join connections\" obj=join id=8dc28de7bc2f l=127.0.0.1:8237 r=102.211.61.95:54321\u001b[0m\n",
            "\u001b[1;35mGot token from cookie\u001b[0m\n",
            "\u001b[32mINFO\u001b[0m:     102.211.61.95:0 - \"\u001b[1mGET /api/v1/workspaces/default/stacks?sort_by=desc:created&logical_operator=and&page=1&size=10 HTTP/1.1\u001b[0m\" \u001b[32m200 OK\u001b[0m\n"
          ]
        },
        {
          "name": "stderr",
          "output_type": "stream",
          "text": [
            "INFO:pyngrok.process.ngrok:t=2024-03-18T13:47:13+0000 lvl=info msg=\"join connections\" obj=join id=665629660331 l=127.0.0.1:8237 r=102.211.61.95:54321\n"
          ]
        },
        {
          "name": "stdout",
          "output_type": "stream",
          "text": [
            "\u001b[1;35mt=2024-03-18T13:47:13+0000 lvl=info msg=\"join connections\" obj=join id=665629660331 l=127.0.0.1:8237 r=102.211.61.95:54321\u001b[0m\n",
            "\u001b[1;35mGot token from cookie\u001b[0m\n",
            "\u001b[32mINFO\u001b[0m:     102.211.61.95:0 - \"\u001b[1mGET /api/v1/workspaces/default/stacks?sort_by=desc:created&logical_operator=and&page=1&size=10 HTTP/1.1\u001b[0m\" \u001b[32m200 OK\u001b[0m\n"
          ]
        },
        {
          "name": "stderr",
          "output_type": "stream",
          "text": [
            "INFO:pyngrok.process.ngrok:t=2024-03-18T13:47:19+0000 lvl=info msg=\"join connections\" obj=join id=951bb9e7dea1 l=127.0.0.1:8237 r=102.211.61.95:54321\n"
          ]
        },
        {
          "name": "stdout",
          "output_type": "stream",
          "text": [
            "\u001b[1;35mt=2024-03-18T13:47:19+0000 lvl=info msg=\"join connections\" obj=join id=951bb9e7dea1 l=127.0.0.1:8237 r=102.211.61.95:54321\u001b[0m\n",
            "\u001b[1;35mGot token from cookie\u001b[0m\n",
            "\u001b[32mINFO\u001b[0m:     102.211.61.95:0 - \"\u001b[1mGET /api/v1/workspaces/default/stacks?sort_by=desc:created&logical_operator=and&page=1&size=10 HTTP/1.1\u001b[0m\" \u001b[32m200 OK\u001b[0m\n"
          ]
        },
        {
          "name": "stderr",
          "output_type": "stream",
          "text": [
            "INFO:pyngrok.process.ngrok:t=2024-03-18T13:47:25+0000 lvl=info msg=\"join connections\" obj=join id=d71f28d4f25c l=127.0.0.1:8237 r=102.211.61.95:54321\n"
          ]
        },
        {
          "name": "stdout",
          "output_type": "stream",
          "text": [
            "\u001b[1;35mt=2024-03-18T13:47:25+0000 lvl=info msg=\"join connections\" obj=join id=d71f28d4f25c l=127.0.0.1:8237 r=102.211.61.95:54321\u001b[0m\n",
            "\u001b[1;35mGot token from cookie\u001b[0m\n",
            "\u001b[32mINFO\u001b[0m:     102.211.61.95:0 - \"\u001b[1mGET /api/v1/workspaces/default/stacks?sort_by=desc:created&logical_operator=and&page=1&size=10 HTTP/1.1\u001b[0m\" \u001b[32m200 OK\u001b[0m\n"
          ]
        },
        {
          "name": "stderr",
          "output_type": "stream",
          "text": [
            "INFO:pyngrok.process.ngrok:t=2024-03-18T13:47:31+0000 lvl=info msg=\"join connections\" obj=join id=cc3bd002c13a l=127.0.0.1:8237 r=102.211.61.95:54321\n"
          ]
        },
        {
          "name": "stdout",
          "output_type": "stream",
          "text": [
            "\u001b[1;35mt=2024-03-18T13:47:31+0000 lvl=info msg=\"join connections\" obj=join id=cc3bd002c13a l=127.0.0.1:8237 r=102.211.61.95:54321\u001b[0m\n",
            "\u001b[1;35mGot token from cookie\u001b[0m\n",
            "\u001b[32mINFO\u001b[0m:     102.211.61.95:0 - \"\u001b[1mGET /api/v1/workspaces/default/stacks?sort_by=desc:created&logical_operator=and&page=1&size=10 HTTP/1.1\u001b[0m\" \u001b[32m200 OK\u001b[0m\n"
          ]
        },
        {
          "name": "stderr",
          "output_type": "stream",
          "text": [
            "INFO:pyngrok.process.ngrok:t=2024-03-18T13:47:38+0000 lvl=info msg=\"join connections\" obj=join id=fdd856dc4327 l=127.0.0.1:8237 r=102.211.61.95:54321\n"
          ]
        },
        {
          "name": "stdout",
          "output_type": "stream",
          "text": [
            "\u001b[1;35mt=2024-03-18T13:47:38+0000 lvl=info msg=\"join connections\" obj=join id=fdd856dc4327 l=127.0.0.1:8237 r=102.211.61.95:54321\u001b[0m\n",
            "\u001b[1;35mGot token from cookie\u001b[0m\n",
            "\u001b[32mINFO\u001b[0m:     102.211.61.95:0 - \"\u001b[1mGET /api/v1/workspaces/default/stacks?sort_by=desc:created&logical_operator=and&page=1&size=10 HTTP/1.1\u001b[0m\" \u001b[32m200 OK\u001b[0m\n"
          ]
        },
        {
          "name": "stderr",
          "output_type": "stream",
          "text": [
            "INFO:pyngrok.process.ngrok:t=2024-03-18T13:47:43+0000 lvl=info msg=\"join connections\" obj=join id=16eb52fb0e3d l=127.0.0.1:8237 r=102.211.61.95:54321\n"
          ]
        },
        {
          "name": "stdout",
          "output_type": "stream",
          "text": [
            "\u001b[1;35mt=2024-03-18T13:47:43+0000 lvl=info msg=\"join connections\" obj=join id=16eb52fb0e3d l=127.0.0.1:8237 r=102.211.61.95:54321\u001b[0m\n",
            "\u001b[1;35mGot token from cookie\u001b[0m\n",
            "\u001b[32mINFO\u001b[0m:     102.211.61.95:0 - \"\u001b[1mGET /api/v1/workspaces/default/stacks?sort_by=desc:created&logical_operator=and&page=1&size=10 HTTP/1.1\u001b[0m\" \u001b[32m200 OK\u001b[0m\n"
          ]
        },
        {
          "name": "stderr",
          "output_type": "stream",
          "text": [
            "INFO:pyngrok.process.ngrok:t=2024-03-18T13:47:49+0000 lvl=info msg=\"join connections\" obj=join id=9e2014e332ee l=127.0.0.1:8237 r=102.211.61.95:54321\n"
          ]
        },
        {
          "name": "stdout",
          "output_type": "stream",
          "text": [
            "\u001b[1;35mt=2024-03-18T13:47:49+0000 lvl=info msg=\"join connections\" obj=join id=9e2014e332ee l=127.0.0.1:8237 r=102.211.61.95:54321\u001b[0m\n",
            "\u001b[1;35mGot token from cookie\u001b[0m\n",
            "\u001b[32mINFO\u001b[0m:     102.211.61.95:0 - \"\u001b[1mGET /api/v1/workspaces/default/stacks?sort_by=desc:created&logical_operator=and&page=1&size=10 HTTP/1.1\u001b[0m\" \u001b[32m200 OK\u001b[0m\n"
          ]
        },
        {
          "name": "stderr",
          "output_type": "stream",
          "text": [
            "INFO:pyngrok.process.ngrok:t=2024-03-18T13:47:55+0000 lvl=info msg=\"join connections\" obj=join id=152f288d42c5 l=127.0.0.1:8237 r=102.211.61.95:54321\n"
          ]
        },
        {
          "name": "stdout",
          "output_type": "stream",
          "text": [
            "\u001b[1;35mt=2024-03-18T13:47:55+0000 lvl=info msg=\"join connections\" obj=join id=152f288d42c5 l=127.0.0.1:8237 r=102.211.61.95:54321\u001b[0m\n",
            "\u001b[1;35mGot token from cookie\u001b[0m\n",
            "\u001b[32mINFO\u001b[0m:     102.211.61.95:0 - \"\u001b[1mGET /api/v1/workspaces/default/stacks?sort_by=desc:created&logical_operator=and&page=1&size=10 HTTP/1.1\u001b[0m\" \u001b[32m200 OK\u001b[0m\n"
          ]
        },
        {
          "name": "stderr",
          "output_type": "stream",
          "text": [
            "INFO:pyngrok.process.ngrok:t=2024-03-18T13:48:02+0000 lvl=info msg=\"join connections\" obj=join id=4675d92e6ca7 l=127.0.0.1:8237 r=102.211.61.95:54321\n"
          ]
        },
        {
          "name": "stdout",
          "output_type": "stream",
          "text": [
            "\u001b[1;35mt=2024-03-18T13:48:02+0000 lvl=info msg=\"join connections\" obj=join id=4675d92e6ca7 l=127.0.0.1:8237 r=102.211.61.95:54321\u001b[0m\n",
            "\u001b[1;35mGot token from cookie\u001b[0m\n",
            "\u001b[32mINFO\u001b[0m:     102.211.61.95:0 - \"\u001b[1mGET /api/v1/workspaces/default/stacks?sort_by=desc:created&logical_operator=and&page=1&size=10 HTTP/1.1\u001b[0m\" \u001b[32m200 OK\u001b[0m\n"
          ]
        },
        {
          "name": "stderr",
          "output_type": "stream",
          "text": [
            "INFO:pyngrok.process.ngrok:t=2024-03-18T13:48:07+0000 lvl=info msg=\"join connections\" obj=join id=13ea36b1d992 l=127.0.0.1:8237 r=102.211.61.95:54321\n"
          ]
        },
        {
          "name": "stdout",
          "output_type": "stream",
          "text": [
            "\u001b[1;35mt=2024-03-18T13:48:07+0000 lvl=info msg=\"join connections\" obj=join id=13ea36b1d992 l=127.0.0.1:8237 r=102.211.61.95:54321\u001b[0m\n",
            "\u001b[1;35mGot token from cookie\u001b[0m\n",
            "\u001b[32mINFO\u001b[0m:     102.211.61.95:0 - \"\u001b[1mGET /api/v1/workspaces/default/stacks?sort_by=desc:created&logical_operator=and&page=1&size=10 HTTP/1.1\u001b[0m\" \u001b[32m200 OK\u001b[0m\n"
          ]
        },
        {
          "name": "stderr",
          "output_type": "stream",
          "text": [
            "INFO:pyngrok.process.ngrok:t=2024-03-18T13:48:13+0000 lvl=info msg=\"join connections\" obj=join id=407112103f90 l=127.0.0.1:8237 r=102.211.61.95:54321\n"
          ]
        },
        {
          "name": "stdout",
          "output_type": "stream",
          "text": [
            "\u001b[1;35mt=2024-03-18T13:48:13+0000 lvl=info msg=\"join connections\" obj=join id=407112103f90 l=127.0.0.1:8237 r=102.211.61.95:54321\u001b[0m\n",
            "\u001b[1;35mGot token from cookie\u001b[0m\n",
            "\u001b[32mINFO\u001b[0m:     102.211.61.95:0 - \"\u001b[1mGET /api/v1/workspaces/default/stacks?sort_by=desc:created&logical_operator=and&page=1&size=10 HTTP/1.1\u001b[0m\" \u001b[32m200 OK\u001b[0m\n"
          ]
        },
        {
          "name": "stderr",
          "output_type": "stream",
          "text": [
            "INFO:pyngrok.process.ngrok:t=2024-03-18T13:48:19+0000 lvl=info msg=\"join connections\" obj=join id=5a5373014353 l=127.0.0.1:8237 r=102.211.61.95:54321\n"
          ]
        },
        {
          "name": "stdout",
          "output_type": "stream",
          "text": [
            "\u001b[1;35mt=2024-03-18T13:48:19+0000 lvl=info msg=\"join connections\" obj=join id=5a5373014353 l=127.0.0.1:8237 r=102.211.61.95:54321\u001b[0m\n",
            "\u001b[1;35mGot token from cookie\u001b[0m\n",
            "\u001b[32mINFO\u001b[0m:     102.211.61.95:0 - \"\u001b[1mGET /api/v1/workspaces/default/stacks?sort_by=desc:created&logical_operator=and&page=1&size=10 HTTP/1.1\u001b[0m\" \u001b[32m200 OK\u001b[0m\n"
          ]
        },
        {
          "name": "stderr",
          "output_type": "stream",
          "text": [
            "INFO:pyngrok.process.ngrok:t=2024-03-18T13:48:25+0000 lvl=info msg=\"join connections\" obj=join id=2ae12ed8cee8 l=127.0.0.1:8237 r=102.211.61.95:54321\n"
          ]
        },
        {
          "name": "stdout",
          "output_type": "stream",
          "text": [
            "\u001b[1;35mt=2024-03-18T13:48:25+0000 lvl=info msg=\"join connections\" obj=join id=2ae12ed8cee8 l=127.0.0.1:8237 r=102.211.61.95:54321\u001b[0m\n",
            "\u001b[1;35mGot token from cookie\u001b[0m\n",
            "\u001b[32mINFO\u001b[0m:     102.211.61.95:0 - \"\u001b[1mGET /api/v1/workspaces/default/stacks?sort_by=desc:created&logical_operator=and&page=1&size=10 HTTP/1.1\u001b[0m\" \u001b[32m200 OK\u001b[0m\n"
          ]
        },
        {
          "name": "stderr",
          "output_type": "stream",
          "text": [
            "INFO:pyngrok.process.ngrok:t=2024-03-18T13:48:31+0000 lvl=info msg=\"join connections\" obj=join id=482f5af7fc33 l=127.0.0.1:8237 r=102.211.61.95:54321\n"
          ]
        },
        {
          "name": "stdout",
          "output_type": "stream",
          "text": [
            "\u001b[1;35mt=2024-03-18T13:48:31+0000 lvl=info msg=\"join connections\" obj=join id=482f5af7fc33 l=127.0.0.1:8237 r=102.211.61.95:54321\u001b[0m\n",
            "\u001b[1;35mGot token from cookie\u001b[0m\n",
            "\u001b[32mINFO\u001b[0m:     102.211.61.95:0 - \"\u001b[1mGET /api/v1/workspaces/default/stacks?sort_by=desc:created&logical_operator=and&page=1&size=10 HTTP/1.1\u001b[0m\" \u001b[32m200 OK\u001b[0m\n"
          ]
        },
        {
          "name": "stderr",
          "output_type": "stream",
          "text": [
            "INFO:pyngrok.process.ngrok:t=2024-03-18T13:48:38+0000 lvl=info msg=\"join connections\" obj=join id=cd65e2f264a5 l=127.0.0.1:8237 r=102.211.61.95:54321\n"
          ]
        },
        {
          "name": "stdout",
          "output_type": "stream",
          "text": [
            "\u001b[1;35mt=2024-03-18T13:48:38+0000 lvl=info msg=\"join connections\" obj=join id=cd65e2f264a5 l=127.0.0.1:8237 r=102.211.61.95:54321\u001b[0m\n",
            "\u001b[1;35mGot token from cookie\u001b[0m\n",
            "\u001b[32mINFO\u001b[0m:     102.211.61.95:0 - \"\u001b[1mGET /api/v1/workspaces/default/stacks?sort_by=desc:created&logical_operator=and&page=1&size=10 HTTP/1.1\u001b[0m\" \u001b[32m200 OK\u001b[0m\n"
          ]
        },
        {
          "name": "stderr",
          "output_type": "stream",
          "text": [
            "INFO:pyngrok.process.ngrok:t=2024-03-18T13:48:43+0000 lvl=info msg=\"join connections\" obj=join id=243e86f4de6c l=127.0.0.1:8237 r=102.211.61.95:54321\n"
          ]
        },
        {
          "name": "stdout",
          "output_type": "stream",
          "text": [
            "\u001b[1;35mt=2024-03-18T13:48:43+0000 lvl=info msg=\"join connections\" obj=join id=243e86f4de6c l=127.0.0.1:8237 r=102.211.61.95:54321\u001b[0m\n",
            "\u001b[1;35mGot token from cookie\u001b[0m\n",
            "\u001b[32mINFO\u001b[0m:     102.211.61.95:0 - \"\u001b[1mGET /api/v1/workspaces/default/stacks?sort_by=desc:created&logical_operator=and&page=1&size=10 HTTP/1.1\u001b[0m\" \u001b[32m200 OK\u001b[0m\n"
          ]
        },
        {
          "name": "stderr",
          "output_type": "stream",
          "text": [
            "INFO:pyngrok.process.ngrok:t=2024-03-18T13:48:49+0000 lvl=info msg=\"join connections\" obj=join id=166262fb33c0 l=127.0.0.1:8237 r=102.211.61.95:54321\n"
          ]
        },
        {
          "name": "stdout",
          "output_type": "stream",
          "text": [
            "\u001b[1;35mt=2024-03-18T13:48:49+0000 lvl=info msg=\"join connections\" obj=join id=166262fb33c0 l=127.0.0.1:8237 r=102.211.61.95:54321\u001b[0m\n",
            "\u001b[1;35mGot token from cookie\u001b[0m\n",
            "\u001b[32mINFO\u001b[0m:     102.211.61.95:0 - \"\u001b[1mGET /api/v1/workspaces/default/stacks?sort_by=desc:created&logical_operator=and&page=1&size=10 HTTP/1.1\u001b[0m\" \u001b[32m200 OK\u001b[0m\n"
          ]
        },
        {
          "name": "stderr",
          "output_type": "stream",
          "text": [
            "INFO:pyngrok.process.ngrok:t=2024-03-18T13:48:55+0000 lvl=info msg=\"join connections\" obj=join id=c51ed2116cf7 l=127.0.0.1:8237 r=102.211.61.95:54321\n"
          ]
        },
        {
          "name": "stdout",
          "output_type": "stream",
          "text": [
            "\u001b[1;35mt=2024-03-18T13:48:55+0000 lvl=info msg=\"join connections\" obj=join id=c51ed2116cf7 l=127.0.0.1:8237 r=102.211.61.95:54321\u001b[0m\n",
            "\u001b[1;35mGot token from cookie\u001b[0m\n",
            "\u001b[32mINFO\u001b[0m:     102.211.61.95:0 - \"\u001b[1mGET /api/v1/workspaces/default/stacks?sort_by=desc:created&logical_operator=and&page=1&size=10 HTTP/1.1\u001b[0m\" \u001b[32m200 OK\u001b[0m\n"
          ]
        },
        {
          "name": "stderr",
          "output_type": "stream",
          "text": [
            "INFO:pyngrok.process.ngrok:t=2024-03-18T13:49:01+0000 lvl=info msg=\"join connections\" obj=join id=49b7d30c9dd1 l=127.0.0.1:8237 r=102.211.61.95:54321\n"
          ]
        },
        {
          "name": "stdout",
          "output_type": "stream",
          "text": [
            "\u001b[1;35mt=2024-03-18T13:49:01+0000 lvl=info msg=\"join connections\" obj=join id=49b7d30c9dd1 l=127.0.0.1:8237 r=102.211.61.95:54321\u001b[0m\n",
            "\u001b[1;35mGot token from cookie\u001b[0m\n",
            "\u001b[32mINFO\u001b[0m:     102.211.61.95:0 - \"\u001b[1mGET /api/v1/workspaces/default/stacks?sort_by=desc:created&logical_operator=and&page=1&size=10 HTTP/1.1\u001b[0m\" \u001b[32m200 OK\u001b[0m\n"
          ]
        },
        {
          "name": "stderr",
          "output_type": "stream",
          "text": [
            "INFO:pyngrok.process.ngrok:t=2024-03-18T13:49:07+0000 lvl=info msg=\"join connections\" obj=join id=ab16ed39f902 l=127.0.0.1:8237 r=102.211.61.95:54321\n"
          ]
        },
        {
          "name": "stdout",
          "output_type": "stream",
          "text": [
            "\u001b[1;35mt=2024-03-18T13:49:07+0000 lvl=info msg=\"join connections\" obj=join id=ab16ed39f902 l=127.0.0.1:8237 r=102.211.61.95:54321\u001b[0m\n",
            "\u001b[1;35mGot token from cookie\u001b[0m\n",
            "\u001b[32mINFO\u001b[0m:     102.211.61.95:0 - \"\u001b[1mGET /api/v1/workspaces/default/stacks?sort_by=desc:created&logical_operator=and&page=1&size=10 HTTP/1.1\u001b[0m\" \u001b[32m200 OK\u001b[0m\n"
          ]
        },
        {
          "name": "stderr",
          "output_type": "stream",
          "text": [
            "INFO:pyngrok.process.ngrok:t=2024-03-18T13:49:13+0000 lvl=info msg=\"join connections\" obj=join id=484597b4b502 l=127.0.0.1:8237 r=102.211.61.95:54321\n"
          ]
        },
        {
          "name": "stdout",
          "output_type": "stream",
          "text": [
            "\u001b[1;35mt=2024-03-18T13:49:13+0000 lvl=info msg=\"join connections\" obj=join id=484597b4b502 l=127.0.0.1:8237 r=102.211.61.95:54321\u001b[0m\n",
            "\u001b[1;35mGot token from cookie\u001b[0m\n",
            "\u001b[32mINFO\u001b[0m:     102.211.61.95:0 - \"\u001b[1mGET /api/v1/workspaces/default/stacks?sort_by=desc:created&logical_operator=and&page=1&size=10 HTTP/1.1\u001b[0m\" \u001b[32m200 OK\u001b[0m\n"
          ]
        },
        {
          "name": "stderr",
          "output_type": "stream",
          "text": [
            "INFO:pyngrok.process.ngrok:t=2024-03-18T13:49:20+0000 lvl=info msg=\"join connections\" obj=join id=29790858bbad l=127.0.0.1:8237 r=102.211.61.95:54321\n"
          ]
        },
        {
          "name": "stdout",
          "output_type": "stream",
          "text": [
            "\u001b[1;35mt=2024-03-18T13:49:20+0000 lvl=info msg=\"join connections\" obj=join id=29790858bbad l=127.0.0.1:8237 r=102.211.61.95:54321\u001b[0m\n",
            "\u001b[1;35mGot token from cookie\u001b[0m\n",
            "\u001b[32mINFO\u001b[0m:     102.211.61.95:0 - \"\u001b[1mGET /api/v1/workspaces/default/stacks?sort_by=desc:created&logical_operator=and&page=1&size=10 HTTP/1.1\u001b[0m\" \u001b[32m200 OK\u001b[0m\n"
          ]
        },
        {
          "name": "stderr",
          "output_type": "stream",
          "text": [
            "INFO:pyngrok.process.ngrok:t=2024-03-18T13:49:26+0000 lvl=info msg=\"join connections\" obj=join id=1f94355931bf l=127.0.0.1:8237 r=102.211.61.95:54321\n"
          ]
        },
        {
          "name": "stdout",
          "output_type": "stream",
          "text": [
            "\u001b[1;35mt=2024-03-18T13:49:26+0000 lvl=info msg=\"join connections\" obj=join id=1f94355931bf l=127.0.0.1:8237 r=102.211.61.95:54321\u001b[0m\n",
            "\u001b[1;35mGot token from cookie\u001b[0m\n",
            "\u001b[32mINFO\u001b[0m:     102.211.61.95:0 - \"\u001b[1mGET /api/v1/workspaces/default/stacks?sort_by=desc:created&logical_operator=and&page=1&size=10 HTTP/1.1\u001b[0m\" \u001b[32m200 OK\u001b[0m\n"
          ]
        },
        {
          "name": "stderr",
          "output_type": "stream",
          "text": [
            "INFO:pyngrok.process.ngrok:t=2024-03-18T13:49:32+0000 lvl=info msg=\"join connections\" obj=join id=2aec4280b4cf l=127.0.0.1:8237 r=102.211.61.95:54321\n"
          ]
        },
        {
          "name": "stdout",
          "output_type": "stream",
          "text": [
            "\u001b[1;35mt=2024-03-18T13:49:32+0000 lvl=info msg=\"join connections\" obj=join id=2aec4280b4cf l=127.0.0.1:8237 r=102.211.61.95:54321\u001b[0m\n",
            "\u001b[1;35mGot token from cookie\u001b[0m\n",
            "\u001b[32mINFO\u001b[0m:     102.211.61.95:0 - \"\u001b[1mGET /api/v1/workspaces/default/stacks?sort_by=desc:created&logical_operator=and&page=1&size=10 HTTP/1.1\u001b[0m\" \u001b[32m200 OK\u001b[0m\n"
          ]
        },
        {
          "name": "stderr",
          "output_type": "stream",
          "text": [
            "INFO:pyngrok.process.ngrok:t=2024-03-18T13:49:37+0000 lvl=info msg=\"join connections\" obj=join id=f86354916841 l=127.0.0.1:8237 r=102.211.61.95:54321\n"
          ]
        },
        {
          "name": "stdout",
          "output_type": "stream",
          "text": [
            "\u001b[1;35mt=2024-03-18T13:49:37+0000 lvl=info msg=\"join connections\" obj=join id=f86354916841 l=127.0.0.1:8237 r=102.211.61.95:54321\u001b[0m\n",
            "\u001b[1;35mGot token from cookie\u001b[0m\n",
            "\u001b[32mINFO\u001b[0m:     102.211.61.95:0 - \"\u001b[1mGET /api/v1/workspaces/default/stacks?sort_by=desc:created&logical_operator=and&page=1&size=10 HTTP/1.1\u001b[0m\" \u001b[32m200 OK\u001b[0m\n"
          ]
        },
        {
          "name": "stderr",
          "output_type": "stream",
          "text": [
            "INFO:pyngrok.process.ngrok:t=2024-03-18T13:49:44+0000 lvl=info msg=\"join connections\" obj=join id=0954ee451b98 l=127.0.0.1:8237 r=102.211.61.95:54321\n"
          ]
        },
        {
          "name": "stdout",
          "output_type": "stream",
          "text": [
            "\u001b[1;35mt=2024-03-18T13:49:44+0000 lvl=info msg=\"join connections\" obj=join id=0954ee451b98 l=127.0.0.1:8237 r=102.211.61.95:54321\u001b[0m\n",
            "\u001b[1;35mGot token from cookie\u001b[0m\n",
            "\u001b[32mINFO\u001b[0m:     102.211.61.95:0 - \"\u001b[1mGET /api/v1/workspaces/default/stacks?sort_by=desc:created&logical_operator=and&page=1&size=10 HTTP/1.1\u001b[0m\" \u001b[32m200 OK\u001b[0m\n"
          ]
        },
        {
          "name": "stderr",
          "output_type": "stream",
          "text": [
            "INFO:pyngrok.process.ngrok:t=2024-03-18T13:49:50+0000 lvl=info msg=\"join connections\" obj=join id=38c8ff81c4e4 l=127.0.0.1:8237 r=102.211.61.95:54321\n"
          ]
        },
        {
          "name": "stdout",
          "output_type": "stream",
          "text": [
            "\u001b[1;35mt=2024-03-18T13:49:50+0000 lvl=info msg=\"join connections\" obj=join id=38c8ff81c4e4 l=127.0.0.1:8237 r=102.211.61.95:54321\u001b[0m\n",
            "\u001b[1;35mGot token from cookie\u001b[0m\n",
            "\u001b[32mINFO\u001b[0m:     102.211.61.95:0 - \"\u001b[1mGET /api/v1/workspaces/default/stacks?sort_by=desc:created&logical_operator=and&page=1&size=10 HTTP/1.1\u001b[0m\" \u001b[32m200 OK\u001b[0m\n"
          ]
        },
        {
          "name": "stderr",
          "output_type": "stream",
          "text": [
            "INFO:pyngrok.process.ngrok:t=2024-03-18T13:49:57+0000 lvl=info msg=\"join connections\" obj=join id=92d18b3536ce l=127.0.0.1:8237 r=102.211.61.95:54321\n"
          ]
        },
        {
          "name": "stdout",
          "output_type": "stream",
          "text": [
            "\u001b[1;35mt=2024-03-18T13:49:57+0000 lvl=info msg=\"join connections\" obj=join id=92d18b3536ce l=127.0.0.1:8237 r=102.211.61.95:54321\u001b[0m\n",
            "\u001b[1;35mGot token from cookie\u001b[0m\n",
            "\u001b[32mINFO\u001b[0m:     102.211.61.95:0 - \"\u001b[1mGET /api/v1/workspaces/default/stacks?sort_by=desc:created&logical_operator=and&page=1&size=10 HTTP/1.1\u001b[0m\" \u001b[32m200 OK\u001b[0m\n"
          ]
        },
        {
          "name": "stderr",
          "output_type": "stream",
          "text": [
            "INFO:pyngrok.process.ngrok:t=2024-03-18T13:50:03+0000 lvl=info msg=\"join connections\" obj=join id=1e430f66eb19 l=127.0.0.1:8237 r=102.211.61.95:54321\n"
          ]
        },
        {
          "name": "stdout",
          "output_type": "stream",
          "text": [
            "\u001b[1;35mt=2024-03-18T13:50:03+0000 lvl=info msg=\"join connections\" obj=join id=1e430f66eb19 l=127.0.0.1:8237 r=102.211.61.95:54321\u001b[0m\n",
            "\u001b[1;35mGot token from cookie\u001b[0m\n",
            "\u001b[32mINFO\u001b[0m:     102.211.61.95:0 - \"\u001b[1mGET /api/v1/workspaces/default/stacks?sort_by=desc:created&logical_operator=and&page=1&size=10 HTTP/1.1\u001b[0m\" \u001b[32m200 OK\u001b[0m\n"
          ]
        },
        {
          "name": "stderr",
          "output_type": "stream",
          "text": [
            "INFO:pyngrok.process.ngrok:t=2024-03-18T13:50:09+0000 lvl=info msg=\"join connections\" obj=join id=25df149339b8 l=127.0.0.1:8237 r=102.211.61.95:54321\n"
          ]
        },
        {
          "name": "stdout",
          "output_type": "stream",
          "text": [
            "\u001b[1;35mt=2024-03-18T13:50:09+0000 lvl=info msg=\"join connections\" obj=join id=25df149339b8 l=127.0.0.1:8237 r=102.211.61.95:54321\u001b[0m\n",
            "\u001b[1;35mGot token from cookie\u001b[0m\n",
            "\u001b[32mINFO\u001b[0m:     102.211.61.95:0 - \"\u001b[1mGET /api/v1/workspaces/default/stacks?sort_by=desc:created&logical_operator=and&page=1&size=10 HTTP/1.1\u001b[0m\" \u001b[32m200 OK\u001b[0m\n"
          ]
        },
        {
          "name": "stderr",
          "output_type": "stream",
          "text": [
            "INFO:pyngrok.process.ngrok:t=2024-03-18T13:50:15+0000 lvl=info msg=\"join connections\" obj=join id=0ea68202f404 l=127.0.0.1:8237 r=102.211.61.95:54321\n"
          ]
        },
        {
          "name": "stdout",
          "output_type": "stream",
          "text": [
            "\u001b[1;35mt=2024-03-18T13:50:15+0000 lvl=info msg=\"join connections\" obj=join id=0ea68202f404 l=127.0.0.1:8237 r=102.211.61.95:54321\u001b[0m\n",
            "\u001b[1;35mGot token from cookie\u001b[0m\n",
            "\u001b[32mINFO\u001b[0m:     102.211.61.95:0 - \"\u001b[1mGET /api/v1/workspaces/default/stacks?sort_by=desc:created&logical_operator=and&page=1&size=10 HTTP/1.1\u001b[0m\" \u001b[32m200 OK\u001b[0m\n"
          ]
        },
        {
          "name": "stderr",
          "output_type": "stream",
          "text": [
            "INFO:pyngrok.process.ngrok:t=2024-03-18T13:50:21+0000 lvl=info msg=\"join connections\" obj=join id=6d3e040b4ebb l=127.0.0.1:8237 r=102.211.61.95:54321\n"
          ]
        },
        {
          "name": "stdout",
          "output_type": "stream",
          "text": [
            "\u001b[1;35mt=2024-03-18T13:50:21+0000 lvl=info msg=\"join connections\" obj=join id=6d3e040b4ebb l=127.0.0.1:8237 r=102.211.61.95:54321\u001b[0m\n",
            "\u001b[1;35mGot token from cookie\u001b[0m\n",
            "\u001b[32mINFO\u001b[0m:     102.211.61.95:0 - \"\u001b[1mGET /api/v1/workspaces/default/stacks?sort_by=desc:created&logical_operator=and&page=1&size=10 HTTP/1.1\u001b[0m\" \u001b[32m200 OK\u001b[0m\n"
          ]
        },
        {
          "name": "stderr",
          "output_type": "stream",
          "text": [
            "INFO:pyngrok.process.ngrok:t=2024-03-18T13:50:27+0000 lvl=info msg=\"join connections\" obj=join id=60447fbe85fc l=127.0.0.1:8237 r=102.211.61.95:54321\n"
          ]
        },
        {
          "name": "stdout",
          "output_type": "stream",
          "text": [
            "\u001b[1;35mt=2024-03-18T13:50:27+0000 lvl=info msg=\"join connections\" obj=join id=60447fbe85fc l=127.0.0.1:8237 r=102.211.61.95:54321\u001b[0m\n",
            "\u001b[1;35mGot token from cookie\u001b[0m\n",
            "\u001b[32mINFO\u001b[0m:     102.211.61.95:0 - \"\u001b[1mGET /api/v1/workspaces/default/stacks?sort_by=desc:created&logical_operator=and&page=1&size=10 HTTP/1.1\u001b[0m\" \u001b[32m200 OK\u001b[0m\n"
          ]
        },
        {
          "name": "stderr",
          "output_type": "stream",
          "text": [
            "INFO:pyngrok.process.ngrok:t=2024-03-18T13:50:34+0000 lvl=info msg=\"join connections\" obj=join id=63827f03dc16 l=127.0.0.1:8237 r=102.211.61.95:54321\n"
          ]
        },
        {
          "name": "stdout",
          "output_type": "stream",
          "text": [
            "\u001b[1;35mt=2024-03-18T13:50:34+0000 lvl=info msg=\"join connections\" obj=join id=63827f03dc16 l=127.0.0.1:8237 r=102.211.61.95:54321\u001b[0m\n",
            "\u001b[1;35mGot token from cookie\u001b[0m\n",
            "\u001b[32mINFO\u001b[0m:     102.211.61.95:0 - \"\u001b[1mGET /api/v1/workspaces/default/stacks?sort_by=desc:created&logical_operator=and&page=1&size=10 HTTP/1.1\u001b[0m\" \u001b[32m200 OK\u001b[0m\n"
          ]
        },
        {
          "name": "stderr",
          "output_type": "stream",
          "text": [
            "INFO:pyngrok.process.ngrok:t=2024-03-18T13:50:40+0000 lvl=info msg=\"join connections\" obj=join id=07fc1cb2ab8f l=127.0.0.1:8237 r=102.211.61.95:54321\n"
          ]
        },
        {
          "name": "stdout",
          "output_type": "stream",
          "text": [
            "\u001b[1;35mt=2024-03-18T13:50:40+0000 lvl=info msg=\"join connections\" obj=join id=07fc1cb2ab8f l=127.0.0.1:8237 r=102.211.61.95:54321\u001b[0m\n",
            "\u001b[1;35mGot token from cookie\u001b[0m\n",
            "\u001b[32mINFO\u001b[0m:     102.211.61.95:0 - \"\u001b[1mGET /api/v1/workspaces/default/stacks?sort_by=desc:created&logical_operator=and&page=1&size=10 HTTP/1.1\u001b[0m\" \u001b[32m200 OK\u001b[0m\n"
          ]
        },
        {
          "name": "stderr",
          "output_type": "stream",
          "text": [
            "INFO:pyngrok.process.ngrok:t=2024-03-18T13:50:46+0000 lvl=info msg=\"join connections\" obj=join id=59f88b19a7dd l=127.0.0.1:8237 r=102.211.61.95:54321\n"
          ]
        },
        {
          "name": "stdout",
          "output_type": "stream",
          "text": [
            "\u001b[1;35mt=2024-03-18T13:50:46+0000 lvl=info msg=\"join connections\" obj=join id=59f88b19a7dd l=127.0.0.1:8237 r=102.211.61.95:54321\u001b[0m\n",
            "\u001b[1;35mGot token from cookie\u001b[0m\n",
            "\u001b[32mINFO\u001b[0m:     102.211.61.95:0 - \"\u001b[1mGET /api/v1/workspaces/default/stacks?sort_by=desc:created&logical_operator=and&page=1&size=10 HTTP/1.1\u001b[0m\" \u001b[32m200 OK\u001b[0m\n"
          ]
        },
        {
          "name": "stderr",
          "output_type": "stream",
          "text": [
            "INFO:pyngrok.process.ngrok:t=2024-03-18T13:50:52+0000 lvl=info msg=\"join connections\" obj=join id=69df1c0134e6 l=127.0.0.1:8237 r=102.219.103.197:54654\n"
          ]
        },
        {
          "name": "stdout",
          "output_type": "stream",
          "text": [
            "\u001b[1;35mt=2024-03-18T13:50:52+0000 lvl=info msg=\"join connections\" obj=join id=69df1c0134e6 l=127.0.0.1:8237 r=102.219.103.197:54654\u001b[0m\n",
            "\u001b[1;35mGot token from cookie\u001b[0m\n",
            "\u001b[32mINFO\u001b[0m:     102.219.103.197:0 - \"\u001b[1mGET /api/v1/workspaces/default/stacks?sort_by=desc:created&logical_operator=and&page=1&size=10 HTTP/1.1\u001b[0m\" \u001b[32m200 OK\u001b[0m\n"
          ]
        },
        {
          "name": "stderr",
          "output_type": "stream",
          "text": [
            "INFO:pyngrok.process.ngrok:t=2024-03-18T13:50:59+0000 lvl=info msg=\"join connections\" obj=join id=4f12c91aebcd l=127.0.0.1:8237 r=102.219.103.197:54654\n"
          ]
        },
        {
          "name": "stdout",
          "output_type": "stream",
          "text": [
            "\u001b[1;35mt=2024-03-18T13:50:59+0000 lvl=info msg=\"join connections\" obj=join id=4f12c91aebcd l=127.0.0.1:8237 r=102.219.103.197:54654\u001b[0m\n",
            "\u001b[1;35mGot token from cookie\u001b[0m\n",
            "\u001b[32mINFO\u001b[0m:     102.219.103.197:0 - \"\u001b[1mGET /api/v1/workspaces/default/stacks?sort_by=desc:created&logical_operator=and&page=1&size=10 HTTP/1.1\u001b[0m\" \u001b[32m200 OK\u001b[0m\n"
          ]
        },
        {
          "name": "stderr",
          "output_type": "stream",
          "text": [
            "INFO:pyngrok.process.ngrok:t=2024-03-18T13:51:05+0000 lvl=info msg=\"join connections\" obj=join id=3e641b3f355f l=127.0.0.1:8237 r=102.219.103.197:54654\n"
          ]
        },
        {
          "name": "stdout",
          "output_type": "stream",
          "text": [
            "\u001b[1;35mt=2024-03-18T13:51:05+0000 lvl=info msg=\"join connections\" obj=join id=3e641b3f355f l=127.0.0.1:8237 r=102.219.103.197:54654\u001b[0m\n",
            "\u001b[1;35mGot token from cookie\u001b[0m\n",
            "\u001b[32mINFO\u001b[0m:     102.219.103.197:0 - \"\u001b[1mGET /api/v1/workspaces/default/stacks?sort_by=desc:created&logical_operator=and&page=1&size=10 HTTP/1.1\u001b[0m\" \u001b[32m200 OK\u001b[0m\n"
          ]
        },
        {
          "name": "stderr",
          "output_type": "stream",
          "text": [
            "INFO:pyngrok.process.ngrok:t=2024-03-18T13:51:12+0000 lvl=info msg=\"join connections\" obj=join id=12ce65e43d78 l=127.0.0.1:8237 r=102.219.103.197:54654\n"
          ]
        },
        {
          "name": "stdout",
          "output_type": "stream",
          "text": [
            "\u001b[1;35mt=2024-03-18T13:51:12+0000 lvl=info msg=\"join connections\" obj=join id=12ce65e43d78 l=127.0.0.1:8237 r=102.219.103.197:54654\u001b[0m\n",
            "\u001b[1;35mGot token from cookie\u001b[0m\n",
            "\u001b[32mINFO\u001b[0m:     102.219.103.197:0 - \"\u001b[1mGET /api/v1/workspaces/default/stacks?sort_by=desc:created&logical_operator=and&page=1&size=10 HTTP/1.1\u001b[0m\" \u001b[32m200 OK\u001b[0m\n"
          ]
        },
        {
          "name": "stderr",
          "output_type": "stream",
          "text": [
            "INFO:pyngrok.process.ngrok:t=2024-03-18T13:51:17+0000 lvl=info msg=\"join connections\" obj=join id=acd3d4ff2e07 l=127.0.0.1:8237 r=102.219.103.197:54654\n"
          ]
        },
        {
          "name": "stdout",
          "output_type": "stream",
          "text": [
            "\u001b[1;35mt=2024-03-18T13:51:17+0000 lvl=info msg=\"join connections\" obj=join id=acd3d4ff2e07 l=127.0.0.1:8237 r=102.219.103.197:54654\u001b[0m\n",
            "\u001b[1;35mGot token from cookie\u001b[0m\n",
            "\u001b[32mINFO\u001b[0m:     102.219.103.197:0 - \"\u001b[1mGET /api/v1/workspaces/default/stacks?sort_by=desc:created&logical_operator=and&page=1&size=10 HTTP/1.1\u001b[0m\" \u001b[32m200 OK\u001b[0m\n"
          ]
        },
        {
          "name": "stderr",
          "output_type": "stream",
          "text": [
            "INFO:pyngrok.process.ngrok:t=2024-03-18T13:51:24+0000 lvl=info msg=\"join connections\" obj=join id=1da6f1fdc223 l=127.0.0.1:8237 r=102.219.103.197:54654\n"
          ]
        },
        {
          "name": "stdout",
          "output_type": "stream",
          "text": [
            "\u001b[1;35mt=2024-03-18T13:51:24+0000 lvl=info msg=\"join connections\" obj=join id=1da6f1fdc223 l=127.0.0.1:8237 r=102.219.103.197:54654\u001b[0m\n",
            "\u001b[1;35mGot token from cookie\u001b[0m\n",
            "\u001b[32mINFO\u001b[0m:     102.219.103.197:0 - \"\u001b[1mGET /api/v1/workspaces/default/stacks?sort_by=desc:created&logical_operator=and&page=1&size=10 HTTP/1.1\u001b[0m\" \u001b[32m200 OK\u001b[0m\n"
          ]
        },
        {
          "name": "stderr",
          "output_type": "stream",
          "text": [
            "INFO:pyngrok.process.ngrok:t=2024-03-18T13:51:29+0000 lvl=info msg=\"join connections\" obj=join id=91fcdccac7ef l=127.0.0.1:8237 r=102.219.103.197:54654\n"
          ]
        },
        {
          "name": "stdout",
          "output_type": "stream",
          "text": [
            "\u001b[1;35mt=2024-03-18T13:51:29+0000 lvl=info msg=\"join connections\" obj=join id=91fcdccac7ef l=127.0.0.1:8237 r=102.219.103.197:54654\u001b[0m\n",
            "\u001b[1;35mGot token from cookie\u001b[0m\n",
            "\u001b[32mINFO\u001b[0m:     102.219.103.197:0 - \"\u001b[1mGET /api/v1/workspaces/default/stacks?sort_by=desc:created&logical_operator=and&page=1&size=10 HTTP/1.1\u001b[0m\" \u001b[32m200 OK\u001b[0m\n"
          ]
        },
        {
          "name": "stderr",
          "output_type": "stream",
          "text": [
            "INFO:pyngrok.process.ngrok:t=2024-03-18T13:51:35+0000 lvl=info msg=\"join connections\" obj=join id=f21b34ad6e41 l=127.0.0.1:8237 r=102.219.103.197:54654\n"
          ]
        },
        {
          "name": "stdout",
          "output_type": "stream",
          "text": [
            "\u001b[1;35mt=2024-03-18T13:51:35+0000 lvl=info msg=\"join connections\" obj=join id=f21b34ad6e41 l=127.0.0.1:8237 r=102.219.103.197:54654\u001b[0m\n",
            "\u001b[1;35mGot token from cookie\u001b[0m\n",
            "\u001b[32mINFO\u001b[0m:     102.219.103.197:0 - \"\u001b[1mGET /api/v1/workspaces/default/stacks?sort_by=desc:created&logical_operator=and&page=1&size=10 HTTP/1.1\u001b[0m\" \u001b[32m200 OK\u001b[0m\n"
          ]
        },
        {
          "name": "stderr",
          "output_type": "stream",
          "text": [
            "INFO:pyngrok.process.ngrok:t=2024-03-18T13:51:42+0000 lvl=info msg=\"join connections\" obj=join id=d5afa5bac98c l=127.0.0.1:8237 r=102.219.103.197:54654\n"
          ]
        },
        {
          "name": "stdout",
          "output_type": "stream",
          "text": [
            "\u001b[1;35mt=2024-03-18T13:51:42+0000 lvl=info msg=\"join connections\" obj=join id=d5afa5bac98c l=127.0.0.1:8237 r=102.219.103.197:54654\u001b[0m\n",
            "\u001b[1;35mGot token from cookie\u001b[0m\n",
            "\u001b[32mINFO\u001b[0m:     102.219.103.197:0 - \"\u001b[1mGET /api/v1/workspaces/default/stacks?sort_by=desc:created&logical_operator=and&page=1&size=10 HTTP/1.1\u001b[0m\" \u001b[32m200 OK\u001b[0m\n"
          ]
        },
        {
          "name": "stderr",
          "output_type": "stream",
          "text": [
            "INFO:pyngrok.process.ngrok:t=2024-03-18T13:51:48+0000 lvl=info msg=\"join connections\" obj=join id=4d9dc6dd2e63 l=127.0.0.1:8237 r=102.219.103.197:54689\n"
          ]
        },
        {
          "name": "stdout",
          "output_type": "stream",
          "text": [
            "\u001b[1;35mt=2024-03-18T13:51:48+0000 lvl=info msg=\"join connections\" obj=join id=4d9dc6dd2e63 l=127.0.0.1:8237 r=102.219.103.197:54689\u001b[0m\n",
            "\u001b[1;35mGot token from cookie\u001b[0m\n",
            "\u001b[32mINFO\u001b[0m:     102.219.103.197:0 - \"\u001b[1mGET /api/v1/workspaces/default/stacks?sort_by=desc:created&logical_operator=and&page=1&size=10 HTTP/1.1\u001b[0m\" \u001b[32m200 OK\u001b[0m\n"
          ]
        },
        {
          "name": "stderr",
          "output_type": "stream",
          "text": [
            "INFO:pyngrok.process.ngrok:t=2024-03-18T13:51:56+0000 lvl=info msg=\"join connections\" obj=join id=86df8d233d11 l=127.0.0.1:8237 r=102.222.70.103:54696\n"
          ]
        },
        {
          "name": "stdout",
          "output_type": "stream",
          "text": [
            "\u001b[1;35mt=2024-03-18T13:51:56+0000 lvl=info msg=\"join connections\" obj=join id=86df8d233d11 l=127.0.0.1:8237 r=102.222.70.103:54696\u001b[0m\n",
            "\u001b[1;35mGot token from cookie\u001b[0m\n",
            "\u001b[32mINFO\u001b[0m:     102.222.70.103:0 - \"\u001b[1mGET /api/v1/workspaces/default/stacks?sort_by=desc:created&logical_operator=and&page=1&size=10 HTTP/1.1\u001b[0m\" \u001b[32m200 OK\u001b[0m\n"
          ]
        },
        {
          "name": "stderr",
          "output_type": "stream",
          "text": [
            "INFO:pyngrok.process.ngrok:t=2024-03-18T13:52:02+0000 lvl=info msg=\"join connections\" obj=join id=3b0eadc397e6 l=127.0.0.1:8237 r=102.222.70.103:54696\n"
          ]
        },
        {
          "name": "stdout",
          "output_type": "stream",
          "text": [
            "\u001b[1;35mt=2024-03-18T13:52:02+0000 lvl=info msg=\"join connections\" obj=join id=3b0eadc397e6 l=127.0.0.1:8237 r=102.222.70.103:54696\u001b[0m\n",
            "\u001b[1;35mGot token from cookie\u001b[0m\n",
            "\u001b[32mINFO\u001b[0m:     102.222.70.103:0 - \"\u001b[1mGET /api/v1/workspaces/default/stacks?sort_by=desc:created&logical_operator=and&page=1&size=10 HTTP/1.1\u001b[0m\" \u001b[32m200 OK\u001b[0m\n"
          ]
        },
        {
          "name": "stderr",
          "output_type": "stream",
          "text": [
            "INFO:pyngrok.process.ngrok:t=2024-03-18T13:52:08+0000 lvl=info msg=\"join connections\" obj=join id=cbe37aaea8b3 l=127.0.0.1:8237 r=102.222.70.103:54696\n"
          ]
        },
        {
          "name": "stdout",
          "output_type": "stream",
          "text": [
            "\u001b[1;35mt=2024-03-18T13:52:08+0000 lvl=info msg=\"join connections\" obj=join id=cbe37aaea8b3 l=127.0.0.1:8237 r=102.222.70.103:54696\u001b[0m\n",
            "\u001b[1;35mGot token from cookie\u001b[0m\n",
            "\u001b[32mINFO\u001b[0m:     102.222.70.103:0 - \"\u001b[1mGET /api/v1/workspaces/default/stacks?sort_by=desc:created&logical_operator=and&page=1&size=10 HTTP/1.1\u001b[0m\" \u001b[32m200 OK\u001b[0m\n"
          ]
        },
        {
          "name": "stderr",
          "output_type": "stream",
          "text": [
            "INFO:pyngrok.process.ngrok:t=2024-03-18T13:52:14+0000 lvl=info msg=\"join connections\" obj=join id=25890ddb877a l=127.0.0.1:8237 r=102.222.70.103:54696\n"
          ]
        },
        {
          "name": "stdout",
          "output_type": "stream",
          "text": [
            "\u001b[1;35mt=2024-03-18T13:52:14+0000 lvl=info msg=\"join connections\" obj=join id=25890ddb877a l=127.0.0.1:8237 r=102.222.70.103:54696\u001b[0m\n",
            "\u001b[1;35mGot token from cookie\u001b[0m\n",
            "\u001b[32mINFO\u001b[0m:     102.222.70.103:0 - \"\u001b[1mGET /api/v1/workspaces/default/stacks?sort_by=desc:created&logical_operator=and&page=1&size=10 HTTP/1.1\u001b[0m\" \u001b[32m200 OK\u001b[0m\n"
          ]
        },
        {
          "name": "stderr",
          "output_type": "stream",
          "text": [
            "INFO:pyngrok.process.ngrok:t=2024-03-18T13:52:20+0000 lvl=info msg=\"join connections\" obj=join id=86cc6455ca2e l=127.0.0.1:8237 r=102.222.70.103:54696\n"
          ]
        },
        {
          "name": "stdout",
          "output_type": "stream",
          "text": [
            "\u001b[1;35mt=2024-03-18T13:52:20+0000 lvl=info msg=\"join connections\" obj=join id=86cc6455ca2e l=127.0.0.1:8237 r=102.222.70.103:54696\u001b[0m\n",
            "\u001b[1;35mGot token from cookie\u001b[0m\n",
            "\u001b[32mINFO\u001b[0m:     102.222.70.103:0 - \"\u001b[1mGET /api/v1/workspaces/default/stacks?sort_by=desc:created&logical_operator=and&page=1&size=10 HTTP/1.1\u001b[0m\" \u001b[32m200 OK\u001b[0m\n"
          ]
        },
        {
          "name": "stderr",
          "output_type": "stream",
          "text": [
            "INFO:pyngrok.process.ngrok:t=2024-03-18T13:52:26+0000 lvl=info msg=\"join connections\" obj=join id=251fda5988ba l=127.0.0.1:8237 r=102.222.70.103:54696\n"
          ]
        },
        {
          "name": "stdout",
          "output_type": "stream",
          "text": [
            "\u001b[1;35mt=2024-03-18T13:52:26+0000 lvl=info msg=\"join connections\" obj=join id=251fda5988ba l=127.0.0.1:8237 r=102.222.70.103:54696\u001b[0m\n",
            "\u001b[1;35mGot token from cookie\u001b[0m\n",
            "\u001b[32mINFO\u001b[0m:     102.222.70.103:0 - \"\u001b[1mGET /api/v1/workspaces/default/stacks?sort_by=desc:created&logical_operator=and&page=1&size=10 HTTP/1.1\u001b[0m\" \u001b[32m200 OK\u001b[0m\n"
          ]
        },
        {
          "name": "stderr",
          "output_type": "stream",
          "text": [
            "INFO:pyngrok.process.ngrok:t=2024-03-18T13:52:32+0000 lvl=info msg=\"join connections\" obj=join id=01eccaac685f l=127.0.0.1:8237 r=102.222.70.103:54696\n"
          ]
        },
        {
          "name": "stdout",
          "output_type": "stream",
          "text": [
            "\u001b[1;35mt=2024-03-18T13:52:32+0000 lvl=info msg=\"join connections\" obj=join id=01eccaac685f l=127.0.0.1:8237 r=102.222.70.103:54696\u001b[0m\n",
            "\u001b[1;35mGot token from cookie\u001b[0m\n",
            "\u001b[32mINFO\u001b[0m:     102.222.70.103:0 - \"\u001b[1mGET /api/v1/workspaces/default/stacks?sort_by=desc:created&logical_operator=and&page=1&size=10 HTTP/1.1\u001b[0m\" \u001b[32m200 OK\u001b[0m\n"
          ]
        },
        {
          "name": "stderr",
          "output_type": "stream",
          "text": [
            "INFO:pyngrok.process.ngrok:t=2024-03-18T13:52:38+0000 lvl=info msg=\"join connections\" obj=join id=ba3cb7c00d89 l=127.0.0.1:8237 r=102.222.70.103:54696\n"
          ]
        },
        {
          "name": "stdout",
          "output_type": "stream",
          "text": [
            "\u001b[1;35mt=2024-03-18T13:52:38+0000 lvl=info msg=\"join connections\" obj=join id=ba3cb7c00d89 l=127.0.0.1:8237 r=102.222.70.103:54696\u001b[0m\n",
            "\u001b[1;35mGot token from cookie\u001b[0m\n",
            "\u001b[32mINFO\u001b[0m:     102.222.70.103:0 - \"\u001b[1mGET /api/v1/workspaces/default/stacks?sort_by=desc:created&logical_operator=and&page=1&size=10 HTTP/1.1\u001b[0m\" \u001b[32m200 OK\u001b[0m\n"
          ]
        },
        {
          "name": "stderr",
          "output_type": "stream",
          "text": [
            "INFO:pyngrok.process.ngrok:t=2024-03-18T13:52:44+0000 lvl=info msg=\"join connections\" obj=join id=b6e5d8579ead l=127.0.0.1:8237 r=102.222.70.103:54696\n"
          ]
        },
        {
          "name": "stdout",
          "output_type": "stream",
          "text": [
            "\u001b[1;35mt=2024-03-18T13:52:44+0000 lvl=info msg=\"join connections\" obj=join id=b6e5d8579ead l=127.0.0.1:8237 r=102.222.70.103:54696\u001b[0m\n",
            "\u001b[1;35mGot token from cookie\u001b[0m\n",
            "\u001b[32mINFO\u001b[0m:     102.222.70.103:0 - \"\u001b[1mGET /api/v1/workspaces/default/stacks?sort_by=desc:created&logical_operator=and&page=1&size=10 HTTP/1.1\u001b[0m\" \u001b[32m200 OK\u001b[0m\n"
          ]
        },
        {
          "name": "stderr",
          "output_type": "stream",
          "text": [
            "INFO:pyngrok.process.ngrok:t=2024-03-18T13:52:50+0000 lvl=info msg=\"join connections\" obj=join id=06e913de0b5a l=127.0.0.1:8237 r=102.222.70.103:54696\n"
          ]
        },
        {
          "name": "stdout",
          "output_type": "stream",
          "text": [
            "\u001b[1;35mt=2024-03-18T13:52:50+0000 lvl=info msg=\"join connections\" obj=join id=06e913de0b5a l=127.0.0.1:8237 r=102.222.70.103:54696\u001b[0m\n",
            "\u001b[1;35mGot token from cookie\u001b[0m\n",
            "\u001b[32mINFO\u001b[0m:     102.222.70.103:0 - \"\u001b[1mGET /api/v1/workspaces/default/stacks?sort_by=desc:created&logical_operator=and&page=1&size=10 HTTP/1.1\u001b[0m\" \u001b[32m200 OK\u001b[0m\n"
          ]
        },
        {
          "name": "stderr",
          "output_type": "stream",
          "text": [
            "INFO:pyngrok.process.ngrok:t=2024-03-18T13:52:55+0000 lvl=info msg=\"join connections\" obj=join id=3636f9bc6c1e l=127.0.0.1:8237 r=102.222.70.103:54696\n"
          ]
        },
        {
          "name": "stdout",
          "output_type": "stream",
          "text": [
            "\u001b[1;35mt=2024-03-18T13:52:55+0000 lvl=info msg=\"join connections\" obj=join id=3636f9bc6c1e l=127.0.0.1:8237 r=102.222.70.103:54696\u001b[0m\n",
            "\u001b[1;35mGot token from cookie\u001b[0m\n",
            "\u001b[32mINFO\u001b[0m:     102.222.70.103:0 - \"\u001b[1mGET /api/v1/workspaces/default/stacks?sort_by=desc:created&logical_operator=and&page=1&size=10 HTTP/1.1\u001b[0m\" \u001b[32m200 OK\u001b[0m\n"
          ]
        },
        {
          "name": "stderr",
          "output_type": "stream",
          "text": [
            "INFO:pyngrok.process.ngrok:t=2024-03-18T13:53:02+0000 lvl=info msg=\"join connections\" obj=join id=8a7d57167348 l=127.0.0.1:8237 r=102.222.70.103:54696\n"
          ]
        },
        {
          "name": "stdout",
          "output_type": "stream",
          "text": [
            "\u001b[1;35mt=2024-03-18T13:53:02+0000 lvl=info msg=\"join connections\" obj=join id=8a7d57167348 l=127.0.0.1:8237 r=102.222.70.103:54696\u001b[0m\n",
            "\u001b[1;35mGot token from cookie\u001b[0m\n",
            "\u001b[32mINFO\u001b[0m:     102.222.70.103:0 - \"\u001b[1mGET /api/v1/workspaces/default/stacks?sort_by=desc:created&logical_operator=and&page=1&size=10 HTTP/1.1\u001b[0m\" \u001b[32m200 OK\u001b[0m\n"
          ]
        },
        {
          "name": "stderr",
          "output_type": "stream",
          "text": [
            "INFO:pyngrok.process.ngrok:t=2024-03-18T13:53:08+0000 lvl=info msg=\"join connections\" obj=join id=29b06db3654e l=127.0.0.1:8237 r=102.222.70.103:54696\n"
          ]
        },
        {
          "name": "stdout",
          "output_type": "stream",
          "text": [
            "\u001b[1;35mt=2024-03-18T13:53:08+0000 lvl=info msg=\"join connections\" obj=join id=29b06db3654e l=127.0.0.1:8237 r=102.222.70.103:54696\u001b[0m\n",
            "\u001b[1;35mGot token from cookie\u001b[0m\n",
            "\u001b[32mINFO\u001b[0m:     102.222.70.103:0 - \"\u001b[1mGET /api/v1/workspaces/default/stacks?sort_by=desc:created&logical_operator=and&page=1&size=10 HTTP/1.1\u001b[0m\" \u001b[32m200 OK\u001b[0m\n"
          ]
        },
        {
          "name": "stderr",
          "output_type": "stream",
          "text": [
            "INFO:pyngrok.process.ngrok:t=2024-03-18T13:53:16+0000 lvl=info msg=\"join connections\" obj=join id=d61d36086c9e l=127.0.0.1:8237 r=102.222.70.103:54730\n"
          ]
        },
        {
          "name": "stdout",
          "output_type": "stream",
          "text": [
            "\u001b[1;35mt=2024-03-18T13:53:16+0000 lvl=info msg=\"join connections\" obj=join id=d61d36086c9e l=127.0.0.1:8237 r=102.222.70.103:54730\u001b[0m\n",
            "\u001b[1;35mGot token from cookie\u001b[0m\n",
            "\u001b[32mINFO\u001b[0m:     102.222.70.103:0 - \"\u001b[1mGET /api/v1/workspaces/default/stacks?sort_by=desc:created&logical_operator=and&page=1&size=10 HTTP/1.1\u001b[0m\" \u001b[32m200 OK\u001b[0m\n"
          ]
        },
        {
          "name": "stderr",
          "output_type": "stream",
          "text": [
            "INFO:pyngrok.process.ngrok:t=2024-03-18T13:53:23+0000 lvl=info msg=\"join connections\" obj=join id=46c303152ad3 l=127.0.0.1:8237 r=102.222.234.175:18640\n"
          ]
        },
        {
          "name": "stdout",
          "output_type": "stream",
          "text": [
            "\u001b[1;35mt=2024-03-18T13:53:23+0000 lvl=info msg=\"join connections\" obj=join id=46c303152ad3 l=127.0.0.1:8237 r=102.222.234.175:18640\u001b[0m\n",
            "\u001b[1;35mGot token from cookie\u001b[0m\n",
            "\u001b[32mINFO\u001b[0m:     102.222.234.175:0 - \"\u001b[1mGET /api/v1/workspaces/default/stacks?sort_by=desc:created&logical_operator=and&page=1&size=10 HTTP/1.1\u001b[0m\" \u001b[32m200 OK\u001b[0m\n"
          ]
        },
        {
          "name": "stderr",
          "output_type": "stream",
          "text": [
            "INFO:pyngrok.process.ngrok:t=2024-03-18T13:53:29+0000 lvl=info msg=\"join connections\" obj=join id=afa394222ca2 l=127.0.0.1:8237 r=102.222.234.175:18640\n"
          ]
        },
        {
          "name": "stdout",
          "output_type": "stream",
          "text": [
            "\u001b[1;35mt=2024-03-18T13:53:29+0000 lvl=info msg=\"join connections\" obj=join id=afa394222ca2 l=127.0.0.1:8237 r=102.222.234.175:18640\u001b[0m\n",
            "\u001b[1;35mGot token from cookie\u001b[0m\n",
            "\u001b[32mINFO\u001b[0m:     102.222.234.175:0 - \"\u001b[1mGET /api/v1/workspaces/default/stacks?sort_by=desc:created&logical_operator=and&page=1&size=10 HTTP/1.1\u001b[0m\" \u001b[32m200 OK\u001b[0m\n"
          ]
        },
        {
          "name": "stderr",
          "output_type": "stream",
          "text": [
            "INFO:pyngrok.process.ngrok:t=2024-03-18T13:53:36+0000 lvl=info msg=\"join connections\" obj=join id=b259f45c0d1e l=127.0.0.1:8237 r=102.222.234.175:18640\n"
          ]
        },
        {
          "name": "stdout",
          "output_type": "stream",
          "text": [
            "\u001b[1;35mt=2024-03-18T13:53:36+0000 lvl=info msg=\"join connections\" obj=join id=b259f45c0d1e l=127.0.0.1:8237 r=102.222.234.175:18640\u001b[0m\n",
            "\u001b[1;35mGot token from cookie\u001b[0m\n",
            "\u001b[32mINFO\u001b[0m:     102.222.234.175:0 - \"\u001b[1mGET /api/v1/workspaces/default/stacks?sort_by=desc:created&logical_operator=and&page=1&size=10 HTTP/1.1\u001b[0m\" \u001b[32m200 OK\u001b[0m\n"
          ]
        },
        {
          "name": "stderr",
          "output_type": "stream",
          "text": [
            "INFO:pyngrok.process.ngrok:t=2024-03-18T13:53:42+0000 lvl=info msg=\"join connections\" obj=join id=422f276c0cb1 l=127.0.0.1:8237 r=102.222.234.175:18640\n"
          ]
        },
        {
          "name": "stdout",
          "output_type": "stream",
          "text": [
            "\u001b[1;35mt=2024-03-18T13:53:42+0000 lvl=info msg=\"join connections\" obj=join id=422f276c0cb1 l=127.0.0.1:8237 r=102.222.234.175:18640\u001b[0m\n",
            "\u001b[1;35mGot token from cookie\u001b[0m\n",
            "\u001b[32mINFO\u001b[0m:     102.222.234.175:0 - \"\u001b[1mGET /api/v1/workspaces/default/stacks?sort_by=desc:created&logical_operator=and&page=1&size=10 HTTP/1.1\u001b[0m\" \u001b[32m200 OK\u001b[0m\n"
          ]
        },
        {
          "name": "stderr",
          "output_type": "stream",
          "text": [
            "INFO:pyngrok.process.ngrok:t=2024-03-18T13:53:48+0000 lvl=info msg=\"join connections\" obj=join id=ec4fdcef7235 l=127.0.0.1:8237 r=102.222.234.175:18640\n"
          ]
        },
        {
          "name": "stdout",
          "output_type": "stream",
          "text": [
            "\u001b[1;35mt=2024-03-18T13:53:48+0000 lvl=info msg=\"join connections\" obj=join id=ec4fdcef7235 l=127.0.0.1:8237 r=102.222.234.175:18640\u001b[0m\n",
            "\u001b[1;35mGot token from cookie\u001b[0m\n",
            "\u001b[32mINFO\u001b[0m:     102.222.234.175:0 - \"\u001b[1mGET /api/v1/workspaces/default/stacks?sort_by=desc:created&logical_operator=and&page=1&size=10 HTTP/1.1\u001b[0m\" \u001b[32m200 OK\u001b[0m\n"
          ]
        },
        {
          "name": "stderr",
          "output_type": "stream",
          "text": [
            "INFO:pyngrok.process.ngrok:t=2024-03-18T13:53:54+0000 lvl=info msg=\"join connections\" obj=join id=c2a215752025 l=127.0.0.1:8237 r=102.222.234.175:18640\n"
          ]
        },
        {
          "name": "stdout",
          "output_type": "stream",
          "text": [
            "\u001b[1;35mt=2024-03-18T13:53:54+0000 lvl=info msg=\"join connections\" obj=join id=c2a215752025 l=127.0.0.1:8237 r=102.222.234.175:18640\u001b[0m\n",
            "\u001b[1;35mGot token from cookie\u001b[0m\n",
            "\u001b[32mINFO\u001b[0m:     102.222.234.175:0 - \"\u001b[1mGET /api/v1/workspaces/default/stacks?sort_by=desc:created&logical_operator=and&page=1&size=10 HTTP/1.1\u001b[0m\" \u001b[32m200 OK\u001b[0m\n"
          ]
        },
        {
          "name": "stderr",
          "output_type": "stream",
          "text": [
            "INFO:pyngrok.process.ngrok:t=2024-03-18T13:54:01+0000 lvl=info msg=\"join connections\" obj=join id=09ac1d622d36 l=127.0.0.1:8237 r=102.222.234.175:18640\n"
          ]
        },
        {
          "name": "stdout",
          "output_type": "stream",
          "text": [
            "\u001b[1;35mt=2024-03-18T13:54:01+0000 lvl=info msg=\"join connections\" obj=join id=09ac1d622d36 l=127.0.0.1:8237 r=102.222.234.175:18640\u001b[0m\n",
            "\u001b[1;35mGot token from cookie\u001b[0m\n",
            "\u001b[32mINFO\u001b[0m:     102.222.234.175:0 - \"\u001b[1mGET /api/v1/workspaces/default/stacks?sort_by=desc:created&logical_operator=and&page=1&size=10 HTTP/1.1\u001b[0m\" \u001b[32m200 OK\u001b[0m\n"
          ]
        },
        {
          "name": "stderr",
          "output_type": "stream",
          "text": [
            "INFO:pyngrok.process.ngrok:t=2024-03-18T13:54:07+0000 lvl=info msg=\"join connections\" obj=join id=4e8e8affbeda l=127.0.0.1:8237 r=102.222.234.175:18640\n"
          ]
        },
        {
          "name": "stdout",
          "output_type": "stream",
          "text": [
            "\u001b[1;35mt=2024-03-18T13:54:07+0000 lvl=info msg=\"join connections\" obj=join id=4e8e8affbeda l=127.0.0.1:8237 r=102.222.234.175:18640\u001b[0m\n",
            "\u001b[1;35mGot token from cookie\u001b[0m\n",
            "\u001b[32mINFO\u001b[0m:     102.222.234.175:0 - \"\u001b[1mGET /api/v1/workspaces/default/stacks?sort_by=desc:created&logical_operator=and&page=1&size=10 HTTP/1.1\u001b[0m\" \u001b[32m200 OK\u001b[0m\n"
          ]
        },
        {
          "name": "stderr",
          "output_type": "stream",
          "text": [
            "INFO:pyngrok.process.ngrok:t=2024-03-18T13:54:12+0000 lvl=info msg=\"join connections\" obj=join id=00d45a151b0c l=127.0.0.1:8237 r=102.222.234.175:18640\n"
          ]
        },
        {
          "name": "stdout",
          "output_type": "stream",
          "text": [
            "\u001b[1;35mt=2024-03-18T13:54:12+0000 lvl=info msg=\"join connections\" obj=join id=00d45a151b0c l=127.0.0.1:8237 r=102.222.234.175:18640\u001b[0m\n",
            "\u001b[1;35mGot token from cookie\u001b[0m\n",
            "\u001b[32mINFO\u001b[0m:     102.222.234.175:0 - \"\u001b[1mGET /api/v1/workspaces/default/stacks?sort_by=desc:created&logical_operator=and&page=1&size=10 HTTP/1.1\u001b[0m\" \u001b[32m200 OK\u001b[0m\n"
          ]
        },
        {
          "name": "stderr",
          "output_type": "stream",
          "text": [
            "INFO:pyngrok.process.ngrok:t=2024-03-18T13:54:19+0000 lvl=info msg=\"join connections\" obj=join id=af9156e7e705 l=127.0.0.1:8237 r=102.222.234.175:18640\n"
          ]
        },
        {
          "name": "stdout",
          "output_type": "stream",
          "text": [
            "\u001b[1;35mt=2024-03-18T13:54:19+0000 lvl=info msg=\"join connections\" obj=join id=af9156e7e705 l=127.0.0.1:8237 r=102.222.234.175:18640\u001b[0m\n",
            "\u001b[1;35mGot token from cookie\u001b[0m\n",
            "\u001b[32mINFO\u001b[0m:     102.222.234.175:0 - \"\u001b[1mGET /api/v1/workspaces/default/stacks?sort_by=desc:created&logical_operator=and&page=1&size=10 HTTP/1.1\u001b[0m\" \u001b[32m200 OK\u001b[0m\n"
          ]
        },
        {
          "name": "stderr",
          "output_type": "stream",
          "text": [
            "INFO:pyngrok.process.ngrok:t=2024-03-18T13:54:25+0000 lvl=info msg=\"join connections\" obj=join id=53ffc27babea l=127.0.0.1:8237 r=102.222.234.175:18601\n"
          ]
        },
        {
          "name": "stdout",
          "output_type": "stream",
          "text": [
            "\u001b[1;35mt=2024-03-18T13:54:25+0000 lvl=info msg=\"join connections\" obj=join id=53ffc27babea l=127.0.0.1:8237 r=102.222.234.175:18601\u001b[0m\n",
            "\u001b[1;35mGot token from cookie\u001b[0m\n",
            "\u001b[32mINFO\u001b[0m:     102.222.234.175:0 - \"\u001b[1mGET /api/v1/workspaces/default/stacks?sort_by=desc:created&logical_operator=and&page=1&size=10 HTTP/1.1\u001b[0m\" \u001b[32m200 OK\u001b[0m\n"
          ]
        },
        {
          "name": "stderr",
          "output_type": "stream",
          "text": [
            "INFO:pyngrok.process.ngrok:t=2024-03-18T13:54:33+0000 lvl=info msg=\"join connections\" obj=join id=dac6644dbbb8 l=127.0.0.1:8237 r=102.222.234.175:18601\n"
          ]
        },
        {
          "name": "stdout",
          "output_type": "stream",
          "text": [
            "\u001b[1;35mt=2024-03-18T13:54:33+0000 lvl=info msg=\"join connections\" obj=join id=dac6644dbbb8 l=127.0.0.1:8237 r=102.222.234.175:18601\u001b[0m\n",
            "\u001b[1;35mGot token from cookie\u001b[0m\n",
            "\u001b[32mINFO\u001b[0m:     102.222.234.175:0 - \"\u001b[1mGET /api/v1/workspaces/default/stacks?sort_by=desc:created&logical_operator=and&page=1&size=10 HTTP/1.1\u001b[0m\" \u001b[32m200 OK\u001b[0m\n"
          ]
        },
        {
          "name": "stderr",
          "output_type": "stream",
          "text": [
            "INFO:pyngrok.process.ngrok:t=2024-03-18T13:54:39+0000 lvl=info msg=\"join connections\" obj=join id=587432ba6650 l=127.0.0.1:8237 r=102.222.234.175:18601\n"
          ]
        },
        {
          "name": "stdout",
          "output_type": "stream",
          "text": [
            "\u001b[1;35mt=2024-03-18T13:54:39+0000 lvl=info msg=\"join connections\" obj=join id=587432ba6650 l=127.0.0.1:8237 r=102.222.234.175:18601\u001b[0m\n",
            "\u001b[1;35mGot token from cookie\u001b[0m\n",
            "\u001b[32mINFO\u001b[0m:     102.222.234.175:0 - \"\u001b[1mGET /api/v1/workspaces/default/stacks?sort_by=desc:created&logical_operator=and&page=1&size=10 HTTP/1.1\u001b[0m\" \u001b[32m200 OK\u001b[0m\n"
          ]
        },
        {
          "name": "stderr",
          "output_type": "stream",
          "text": [
            "INFO:pyngrok.process.ngrok:t=2024-03-18T13:54:45+0000 lvl=info msg=\"join connections\" obj=join id=116b10791903 l=127.0.0.1:8237 r=102.222.234.175:18601\n"
          ]
        },
        {
          "name": "stdout",
          "output_type": "stream",
          "text": [
            "\u001b[1;35mt=2024-03-18T13:54:45+0000 lvl=info msg=\"join connections\" obj=join id=116b10791903 l=127.0.0.1:8237 r=102.222.234.175:18601\u001b[0m\n",
            "\u001b[1;35mGot token from cookie\u001b[0m\n",
            "\u001b[32mINFO\u001b[0m:     102.222.234.175:0 - \"\u001b[1mGET /api/v1/workspaces/default/stacks?sort_by=desc:created&logical_operator=and&page=1&size=10 HTTP/1.1\u001b[0m\" \u001b[32m200 OK\u001b[0m\n"
          ]
        },
        {
          "name": "stderr",
          "output_type": "stream",
          "text": [
            "INFO:pyngrok.process.ngrok:t=2024-03-18T13:54:51+0000 lvl=info msg=\"join connections\" obj=join id=2aaf48e20fb2 l=127.0.0.1:8237 r=102.222.234.175:18601\n"
          ]
        },
        {
          "name": "stdout",
          "output_type": "stream",
          "text": [
            "\u001b[1;35mt=2024-03-18T13:54:51+0000 lvl=info msg=\"join connections\" obj=join id=2aaf48e20fb2 l=127.0.0.1:8237 r=102.222.234.175:18601\u001b[0m\n",
            "\u001b[1;35mGot token from cookie\u001b[0m\n",
            "\u001b[32mINFO\u001b[0m:     102.222.234.175:0 - \"\u001b[1mGET /api/v1/workspaces/default/stacks?sort_by=desc:created&logical_operator=and&page=1&size=10 HTTP/1.1\u001b[0m\" \u001b[32m200 OK\u001b[0m\n"
          ]
        },
        {
          "name": "stderr",
          "output_type": "stream",
          "text": [
            "INFO:pyngrok.process.ngrok:t=2024-03-18T13:54:57+0000 lvl=info msg=\"join connections\" obj=join id=1c69498e19a0 l=127.0.0.1:8237 r=102.222.234.175:18601\n"
          ]
        },
        {
          "name": "stdout",
          "output_type": "stream",
          "text": [
            "\u001b[1;35mt=2024-03-18T13:54:57+0000 lvl=info msg=\"join connections\" obj=join id=1c69498e19a0 l=127.0.0.1:8237 r=102.222.234.175:18601\u001b[0m\n",
            "\u001b[1;35mGot token from cookie\u001b[0m\n",
            "\u001b[32mINFO\u001b[0m:     102.222.234.175:0 - \"\u001b[1mGET /api/v1/workspaces/default/stacks?sort_by=desc:created&logical_operator=and&page=1&size=10 HTTP/1.1\u001b[0m\" \u001b[32m200 OK\u001b[0m\n"
          ]
        },
        {
          "name": "stderr",
          "output_type": "stream",
          "text": [
            "INFO:pyngrok.process.ngrok:t=2024-03-18T13:55:02+0000 lvl=info msg=\"join connections\" obj=join id=877d872e5a7c l=127.0.0.1:8237 r=102.222.234.175:18601\n"
          ]
        },
        {
          "name": "stdout",
          "output_type": "stream",
          "text": [
            "\u001b[1;35mt=2024-03-18T13:55:02+0000 lvl=info msg=\"join connections\" obj=join id=877d872e5a7c l=127.0.0.1:8237 r=102.222.234.175:18601\u001b[0m\n",
            "\u001b[1;35mGot token from cookie\u001b[0m\n",
            "\u001b[32mINFO\u001b[0m:     102.222.234.175:0 - \"\u001b[1mGET /api/v1/workspaces/default/stacks?sort_by=desc:created&logical_operator=and&page=1&size=10 HTTP/1.1\u001b[0m\" \u001b[32m200 OK\u001b[0m\n"
          ]
        },
        {
          "name": "stderr",
          "output_type": "stream",
          "text": [
            "INFO:pyngrok.process.ngrok:t=2024-03-18T13:55:09+0000 lvl=info msg=\"join connections\" obj=join id=7c99c533c326 l=127.0.0.1:8237 r=102.222.234.175:18530\n"
          ]
        },
        {
          "name": "stdout",
          "output_type": "stream",
          "text": [
            "\u001b[1;35mt=2024-03-18T13:55:09+0000 lvl=info msg=\"join connections\" obj=join id=7c99c533c326 l=127.0.0.1:8237 r=102.222.234.175:18530\u001b[0m\n",
            "\u001b[1;35mGot token from cookie\u001b[0m\n",
            "\u001b[32mINFO\u001b[0m:     102.222.234.175:0 - \"\u001b[1mGET /api/v1/workspaces/default/stacks?sort_by=desc:created&logical_operator=and&page=1&size=10 HTTP/1.1\u001b[0m\" \u001b[32m200 OK\u001b[0m\n"
          ]
        },
        {
          "name": "stderr",
          "output_type": "stream",
          "text": [
            "INFO:pyngrok.process.ngrok:t=2024-03-18T13:55:16+0000 lvl=info msg=\"join connections\" obj=join id=6107bafd9fc2 l=127.0.0.1:8237 r=102.222.234.175:18530\n"
          ]
        },
        {
          "name": "stdout",
          "output_type": "stream",
          "text": [
            "\u001b[1;35mt=2024-03-18T13:55:16+0000 lvl=info msg=\"join connections\" obj=join id=6107bafd9fc2 l=127.0.0.1:8237 r=102.222.234.175:18530\u001b[0m\n",
            "\u001b[1;35mGot token from cookie\u001b[0m\n",
            "\u001b[32mINFO\u001b[0m:     102.222.234.175:0 - \"\u001b[1mGET /api/v1/workspaces/default/stacks?sort_by=desc:created&logical_operator=and&page=1&size=10 HTTP/1.1\u001b[0m\" \u001b[32m200 OK\u001b[0m\n"
          ]
        },
        {
          "name": "stderr",
          "output_type": "stream",
          "text": [
            "INFO:pyngrok.process.ngrok:t=2024-03-18T13:55:21+0000 lvl=info msg=\"join connections\" obj=join id=c1e923a3c99c l=127.0.0.1:8237 r=102.222.234.175:18530\n"
          ]
        },
        {
          "name": "stdout",
          "output_type": "stream",
          "text": [
            "\u001b[1;35mt=2024-03-18T13:55:21+0000 lvl=info msg=\"join connections\" obj=join id=c1e923a3c99c l=127.0.0.1:8237 r=102.222.234.175:18530\u001b[0m\n",
            "\u001b[1;35mGot token from cookie\u001b[0m\n",
            "\u001b[32mINFO\u001b[0m:     102.222.234.175:0 - \"\u001b[1mGET /api/v1/workspaces/default/stacks?sort_by=desc:created&logical_operator=and&page=1&size=10 HTTP/1.1\u001b[0m\" \u001b[32m200 OK\u001b[0m\n"
          ]
        },
        {
          "name": "stderr",
          "output_type": "stream",
          "text": [
            "INFO:pyngrok.process.ngrok:t=2024-03-18T13:55:28+0000 lvl=info msg=\"join connections\" obj=join id=c9b72a81e0c2 l=127.0.0.1:8237 r=102.222.234.175:18476\n"
          ]
        },
        {
          "name": "stdout",
          "output_type": "stream",
          "text": [
            "\u001b[1;35mt=2024-03-18T13:55:28+0000 lvl=info msg=\"join connections\" obj=join id=c9b72a81e0c2 l=127.0.0.1:8237 r=102.222.234.175:18476\u001b[0m\n",
            "\u001b[1;35mGot token from cookie\u001b[0m\n",
            "\u001b[32mINFO\u001b[0m:     102.222.234.175:0 - \"\u001b[1mGET /api/v1/workspaces/default/stacks?sort_by=desc:created&logical_operator=and&page=1&size=10 HTTP/1.1\u001b[0m\" \u001b[32m200 OK\u001b[0m\n"
          ]
        },
        {
          "name": "stderr",
          "output_type": "stream",
          "text": [
            "INFO:pyngrok.process.ngrok:t=2024-03-18T13:55:35+0000 lvl=info msg=\"join connections\" obj=join id=2ba7f6fe9f2e l=127.0.0.1:8237 r=102.222.234.175:18476\n"
          ]
        },
        {
          "name": "stdout",
          "output_type": "stream",
          "text": [
            "\u001b[1;35mt=2024-03-18T13:55:35+0000 lvl=info msg=\"join connections\" obj=join id=2ba7f6fe9f2e l=127.0.0.1:8237 r=102.222.234.175:18476\u001b[0m\n",
            "\u001b[1;35mGot token from cookie\u001b[0m\n",
            "\u001b[32mINFO\u001b[0m:     102.222.234.175:0 - \"\u001b[1mGET /api/v1/workspaces/default/stacks?sort_by=desc:created&logical_operator=and&page=1&size=10 HTTP/1.1\u001b[0m\" \u001b[32m200 OK\u001b[0m\n"
          ]
        },
        {
          "name": "stderr",
          "output_type": "stream",
          "text": [
            "INFO:pyngrok.process.ngrok:t=2024-03-18T13:55:41+0000 lvl=info msg=\"join connections\" obj=join id=f7bc1918f61f l=127.0.0.1:8237 r=102.222.234.175:18476\n"
          ]
        },
        {
          "name": "stdout",
          "output_type": "stream",
          "text": [
            "\u001b[1;35mt=2024-03-18T13:55:41+0000 lvl=info msg=\"join connections\" obj=join id=f7bc1918f61f l=127.0.0.1:8237 r=102.222.234.175:18476\u001b[0m\n",
            "\u001b[1;35mGot token from cookie\u001b[0m\n",
            "\u001b[32mINFO\u001b[0m:     102.222.234.175:0 - \"\u001b[1mGET /api/v1/workspaces/default/stacks?sort_by=desc:created&logical_operator=and&page=1&size=10 HTTP/1.1\u001b[0m\" \u001b[32m200 OK\u001b[0m\n"
          ]
        },
        {
          "name": "stderr",
          "output_type": "stream",
          "text": [
            "INFO:pyngrok.process.ngrok:t=2024-03-18T13:55:47+0000 lvl=info msg=\"join connections\" obj=join id=4bb07978448e l=127.0.0.1:8237 r=102.222.70.103:54788\n"
          ]
        },
        {
          "name": "stdout",
          "output_type": "stream",
          "text": [
            "\u001b[1;35mt=2024-03-18T13:55:47+0000 lvl=info msg=\"join connections\" obj=join id=4bb07978448e l=127.0.0.1:8237 r=102.222.70.103:54788\u001b[0m\n",
            "\u001b[1;35mGot token from cookie\u001b[0m\n",
            "\u001b[32mINFO\u001b[0m:     102.222.70.103:0 - \"\u001b[1mGET /api/v1/workspaces/default/stacks?sort_by=desc:created&logical_operator=and&page=1&size=10 HTTP/1.1\u001b[0m\" \u001b[32m200 OK\u001b[0m\n"
          ]
        },
        {
          "name": "stderr",
          "output_type": "stream",
          "text": [
            "INFO:pyngrok.process.ngrok:t=2024-03-18T13:55:54+0000 lvl=info msg=\"join connections\" obj=join id=a350729ed145 l=127.0.0.1:8237 r=102.222.70.103:54788\n"
          ]
        },
        {
          "name": "stdout",
          "output_type": "stream",
          "text": [
            "\u001b[1;35mt=2024-03-18T13:55:54+0000 lvl=info msg=\"join connections\" obj=join id=a350729ed145 l=127.0.0.1:8237 r=102.222.70.103:54788\u001b[0m\n",
            "\u001b[1;35mGot token from cookie\u001b[0m\n",
            "\u001b[32mINFO\u001b[0m:     102.222.70.103:0 - \"\u001b[1mGET /api/v1/workspaces/default/stacks?sort_by=desc:created&logical_operator=and&page=1&size=10 HTTP/1.1\u001b[0m\" \u001b[32m200 OK\u001b[0m\n"
          ]
        },
        {
          "name": "stderr",
          "output_type": "stream",
          "text": [
            "INFO:pyngrok.process.ngrok:t=2024-03-18T13:56:00+0000 lvl=info msg=\"join connections\" obj=join id=b5c9e40833c3 l=127.0.0.1:8237 r=102.219.103.197:54798\n"
          ]
        },
        {
          "name": "stdout",
          "output_type": "stream",
          "text": [
            "\u001b[1;35mt=2024-03-18T13:56:00+0000 lvl=info msg=\"join connections\" obj=join id=b5c9e40833c3 l=127.0.0.1:8237 r=102.219.103.197:54798\u001b[0m\n",
            "\u001b[1;35mGot token from cookie\u001b[0m\n",
            "\u001b[32mINFO\u001b[0m:     102.219.103.197:0 - \"\u001b[1mGET /api/v1/workspaces/default/stacks?sort_by=desc:created&logical_operator=and&page=1&size=10 HTTP/1.1\u001b[0m\" \u001b[32m200 OK\u001b[0m\n"
          ]
        },
        {
          "name": "stderr",
          "output_type": "stream",
          "text": [
            "INFO:pyngrok.process.ngrok:t=2024-03-18T13:56:07+0000 lvl=info msg=\"join connections\" obj=join id=e77981ab6d5e l=127.0.0.1:8237 r=102.222.234.175:18617\n"
          ]
        },
        {
          "name": "stdout",
          "output_type": "stream",
          "text": [
            "\u001b[1;35mt=2024-03-18T13:56:07+0000 lvl=info msg=\"join connections\" obj=join id=e77981ab6d5e l=127.0.0.1:8237 r=102.222.234.175:18617\u001b[0m\n",
            "\u001b[1;35mGot token from cookie\u001b[0m\n",
            "\u001b[32mINFO\u001b[0m:     102.222.234.175:0 - \"\u001b[1mGET /api/v1/workspaces/default/stacks?sort_by=desc:created&logical_operator=and&page=1&size=10 HTTP/1.1\u001b[0m\" \u001b[32m200 OK\u001b[0m\n"
          ]
        },
        {
          "name": "stderr",
          "output_type": "stream",
          "text": [
            "INFO:pyngrok.process.ngrok:t=2024-03-18T13:56:14+0000 lvl=info msg=\"join connections\" obj=join id=7a3cf7980f72 l=127.0.0.1:8237 r=102.222.234.175:18617\n"
          ]
        },
        {
          "name": "stdout",
          "output_type": "stream",
          "text": [
            "\u001b[1;35mt=2024-03-18T13:56:14+0000 lvl=info msg=\"join connections\" obj=join id=7a3cf7980f72 l=127.0.0.1:8237 r=102.222.234.175:18617\u001b[0m\n",
            "\u001b[1;35mGot token from cookie\u001b[0m\n",
            "\u001b[32mINFO\u001b[0m:     102.222.234.175:0 - \"\u001b[1mGET /api/v1/workspaces/default/stacks?sort_by=desc:created&logical_operator=and&page=1&size=10 HTTP/1.1\u001b[0m\" \u001b[32m200 OK\u001b[0m\n"
          ]
        },
        {
          "name": "stderr",
          "output_type": "stream",
          "text": [
            "INFO:pyngrok.process.ngrok:t=2024-03-18T13:56:20+0000 lvl=info msg=\"join connections\" obj=join id=ef45ed9d333e l=127.0.0.1:8237 r=102.222.234.175:18564\n"
          ]
        },
        {
          "name": "stdout",
          "output_type": "stream",
          "text": [
            "\u001b[1;35mt=2024-03-18T13:56:20+0000 lvl=info msg=\"join connections\" obj=join id=ef45ed9d333e l=127.0.0.1:8237 r=102.222.234.175:18564\u001b[0m\n",
            "\u001b[1;35mGot token from cookie\u001b[0m\n",
            "\u001b[32mINFO\u001b[0m:     102.222.234.175:0 - \"\u001b[1mGET /api/v1/workspaces/default/stacks?sort_by=desc:created&logical_operator=and&page=1&size=10 HTTP/1.1\u001b[0m\" \u001b[32m200 OK\u001b[0m\n"
          ]
        },
        {
          "name": "stderr",
          "output_type": "stream",
          "text": [
            "INFO:pyngrok.process.ngrok:t=2024-03-18T13:56:27+0000 lvl=info msg=\"join connections\" obj=join id=6a418e7612f4 l=127.0.0.1:8237 r=102.222.70.103:54807\n"
          ]
        },
        {
          "name": "stdout",
          "output_type": "stream",
          "text": [
            "\u001b[1;35mt=2024-03-18T13:56:27+0000 lvl=info msg=\"join connections\" obj=join id=6a418e7612f4 l=127.0.0.1:8237 r=102.222.70.103:54807\u001b[0m\n",
            "\u001b[1;35mGot token from cookie\u001b[0m\n",
            "\u001b[32mINFO\u001b[0m:     102.222.70.103:0 - \"\u001b[1mGET /api/v1/workspaces/default/stacks?sort_by=desc:created&logical_operator=and&page=1&size=10 HTTP/1.1\u001b[0m\" \u001b[32m200 OK\u001b[0m\n"
          ]
        },
        {
          "name": "stderr",
          "output_type": "stream",
          "text": [
            "INFO:pyngrok.process.ngrok:t=2024-03-18T13:56:34+0000 lvl=info msg=\"join connections\" obj=join id=f2c51038e3e0 l=127.0.0.1:8237 r=102.222.70.103:54807\n"
          ]
        },
        {
          "name": "stdout",
          "output_type": "stream",
          "text": [
            "\u001b[1;35mt=2024-03-18T13:56:34+0000 lvl=info msg=\"join connections\" obj=join id=f2c51038e3e0 l=127.0.0.1:8237 r=102.222.70.103:54807\u001b[0m\n",
            "\u001b[1;35mGot token from cookie\u001b[0m\n",
            "\u001b[32mINFO\u001b[0m:     102.222.70.103:0 - \"\u001b[1mGET /api/v1/workspaces/default/stacks?sort_by=desc:created&logical_operator=and&page=1&size=10 HTTP/1.1\u001b[0m\" \u001b[32m200 OK\u001b[0m\n"
          ]
        },
        {
          "name": "stderr",
          "output_type": "stream",
          "text": [
            "INFO:pyngrok.process.ngrok:t=2024-03-18T13:56:40+0000 lvl=info msg=\"join connections\" obj=join id=65d1ac39dc5f l=127.0.0.1:8237 r=102.222.70.103:54815\n"
          ]
        },
        {
          "name": "stdout",
          "output_type": "stream",
          "text": [
            "\u001b[1;35mt=2024-03-18T13:56:40+0000 lvl=info msg=\"join connections\" obj=join id=65d1ac39dc5f l=127.0.0.1:8237 r=102.222.70.103:54815\u001b[0m\n",
            "\u001b[1;35mGot token from cookie\u001b[0m\n",
            "\u001b[32mINFO\u001b[0m:     102.222.70.103:0 - \"\u001b[1mGET /api/v1/workspaces/default/stacks?sort_by=desc:created&logical_operator=and&page=1&size=10 HTTP/1.1\u001b[0m\" \u001b[32m200 OK\u001b[0m\n"
          ]
        },
        {
          "name": "stderr",
          "output_type": "stream",
          "text": [
            "INFO:pyngrok.process.ngrok:t=2024-03-18T13:56:47+0000 lvl=info msg=\"join connections\" obj=join id=ec73a71021eb l=127.0.0.1:8237 r=102.222.234.175:18466\n"
          ]
        },
        {
          "name": "stdout",
          "output_type": "stream",
          "text": [
            "\u001b[1;35mt=2024-03-18T13:56:47+0000 lvl=info msg=\"join connections\" obj=join id=ec73a71021eb l=127.0.0.1:8237 r=102.222.234.175:18466\u001b[0m\n",
            "\u001b[1;35mGot token from cookie\u001b[0m\n",
            "\u001b[32mINFO\u001b[0m:     102.222.234.175:0 - \"\u001b[1mGET /api/v1/workspaces/default/stacks?sort_by=desc:created&logical_operator=and&page=1&size=10 HTTP/1.1\u001b[0m\" \u001b[32m200 OK\u001b[0m\n"
          ]
        },
        {
          "name": "stderr",
          "output_type": "stream",
          "text": [
            "INFO:pyngrok.process.ngrok:t=2024-03-18T13:56:54+0000 lvl=info msg=\"join connections\" obj=join id=938a7aeb511e l=127.0.0.1:8237 r=102.222.234.175:18466\n"
          ]
        },
        {
          "name": "stdout",
          "output_type": "stream",
          "text": [
            "\u001b[1;35mt=2024-03-18T13:56:54+0000 lvl=info msg=\"join connections\" obj=join id=938a7aeb511e l=127.0.0.1:8237 r=102.222.234.175:18466\u001b[0m\n",
            "\u001b[1;35mGot token from cookie\u001b[0m\n",
            "\u001b[32mINFO\u001b[0m:     102.222.234.175:0 - \"\u001b[1mGET /api/v1/workspaces/default/stacks?sort_by=desc:created&logical_operator=and&page=1&size=10 HTTP/1.1\u001b[0m\" \u001b[32m200 OK\u001b[0m\n"
          ]
        },
        {
          "name": "stderr",
          "output_type": "stream",
          "text": [
            "INFO:pyngrok.process.ngrok:t=2024-03-18T13:57:01+0000 lvl=info msg=\"join connections\" obj=join id=1808c666bf38 l=127.0.0.1:8237 r=102.222.234.175:18446\n"
          ]
        },
        {
          "name": "stdout",
          "output_type": "stream",
          "text": [
            "\u001b[1;35mt=2024-03-18T13:57:01+0000 lvl=info msg=\"join connections\" obj=join id=1808c666bf38 l=127.0.0.1:8237 r=102.222.234.175:18446\u001b[0m\n",
            "\u001b[1;35mGot token from cookie\u001b[0m\n",
            "\u001b[32mINFO\u001b[0m:     102.222.234.175:0 - \"\u001b[1mGET /api/v1/workspaces/default/stacks?sort_by=desc:created&logical_operator=and&page=1&size=10 HTTP/1.1\u001b[0m\" \u001b[32m200 OK\u001b[0m\n"
          ]
        },
        {
          "name": "stderr",
          "output_type": "stream",
          "text": [
            "INFO:pyngrok.process.ngrok:t=2024-03-18T13:57:07+0000 lvl=info msg=\"join connections\" obj=join id=4bae08016515 l=127.0.0.1:8237 r=102.222.234.175:18610\n"
          ]
        },
        {
          "name": "stdout",
          "output_type": "stream",
          "text": [
            "\u001b[1;35mt=2024-03-18T13:57:07+0000 lvl=info msg=\"join connections\" obj=join id=4bae08016515 l=127.0.0.1:8237 r=102.222.234.175:18610\u001b[0m\n",
            "\u001b[1;35mGot token from cookie\u001b[0m\n",
            "\u001b[32mINFO\u001b[0m:     102.222.234.175:0 - \"\u001b[1mGET /api/v1/workspaces/default/stacks?sort_by=desc:created&logical_operator=and&page=1&size=10 HTTP/1.1\u001b[0m\" \u001b[32m200 OK\u001b[0m\n"
          ]
        },
        {
          "name": "stderr",
          "output_type": "stream",
          "text": [
            "INFO:pyngrok.process.ngrok:t=2024-03-18T13:57:14+0000 lvl=info msg=\"join connections\" obj=join id=4cb3c39bec55 l=127.0.0.1:8237 r=102.222.234.175:18610\n"
          ]
        },
        {
          "name": "stdout",
          "output_type": "stream",
          "text": [
            "\u001b[1;35mt=2024-03-18T13:57:14+0000 lvl=info msg=\"join connections\" obj=join id=4cb3c39bec55 l=127.0.0.1:8237 r=102.222.234.175:18610\u001b[0m\n",
            "\u001b[1;35mGot token from cookie\u001b[0m\n",
            "\u001b[32mINFO\u001b[0m:     102.222.234.175:0 - \"\u001b[1mGET /api/v1/workspaces/default/stacks?sort_by=desc:created&logical_operator=and&page=1&size=10 HTTP/1.1\u001b[0m\" \u001b[32m200 OK\u001b[0m\n"
          ]
        },
        {
          "name": "stderr",
          "output_type": "stream",
          "text": [
            "INFO:pyngrok.process.ngrok:t=2024-03-18T13:57:20+0000 lvl=info msg=\"join connections\" obj=join id=9af202f6e81c l=127.0.0.1:8237 r=102.222.70.103:54829\n"
          ]
        },
        {
          "name": "stdout",
          "output_type": "stream",
          "text": [
            "\u001b[1;35mt=2024-03-18T13:57:20+0000 lvl=info msg=\"join connections\" obj=join id=9af202f6e81c l=127.0.0.1:8237 r=102.222.70.103:54829\u001b[0m\n",
            "\u001b[1;35mGot token from cookie\u001b[0m\n",
            "\u001b[32mINFO\u001b[0m:     102.222.70.103:0 - \"\u001b[1mGET /api/v1/workspaces/default/stacks?sort_by=desc:created&logical_operator=and&page=1&size=10 HTTP/1.1\u001b[0m\" \u001b[32m200 OK\u001b[0m\n"
          ]
        },
        {
          "name": "stderr",
          "output_type": "stream",
          "text": [
            "INFO:pyngrok.process.ngrok:t=2024-03-18T13:57:27+0000 lvl=info msg=\"join connections\" obj=join id=371111338280 l=127.0.0.1:8237 r=102.222.234.175:18611\n"
          ]
        },
        {
          "name": "stdout",
          "output_type": "stream",
          "text": [
            "\u001b[1;35mt=2024-03-18T13:57:27+0000 lvl=info msg=\"join connections\" obj=join id=371111338280 l=127.0.0.1:8237 r=102.222.234.175:18611\u001b[0m\n",
            "\u001b[1;35mGot token from cookie\u001b[0m\n",
            "\u001b[32mINFO\u001b[0m:     102.222.234.175:0 - \"\u001b[1mGET /api/v1/workspaces/default/stacks?sort_by=desc:created&logical_operator=and&page=1&size=10 HTTP/1.1\u001b[0m\" \u001b[32m200 OK\u001b[0m\n"
          ]
        },
        {
          "name": "stderr",
          "output_type": "stream",
          "text": [
            "INFO:pyngrok.process.ngrok:t=2024-03-18T13:57:33+0000 lvl=info msg=\"join connections\" obj=join id=c5d48ad36b79 l=127.0.0.1:8237 r=102.222.234.175:18611\n"
          ]
        },
        {
          "name": "stdout",
          "output_type": "stream",
          "text": [
            "\u001b[1;35mt=2024-03-18T13:57:33+0000 lvl=info msg=\"join connections\" obj=join id=c5d48ad36b79 l=127.0.0.1:8237 r=102.222.234.175:18611\u001b[0m\n",
            "\u001b[1;35mGot token from cookie\u001b[0m\n",
            "\u001b[32mINFO\u001b[0m:     102.222.234.175:0 - \"\u001b[1mGET /api/v1/workspaces/default/stacks?sort_by=desc:created&logical_operator=and&page=1&size=10 HTTP/1.1\u001b[0m\" \u001b[32m200 OK\u001b[0m\n"
          ]
        },
        {
          "name": "stderr",
          "output_type": "stream",
          "text": [
            "INFO:pyngrok.process.ngrok:t=2024-03-18T13:57:40+0000 lvl=info msg=\"join connections\" obj=join id=1e9385efc075 l=127.0.0.1:8237 r=102.222.234.175:18524\n"
          ]
        },
        {
          "name": "stdout",
          "output_type": "stream",
          "text": [
            "\u001b[1;35mt=2024-03-18T13:57:40+0000 lvl=info msg=\"join connections\" obj=join id=1e9385efc075 l=127.0.0.1:8237 r=102.222.234.175:18524\u001b[0m\n",
            "\u001b[1;35mGot token from cookie\u001b[0m\n",
            "\u001b[32mINFO\u001b[0m:     102.222.234.175:0 - \"\u001b[1mGET /api/v1/workspaces/default/stacks?sort_by=desc:created&logical_operator=and&page=1&size=10 HTTP/1.1\u001b[0m\" \u001b[32m200 OK\u001b[0m\n"
          ]
        },
        {
          "name": "stderr",
          "output_type": "stream",
          "text": [
            "INFO:pyngrok.process.ngrok:t=2024-03-18T13:57:47+0000 lvl=info msg=\"join connections\" obj=join id=e4bdb3471c4e l=127.0.0.1:8237 r=102.222.234.175:18524\n"
          ]
        },
        {
          "name": "stdout",
          "output_type": "stream",
          "text": [
            "\u001b[1;35mt=2024-03-18T13:57:47+0000 lvl=info msg=\"join connections\" obj=join id=e4bdb3471c4e l=127.0.0.1:8237 r=102.222.234.175:18524\u001b[0m\n",
            "\u001b[1;35mGot token from cookie\u001b[0m\n",
            "\u001b[32mINFO\u001b[0m:     102.222.234.175:0 - \"\u001b[1mGET /api/v1/workspaces/default/stacks?sort_by=desc:created&logical_operator=and&page=1&size=10 HTTP/1.1\u001b[0m\" \u001b[32m200 OK\u001b[0m\n"
          ]
        },
        {
          "name": "stderr",
          "output_type": "stream",
          "text": [
            "INFO:pyngrok.process.ngrok:t=2024-03-18T13:57:53+0000 lvl=info msg=\"join connections\" obj=join id=bdd2c955163c l=127.0.0.1:8237 r=102.222.234.175:18524\n"
          ]
        },
        {
          "name": "stdout",
          "output_type": "stream",
          "text": [
            "\u001b[1;35mt=2024-03-18T13:57:53+0000 lvl=info msg=\"join connections\" obj=join id=bdd2c955163c l=127.0.0.1:8237 r=102.222.234.175:18524\u001b[0m\n",
            "\u001b[1;35mGot token from cookie\u001b[0m\n",
            "\u001b[32mINFO\u001b[0m:     102.222.234.175:0 - \"\u001b[1mGET /api/v1/workspaces/default/stacks?sort_by=desc:created&logical_operator=and&page=1&size=10 HTTP/1.1\u001b[0m\" \u001b[32m200 OK\u001b[0m\n"
          ]
        },
        {
          "name": "stderr",
          "output_type": "stream",
          "text": [
            "INFO:pyngrok.process.ngrok:t=2024-03-18T13:57:59+0000 lvl=info msg=\"join connections\" obj=join id=8d4f11dc5a95 l=127.0.0.1:8237 r=102.222.234.175:18524\n"
          ]
        },
        {
          "name": "stdout",
          "output_type": "stream",
          "text": [
            "\u001b[1;35mt=2024-03-18T13:57:59+0000 lvl=info msg=\"join connections\" obj=join id=8d4f11dc5a95 l=127.0.0.1:8237 r=102.222.234.175:18524\u001b[0m\n",
            "\u001b[1;35mGot token from cookie\u001b[0m\n",
            "\u001b[32mINFO\u001b[0m:     102.222.234.175:0 - \"\u001b[1mGET /api/v1/workspaces/default/stacks?sort_by=desc:created&logical_operator=and&page=1&size=10 HTTP/1.1\u001b[0m\" \u001b[32m200 OK\u001b[0m\n"
          ]
        },
        {
          "name": "stderr",
          "output_type": "stream",
          "text": [
            "INFO:pyngrok.process.ngrok:t=2024-03-18T13:58:05+0000 lvl=info msg=\"join connections\" obj=join id=2adec5436122 l=127.0.0.1:8237 r=102.222.234.175:18552\n"
          ]
        },
        {
          "name": "stdout",
          "output_type": "stream",
          "text": [
            "\u001b[1;35mt=2024-03-18T13:58:05+0000 lvl=info msg=\"join connections\" obj=join id=2adec5436122 l=127.0.0.1:8237 r=102.222.234.175:18552\u001b[0m\n",
            "\u001b[1;35mGot token from cookie\u001b[0m\n",
            "\u001b[32mINFO\u001b[0m:     102.222.234.175:0 - \"\u001b[1mGET /api/v1/workspaces/default/stacks?sort_by=desc:created&logical_operator=and&page=1&size=10 HTTP/1.1\u001b[0m\" \u001b[32m200 OK\u001b[0m\n"
          ]
        },
        {
          "name": "stderr",
          "output_type": "stream",
          "text": [
            "INFO:pyngrok.process.ngrok:t=2024-03-18T13:58:12+0000 lvl=info msg=\"join connections\" obj=join id=6540937bff7b l=127.0.0.1:8237 r=102.211.61.95:54846\n"
          ]
        },
        {
          "name": "stdout",
          "output_type": "stream",
          "text": [
            "\u001b[1;35mt=2024-03-18T13:58:12+0000 lvl=info msg=\"join connections\" obj=join id=6540937bff7b l=127.0.0.1:8237 r=102.211.61.95:54846\u001b[0m\n",
            "\u001b[1;35mGot token from cookie\u001b[0m\n",
            "\u001b[32mINFO\u001b[0m:     102.211.61.95:0 - \"\u001b[1mGET /api/v1/workspaces/default/stacks?sort_by=desc:created&logical_operator=and&page=1&size=10 HTTP/1.1\u001b[0m\" \u001b[32m200 OK\u001b[0m\n"
          ]
        },
        {
          "name": "stderr",
          "output_type": "stream",
          "text": [
            "INFO:pyngrok.process.ngrok:t=2024-03-18T13:58:19+0000 lvl=info msg=\"join connections\" obj=join id=659ad5354bbe l=127.0.0.1:8237 r=102.211.61.95:54846\n"
          ]
        },
        {
          "name": "stdout",
          "output_type": "stream",
          "text": [
            "\u001b[1;35mt=2024-03-18T13:58:19+0000 lvl=info msg=\"join connections\" obj=join id=659ad5354bbe l=127.0.0.1:8237 r=102.211.61.95:54846\u001b[0m\n",
            "\u001b[1;35mGot token from cookie\u001b[0m\n",
            "\u001b[32mINFO\u001b[0m:     102.211.61.95:0 - \"\u001b[1mGET /api/v1/workspaces/default/stacks?sort_by=desc:created&logical_operator=and&page=1&size=10 HTTP/1.1\u001b[0m\" \u001b[32m200 OK\u001b[0m\n"
          ]
        },
        {
          "name": "stderr",
          "output_type": "stream",
          "text": [
            "INFO:pyngrok.process.ngrok:t=2024-03-18T13:58:26+0000 lvl=info msg=\"join connections\" obj=join id=9b72b2fa5938 l=127.0.0.1:8237 r=102.219.103.197:54848\n"
          ]
        },
        {
          "name": "stdout",
          "output_type": "stream",
          "text": [
            "\u001b[1;35mt=2024-03-18T13:58:26+0000 lvl=info msg=\"join connections\" obj=join id=9b72b2fa5938 l=127.0.0.1:8237 r=102.219.103.197:54848\u001b[0m\n",
            "\u001b[1;35mGot token from cookie\u001b[0m\n",
            "\u001b[32mINFO\u001b[0m:     102.219.103.197:0 - \"\u001b[1mGET /api/v1/workspaces/default/stacks?sort_by=desc:created&logical_operator=and&page=1&size=10 HTTP/1.1\u001b[0m\" \u001b[32m200 OK\u001b[0m\n"
          ]
        },
        {
          "name": "stderr",
          "output_type": "stream",
          "text": [
            "INFO:pyngrok.process.ngrok:t=2024-03-18T13:58:32+0000 lvl=info msg=\"join connections\" obj=join id=61229f3dead2 l=127.0.0.1:8237 r=102.222.234.175:18531\n"
          ]
        },
        {
          "name": "stdout",
          "output_type": "stream",
          "text": [
            "\u001b[1;35mt=2024-03-18T13:58:32+0000 lvl=info msg=\"join connections\" obj=join id=61229f3dead2 l=127.0.0.1:8237 r=102.222.234.175:18531\u001b[0m\n",
            "\u001b[1;35mGot token from cookie\u001b[0m\n",
            "\u001b[32mINFO\u001b[0m:     102.222.234.175:0 - \"\u001b[1mGET /api/v1/workspaces/default/stacks?sort_by=desc:created&logical_operator=and&page=1&size=10 HTTP/1.1\u001b[0m\" \u001b[32m200 OK\u001b[0m\n"
          ]
        },
        {
          "name": "stderr",
          "output_type": "stream",
          "text": [
            "INFO:pyngrok.process.ngrok:t=2024-03-18T13:58:38+0000 lvl=info msg=\"join connections\" obj=join id=2917d5f1ff98 l=127.0.0.1:8237 r=102.222.234.175:18531\n"
          ]
        },
        {
          "name": "stdout",
          "output_type": "stream",
          "text": [
            "\u001b[1;35mt=2024-03-18T13:58:38+0000 lvl=info msg=\"join connections\" obj=join id=2917d5f1ff98 l=127.0.0.1:8237 r=102.222.234.175:18531\u001b[0m\n",
            "\u001b[1;35mGot token from cookie\u001b[0m\n",
            "\u001b[32mINFO\u001b[0m:     102.222.234.175:0 - \"\u001b[1mGET /api/v1/workspaces/default/stacks?sort_by=desc:created&logical_operator=and&page=1&size=10 HTTP/1.1\u001b[0m\" \u001b[32m200 OK\u001b[0m\n"
          ]
        },
        {
          "name": "stderr",
          "output_type": "stream",
          "text": [
            "INFO:pyngrok.process.ngrok:t=2024-03-18T13:58:45+0000 lvl=info msg=\"join connections\" obj=join id=29e763a3f23c l=127.0.0.1:8237 r=102.222.234.175:18531\n"
          ]
        },
        {
          "name": "stdout",
          "output_type": "stream",
          "text": [
            "\u001b[1;35mt=2024-03-18T13:58:45+0000 lvl=info msg=\"join connections\" obj=join id=29e763a3f23c l=127.0.0.1:8237 r=102.222.234.175:18531\u001b[0m\n",
            "\u001b[1;35mGot token from cookie\u001b[0m\n",
            "\u001b[32mINFO\u001b[0m:     102.222.234.175:0 - \"\u001b[1mGET /api/v1/workspaces/default/stacks?sort_by=desc:created&logical_operator=and&page=1&size=10 HTTP/1.1\u001b[0m\" \u001b[32m200 OK\u001b[0m\n"
          ]
        },
        {
          "name": "stderr",
          "output_type": "stream",
          "text": [
            "INFO:pyngrok.process.ngrok:t=2024-03-18T13:58:51+0000 lvl=info msg=\"join connections\" obj=join id=fa529dd32fa8 l=127.0.0.1:8237 r=102.222.234.175:18531\n"
          ]
        },
        {
          "name": "stdout",
          "output_type": "stream",
          "text": [
            "\u001b[1;35mt=2024-03-18T13:58:51+0000 lvl=info msg=\"join connections\" obj=join id=fa529dd32fa8 l=127.0.0.1:8237 r=102.222.234.175:18531\u001b[0m\n",
            "\u001b[1;35mGot token from cookie\u001b[0m\n",
            "\u001b[32mINFO\u001b[0m:     102.222.234.175:0 - \"\u001b[1mGET /api/v1/workspaces/default/stacks?sort_by=desc:created&logical_operator=and&page=1&size=10 HTTP/1.1\u001b[0m\" \u001b[32m200 OK\u001b[0m\n"
          ]
        },
        {
          "name": "stderr",
          "output_type": "stream",
          "text": [
            "INFO:pyngrok.process.ngrok:t=2024-03-18T13:58:59+0000 lvl=info msg=\"join connections\" obj=join id=c8918ecb9ef7 l=127.0.0.1:8237 r=102.222.234.175:18646\n"
          ]
        },
        {
          "name": "stdout",
          "output_type": "stream",
          "text": [
            "\u001b[1;35mt=2024-03-18T13:58:59+0000 lvl=info msg=\"join connections\" obj=join id=c8918ecb9ef7 l=127.0.0.1:8237 r=102.222.234.175:18646\u001b[0m\n",
            "\u001b[1;35mGot token from cookie\u001b[0m\n",
            "\u001b[32mINFO\u001b[0m:     102.222.234.175:0 - \"\u001b[1mGET /api/v1/workspaces/default/stacks?sort_by=desc:created&logical_operator=and&page=1&size=10 HTTP/1.1\u001b[0m\" \u001b[32m200 OK\u001b[0m\n"
          ]
        },
        {
          "name": "stderr",
          "output_type": "stream",
          "text": [
            "INFO:pyngrok.process.ngrok:t=2024-03-18T13:59:05+0000 lvl=info msg=\"join connections\" obj=join id=6c9d061fbdea l=127.0.0.1:8237 r=102.222.234.175:18646\n"
          ]
        },
        {
          "name": "stdout",
          "output_type": "stream",
          "text": [
            "\u001b[1;35mt=2024-03-18T13:59:05+0000 lvl=info msg=\"join connections\" obj=join id=6c9d061fbdea l=127.0.0.1:8237 r=102.222.234.175:18646\u001b[0m\n",
            "\u001b[1;35mGot token from cookie\u001b[0m\n",
            "\u001b[32mINFO\u001b[0m:     102.222.234.175:0 - \"\u001b[1mGET /api/v1/workspaces/default/stacks?sort_by=desc:created&logical_operator=and&page=1&size=10 HTTP/1.1\u001b[0m\" \u001b[32m200 OK\u001b[0m\n"
          ]
        },
        {
          "name": "stderr",
          "output_type": "stream",
          "text": [
            "INFO:pyngrok.process.ngrok:t=2024-03-18T13:59:10+0000 lvl=info msg=\"join connections\" obj=join id=523cfa74a653 l=127.0.0.1:8237 r=102.222.234.175:18646\n"
          ]
        },
        {
          "name": "stdout",
          "output_type": "stream",
          "text": [
            "\u001b[1;35mt=2024-03-18T13:59:10+0000 lvl=info msg=\"join connections\" obj=join id=523cfa74a653 l=127.0.0.1:8237 r=102.222.234.175:18646\u001b[0m\n",
            "\u001b[1;35mGot token from cookie\u001b[0m\n",
            "\u001b[32mINFO\u001b[0m:     102.222.234.175:0 - \"\u001b[1mGET /api/v1/workspaces/default/stacks?sort_by=desc:created&logical_operator=and&page=1&size=10 HTTP/1.1\u001b[0m\" \u001b[32m200 OK\u001b[0m\n"
          ]
        },
        {
          "name": "stderr",
          "output_type": "stream",
          "text": [
            "INFO:pyngrok.process.ngrok:t=2024-03-18T13:59:17+0000 lvl=info msg=\"join connections\" obj=join id=211e9fb6c04e l=127.0.0.1:8237 r=102.222.234.175:18507\n"
          ]
        },
        {
          "name": "stdout",
          "output_type": "stream",
          "text": [
            "\u001b[1;35mt=2024-03-18T13:59:17+0000 lvl=info msg=\"join connections\" obj=join id=211e9fb6c04e l=127.0.0.1:8237 r=102.222.234.175:18507\u001b[0m\n",
            "\u001b[1;35mGot token from cookie\u001b[0m\n",
            "\u001b[32mINFO\u001b[0m:     102.222.234.175:0 - \"\u001b[1mGET /api/v1/workspaces/default/stacks?sort_by=desc:created&logical_operator=and&page=1&size=10 HTTP/1.1\u001b[0m\" \u001b[32m200 OK\u001b[0m\n"
          ]
        },
        {
          "name": "stderr",
          "output_type": "stream",
          "text": [
            "INFO:pyngrok.process.ngrok:t=2024-03-18T13:59:24+0000 lvl=info msg=\"join connections\" obj=join id=f7d24b6499bf l=127.0.0.1:8237 r=102.222.234.175:18507\n"
          ]
        },
        {
          "name": "stdout",
          "output_type": "stream",
          "text": [
            "\u001b[1;35mt=2024-03-18T13:59:24+0000 lvl=info msg=\"join connections\" obj=join id=f7d24b6499bf l=127.0.0.1:8237 r=102.222.234.175:18507\u001b[0m\n",
            "\u001b[1;35mGot token from cookie\u001b[0m\n",
            "\u001b[32mINFO\u001b[0m:     102.222.234.175:0 - \"\u001b[1mGET /api/v1/workspaces/default/stacks?sort_by=desc:created&logical_operator=and&page=1&size=10 HTTP/1.1\u001b[0m\" \u001b[32m200 OK\u001b[0m\n"
          ]
        },
        {
          "name": "stderr",
          "output_type": "stream",
          "text": [
            "INFO:pyngrok.process.ngrok:t=2024-03-18T13:59:31+0000 lvl=info msg=\"join connections\" obj=join id=07452de5cde5 l=127.0.0.1:8237 r=102.222.234.175:18507\n"
          ]
        },
        {
          "name": "stdout",
          "output_type": "stream",
          "text": [
            "\u001b[1;35mt=2024-03-18T13:59:31+0000 lvl=info msg=\"join connections\" obj=join id=07452de5cde5 l=127.0.0.1:8237 r=102.222.234.175:18507\u001b[0m\n",
            "\u001b[1;35mGot token from cookie\u001b[0m\n",
            "\u001b[32mINFO\u001b[0m:     102.222.234.175:0 - \"\u001b[1mGET /api/v1/workspaces/default/stacks?sort_by=desc:created&logical_operator=and&page=1&size=10 HTTP/1.1\u001b[0m\" \u001b[32m200 OK\u001b[0m\n"
          ]
        },
        {
          "name": "stderr",
          "output_type": "stream",
          "text": [
            "INFO:pyngrok.process.ngrok:t=2024-03-18T13:59:37+0000 lvl=info msg=\"join connections\" obj=join id=1ec8141febfe l=127.0.0.1:8237 r=102.222.234.175:18644\n"
          ]
        },
        {
          "name": "stdout",
          "output_type": "stream",
          "text": [
            "\u001b[1;35mt=2024-03-18T13:59:37+0000 lvl=info msg=\"join connections\" obj=join id=1ec8141febfe l=127.0.0.1:8237 r=102.222.234.175:18644\u001b[0m\n",
            "\u001b[1;35mGot token from cookie\u001b[0m\n",
            "\u001b[32mINFO\u001b[0m:     102.222.234.175:0 - \"\u001b[1mGET /api/v1/workspaces/default/stacks?sort_by=desc:created&logical_operator=and&page=1&size=10 HTTP/1.1\u001b[0m\" \u001b[32m200 OK\u001b[0m\n"
          ]
        },
        {
          "name": "stderr",
          "output_type": "stream",
          "text": [
            "INFO:pyngrok.process.ngrok:t=2024-03-18T13:59:44+0000 lvl=info msg=\"join connections\" obj=join id=f7debdc740de l=127.0.0.1:8237 r=102.222.234.175:18644\n"
          ]
        },
        {
          "name": "stdout",
          "output_type": "stream",
          "text": [
            "\u001b[1;35mt=2024-03-18T13:59:44+0000 lvl=info msg=\"join connections\" obj=join id=f7debdc740de l=127.0.0.1:8237 r=102.222.234.175:18644\u001b[0m\n",
            "\u001b[1;35mGot token from cookie\u001b[0m\n",
            "\u001b[32mINFO\u001b[0m:     102.222.234.175:0 - \"\u001b[1mGET /api/v1/workspaces/default/stacks?sort_by=desc:created&logical_operator=and&page=1&size=10 HTTP/1.1\u001b[0m\" \u001b[32m200 OK\u001b[0m\n"
          ]
        },
        {
          "name": "stderr",
          "output_type": "stream",
          "text": [
            "INFO:pyngrok.process.ngrok:t=2024-03-18T13:59:51+0000 lvl=info msg=\"join connections\" obj=join id=0d75a84e2aba l=127.0.0.1:8237 r=102.219.103.197:54890\n"
          ]
        },
        {
          "name": "stdout",
          "output_type": "stream",
          "text": [
            "\u001b[1;35mt=2024-03-18T13:59:51+0000 lvl=info msg=\"join connections\" obj=join id=0d75a84e2aba l=127.0.0.1:8237 r=102.219.103.197:54890\u001b[0m\n",
            "\u001b[1;35mGot token from cookie\u001b[0m\n",
            "\u001b[32mINFO\u001b[0m:     102.219.103.197:0 - \"\u001b[1mGET /api/v1/workspaces/default/stacks?sort_by=desc:created&logical_operator=and&page=1&size=10 HTTP/1.1\u001b[0m\" \u001b[32m200 OK\u001b[0m\n"
          ]
        },
        {
          "name": "stderr",
          "output_type": "stream",
          "text": [
            "INFO:pyngrok.process.ngrok:t=2024-03-18T13:59:57+0000 lvl=info msg=\"join connections\" obj=join id=a23740e9228e l=127.0.0.1:8237 r=102.222.234.175:18492\n"
          ]
        },
        {
          "name": "stdout",
          "output_type": "stream",
          "text": [
            "\u001b[1;35mt=2024-03-18T13:59:57+0000 lvl=info msg=\"join connections\" obj=join id=a23740e9228e l=127.0.0.1:8237 r=102.222.234.175:18492\u001b[0m\n",
            "\u001b[1;35mGot token from cookie\u001b[0m\n",
            "\u001b[32mINFO\u001b[0m:     102.222.234.175:0 - \"\u001b[1mGET /api/v1/workspaces/default/stacks?sort_by=desc:created&logical_operator=and&page=1&size=10 HTTP/1.1\u001b[0m\" \u001b[32m200 OK\u001b[0m\n"
          ]
        },
        {
          "name": "stderr",
          "output_type": "stream",
          "text": [
            "INFO:pyngrok.process.ngrok:t=2024-03-18T14:00:03+0000 lvl=info msg=\"join connections\" obj=join id=05b6cb6f41f1 l=127.0.0.1:8237 r=102.222.234.175:18492\n"
          ]
        },
        {
          "name": "stdout",
          "output_type": "stream",
          "text": [
            "\u001b[1;35mt=2024-03-18T14:00:03+0000 lvl=info msg=\"join connections\" obj=join id=05b6cb6f41f1 l=127.0.0.1:8237 r=102.222.234.175:18492\u001b[0m\n",
            "\u001b[1;35mGot token from cookie\u001b[0m\n",
            "\u001b[32mINFO\u001b[0m:     102.222.234.175:0 - \"\u001b[1mGET /api/v1/workspaces/default/stacks?sort_by=desc:created&logical_operator=and&page=1&size=10 HTTP/1.1\u001b[0m\" \u001b[32m200 OK\u001b[0m\n"
          ]
        },
        {
          "name": "stderr",
          "output_type": "stream",
          "text": [
            "INFO:pyngrok.process.ngrok:t=2024-03-18T14:00:10+0000 lvl=info msg=\"join connections\" obj=join id=77c259c2d0e3 l=127.0.0.1:8237 r=102.219.103.197:54898\n"
          ]
        },
        {
          "name": "stdout",
          "output_type": "stream",
          "text": [
            "\u001b[1;35mt=2024-03-18T14:00:10+0000 lvl=info msg=\"join connections\" obj=join id=77c259c2d0e3 l=127.0.0.1:8237 r=102.219.103.197:54898\u001b[0m\n",
            "\u001b[1;35mGot token from cookie\u001b[0m\n",
            "\u001b[32mINFO\u001b[0m:     102.219.103.197:0 - \"\u001b[1mGET /api/v1/workspaces/default/stacks?sort_by=desc:created&logical_operator=and&page=1&size=10 HTTP/1.1\u001b[0m\" \u001b[32m200 OK\u001b[0m\n"
          ]
        },
        {
          "name": "stderr",
          "output_type": "stream",
          "text": [
            "INFO:pyngrok.process.ngrok:t=2024-03-18T14:00:17+0000 lvl=info msg=\"join connections\" obj=join id=ea988986ec78 l=127.0.0.1:8237 r=102.211.61.95:54900\n"
          ]
        },
        {
          "name": "stdout",
          "output_type": "stream",
          "text": [
            "\u001b[1;35mt=2024-03-18T14:00:17+0000 lvl=info msg=\"join connections\" obj=join id=ea988986ec78 l=127.0.0.1:8237 r=102.211.61.95:54900\u001b[0m\n",
            "\u001b[1;35mGot token from cookie\u001b[0m\n",
            "\u001b[32mINFO\u001b[0m:     102.211.61.95:0 - \"\u001b[1mGET /api/v1/workspaces/default/stacks?sort_by=desc:created&logical_operator=and&page=1&size=10 HTTP/1.1\u001b[0m\" \u001b[32m200 OK\u001b[0m\n"
          ]
        },
        {
          "name": "stderr",
          "output_type": "stream",
          "text": [
            "INFO:pyngrok.process.ngrok:t=2024-03-18T14:00:24+0000 lvl=info msg=\"join connections\" obj=join id=04420b240fac l=127.0.0.1:8237 r=102.211.61.95:54900\n"
          ]
        },
        {
          "name": "stdout",
          "output_type": "stream",
          "text": [
            "\u001b[1;35mt=2024-03-18T14:00:24+0000 lvl=info msg=\"join connections\" obj=join id=04420b240fac l=127.0.0.1:8237 r=102.211.61.95:54900\u001b[0m\n",
            "\u001b[1;35mGot token from cookie\u001b[0m\n",
            "\u001b[32mINFO\u001b[0m:     102.211.61.95:0 - \"\u001b[1mGET /api/v1/workspaces/default/stacks?sort_by=desc:created&logical_operator=and&page=1&size=10 HTTP/1.1\u001b[0m\" \u001b[32m200 OK\u001b[0m\n"
          ]
        },
        {
          "name": "stderr",
          "output_type": "stream",
          "text": [
            "INFO:pyngrok.process.ngrok:t=2024-03-18T14:00:30+0000 lvl=info msg=\"join connections\" obj=join id=4c072643e669 l=127.0.0.1:8237 r=102.222.234.175:18638\n"
          ]
        },
        {
          "name": "stdout",
          "output_type": "stream",
          "text": [
            "\u001b[1;35mt=2024-03-18T14:00:30+0000 lvl=info msg=\"join connections\" obj=join id=4c072643e669 l=127.0.0.1:8237 r=102.222.234.175:18638\u001b[0m\n",
            "\u001b[1;35mGot token from cookie\u001b[0m\n",
            "\u001b[32mINFO\u001b[0m:     102.222.234.175:0 - \"\u001b[1mGET /api/v1/workspaces/default/stacks?sort_by=desc:created&logical_operator=and&page=1&size=10 HTTP/1.1\u001b[0m\" \u001b[32m200 OK\u001b[0m\n"
          ]
        },
        {
          "name": "stderr",
          "output_type": "stream",
          "text": [
            "INFO:pyngrok.process.ngrok:t=2024-03-18T14:00:37+0000 lvl=info msg=\"join connections\" obj=join id=2dfec35a5c79 l=127.0.0.1:8237 r=102.222.70.103:54904\n"
          ]
        },
        {
          "name": "stdout",
          "output_type": "stream",
          "text": [
            "\u001b[1;35mt=2024-03-18T14:00:37+0000 lvl=info msg=\"join connections\" obj=join id=2dfec35a5c79 l=127.0.0.1:8237 r=102.222.70.103:54904\u001b[0m\n",
            "\u001b[1;35mGot token from cookie\u001b[0m\n",
            "\u001b[32mINFO\u001b[0m:     102.222.70.103:0 - \"\u001b[1mGET /api/v1/workspaces/default/stacks?sort_by=desc:created&logical_operator=and&page=1&size=10 HTTP/1.1\u001b[0m\" \u001b[32m200 OK\u001b[0m\n"
          ]
        },
        {
          "name": "stderr",
          "output_type": "stream",
          "text": [
            "INFO:pyngrok.process.ngrok:t=2024-03-18T14:00:43+0000 lvl=info msg=\"join connections\" obj=join id=3f74bcf6f93d l=127.0.0.1:8237 r=102.222.70.103:54904\n"
          ]
        },
        {
          "name": "stdout",
          "output_type": "stream",
          "text": [
            "\u001b[1;35mt=2024-03-18T14:00:43+0000 lvl=info msg=\"join connections\" obj=join id=3f74bcf6f93d l=127.0.0.1:8237 r=102.222.70.103:54904\u001b[0m\n",
            "\u001b[1;35mGot token from cookie\u001b[0m\n",
            "\u001b[32mINFO\u001b[0m:     102.222.70.103:0 - \"\u001b[1mGET /api/v1/workspaces/default/stacks?sort_by=desc:created&logical_operator=and&page=1&size=10 HTTP/1.1\u001b[0m\" \u001b[32m200 OK\u001b[0m\n"
          ]
        },
        {
          "name": "stderr",
          "output_type": "stream",
          "text": [
            "INFO:pyngrok.process.ngrok:t=2024-03-18T14:00:50+0000 lvl=info msg=\"join connections\" obj=join id=48f7c26a1a17 l=127.0.0.1:8237 r=102.222.70.103:54904\n"
          ]
        },
        {
          "name": "stdout",
          "output_type": "stream",
          "text": [
            "\u001b[1;35mt=2024-03-18T14:00:50+0000 lvl=info msg=\"join connections\" obj=join id=48f7c26a1a17 l=127.0.0.1:8237 r=102.222.70.103:54904\u001b[0m\n",
            "\u001b[1;35mGot token from cookie\u001b[0m\n",
            "\u001b[32mINFO\u001b[0m:     102.222.70.103:0 - \"\u001b[1mGET /api/v1/workspaces/default/stacks?sort_by=desc:created&logical_operator=and&page=1&size=10 HTTP/1.1\u001b[0m\" \u001b[32m200 OK\u001b[0m\n"
          ]
        },
        {
          "name": "stderr",
          "output_type": "stream",
          "text": [
            "INFO:pyngrok.process.ngrok:t=2024-03-18T14:00:57+0000 lvl=info msg=\"join connections\" obj=join id=980160a58a46 l=127.0.0.1:8237 r=102.222.70.103:54904\n"
          ]
        },
        {
          "name": "stdout",
          "output_type": "stream",
          "text": [
            "\u001b[1;35mt=2024-03-18T14:00:57+0000 lvl=info msg=\"join connections\" obj=join id=980160a58a46 l=127.0.0.1:8237 r=102.222.70.103:54904\u001b[0m\n",
            "\u001b[1;35mGot token from cookie\u001b[0m\n",
            "\u001b[32mINFO\u001b[0m:     102.222.70.103:0 - \"\u001b[1mGET /api/v1/workspaces/default/stacks?sort_by=desc:created&logical_operator=and&page=1&size=10 HTTP/1.1\u001b[0m\" \u001b[32m200 OK\u001b[0m\n"
          ]
        },
        {
          "name": "stderr",
          "output_type": "stream",
          "text": [
            "INFO:pyngrok.process.ngrok:t=2024-03-18T14:01:03+0000 lvl=info msg=\"join connections\" obj=join id=cdcecf2b2877 l=127.0.0.1:8237 r=102.222.70.103:54904\n"
          ]
        },
        {
          "name": "stdout",
          "output_type": "stream",
          "text": [
            "\u001b[1;35mt=2024-03-18T14:01:03+0000 lvl=info msg=\"join connections\" obj=join id=cdcecf2b2877 l=127.0.0.1:8237 r=102.222.70.103:54904\u001b[0m\n",
            "\u001b[1;35mGot token from cookie\u001b[0m\n",
            "\u001b[32mINFO\u001b[0m:     102.222.70.103:0 - \"\u001b[1mGET /api/v1/workspaces/default/stacks?sort_by=desc:created&logical_operator=and&page=1&size=10 HTTP/1.1\u001b[0m\" \u001b[32m200 OK\u001b[0m\n"
          ]
        },
        {
          "name": "stderr",
          "output_type": "stream",
          "text": [
            "INFO:pyngrok.process.ngrok:t=2024-03-18T14:01:09+0000 lvl=info msg=\"join connections\" obj=join id=02850f40a9f4 l=127.0.0.1:8237 r=102.222.70.103:54904\n"
          ]
        },
        {
          "name": "stdout",
          "output_type": "stream",
          "text": [
            "\u001b[1;35mt=2024-03-18T14:01:09+0000 lvl=info msg=\"join connections\" obj=join id=02850f40a9f4 l=127.0.0.1:8237 r=102.222.70.103:54904\u001b[0m\n",
            "\u001b[1;35mGot token from cookie\u001b[0m\n",
            "\u001b[32mINFO\u001b[0m:     102.222.70.103:0 - \"\u001b[1mGET /api/v1/workspaces/default/stacks?sort_by=desc:created&logical_operator=and&page=1&size=10 HTTP/1.1\u001b[0m\" \u001b[32m200 OK\u001b[0m\n"
          ]
        },
        {
          "name": "stderr",
          "output_type": "stream",
          "text": [
            "INFO:pyngrok.process.ngrok:t=2024-03-18T14:01:14+0000 lvl=info msg=\"join connections\" obj=join id=13ff3aff2b08 l=127.0.0.1:8237 r=102.222.70.103:54904\n"
          ]
        },
        {
          "name": "stdout",
          "output_type": "stream",
          "text": [
            "\u001b[1;35mt=2024-03-18T14:01:14+0000 lvl=info msg=\"join connections\" obj=join id=13ff3aff2b08 l=127.0.0.1:8237 r=102.222.70.103:54904\u001b[0m\n",
            "\u001b[1;35mGot token from cookie\u001b[0m\n",
            "\u001b[32mINFO\u001b[0m:     102.222.70.103:0 - \"\u001b[1mGET /api/v1/workspaces/default/stacks?sort_by=desc:created&logical_operator=and&page=1&size=10 HTTP/1.1\u001b[0m\" \u001b[32m200 OK\u001b[0m\n"
          ]
        },
        {
          "name": "stderr",
          "output_type": "stream",
          "text": [
            "INFO:pyngrok.process.ngrok:t=2024-03-18T14:01:21+0000 lvl=info msg=\"join connections\" obj=join id=64cff5ee8b75 l=127.0.0.1:8237 r=102.222.70.103:54904\n"
          ]
        },
        {
          "name": "stdout",
          "output_type": "stream",
          "text": [
            "\u001b[1;35mt=2024-03-18T14:01:21+0000 lvl=info msg=\"join connections\" obj=join id=64cff5ee8b75 l=127.0.0.1:8237 r=102.222.70.103:54904\u001b[0m\n",
            "\u001b[1;35mGot token from cookie\u001b[0m\n",
            "\u001b[32mINFO\u001b[0m:     102.222.70.103:0 - \"\u001b[1mGET /api/v1/workspaces/default/stacks?sort_by=desc:created&logical_operator=and&page=1&size=10 HTTP/1.1\u001b[0m\" \u001b[32m200 OK\u001b[0m\n"
          ]
        },
        {
          "name": "stderr",
          "output_type": "stream",
          "text": [
            "INFO:pyngrok.process.ngrok:t=2024-03-18T14:01:26+0000 lvl=info msg=\"join connections\" obj=join id=48c9c9041b18 l=127.0.0.1:8237 r=102.222.70.103:54904\n"
          ]
        },
        {
          "name": "stdout",
          "output_type": "stream",
          "text": [
            "\u001b[1;35mt=2024-03-18T14:01:26+0000 lvl=info msg=\"join connections\" obj=join id=48c9c9041b18 l=127.0.0.1:8237 r=102.222.70.103:54904\u001b[0m\n",
            "\u001b[1;35mGot token from cookie\u001b[0m\n",
            "\u001b[32mINFO\u001b[0m:     102.222.70.103:0 - \"\u001b[1mGET /api/v1/workspaces/default/stacks?sort_by=desc:created&logical_operator=and&page=1&size=10 HTTP/1.1\u001b[0m\" \u001b[32m200 OK\u001b[0m\n"
          ]
        },
        {
          "name": "stderr",
          "output_type": "stream",
          "text": [
            "INFO:pyngrok.process.ngrok:t=2024-03-18T14:01:33+0000 lvl=info msg=\"join connections\" obj=join id=ca39e1dda27b l=127.0.0.1:8237 r=102.222.70.103:54904\n"
          ]
        },
        {
          "name": "stdout",
          "output_type": "stream",
          "text": [
            "\u001b[1;35mt=2024-03-18T14:01:33+0000 lvl=info msg=\"join connections\" obj=join id=ca39e1dda27b l=127.0.0.1:8237 r=102.222.70.103:54904\u001b[0m\n",
            "\u001b[1;35mGot token from cookie\u001b[0m\n",
            "\u001b[32mINFO\u001b[0m:     102.222.70.103:0 - \"\u001b[1mGET /api/v1/workspaces/default/stacks?sort_by=desc:created&logical_operator=and&page=1&size=10 HTTP/1.1\u001b[0m\" \u001b[32m200 OK\u001b[0m\n"
          ]
        },
        {
          "name": "stderr",
          "output_type": "stream",
          "text": [
            "INFO:pyngrok.process.ngrok:t=2024-03-18T14:01:39+0000 lvl=info msg=\"join connections\" obj=join id=752e40a3edbd l=127.0.0.1:8237 r=102.222.70.103:54904\n"
          ]
        },
        {
          "name": "stdout",
          "output_type": "stream",
          "text": [
            "\u001b[1;35mt=2024-03-18T14:01:39+0000 lvl=info msg=\"join connections\" obj=join id=752e40a3edbd l=127.0.0.1:8237 r=102.222.70.103:54904\u001b[0m\n",
            "\u001b[1;35mGot token from cookie\u001b[0m\n",
            "\u001b[32mINFO\u001b[0m:     102.222.70.103:0 - \"\u001b[1mGET /api/v1/workspaces/default/stacks?sort_by=desc:created&logical_operator=and&page=1&size=10 HTTP/1.1\u001b[0m\" \u001b[32m200 OK\u001b[0m\n"
          ]
        },
        {
          "name": "stderr",
          "output_type": "stream",
          "text": [
            "INFO:pyngrok.process.ngrok:t=2024-03-18T14:01:45+0000 lvl=info msg=\"join connections\" obj=join id=c0dfd1d561f8 l=127.0.0.1:8237 r=102.222.70.103:54904\n"
          ]
        },
        {
          "name": "stdout",
          "output_type": "stream",
          "text": [
            "\u001b[1;35mt=2024-03-18T14:01:45+0000 lvl=info msg=\"join connections\" obj=join id=c0dfd1d561f8 l=127.0.0.1:8237 r=102.222.70.103:54904\u001b[0m\n",
            "\u001b[1;35mGot token from cookie\u001b[0m\n",
            "\u001b[32mINFO\u001b[0m:     102.222.70.103:0 - \"\u001b[1mGET /api/v1/workspaces/default/stacks?sort_by=desc:created&logical_operator=and&page=1&size=10 HTTP/1.1\u001b[0m\" \u001b[32m200 OK\u001b[0m\n"
          ]
        },
        {
          "name": "stderr",
          "output_type": "stream",
          "text": [
            "INFO:pyngrok.process.ngrok:t=2024-03-18T14:01:51+0000 lvl=info msg=\"join connections\" obj=join id=b2a503b427f7 l=127.0.0.1:8237 r=102.222.70.103:54904\n"
          ]
        },
        {
          "name": "stdout",
          "output_type": "stream",
          "text": [
            "\u001b[1;35mt=2024-03-18T14:01:51+0000 lvl=info msg=\"join connections\" obj=join id=b2a503b427f7 l=127.0.0.1:8237 r=102.222.70.103:54904\u001b[0m\n",
            "\u001b[1;35mGot token from cookie\u001b[0m\n",
            "\u001b[32mINFO\u001b[0m:     102.222.70.103:0 - \"\u001b[1mGET /api/v1/workspaces/default/stacks?sort_by=desc:created&logical_operator=and&page=1&size=10 HTTP/1.1\u001b[0m\" \u001b[32m200 OK\u001b[0m\n"
          ]
        },
        {
          "name": "stderr",
          "output_type": "stream",
          "text": [
            "INFO:pyngrok.process.ngrok:t=2024-03-18T14:01:58+0000 lvl=info msg=\"join connections\" obj=join id=84805953dd67 l=127.0.0.1:8237 r=102.222.70.103:54904\n"
          ]
        },
        {
          "name": "stdout",
          "output_type": "stream",
          "text": [
            "\u001b[1;35mt=2024-03-18T14:01:58+0000 lvl=info msg=\"join connections\" obj=join id=84805953dd67 l=127.0.0.1:8237 r=102.222.70.103:54904\u001b[0m\n",
            "\u001b[1;35mGot token from cookie\u001b[0m\n",
            "\u001b[32mINFO\u001b[0m:     102.222.70.103:0 - \"\u001b[1mGET /api/v1/workspaces/default/stacks?sort_by=desc:created&logical_operator=and&page=1&size=10 HTTP/1.1\u001b[0m\" \u001b[32m200 OK\u001b[0m\n"
          ]
        },
        {
          "name": "stderr",
          "output_type": "stream",
          "text": [
            "INFO:pyngrok.process.ngrok:t=2024-03-18T14:02:05+0000 lvl=info msg=\"join connections\" obj=join id=48e9a6e3f625 l=127.0.0.1:8237 r=102.222.70.103:54904\n"
          ]
        },
        {
          "name": "stdout",
          "output_type": "stream",
          "text": [
            "\u001b[1;35mt=2024-03-18T14:02:05+0000 lvl=info msg=\"join connections\" obj=join id=48e9a6e3f625 l=127.0.0.1:8237 r=102.222.70.103:54904\u001b[0m\n",
            "\u001b[1;35mGot token from cookie\u001b[0m\n",
            "\u001b[32mINFO\u001b[0m:     102.222.70.103:0 - \"\u001b[1mGET /api/v1/workspaces/default/stacks?sort_by=desc:created&logical_operator=and&page=1&size=10 HTTP/1.1\u001b[0m\" \u001b[32m200 OK\u001b[0m\n"
          ]
        },
        {
          "name": "stderr",
          "output_type": "stream",
          "text": [
            "INFO:pyngrok.process.ngrok:t=2024-03-18T14:02:12+0000 lvl=info msg=\"join connections\" obj=join id=58aafa9e2aee l=127.0.0.1:8237 r=102.222.70.103:54904\n"
          ]
        },
        {
          "name": "stdout",
          "output_type": "stream",
          "text": [
            "\u001b[1;35mt=2024-03-18T14:02:12+0000 lvl=info msg=\"join connections\" obj=join id=58aafa9e2aee l=127.0.0.1:8237 r=102.222.70.103:54904\u001b[0m\n",
            "\u001b[1;35mGot token from cookie\u001b[0m\n",
            "\u001b[32mINFO\u001b[0m:     102.222.70.103:0 - \"\u001b[1mGET /api/v1/workspaces/default/stacks?sort_by=desc:created&logical_operator=and&page=1&size=10 HTTP/1.1\u001b[0m\" \u001b[32m200 OK\u001b[0m\n"
          ]
        },
        {
          "name": "stderr",
          "output_type": "stream",
          "text": [
            "INFO:pyngrok.process.ngrok:t=2024-03-18T14:02:19+0000 lvl=info msg=\"join connections\" obj=join id=5f04ad5af062 l=127.0.0.1:8237 r=102.222.70.103:54904\n"
          ]
        },
        {
          "name": "stdout",
          "output_type": "stream",
          "text": [
            "\u001b[1;35mt=2024-03-18T14:02:19+0000 lvl=info msg=\"join connections\" obj=join id=5f04ad5af062 l=127.0.0.1:8237 r=102.222.70.103:54904\u001b[0m\n",
            "\u001b[1;35mGot token from cookie\u001b[0m\n",
            "\u001b[32mINFO\u001b[0m:     102.222.70.103:0 - \"\u001b[1mGET /api/v1/workspaces/default/stacks?sort_by=desc:created&logical_operator=and&page=1&size=10 HTTP/1.1\u001b[0m\" \u001b[32m200 OK\u001b[0m\n"
          ]
        },
        {
          "name": "stderr",
          "output_type": "stream",
          "text": [
            "INFO:pyngrok.process.ngrok:t=2024-03-18T14:02:26+0000 lvl=info msg=\"join connections\" obj=join id=8839e9371548 l=127.0.0.1:8237 r=102.222.70.103:54904\n"
          ]
        },
        {
          "name": "stdout",
          "output_type": "stream",
          "text": [
            "\u001b[1;35mt=2024-03-18T14:02:26+0000 lvl=info msg=\"join connections\" obj=join id=8839e9371548 l=127.0.0.1:8237 r=102.222.70.103:54904\u001b[0m\n",
            "\u001b[1;35mGot token from cookie\u001b[0m\n",
            "\u001b[32mINFO\u001b[0m:     102.222.70.103:0 - \"\u001b[1mGET /api/v1/workspaces/default/stacks?sort_by=desc:created&logical_operator=and&page=1&size=10 HTTP/1.1\u001b[0m\" \u001b[32m200 OK\u001b[0m\n"
          ]
        },
        {
          "name": "stderr",
          "output_type": "stream",
          "text": [
            "INFO:pyngrok.process.ngrok:t=2024-03-18T14:02:33+0000 lvl=info msg=\"join connections\" obj=join id=bd90b0d3c018 l=127.0.0.1:8237 r=102.222.70.103:54904\n"
          ]
        },
        {
          "name": "stdout",
          "output_type": "stream",
          "text": [
            "\u001b[1;35mt=2024-03-18T14:02:33+0000 lvl=info msg=\"join connections\" obj=join id=bd90b0d3c018 l=127.0.0.1:8237 r=102.222.70.103:54904\u001b[0m\n",
            "\u001b[1;35mGot token from cookie\u001b[0m\n",
            "\u001b[32mINFO\u001b[0m:     102.222.70.103:0 - \"\u001b[1mGET /api/v1/workspaces/default/stacks?sort_by=desc:created&logical_operator=and&page=1&size=10 HTTP/1.1\u001b[0m\" \u001b[32m200 OK\u001b[0m\n"
          ]
        },
        {
          "name": "stderr",
          "output_type": "stream",
          "text": [
            "INFO:pyngrok.process.ngrok:t=2024-03-18T14:02:40+0000 lvl=info msg=\"join connections\" obj=join id=61a1e1cd0973 l=127.0.0.1:8237 r=102.222.70.103:54904\n"
          ]
        },
        {
          "name": "stdout",
          "output_type": "stream",
          "text": [
            "\u001b[1;35mt=2024-03-18T14:02:40+0000 lvl=info msg=\"join connections\" obj=join id=61a1e1cd0973 l=127.0.0.1:8237 r=102.222.70.103:54904\u001b[0m\n",
            "\u001b[1;35mGot token from cookie\u001b[0m\n",
            "\u001b[32mINFO\u001b[0m:     102.222.70.103:0 - \"\u001b[1mGET /api/v1/workspaces/default/stacks?sort_by=desc:created&logical_operator=and&page=1&size=10 HTTP/1.1\u001b[0m\" \u001b[32m200 OK\u001b[0m\n"
          ]
        },
        {
          "name": "stderr",
          "output_type": "stream",
          "text": [
            "INFO:pyngrok.process.ngrok:t=2024-03-18T14:02:46+0000 lvl=info msg=\"join connections\" obj=join id=ab93700257cf l=127.0.0.1:8237 r=102.222.70.103:54904\n"
          ]
        },
        {
          "name": "stdout",
          "output_type": "stream",
          "text": [
            "\u001b[1;35mt=2024-03-18T14:02:46+0000 lvl=info msg=\"join connections\" obj=join id=ab93700257cf l=127.0.0.1:8237 r=102.222.70.103:54904\u001b[0m\n",
            "\u001b[1;35mGot token from cookie\u001b[0m\n",
            "\u001b[32mINFO\u001b[0m:     102.222.70.103:0 - \"\u001b[1mGET /api/v1/workspaces/default/stacks?sort_by=desc:created&logical_operator=and&page=1&size=10 HTTP/1.1\u001b[0m\" \u001b[32m200 OK\u001b[0m\n"
          ]
        },
        {
          "name": "stderr",
          "output_type": "stream",
          "text": [
            "INFO:pyngrok.process.ngrok:t=2024-03-18T14:02:52+0000 lvl=info msg=\"join connections\" obj=join id=d2c88fb1b281 l=127.0.0.1:8237 r=102.222.70.103:54904\n"
          ]
        },
        {
          "name": "stdout",
          "output_type": "stream",
          "text": [
            "\u001b[1;35mt=2024-03-18T14:02:52+0000 lvl=info msg=\"join connections\" obj=join id=d2c88fb1b281 l=127.0.0.1:8237 r=102.222.70.103:54904\u001b[0m\n",
            "\u001b[1;35mGot token from cookie\u001b[0m\n",
            "\u001b[32mINFO\u001b[0m:     102.222.70.103:0 - \"\u001b[1mGET /api/v1/workspaces/default/stacks?sort_by=desc:created&logical_operator=and&page=1&size=10 HTTP/1.1\u001b[0m\" \u001b[32m200 OK\u001b[0m\n"
          ]
        },
        {
          "name": "stderr",
          "output_type": "stream",
          "text": [
            "INFO:pyngrok.process.ngrok:t=2024-03-18T14:02:58+0000 lvl=info msg=\"join connections\" obj=join id=f4a1aa9a8a50 l=127.0.0.1:8237 r=102.222.70.103:54904\n"
          ]
        },
        {
          "name": "stdout",
          "output_type": "stream",
          "text": [
            "\u001b[1;35mt=2024-03-18T14:02:58+0000 lvl=info msg=\"join connections\" obj=join id=f4a1aa9a8a50 l=127.0.0.1:8237 r=102.222.70.103:54904\u001b[0m\n",
            "\u001b[1;35mGot token from cookie\u001b[0m\n",
            "\u001b[32mINFO\u001b[0m:     102.222.70.103:0 - \"\u001b[1mGET /api/v1/workspaces/default/stacks?sort_by=desc:created&logical_operator=and&page=1&size=10 HTTP/1.1\u001b[0m\" \u001b[32m200 OK\u001b[0m\n"
          ]
        },
        {
          "name": "stderr",
          "output_type": "stream",
          "text": [
            "INFO:pyngrok.process.ngrok:t=2024-03-18T14:03:05+0000 lvl=info msg=\"join connections\" obj=join id=0c5ddc1119d8 l=127.0.0.1:8237 r=102.222.70.103:54904\n"
          ]
        },
        {
          "name": "stdout",
          "output_type": "stream",
          "text": [
            "\u001b[1;35mt=2024-03-18T14:03:05+0000 lvl=info msg=\"join connections\" obj=join id=0c5ddc1119d8 l=127.0.0.1:8237 r=102.222.70.103:54904\u001b[0m\n",
            "\u001b[1;35mGot token from cookie\u001b[0m\n",
            "\u001b[32mINFO\u001b[0m:     102.222.70.103:0 - \"\u001b[1mGET /api/v1/workspaces/default/stacks?sort_by=desc:created&logical_operator=and&page=1&size=10 HTTP/1.1\u001b[0m\" \u001b[32m200 OK\u001b[0m\n"
          ]
        },
        {
          "name": "stderr",
          "output_type": "stream",
          "text": [
            "INFO:pyngrok.process.ngrok:t=2024-03-18T14:03:11+0000 lvl=info msg=\"join connections\" obj=join id=56e652778c85 l=127.0.0.1:8237 r=102.222.70.103:54904\n"
          ]
        },
        {
          "name": "stdout",
          "output_type": "stream",
          "text": [
            "\u001b[1;35mt=2024-03-18T14:03:11+0000 lvl=info msg=\"join connections\" obj=join id=56e652778c85 l=127.0.0.1:8237 r=102.222.70.103:54904\u001b[0m\n",
            "\u001b[1;35mGot token from cookie\u001b[0m\n",
            "\u001b[32mINFO\u001b[0m:     102.222.70.103:0 - \"\u001b[1mGET /api/v1/workspaces/default/stacks?sort_by=desc:created&logical_operator=and&page=1&size=10 HTTP/1.1\u001b[0m\" \u001b[32m200 OK\u001b[0m\n"
          ]
        },
        {
          "name": "stderr",
          "output_type": "stream",
          "text": [
            "INFO:pyngrok.process.ngrok:t=2024-03-18T14:03:18+0000 lvl=info msg=\"join connections\" obj=join id=534bb056546b l=127.0.0.1:8237 r=102.222.70.103:54904\n"
          ]
        },
        {
          "name": "stdout",
          "output_type": "stream",
          "text": [
            "\u001b[1;35mt=2024-03-18T14:03:18+0000 lvl=info msg=\"join connections\" obj=join id=534bb056546b l=127.0.0.1:8237 r=102.222.70.103:54904\u001b[0m\n",
            "\u001b[1;35mGot token from cookie\u001b[0m\n",
            "\u001b[32mINFO\u001b[0m:     102.222.70.103:0 - \"\u001b[1mGET /api/v1/workspaces/default/stacks?sort_by=desc:created&logical_operator=and&page=1&size=10 HTTP/1.1\u001b[0m\" \u001b[32m200 OK\u001b[0m\n"
          ]
        },
        {
          "name": "stderr",
          "output_type": "stream",
          "text": [
            "INFO:pyngrok.process.ngrok:t=2024-03-18T14:03:24+0000 lvl=info msg=\"join connections\" obj=join id=62f2de0fffcb l=127.0.0.1:8237 r=102.222.70.103:54904\n"
          ]
        },
        {
          "name": "stdout",
          "output_type": "stream",
          "text": [
            "\u001b[1;35mt=2024-03-18T14:03:24+0000 lvl=info msg=\"join connections\" obj=join id=62f2de0fffcb l=127.0.0.1:8237 r=102.222.70.103:54904\u001b[0m\n",
            "\u001b[1;35mGot token from cookie\u001b[0m\n",
            "\u001b[32mINFO\u001b[0m:     102.222.70.103:0 - \"\u001b[1mGET /api/v1/workspaces/default/stacks?sort_by=desc:created&logical_operator=and&page=1&size=10 HTTP/1.1\u001b[0m\" \u001b[32m200 OK\u001b[0m\n"
          ]
        },
        {
          "name": "stderr",
          "output_type": "stream",
          "text": [
            "INFO:pyngrok.process.ngrok:t=2024-03-18T14:03:29+0000 lvl=info msg=\"join connections\" obj=join id=eb680511caf3 l=127.0.0.1:8237 r=102.222.70.103:54904\n"
          ]
        },
        {
          "name": "stdout",
          "output_type": "stream",
          "text": [
            "\u001b[1;35mt=2024-03-18T14:03:29+0000 lvl=info msg=\"join connections\" obj=join id=eb680511caf3 l=127.0.0.1:8237 r=102.222.70.103:54904\u001b[0m\n",
            "\u001b[1;35mGot token from cookie\u001b[0m\n",
            "\u001b[32mINFO\u001b[0m:     102.222.70.103:0 - \"\u001b[1mGET /api/v1/workspaces/default/stacks?sort_by=desc:created&logical_operator=and&page=1&size=10 HTTP/1.1\u001b[0m\" \u001b[32m200 OK\u001b[0m\n"
          ]
        },
        {
          "name": "stderr",
          "output_type": "stream",
          "text": [
            "INFO:pyngrok.process.ngrok:t=2024-03-18T14:03:36+0000 lvl=info msg=\"join connections\" obj=join id=dc084d2fcca3 l=127.0.0.1:8237 r=102.222.70.103:54940\n"
          ]
        },
        {
          "name": "stdout",
          "output_type": "stream",
          "text": [
            "\u001b[1;35mt=2024-03-18T14:03:36+0000 lvl=info msg=\"join connections\" obj=join id=dc084d2fcca3 l=127.0.0.1:8237 r=102.222.70.103:54940\u001b[0m\n",
            "\u001b[1;35mGot token from cookie\u001b[0m\n",
            "\u001b[32mINFO\u001b[0m:     102.222.70.103:0 - \"\u001b[1mGET /api/v1/workspaces/default/stacks?sort_by=desc:created&logical_operator=and&page=1&size=10 HTTP/1.1\u001b[0m\" \u001b[32m200 OK\u001b[0m\n"
          ]
        },
        {
          "name": "stderr",
          "output_type": "stream",
          "text": [
            "INFO:pyngrok.process.ngrok:t=2024-03-18T14:03:43+0000 lvl=info msg=\"join connections\" obj=join id=ae43b28caa7f l=127.0.0.1:8237 r=102.219.103.197:54943\n"
          ]
        },
        {
          "name": "stdout",
          "output_type": "stream",
          "text": [
            "\u001b[1;35mt=2024-03-18T14:03:43+0000 lvl=info msg=\"join connections\" obj=join id=ae43b28caa7f l=127.0.0.1:8237 r=102.219.103.197:54943\u001b[0m\n",
            "\u001b[1;35mGot token from cookie\u001b[0m\n",
            "\u001b[32mINFO\u001b[0m:     102.219.103.197:0 - \"\u001b[1mGET /api/v1/workspaces/default/stacks?sort_by=desc:created&logical_operator=and&page=1&size=10 HTTP/1.1\u001b[0m\" \u001b[32m200 OK\u001b[0m\n"
          ]
        },
        {
          "name": "stderr",
          "output_type": "stream",
          "text": [
            "INFO:pyngrok.process.ngrok:t=2024-03-18T14:03:50+0000 lvl=info msg=\"join connections\" obj=join id=1c2ce183ace0 l=127.0.0.1:8237 r=102.219.103.197:54943\n"
          ]
        },
        {
          "name": "stdout",
          "output_type": "stream",
          "text": [
            "\u001b[1;35mt=2024-03-18T14:03:50+0000 lvl=info msg=\"join connections\" obj=join id=1c2ce183ace0 l=127.0.0.1:8237 r=102.219.103.197:54943\u001b[0m\n",
            "\u001b[1;35mGot token from cookie\u001b[0m\n",
            "\u001b[32mINFO\u001b[0m:     102.219.103.197:0 - \"\u001b[1mGET /api/v1/workspaces/default/stacks?sort_by=desc:created&logical_operator=and&page=1&size=10 HTTP/1.1\u001b[0m\" \u001b[32m200 OK\u001b[0m\n"
          ]
        },
        {
          "name": "stderr",
          "output_type": "stream",
          "text": [
            "INFO:pyngrok.process.ngrok:t=2024-03-18T14:03:56+0000 lvl=info msg=\"join connections\" obj=join id=75bf2eb01832 l=127.0.0.1:8237 r=102.219.103.197:54949\n"
          ]
        },
        {
          "name": "stdout",
          "output_type": "stream",
          "text": [
            "\u001b[1;35mt=2024-03-18T14:03:56+0000 lvl=info msg=\"join connections\" obj=join id=75bf2eb01832 l=127.0.0.1:8237 r=102.219.103.197:54949\u001b[0m\n",
            "\u001b[1;35mGot token from cookie\u001b[0m\n",
            "\u001b[32mINFO\u001b[0m:     102.219.103.197:0 - \"\u001b[1mGET /api/v1/workspaces/default/stacks?sort_by=desc:created&logical_operator=and&page=1&size=10 HTTP/1.1\u001b[0m\" \u001b[32m200 OK\u001b[0m\n"
          ]
        },
        {
          "name": "stderr",
          "output_type": "stream",
          "text": [
            "INFO:pyngrok.process.ngrok:t=2024-03-18T14:04:03+0000 lvl=info msg=\"join connections\" obj=join id=c5f81b7e1073 l=127.0.0.1:8237 r=102.211.61.95:54951\n"
          ]
        },
        {
          "name": "stdout",
          "output_type": "stream",
          "text": [
            "\u001b[1;35mt=2024-03-18T14:04:03+0000 lvl=info msg=\"join connections\" obj=join id=c5f81b7e1073 l=127.0.0.1:8237 r=102.211.61.95:54951\u001b[0m\n",
            "\u001b[1;35mGot token from cookie\u001b[0m\n",
            "\u001b[32mINFO\u001b[0m:     102.211.61.95:0 - \"\u001b[1mGET /api/v1/workspaces/default/stacks?sort_by=desc:created&logical_operator=and&page=1&size=10 HTTP/1.1\u001b[0m\" \u001b[32m200 OK\u001b[0m\n"
          ]
        },
        {
          "name": "stderr",
          "output_type": "stream",
          "text": [
            "INFO:pyngrok.process.ngrok:t=2024-03-18T14:04:10+0000 lvl=info msg=\"join connections\" obj=join id=572d4d7f418d l=127.0.0.1:8237 r=102.211.61.95:54951\n"
          ]
        },
        {
          "name": "stdout",
          "output_type": "stream",
          "text": [
            "\u001b[1;35mt=2024-03-18T14:04:10+0000 lvl=info msg=\"join connections\" obj=join id=572d4d7f418d l=127.0.0.1:8237 r=102.211.61.95:54951\u001b[0m\n",
            "\u001b[1;35mGot token from cookie\u001b[0m\n",
            "\u001b[32mINFO\u001b[0m:     102.211.61.95:0 - \"\u001b[1mGET /api/v1/workspaces/default/stacks?sort_by=desc:created&logical_operator=and&page=1&size=10 HTTP/1.1\u001b[0m\" \u001b[32m200 OK\u001b[0m\n"
          ]
        },
        {
          "name": "stderr",
          "output_type": "stream",
          "text": [
            "INFO:pyngrok.process.ngrok:t=2024-03-18T14:04:16+0000 lvl=info msg=\"join connections\" obj=join id=7b17fcaf4a9a l=127.0.0.1:8237 r=102.211.61.95:54951\n"
          ]
        },
        {
          "name": "stdout",
          "output_type": "stream",
          "text": [
            "\u001b[1;35mt=2024-03-18T14:04:16+0000 lvl=info msg=\"join connections\" obj=join id=7b17fcaf4a9a l=127.0.0.1:8237 r=102.211.61.95:54951\u001b[0m\n",
            "\u001b[1;35mGot token from cookie\u001b[0m\n",
            "\u001b[32mINFO\u001b[0m:     102.211.61.95:0 - \"\u001b[1mGET /api/v1/workspaces/default/stacks?sort_by=desc:created&logical_operator=and&page=1&size=10 HTTP/1.1\u001b[0m\" \u001b[32m200 OK\u001b[0m\n"
          ]
        },
        {
          "name": "stderr",
          "output_type": "stream",
          "text": [
            "INFO:pyngrok.process.ngrok:t=2024-03-18T14:04:22+0000 lvl=info msg=\"join connections\" obj=join id=49449f0c6b09 l=127.0.0.1:8237 r=102.211.61.95:54958\n"
          ]
        },
        {
          "name": "stdout",
          "output_type": "stream",
          "text": [
            "\u001b[1;35mt=2024-03-18T14:04:22+0000 lvl=info msg=\"join connections\" obj=join id=49449f0c6b09 l=127.0.0.1:8237 r=102.211.61.95:54958\u001b[0m\n",
            "\u001b[1;35mGot token from cookie\u001b[0m\n",
            "\u001b[32mINFO\u001b[0m:     102.211.61.95:0 - \"\u001b[1mGET /api/v1/workspaces/default/stacks?sort_by=desc:created&logical_operator=and&page=1&size=10 HTTP/1.1\u001b[0m\" \u001b[32m200 OK\u001b[0m\n"
          ]
        },
        {
          "name": "stderr",
          "output_type": "stream",
          "text": [
            "INFO:pyngrok.process.ngrok:t=2024-03-18T14:04:29+0000 lvl=info msg=\"join connections\" obj=join id=96fad6174cec l=127.0.0.1:8237 r=102.211.61.95:54958\n"
          ]
        },
        {
          "name": "stdout",
          "output_type": "stream",
          "text": [
            "\u001b[1;35mt=2024-03-18T14:04:29+0000 lvl=info msg=\"join connections\" obj=join id=96fad6174cec l=127.0.0.1:8237 r=102.211.61.95:54958\u001b[0m\n",
            "\u001b[1;35mGot token from cookie\u001b[0m\n",
            "\u001b[32mINFO\u001b[0m:     102.211.61.95:0 - \"\u001b[1mGET /api/v1/workspaces/default/stacks?sort_by=desc:created&logical_operator=and&page=1&size=10 HTTP/1.1\u001b[0m\" \u001b[32m200 OK\u001b[0m\n"
          ]
        },
        {
          "name": "stderr",
          "output_type": "stream",
          "text": [
            "INFO:pyngrok.process.ngrok:t=2024-03-18T14:04:36+0000 lvl=info msg=\"join connections\" obj=join id=3024e39fec43 l=127.0.0.1:8237 r=102.222.70.103:54968\n"
          ]
        },
        {
          "name": "stdout",
          "output_type": "stream",
          "text": [
            "\u001b[1;35mt=2024-03-18T14:04:36+0000 lvl=info msg=\"join connections\" obj=join id=3024e39fec43 l=127.0.0.1:8237 r=102.222.70.103:54968\u001b[0m\n",
            "\u001b[1;35mGot token from cookie\u001b[0m\n",
            "\u001b[32mINFO\u001b[0m:     102.222.70.103:0 - \"\u001b[1mGET /api/v1/workspaces/default/stacks?sort_by=desc:created&logical_operator=and&page=1&size=10 HTTP/1.1\u001b[0m\" \u001b[32m200 OK\u001b[0m\n"
          ]
        },
        {
          "name": "stderr",
          "output_type": "stream",
          "text": [
            "INFO:pyngrok.process.ngrok:t=2024-03-18T14:04:43+0000 lvl=info msg=\"join connections\" obj=join id=72393df07fa5 l=127.0.0.1:8237 r=102.222.234.175:18496\n"
          ]
        },
        {
          "name": "stdout",
          "output_type": "stream",
          "text": [
            "\u001b[1;35mt=2024-03-18T14:04:43+0000 lvl=info msg=\"join connections\" obj=join id=72393df07fa5 l=127.0.0.1:8237 r=102.222.234.175:18496\u001b[0m\n",
            "\u001b[1;35mGot token from cookie\u001b[0m\n",
            "\u001b[32mINFO\u001b[0m:     102.222.234.175:0 - \"\u001b[1mGET /api/v1/workspaces/default/stacks?sort_by=desc:created&logical_operator=and&page=1&size=10 HTTP/1.1\u001b[0m\" \u001b[32m200 OK\u001b[0m\n"
          ]
        },
        {
          "name": "stderr",
          "output_type": "stream",
          "text": [
            "INFO:pyngrok.process.ngrok:t=2024-03-18T14:04:49+0000 lvl=info msg=\"join connections\" obj=join id=cc1d797054cb l=127.0.0.1:8237 r=102.222.234.175:18496\n"
          ]
        },
        {
          "name": "stdout",
          "output_type": "stream",
          "text": [
            "\u001b[1;35mt=2024-03-18T14:04:49+0000 lvl=info msg=\"join connections\" obj=join id=cc1d797054cb l=127.0.0.1:8237 r=102.222.234.175:18496\u001b[0m\n",
            "\u001b[1;35mGot token from cookie\u001b[0m\n",
            "\u001b[32mINFO\u001b[0m:     102.222.234.175:0 - \"\u001b[1mGET /api/v1/workspaces/default/stacks?sort_by=desc:created&logical_operator=and&page=1&size=10 HTTP/1.1\u001b[0m\" \u001b[32m200 OK\u001b[0m\n"
          ]
        },
        {
          "name": "stderr",
          "output_type": "stream",
          "text": [
            "INFO:pyngrok.process.ngrok:t=2024-03-18T14:04:58+0000 lvl=info msg=\"join connections\" obj=join id=403697a02148 l=127.0.0.1:8237 r=102.222.234.175:18496\n"
          ]
        },
        {
          "name": "stdout",
          "output_type": "stream",
          "text": [
            "\u001b[1;35mt=2024-03-18T14:04:58+0000 lvl=info msg=\"join connections\" obj=join id=403697a02148 l=127.0.0.1:8237 r=102.222.234.175:18496\u001b[0m\n",
            "\u001b[1;35mGot token from cookie\u001b[0m\n",
            "\u001b[32mINFO\u001b[0m:     102.222.234.175:0 - \"\u001b[1mGET /api/v1/workspaces/default/stacks?sort_by=desc:created&logical_operator=and&page=1&size=10 HTTP/1.1\u001b[0m\" \u001b[32m200 OK\u001b[0m\n"
          ]
        },
        {
          "name": "stderr",
          "output_type": "stream",
          "text": [
            "INFO:pyngrok.process.ngrok:t=2024-03-18T14:05:05+0000 lvl=info msg=\"join connections\" obj=join id=d674ad1ccd3c l=127.0.0.1:8237 r=102.222.234.175:18645\n"
          ]
        },
        {
          "name": "stdout",
          "output_type": "stream",
          "text": [
            "\u001b[1;35mt=2024-03-18T14:05:05+0000 lvl=info msg=\"join connections\" obj=join id=d674ad1ccd3c l=127.0.0.1:8237 r=102.222.234.175:18645\u001b[0m\n",
            "\u001b[1;35mGot token from cookie\u001b[0m\n",
            "\u001b[32mINFO\u001b[0m:     102.222.234.175:0 - \"\u001b[1mGET /api/v1/workspaces/default/stacks?sort_by=desc:created&logical_operator=and&page=1&size=10 HTTP/1.1\u001b[0m\" \u001b[32m200 OK\u001b[0m\n"
          ]
        },
        {
          "name": "stderr",
          "output_type": "stream",
          "text": [
            "INFO:pyngrok.process.ngrok:t=2024-03-18T14:05:12+0000 lvl=info msg=\"join connections\" obj=join id=04e2f5e071b8 l=127.0.0.1:8237 r=102.222.70.103:54983\n"
          ]
        },
        {
          "name": "stdout",
          "output_type": "stream",
          "text": [
            "\u001b[1;35mt=2024-03-18T14:05:12+0000 lvl=info msg=\"join connections\" obj=join id=04e2f5e071b8 l=127.0.0.1:8237 r=102.222.70.103:54983\u001b[0m\n",
            "\u001b[1;35mGot token from cookie\u001b[0m\n",
            "\u001b[32mINFO\u001b[0m:     102.222.70.103:0 - \"\u001b[1mGET /api/v1/workspaces/default/stacks?sort_by=desc:created&logical_operator=and&page=1&size=10 HTTP/1.1\u001b[0m\" \u001b[32m200 OK\u001b[0m\n"
          ]
        },
        {
          "name": "stderr",
          "output_type": "stream",
          "text": [
            "INFO:pyngrok.process.ngrok:t=2024-03-18T14:05:19+0000 lvl=info msg=\"join connections\" obj=join id=f3a524e87a32 l=127.0.0.1:8237 r=102.222.70.103:54983\n"
          ]
        },
        {
          "name": "stdout",
          "output_type": "stream",
          "text": [
            "\u001b[1;35mt=2024-03-18T14:05:19+0000 lvl=info msg=\"join connections\" obj=join id=f3a524e87a32 l=127.0.0.1:8237 r=102.222.70.103:54983\u001b[0m\n",
            "\u001b[1;35mGot token from cookie\u001b[0m\n",
            "\u001b[32mINFO\u001b[0m:     102.222.70.103:0 - \"\u001b[1mGET /api/v1/workspaces/default/stacks?sort_by=desc:created&logical_operator=and&page=1&size=10 HTTP/1.1\u001b[0m\" \u001b[32m200 OK\u001b[0m\n"
          ]
        },
        {
          "name": "stderr",
          "output_type": "stream",
          "text": [
            "INFO:pyngrok.process.ngrok:t=2024-03-18T14:05:26+0000 lvl=info msg=\"join connections\" obj=join id=4ac699326421 l=127.0.0.1:8237 r=102.219.103.197:54991\n"
          ]
        },
        {
          "name": "stdout",
          "output_type": "stream",
          "text": [
            "\u001b[1;35mt=2024-03-18T14:05:26+0000 lvl=info msg=\"join connections\" obj=join id=4ac699326421 l=127.0.0.1:8237 r=102.219.103.197:54991\u001b[0m\n",
            "\u001b[1;35mGot token from cookie\u001b[0m\n",
            "\u001b[32mINFO\u001b[0m:     102.219.103.197:0 - \"\u001b[1mGET /api/v1/workspaces/default/stacks?sort_by=desc:created&logical_operator=and&page=1&size=10 HTTP/1.1\u001b[0m\" \u001b[32m200 OK\u001b[0m\n"
          ]
        },
        {
          "name": "stderr",
          "output_type": "stream",
          "text": [
            "INFO:pyngrok.process.ngrok:t=2024-03-18T14:05:33+0000 lvl=info msg=\"join connections\" obj=join id=f3f1331b64b7 l=127.0.0.1:8237 r=102.219.103.197:54991\n"
          ]
        },
        {
          "name": "stdout",
          "output_type": "stream",
          "text": [
            "\u001b[1;35mt=2024-03-18T14:05:33+0000 lvl=info msg=\"join connections\" obj=join id=f3f1331b64b7 l=127.0.0.1:8237 r=102.219.103.197:54991\u001b[0m\n",
            "\u001b[1;35mGot token from cookie\u001b[0m\n",
            "\u001b[32mINFO\u001b[0m:     102.219.103.197:0 - \"\u001b[1mGET /api/v1/workspaces/default/stacks?sort_by=desc:created&logical_operator=and&page=1&size=10 HTTP/1.1\u001b[0m\" \u001b[32m200 OK\u001b[0m\n"
          ]
        },
        {
          "name": "stderr",
          "output_type": "stream",
          "text": [
            "INFO:pyngrok.process.ngrok:t=2024-03-18T14:05:41+0000 lvl=info msg=\"join connections\" obj=join id=7ea7e2cbd284 l=127.0.0.1:8237 r=102.219.103.197:54991\n"
          ]
        },
        {
          "name": "stdout",
          "output_type": "stream",
          "text": [
            "\u001b[1;35mt=2024-03-18T14:05:41+0000 lvl=info msg=\"join connections\" obj=join id=7ea7e2cbd284 l=127.0.0.1:8237 r=102.219.103.197:54991\u001b[0m\n",
            "\u001b[1;35mGot token from cookie\u001b[0m\n",
            "\u001b[32mINFO\u001b[0m:     102.219.103.197:0 - \"\u001b[1mGET /api/v1/workspaces/default/stacks?sort_by=desc:created&logical_operator=and&page=1&size=10 HTTP/1.1\u001b[0m\" \u001b[32m200 OK\u001b[0m\n"
          ]
        },
        {
          "name": "stderr",
          "output_type": "stream",
          "text": [
            "INFO:pyngrok.process.ngrok:t=2024-03-18T14:05:47+0000 lvl=info msg=\"join connections\" obj=join id=4e922e4bfd08 l=127.0.0.1:8237 r=102.219.103.197:54991\n"
          ]
        },
        {
          "name": "stdout",
          "output_type": "stream",
          "text": [
            "\u001b[1;35mt=2024-03-18T14:05:47+0000 lvl=info msg=\"join connections\" obj=join id=4e922e4bfd08 l=127.0.0.1:8237 r=102.219.103.197:54991\u001b[0m\n",
            "\u001b[1;35mGot token from cookie\u001b[0m\n",
            "\u001b[32mINFO\u001b[0m:     102.219.103.197:0 - \"\u001b[1mGET /api/v1/workspaces/default/stacks?sort_by=desc:created&logical_operator=and&page=1&size=10 HTTP/1.1\u001b[0m\" \u001b[32m200 OK\u001b[0m\n"
          ]
        },
        {
          "name": "stderr",
          "output_type": "stream",
          "text": [
            "INFO:pyngrok.process.ngrok:t=2024-03-18T14:05:53+0000 lvl=info msg=\"join connections\" obj=join id=9e0b89ddc0f1 l=127.0.0.1:8237 r=102.222.70.103:54996\n"
          ]
        },
        {
          "name": "stdout",
          "output_type": "stream",
          "text": [
            "\u001b[1;35mt=2024-03-18T14:05:53+0000 lvl=info msg=\"join connections\" obj=join id=9e0b89ddc0f1 l=127.0.0.1:8237 r=102.222.70.103:54996\u001b[0m\n",
            "\u001b[1;35mGot token from cookie\u001b[0m\n",
            "\u001b[32mINFO\u001b[0m:     102.222.70.103:0 - \"\u001b[1mGET /api/v1/workspaces/default/stacks?sort_by=desc:created&logical_operator=and&page=1&size=10 HTTP/1.1\u001b[0m\" \u001b[32m200 OK\u001b[0m\n"
          ]
        },
        {
          "name": "stderr",
          "output_type": "stream",
          "text": [
            "INFO:pyngrok.process.ngrok:t=2024-03-18T14:06:00+0000 lvl=info msg=\"join connections\" obj=join id=a22f9efc2bff l=127.0.0.1:8237 r=102.222.70.103:54996\n"
          ]
        },
        {
          "name": "stdout",
          "output_type": "stream",
          "text": [
            "\u001b[1;35mt=2024-03-18T14:06:00+0000 lvl=info msg=\"join connections\" obj=join id=a22f9efc2bff l=127.0.0.1:8237 r=102.222.70.103:54996\u001b[0m\n",
            "\u001b[1;35mGot token from cookie\u001b[0m\n",
            "\u001b[32mINFO\u001b[0m:     102.222.70.103:0 - \"\u001b[1mGET /api/v1/workspaces/default/stacks?sort_by=desc:created&logical_operator=and&page=1&size=10 HTTP/1.1\u001b[0m\" \u001b[32m200 OK\u001b[0m\n"
          ]
        },
        {
          "name": "stderr",
          "output_type": "stream",
          "text": [
            "INFO:pyngrok.process.ngrok:t=2024-03-18T14:06:06+0000 lvl=info msg=\"join connections\" obj=join id=7d144a2048a2 l=127.0.0.1:8237 r=102.222.70.103:55000\n"
          ]
        },
        {
          "name": "stdout",
          "output_type": "stream",
          "text": [
            "\u001b[1;35mt=2024-03-18T14:06:06+0000 lvl=info msg=\"join connections\" obj=join id=7d144a2048a2 l=127.0.0.1:8237 r=102.222.70.103:55000\u001b[0m\n",
            "\u001b[1;35mGot token from cookie\u001b[0m\n",
            "\u001b[32mINFO\u001b[0m:     102.222.70.103:0 - \"\u001b[1mGET /api/v1/workspaces/default/stacks?sort_by=desc:created&logical_operator=and&page=1&size=10 HTTP/1.1\u001b[0m\" \u001b[32m200 OK\u001b[0m\n"
          ]
        },
        {
          "name": "stderr",
          "output_type": "stream",
          "text": [
            "INFO:pyngrok.process.ngrok:t=2024-03-18T14:06:13+0000 lvl=info msg=\"join connections\" obj=join id=9edbc876c750 l=127.0.0.1:8237 r=102.222.234.175:18483\n"
          ]
        },
        {
          "name": "stdout",
          "output_type": "stream",
          "text": [
            "\u001b[1;35mt=2024-03-18T14:06:13+0000 lvl=info msg=\"join connections\" obj=join id=9edbc876c750 l=127.0.0.1:8237 r=102.222.234.175:18483\u001b[0m\n",
            "\u001b[1;35mGot token from cookie\u001b[0m\n",
            "\u001b[32mINFO\u001b[0m:     102.222.234.175:0 - \"\u001b[1mGET /api/v1/workspaces/default/stacks?sort_by=desc:created&logical_operator=and&page=1&size=10 HTTP/1.1\u001b[0m\" \u001b[32m200 OK\u001b[0m\n"
          ]
        },
        {
          "name": "stderr",
          "output_type": "stream",
          "text": [
            "INFO:pyngrok.process.ngrok:t=2024-03-18T14:06:19+0000 lvl=info msg=\"join connections\" obj=join id=b12c24d21d74 l=127.0.0.1:8237 r=102.222.234.175:18483\n"
          ]
        },
        {
          "name": "stdout",
          "output_type": "stream",
          "text": [
            "\u001b[1;35mt=2024-03-18T14:06:19+0000 lvl=info msg=\"join connections\" obj=join id=b12c24d21d74 l=127.0.0.1:8237 r=102.222.234.175:18483\u001b[0m\n",
            "\u001b[1;35mGot token from cookie\u001b[0m\n",
            "\u001b[32mINFO\u001b[0m:     102.222.234.175:0 - \"\u001b[1mGET /api/v1/workspaces/default/stacks?sort_by=desc:created&logical_operator=and&page=1&size=10 HTTP/1.1\u001b[0m\" \u001b[32m200 OK\u001b[0m\n"
          ]
        },
        {
          "name": "stderr",
          "output_type": "stream",
          "text": [
            "INFO:pyngrok.process.ngrok:t=2024-03-18T14:06:27+0000 lvl=info msg=\"join connections\" obj=join id=7d82dc52374f l=127.0.0.1:8237 r=102.222.234.175:18564\n"
          ]
        },
        {
          "name": "stdout",
          "output_type": "stream",
          "text": [
            "\u001b[1;35mt=2024-03-18T14:06:27+0000 lvl=info msg=\"join connections\" obj=join id=7d82dc52374f l=127.0.0.1:8237 r=102.222.234.175:18564\u001b[0m\n",
            "\u001b[1;35mGot token from cookie\u001b[0m\n",
            "\u001b[32mINFO\u001b[0m:     102.222.234.175:0 - \"\u001b[1mGET /api/v1/workspaces/default/stacks?sort_by=desc:created&logical_operator=and&page=1&size=10 HTTP/1.1\u001b[0m\" \u001b[32m200 OK\u001b[0m\n"
          ]
        },
        {
          "name": "stderr",
          "output_type": "stream",
          "text": [
            "INFO:pyngrok.process.ngrok:t=2024-03-18T14:06:32+0000 lvl=info msg=\"join connections\" obj=join id=c0c1047622c7 l=127.0.0.1:8237 r=102.222.234.175:18564\n"
          ]
        },
        {
          "name": "stdout",
          "output_type": "stream",
          "text": [
            "\u001b[1;35mt=2024-03-18T14:06:32+0000 lvl=info msg=\"join connections\" obj=join id=c0c1047622c7 l=127.0.0.1:8237 r=102.222.234.175:18564\u001b[0m\n",
            "\u001b[1;35mGot token from cookie\u001b[0m\n",
            "\u001b[32mINFO\u001b[0m:     102.222.234.175:0 - \"\u001b[1mGET /api/v1/workspaces/default/stacks?sort_by=desc:created&logical_operator=and&page=1&size=10 HTTP/1.1\u001b[0m\" \u001b[32m200 OK\u001b[0m\n"
          ]
        },
        {
          "name": "stderr",
          "output_type": "stream",
          "text": [
            "INFO:pyngrok.process.ngrok:t=2024-03-18T14:06:39+0000 lvl=info msg=\"join connections\" obj=join id=4e91ce0603ff l=127.0.0.1:8237 r=102.222.234.175:18564\n"
          ]
        },
        {
          "name": "stdout",
          "output_type": "stream",
          "text": [
            "\u001b[1;35mt=2024-03-18T14:06:39+0000 lvl=info msg=\"join connections\" obj=join id=4e91ce0603ff l=127.0.0.1:8237 r=102.222.234.175:18564\u001b[0m\n",
            "\u001b[1;35mGot token from cookie\u001b[0m\n",
            "\u001b[32mINFO\u001b[0m:     102.222.234.175:0 - \"\u001b[1mGET /api/v1/workspaces/default/stacks?sort_by=desc:created&logical_operator=and&page=1&size=10 HTTP/1.1\u001b[0m\" \u001b[32m200 OK\u001b[0m\n"
          ]
        },
        {
          "name": "stderr",
          "output_type": "stream",
          "text": [
            "INFO:pyngrok.process.ngrok:t=2024-03-18T14:06:46+0000 lvl=info msg=\"join connections\" obj=join id=c090507a4ca5 l=127.0.0.1:8237 r=102.219.103.197:55011\n"
          ]
        },
        {
          "name": "stdout",
          "output_type": "stream",
          "text": [
            "\u001b[1;35mt=2024-03-18T14:06:46+0000 lvl=info msg=\"join connections\" obj=join id=c090507a4ca5 l=127.0.0.1:8237 r=102.219.103.197:55011\u001b[0m\n",
            "\u001b[1;35mGot token from cookie\u001b[0m\n",
            "\u001b[32mINFO\u001b[0m:     102.219.103.197:0 - \"\u001b[1mGET /api/v1/workspaces/default/stacks?sort_by=desc:created&logical_operator=and&page=1&size=10 HTTP/1.1\u001b[0m\" \u001b[32m200 OK\u001b[0m\n"
          ]
        },
        {
          "name": "stderr",
          "output_type": "stream",
          "text": [
            "INFO:pyngrok.process.ngrok:t=2024-03-18T14:06:53+0000 lvl=info msg=\"join connections\" obj=join id=570f97c0873c l=127.0.0.1:8237 r=102.219.103.197:55019\n"
          ]
        },
        {
          "name": "stdout",
          "output_type": "stream",
          "text": [
            "\u001b[1;35mt=2024-03-18T14:06:53+0000 lvl=info msg=\"join connections\" obj=join id=570f97c0873c l=127.0.0.1:8237 r=102.219.103.197:55019\u001b[0m\n",
            "\u001b[1;35mGot token from cookie\u001b[0m\n",
            "\u001b[32mINFO\u001b[0m:     102.219.103.197:0 - \"\u001b[1mGET /api/v1/workspaces/default/stacks?sort_by=desc:created&logical_operator=and&page=1&size=10 HTTP/1.1\u001b[0m\" \u001b[32m200 OK\u001b[0m\n"
          ]
        },
        {
          "name": "stderr",
          "output_type": "stream",
          "text": [
            "INFO:pyngrok.process.ngrok:t=2024-03-18T14:07:00+0000 lvl=info msg=\"join connections\" obj=join id=85a55c61632e l=127.0.0.1:8237 r=102.219.103.197:55019\n"
          ]
        },
        {
          "name": "stdout",
          "output_type": "stream",
          "text": [
            "\u001b[1;35mt=2024-03-18T14:07:00+0000 lvl=info msg=\"join connections\" obj=join id=85a55c61632e l=127.0.0.1:8237 r=102.219.103.197:55019\u001b[0m\n",
            "\u001b[1;35mGot token from cookie\u001b[0m\n",
            "\u001b[32mINFO\u001b[0m:     102.219.103.197:0 - \"\u001b[1mGET /api/v1/workspaces/default/stacks?sort_by=desc:created&logical_operator=and&page=1&size=10 HTTP/1.1\u001b[0m\" \u001b[32m200 OK\u001b[0m\n"
          ]
        },
        {
          "name": "stderr",
          "output_type": "stream",
          "text": [
            "INFO:pyngrok.process.ngrok:t=2024-03-18T14:07:06+0000 lvl=info msg=\"join connections\" obj=join id=b76709ac9d65 l=127.0.0.1:8237 r=102.222.234.175:18463\n"
          ]
        },
        {
          "name": "stdout",
          "output_type": "stream",
          "text": [
            "\u001b[1;35mt=2024-03-18T14:07:06+0000 lvl=info msg=\"join connections\" obj=join id=b76709ac9d65 l=127.0.0.1:8237 r=102.222.234.175:18463\u001b[0m\n",
            "\u001b[1;35mGot token from cookie\u001b[0m\n",
            "\u001b[32mINFO\u001b[0m:     102.222.234.175:0 - \"\u001b[1mGET /api/v1/workspaces/default/stacks?sort_by=desc:created&logical_operator=and&page=1&size=10 HTTP/1.1\u001b[0m\" \u001b[32m200 OK\u001b[0m\n"
          ]
        },
        {
          "name": "stderr",
          "output_type": "stream",
          "text": [
            "INFO:pyngrok.process.ngrok:t=2024-03-18T14:07:13+0000 lvl=info msg=\"join connections\" obj=join id=14177416a43d l=127.0.0.1:8237 r=102.222.234.175:18515\n"
          ]
        },
        {
          "name": "stdout",
          "output_type": "stream",
          "text": [
            "\u001b[1;35mt=2024-03-18T14:07:13+0000 lvl=info msg=\"join connections\" obj=join id=14177416a43d l=127.0.0.1:8237 r=102.222.234.175:18515\u001b[0m\n",
            "\u001b[1;35mGot token from cookie\u001b[0m\n",
            "\u001b[32mINFO\u001b[0m:     102.222.234.175:0 - \"\u001b[1mGET /api/v1/workspaces/default/stacks?sort_by=desc:created&logical_operator=and&page=1&size=10 HTTP/1.1\u001b[0m\" \u001b[32m200 OK\u001b[0m\n"
          ]
        },
        {
          "name": "stderr",
          "output_type": "stream",
          "text": [
            "INFO:pyngrok.process.ngrok:t=2024-03-18T14:07:20+0000 lvl=info msg=\"join connections\" obj=join id=603911cb0865 l=127.0.0.1:8237 r=102.222.234.175:18515\n"
          ]
        },
        {
          "name": "stdout",
          "output_type": "stream",
          "text": [
            "\u001b[1;35mt=2024-03-18T14:07:20+0000 lvl=info msg=\"join connections\" obj=join id=603911cb0865 l=127.0.0.1:8237 r=102.222.234.175:18515\u001b[0m\n",
            "\u001b[1;35mGot token from cookie\u001b[0m\n",
            "\u001b[32mINFO\u001b[0m:     102.222.234.175:0 - \"\u001b[1mGET /api/v1/workspaces/default/stacks?sort_by=desc:created&logical_operator=and&page=1&size=10 HTTP/1.1\u001b[0m\" \u001b[32m200 OK\u001b[0m\n"
          ]
        },
        {
          "name": "stderr",
          "output_type": "stream",
          "text": [
            "INFO:pyngrok.process.ngrok:t=2024-03-18T14:07:26+0000 lvl=info msg=\"join connections\" obj=join id=ebade8e288d4 l=127.0.0.1:8237 r=102.222.234.175:18602\n"
          ]
        },
        {
          "name": "stdout",
          "output_type": "stream",
          "text": [
            "\u001b[1;35mt=2024-03-18T14:07:26+0000 lvl=info msg=\"join connections\" obj=join id=ebade8e288d4 l=127.0.0.1:8237 r=102.222.234.175:18602\u001b[0m\n",
            "\u001b[1;35mGot token from cookie\u001b[0m\n",
            "\u001b[32mINFO\u001b[0m:     102.222.234.175:0 - \"\u001b[1mGET /api/v1/workspaces/default/stacks?sort_by=desc:created&logical_operator=and&page=1&size=10 HTTP/1.1\u001b[0m\" \u001b[32m200 OK\u001b[0m\n"
          ]
        },
        {
          "name": "stderr",
          "output_type": "stream",
          "text": [
            "INFO:pyngrok.process.ngrok:t=2024-03-18T14:07:38+0000 lvl=info msg=\"join connections\" obj=join id=e49c1bdc520f l=127.0.0.1:8237 r=102.222.234.175:18647\n"
          ]
        },
        {
          "name": "stdout",
          "output_type": "stream",
          "text": [
            "\u001b[1;35mt=2024-03-18T14:07:38+0000 lvl=info msg=\"join connections\" obj=join id=e49c1bdc520f l=127.0.0.1:8237 r=102.222.234.175:18647\u001b[0m\n",
            "\u001b[1;35mGot token from cookie\u001b[0m\n",
            "\u001b[32mINFO\u001b[0m:     102.222.234.175:0 - \"\u001b[1mGET /api/v1/workspaces/default/stacks?sort_by=desc:created&logical_operator=and&page=1&size=10 HTTP/1.1\u001b[0m\" \u001b[32m200 OK\u001b[0m\n"
          ]
        },
        {
          "name": "stderr",
          "output_type": "stream",
          "text": [
            "INFO:pyngrok.process.ngrok:t=2024-03-18T14:07:45+0000 lvl=info msg=\"join connections\" obj=join id=7cb677e1d7c2 l=127.0.0.1:8237 r=102.211.61.95:55054\n"
          ]
        },
        {
          "name": "stdout",
          "output_type": "stream",
          "text": [
            "\u001b[1;35mt=2024-03-18T14:07:45+0000 lvl=info msg=\"join connections\" obj=join id=7cb677e1d7c2 l=127.0.0.1:8237 r=102.211.61.95:55054\u001b[0m\n",
            "\u001b[1;35mGot token from cookie\u001b[0m\n",
            "\u001b[32mINFO\u001b[0m:     102.211.61.95:0 - \"\u001b[1mGET /api/v1/workspaces/default/stacks?sort_by=desc:created&logical_operator=and&page=1&size=10 HTTP/1.1\u001b[0m\" \u001b[32m200 OK\u001b[0m\n"
          ]
        },
        {
          "name": "stderr",
          "output_type": "stream",
          "text": [
            "INFO:pyngrok.process.ngrok:t=2024-03-18T14:07:52+0000 lvl=info msg=\"join connections\" obj=join id=974cfd3ef68d l=127.0.0.1:8237 r=102.222.234.175:18562\n"
          ]
        },
        {
          "name": "stdout",
          "output_type": "stream",
          "text": [
            "\u001b[1;35mt=2024-03-18T14:07:52+0000 lvl=info msg=\"join connections\" obj=join id=974cfd3ef68d l=127.0.0.1:8237 r=102.222.234.175:18562\u001b[0m\n",
            "\u001b[1;35mGot token from cookie\u001b[0m\n",
            "\u001b[32mINFO\u001b[0m:     102.222.234.175:0 - \"\u001b[1mGET /api/v1/workspaces/default/stacks?sort_by=desc:created&logical_operator=and&page=1&size=10 HTTP/1.1\u001b[0m\" \u001b[32m200 OK\u001b[0m\n"
          ]
        },
        {
          "name": "stderr",
          "output_type": "stream",
          "text": [
            "INFO:pyngrok.process.ngrok:t=2024-03-18T14:08:04+0000 lvl=info msg=\"join connections\" obj=join id=f5c8ba715a55 l=127.0.0.1:8237 r=102.222.234.175:18590\n"
          ]
        },
        {
          "name": "stdout",
          "output_type": "stream",
          "text": [
            "\u001b[1;35mt=2024-03-18T14:08:04+0000 lvl=info msg=\"join connections\" obj=join id=f5c8ba715a55 l=127.0.0.1:8237 r=102.222.234.175:18590\u001b[0m\n",
            "\u001b[1;35mGot token from cookie\u001b[0m\n",
            "\u001b[32mINFO\u001b[0m:     102.222.234.175:0 - \"\u001b[1mGET /api/v1/workspaces/default/stacks?sort_by=desc:created&logical_operator=and&page=1&size=10 HTTP/1.1\u001b[0m\" \u001b[32m200 OK\u001b[0m\n"
          ]
        },
        {
          "name": "stderr",
          "output_type": "stream",
          "text": [
            "INFO:pyngrok.process.ngrok:t=2024-03-18T14:08:11+0000 lvl=info msg=\"join connections\" obj=join id=21a72d7880b2 l=127.0.0.1:8237 r=102.222.234.175:18590\n"
          ]
        },
        {
          "name": "stdout",
          "output_type": "stream",
          "text": [
            "\u001b[1;35mt=2024-03-18T14:08:11+0000 lvl=info msg=\"join connections\" obj=join id=21a72d7880b2 l=127.0.0.1:8237 r=102.222.234.175:18590\u001b[0m\n",
            "\u001b[1;35mGot token from cookie\u001b[0m\n",
            "\u001b[32mINFO\u001b[0m:     102.222.234.175:0 - \"\u001b[1mGET /api/v1/workspaces/default/stacks?sort_by=desc:created&logical_operator=and&page=1&size=10 HTTP/1.1\u001b[0m\" \u001b[32m200 OK\u001b[0m\n"
          ]
        },
        {
          "name": "stderr",
          "output_type": "stream",
          "text": [
            "INFO:pyngrok.process.ngrok:t=2024-03-18T14:08:16+0000 lvl=info msg=\"join connections\" obj=join id=d74eeb441590 l=127.0.0.1:8237 r=102.222.234.175:18590\n"
          ]
        },
        {
          "name": "stdout",
          "output_type": "stream",
          "text": [
            "\u001b[1;35mt=2024-03-18T14:08:16+0000 lvl=info msg=\"join connections\" obj=join id=d74eeb441590 l=127.0.0.1:8237 r=102.222.234.175:18590\u001b[0m\n",
            "\u001b[1;35mGot token from cookie\u001b[0m\n",
            "\u001b[32mINFO\u001b[0m:     102.222.234.175:0 - \"\u001b[1mGET /api/v1/workspaces/default/stacks?sort_by=desc:created&logical_operator=and&page=1&size=10 HTTP/1.1\u001b[0m\" \u001b[32m200 OK\u001b[0m\n"
          ]
        },
        {
          "name": "stderr",
          "output_type": "stream",
          "text": [
            "INFO:pyngrok.process.ngrok:t=2024-03-18T14:08:23+0000 lvl=info msg=\"join connections\" obj=join id=a667e66c5f17 l=127.0.0.1:8237 r=102.222.234.175:18545\n"
          ]
        },
        {
          "name": "stdout",
          "output_type": "stream",
          "text": [
            "\u001b[1;35mt=2024-03-18T14:08:23+0000 lvl=info msg=\"join connections\" obj=join id=a667e66c5f17 l=127.0.0.1:8237 r=102.222.234.175:18545\u001b[0m\n",
            "\u001b[1;35mGot token from cookie\u001b[0m\n",
            "\u001b[32mINFO\u001b[0m:     102.222.234.175:0 - \"\u001b[1mGET /api/v1/workspaces/default/stacks?sort_by=desc:created&logical_operator=and&page=1&size=10 HTTP/1.1\u001b[0m\" \u001b[32m200 OK\u001b[0m\n"
          ]
        },
        {
          "name": "stderr",
          "output_type": "stream",
          "text": [
            "INFO:pyngrok.process.ngrok:t=2024-03-18T14:08:30+0000 lvl=info msg=\"join connections\" obj=join id=02fed3f4c29e l=127.0.0.1:8237 r=102.222.234.175:18545\n"
          ]
        },
        {
          "name": "stdout",
          "output_type": "stream",
          "text": [
            "\u001b[1;35mt=2024-03-18T14:08:30+0000 lvl=info msg=\"join connections\" obj=join id=02fed3f4c29e l=127.0.0.1:8237 r=102.222.234.175:18545\u001b[0m\n",
            "\u001b[1;35mGot token from cookie\u001b[0m\n",
            "\u001b[32mINFO\u001b[0m:     102.222.234.175:0 - \"\u001b[1mGET /api/v1/workspaces/default/stacks?sort_by=desc:created&logical_operator=and&page=1&size=10 HTTP/1.1\u001b[0m\" \u001b[32m200 OK\u001b[0m\n"
          ]
        },
        {
          "name": "stderr",
          "output_type": "stream",
          "text": [
            "INFO:pyngrok.process.ngrok:t=2024-03-18T14:08:36+0000 lvl=info msg=\"join connections\" obj=join id=418dea0b4516 l=127.0.0.1:8237 r=102.222.70.103:55070\n"
          ]
        },
        {
          "name": "stdout",
          "output_type": "stream",
          "text": [
            "\u001b[1;35mt=2024-03-18T14:08:36+0000 lvl=info msg=\"join connections\" obj=join id=418dea0b4516 l=127.0.0.1:8237 r=102.222.70.103:55070\u001b[0m\n",
            "\u001b[1;35mGot token from cookie\u001b[0m\n",
            "\u001b[32mINFO\u001b[0m:     102.222.70.103:0 - \"\u001b[1mGET /api/v1/workspaces/default/stacks?sort_by=desc:created&logical_operator=and&page=1&size=10 HTTP/1.1\u001b[0m\" \u001b[32m200 OK\u001b[0m\n"
          ]
        },
        {
          "name": "stderr",
          "output_type": "stream",
          "text": [
            "INFO:pyngrok.process.ngrok:t=2024-03-18T14:08:43+0000 lvl=info msg=\"join connections\" obj=join id=fd353a932c13 l=127.0.0.1:8237 r=102.222.70.103:55070\n"
          ]
        },
        {
          "name": "stdout",
          "output_type": "stream",
          "text": [
            "\u001b[1;35mt=2024-03-18T14:08:43+0000 lvl=info msg=\"join connections\" obj=join id=fd353a932c13 l=127.0.0.1:8237 r=102.222.70.103:55070\u001b[0m\n",
            "\u001b[1;35mGot token from cookie\u001b[0m\n",
            "\u001b[32mINFO\u001b[0m:     102.222.70.103:0 - \"\u001b[1mGET /api/v1/workspaces/default/stacks?sort_by=desc:created&logical_operator=and&page=1&size=10 HTTP/1.1\u001b[0m\" \u001b[32m200 OK\u001b[0m\n"
          ]
        },
        {
          "name": "stderr",
          "output_type": "stream",
          "text": [
            "INFO:pyngrok.process.ngrok:t=2024-03-18T14:08:49+0000 lvl=info msg=\"join connections\" obj=join id=78e18d123c09 l=127.0.0.1:8237 r=102.222.70.103:55070\n"
          ]
        },
        {
          "name": "stdout",
          "output_type": "stream",
          "text": [
            "\u001b[1;35mt=2024-03-18T14:08:49+0000 lvl=info msg=\"join connections\" obj=join id=78e18d123c09 l=127.0.0.1:8237 r=102.222.70.103:55070\u001b[0m\n",
            "\u001b[1;35mGot token from cookie\u001b[0m\n",
            "\u001b[32mINFO\u001b[0m:     102.222.70.103:0 - \"\u001b[1mGET /api/v1/workspaces/default/stacks?sort_by=desc:created&logical_operator=and&page=1&size=10 HTTP/1.1\u001b[0m\" \u001b[32m200 OK\u001b[0m\n"
          ]
        },
        {
          "name": "stderr",
          "output_type": "stream",
          "text": [
            "INFO:pyngrok.process.ngrok:t=2024-03-18T14:08:55+0000 lvl=info msg=\"join connections\" obj=join id=13c25b80e6bf l=127.0.0.1:8237 r=102.222.70.103:55070\n"
          ]
        },
        {
          "name": "stdout",
          "output_type": "stream",
          "text": [
            "\u001b[1;35mt=2024-03-18T14:08:55+0000 lvl=info msg=\"join connections\" obj=join id=13c25b80e6bf l=127.0.0.1:8237 r=102.222.70.103:55070\u001b[0m\n",
            "\u001b[1;35mGot token from cookie\u001b[0m\n",
            "\u001b[32mINFO\u001b[0m:     102.222.70.103:0 - \"\u001b[1mGET /api/v1/workspaces/default/stacks?sort_by=desc:created&logical_operator=and&page=1&size=10 HTTP/1.1\u001b[0m\" \u001b[32m200 OK\u001b[0m\n"
          ]
        },
        {
          "name": "stderr",
          "output_type": "stream",
          "text": [
            "INFO:pyngrok.process.ngrok:t=2024-03-18T14:09:01+0000 lvl=info msg=\"join connections\" obj=join id=f36ad99de1ab l=127.0.0.1:8237 r=102.222.70.103:55070\n"
          ]
        },
        {
          "name": "stdout",
          "output_type": "stream",
          "text": [
            "\u001b[1;35mt=2024-03-18T14:09:01+0000 lvl=info msg=\"join connections\" obj=join id=f36ad99de1ab l=127.0.0.1:8237 r=102.222.70.103:55070\u001b[0m\n",
            "\u001b[1;35mGot token from cookie\u001b[0m\n",
            "\u001b[32mINFO\u001b[0m:     102.222.70.103:0 - \"\u001b[1mGET /api/v1/workspaces/default/stacks?sort_by=desc:created&logical_operator=and&page=1&size=10 HTTP/1.1\u001b[0m\" \u001b[32m200 OK\u001b[0m\n"
          ]
        },
        {
          "name": "stderr",
          "output_type": "stream",
          "text": [
            "INFO:pyngrok.process.ngrok:t=2024-03-18T14:09:07+0000 lvl=info msg=\"join connections\" obj=join id=339b53f3e1fd l=127.0.0.1:8237 r=102.222.70.103:55070\n"
          ]
        },
        {
          "name": "stdout",
          "output_type": "stream",
          "text": [
            "\u001b[1;35mt=2024-03-18T14:09:07+0000 lvl=info msg=\"join connections\" obj=join id=339b53f3e1fd l=127.0.0.1:8237 r=102.222.70.103:55070\u001b[0m\n",
            "\u001b[1;35mGot token from cookie\u001b[0m\n",
            "\u001b[32mINFO\u001b[0m:     102.222.70.103:0 - \"\u001b[1mGET /api/v1/workspaces/default/stacks?sort_by=desc:created&logical_operator=and&page=1&size=10 HTTP/1.1\u001b[0m\" \u001b[32m200 OK\u001b[0m\n"
          ]
        },
        {
          "name": "stderr",
          "output_type": "stream",
          "text": [
            "INFO:pyngrok.process.ngrok:t=2024-03-18T14:09:13+0000 lvl=info msg=\"join connections\" obj=join id=1a2550965ba7 l=127.0.0.1:8237 r=102.222.70.103:55070\n"
          ]
        },
        {
          "name": "stdout",
          "output_type": "stream",
          "text": [
            "\u001b[1;35mt=2024-03-18T14:09:13+0000 lvl=info msg=\"join connections\" obj=join id=1a2550965ba7 l=127.0.0.1:8237 r=102.222.70.103:55070\u001b[0m\n",
            "\u001b[1;35mGot token from cookie\u001b[0m\n",
            "\u001b[32mINFO\u001b[0m:     102.222.70.103:0 - \"\u001b[1mGET /api/v1/workspaces/default/stacks?sort_by=desc:created&logical_operator=and&page=1&size=10 HTTP/1.1\u001b[0m\" \u001b[32m200 OK\u001b[0m\n"
          ]
        },
        {
          "name": "stderr",
          "output_type": "stream",
          "text": [
            "INFO:pyngrok.process.ngrok:t=2024-03-18T14:09:19+0000 lvl=info msg=\"join connections\" obj=join id=ae114824bbfc l=127.0.0.1:8237 r=102.222.70.103:55070\n"
          ]
        },
        {
          "name": "stdout",
          "output_type": "stream",
          "text": [
            "\u001b[1;35mt=2024-03-18T14:09:19+0000 lvl=info msg=\"join connections\" obj=join id=ae114824bbfc l=127.0.0.1:8237 r=102.222.70.103:55070\u001b[0m\n",
            "\u001b[1;35mGot token from cookie\u001b[0m\n",
            "\u001b[32mINFO\u001b[0m:     102.222.70.103:0 - \"\u001b[1mGET /api/v1/workspaces/default/stacks?sort_by=desc:created&logical_operator=and&page=1&size=10 HTTP/1.1\u001b[0m\" \u001b[32m200 OK\u001b[0m\n"
          ]
        },
        {
          "name": "stderr",
          "output_type": "stream",
          "text": [
            "INFO:pyngrok.process.ngrok:t=2024-03-18T14:09:25+0000 lvl=info msg=\"join connections\" obj=join id=e8b1b3356197 l=127.0.0.1:8237 r=102.222.70.103:55070\n"
          ]
        },
        {
          "name": "stdout",
          "output_type": "stream",
          "text": [
            "\u001b[1;35mt=2024-03-18T14:09:25+0000 lvl=info msg=\"join connections\" obj=join id=e8b1b3356197 l=127.0.0.1:8237 r=102.222.70.103:55070\u001b[0m\n",
            "\u001b[1;35mGot token from cookie\u001b[0m\n",
            "\u001b[32mINFO\u001b[0m:     102.222.70.103:0 - \"\u001b[1mGET /api/v1/workspaces/default/stacks?sort_by=desc:created&logical_operator=and&page=1&size=10 HTTP/1.1\u001b[0m\" \u001b[32m200 OK\u001b[0m\n"
          ]
        },
        {
          "name": "stderr",
          "output_type": "stream",
          "text": [
            "INFO:pyngrok.process.ngrok:t=2024-03-18T14:09:31+0000 lvl=info msg=\"join connections\" obj=join id=7cf481d492bf l=127.0.0.1:8237 r=102.222.70.103:55070\n"
          ]
        },
        {
          "name": "stdout",
          "output_type": "stream",
          "text": [
            "\u001b[1;35mt=2024-03-18T14:09:31+0000 lvl=info msg=\"join connections\" obj=join id=7cf481d492bf l=127.0.0.1:8237 r=102.222.70.103:55070\u001b[0m\n",
            "\u001b[1;35mGot token from cookie\u001b[0m\n",
            "\u001b[32mINFO\u001b[0m:     102.222.70.103:0 - \"\u001b[1mGET /api/v1/workspaces/default/stacks?sort_by=desc:created&logical_operator=and&page=1&size=10 HTTP/1.1\u001b[0m\" \u001b[32m200 OK\u001b[0m\n"
          ]
        },
        {
          "name": "stderr",
          "output_type": "stream",
          "text": [
            "INFO:pyngrok.process.ngrok:t=2024-03-18T14:09:37+0000 lvl=info msg=\"join connections\" obj=join id=6e02d00727a0 l=127.0.0.1:8237 r=102.222.70.103:55070\n"
          ]
        },
        {
          "name": "stdout",
          "output_type": "stream",
          "text": [
            "\u001b[1;35mt=2024-03-18T14:09:37+0000 lvl=info msg=\"join connections\" obj=join id=6e02d00727a0 l=127.0.0.1:8237 r=102.222.70.103:55070\u001b[0m\n",
            "\u001b[1;35mGot token from cookie\u001b[0m\n",
            "\u001b[32mINFO\u001b[0m:     102.222.70.103:0 - \"\u001b[1mGET /api/v1/workspaces/default/stacks?sort_by=desc:created&logical_operator=and&page=1&size=10 HTTP/1.1\u001b[0m\" \u001b[32m200 OK\u001b[0m\n"
          ]
        },
        {
          "name": "stderr",
          "output_type": "stream",
          "text": [
            "INFO:pyngrok.process.ngrok:t=2024-03-18T14:09:43+0000 lvl=info msg=\"join connections\" obj=join id=dd2b073ce51e l=127.0.0.1:8237 r=102.222.70.103:55070\n"
          ]
        },
        {
          "name": "stdout",
          "output_type": "stream",
          "text": [
            "\u001b[1;35mt=2024-03-18T14:09:43+0000 lvl=info msg=\"join connections\" obj=join id=dd2b073ce51e l=127.0.0.1:8237 r=102.222.70.103:55070\u001b[0m\n",
            "\u001b[1;35mGot token from cookie\u001b[0m\n",
            "\u001b[32mINFO\u001b[0m:     102.222.70.103:0 - \"\u001b[1mGET /api/v1/workspaces/default/stacks?sort_by=desc:created&logical_operator=and&page=1&size=10 HTTP/1.1\u001b[0m\" \u001b[32m200 OK\u001b[0m\n"
          ]
        },
        {
          "name": "stderr",
          "output_type": "stream",
          "text": [
            "INFO:pyngrok.process.ngrok:t=2024-03-18T14:09:49+0000 lvl=info msg=\"join connections\" obj=join id=293992449c63 l=127.0.0.1:8237 r=102.222.70.103:55070\n"
          ]
        },
        {
          "name": "stdout",
          "output_type": "stream",
          "text": [
            "\u001b[1;35mt=2024-03-18T14:09:49+0000 lvl=info msg=\"join connections\" obj=join id=293992449c63 l=127.0.0.1:8237 r=102.222.70.103:55070\u001b[0m\n",
            "\u001b[1;35mGot token from cookie\u001b[0m\n",
            "\u001b[32mINFO\u001b[0m:     102.222.70.103:0 - \"\u001b[1mGET /api/v1/workspaces/default/stacks?sort_by=desc:created&logical_operator=and&page=1&size=10 HTTP/1.1\u001b[0m\" \u001b[32m200 OK\u001b[0m\n"
          ]
        },
        {
          "name": "stderr",
          "output_type": "stream",
          "text": [
            "INFO:pyngrok.process.ngrok:t=2024-03-18T14:09:55+0000 lvl=info msg=\"join connections\" obj=join id=4cdefbef09fc l=127.0.0.1:8237 r=102.222.70.103:55070\n"
          ]
        },
        {
          "name": "stdout",
          "output_type": "stream",
          "text": [
            "\u001b[1;35mt=2024-03-18T14:09:55+0000 lvl=info msg=\"join connections\" obj=join id=4cdefbef09fc l=127.0.0.1:8237 r=102.222.70.103:55070\u001b[0m\n",
            "\u001b[1;35mGot token from cookie\u001b[0m\n",
            "\u001b[32mINFO\u001b[0m:     102.222.70.103:0 - \"\u001b[1mGET /api/v1/workspaces/default/stacks?sort_by=desc:created&logical_operator=and&page=1&size=10 HTTP/1.1\u001b[0m\" \u001b[32m200 OK\u001b[0m\n"
          ]
        },
        {
          "name": "stderr",
          "output_type": "stream",
          "text": [
            "INFO:pyngrok.process.ngrok:t=2024-03-18T14:10:01+0000 lvl=info msg=\"join connections\" obj=join id=6d5b55c0e5bf l=127.0.0.1:8237 r=102.222.70.103:55070\n"
          ]
        },
        {
          "name": "stdout",
          "output_type": "stream",
          "text": [
            "\u001b[1;35mt=2024-03-18T14:10:01+0000 lvl=info msg=\"join connections\" obj=join id=6d5b55c0e5bf l=127.0.0.1:8237 r=102.222.70.103:55070\u001b[0m\n",
            "\u001b[1;35mGot token from cookie\u001b[0m\n",
            "\u001b[32mINFO\u001b[0m:     102.222.70.103:0 - \"\u001b[1mGET /api/v1/workspaces/default/stacks?sort_by=desc:created&logical_operator=and&page=1&size=10 HTTP/1.1\u001b[0m\" \u001b[32m200 OK\u001b[0m\n"
          ]
        },
        {
          "name": "stderr",
          "output_type": "stream",
          "text": [
            "INFO:pyngrok.process.ngrok:t=2024-03-18T14:10:07+0000 lvl=info msg=\"join connections\" obj=join id=3239b85726c0 l=127.0.0.1:8237 r=102.222.70.103:55070\n"
          ]
        },
        {
          "name": "stdout",
          "output_type": "stream",
          "text": [
            "\u001b[1;35mt=2024-03-18T14:10:07+0000 lvl=info msg=\"join connections\" obj=join id=3239b85726c0 l=127.0.0.1:8237 r=102.222.70.103:55070\u001b[0m\n",
            "\u001b[1;35mGot token from cookie\u001b[0m\n",
            "\u001b[32mINFO\u001b[0m:     102.222.70.103:0 - \"\u001b[1mGET /api/v1/workspaces/default/stacks?sort_by=desc:created&logical_operator=and&page=1&size=10 HTTP/1.1\u001b[0m\" \u001b[32m200 OK\u001b[0m\n"
          ]
        },
        {
          "name": "stderr",
          "output_type": "stream",
          "text": [
            "INFO:pyngrok.process.ngrok:t=2024-03-18T14:10:13+0000 lvl=info msg=\"join connections\" obj=join id=afe6d1d60070 l=127.0.0.1:8237 r=102.222.70.103:55070\n"
          ]
        },
        {
          "name": "stdout",
          "output_type": "stream",
          "text": [
            "\u001b[1;35mt=2024-03-18T14:10:13+0000 lvl=info msg=\"join connections\" obj=join id=afe6d1d60070 l=127.0.0.1:8237 r=102.222.70.103:55070\u001b[0m\n",
            "\u001b[1;35mGot token from cookie\u001b[0m\n",
            "\u001b[32mINFO\u001b[0m:     102.222.70.103:0 - \"\u001b[1mGET /api/v1/workspaces/default/stacks?sort_by=desc:created&logical_operator=and&page=1&size=10 HTTP/1.1\u001b[0m\" \u001b[32m200 OK\u001b[0m\n"
          ]
        },
        {
          "name": "stderr",
          "output_type": "stream",
          "text": [
            "INFO:pyngrok.process.ngrok:t=2024-03-18T14:10:19+0000 lvl=info msg=\"join connections\" obj=join id=f9a6e0fd6f39 l=127.0.0.1:8237 r=102.222.70.103:55070\n"
          ]
        },
        {
          "name": "stdout",
          "output_type": "stream",
          "text": [
            "\u001b[1;35mt=2024-03-18T14:10:19+0000 lvl=info msg=\"join connections\" obj=join id=f9a6e0fd6f39 l=127.0.0.1:8237 r=102.222.70.103:55070\u001b[0m\n",
            "\u001b[1;35mGot token from cookie\u001b[0m\n",
            "\u001b[32mINFO\u001b[0m:     102.222.70.103:0 - \"\u001b[1mGET /api/v1/workspaces/default/stacks?sort_by=desc:created&logical_operator=and&page=1&size=10 HTTP/1.1\u001b[0m\" \u001b[32m200 OK\u001b[0m\n"
          ]
        },
        {
          "name": "stderr",
          "output_type": "stream",
          "text": [
            "INFO:pyngrok.process.ngrok:t=2024-03-18T14:10:25+0000 lvl=info msg=\"join connections\" obj=join id=483ee2fb3da5 l=127.0.0.1:8237 r=102.222.70.103:55070\n"
          ]
        },
        {
          "name": "stdout",
          "output_type": "stream",
          "text": [
            "\u001b[1;35mt=2024-03-18T14:10:25+0000 lvl=info msg=\"join connections\" obj=join id=483ee2fb3da5 l=127.0.0.1:8237 r=102.222.70.103:55070\u001b[0m\n",
            "\u001b[1;35mGot token from cookie\u001b[0m\n",
            "\u001b[32mINFO\u001b[0m:     102.222.70.103:0 - \"\u001b[1mGET /api/v1/workspaces/default/stacks?sort_by=desc:created&logical_operator=and&page=1&size=10 HTTP/1.1\u001b[0m\" \u001b[32m200 OK\u001b[0m\n"
          ]
        },
        {
          "name": "stderr",
          "output_type": "stream",
          "text": [
            "INFO:pyngrok.process.ngrok:t=2024-03-18T14:10:31+0000 lvl=info msg=\"join connections\" obj=join id=f9ec9cea7702 l=127.0.0.1:8237 r=102.222.70.103:55070\n"
          ]
        },
        {
          "name": "stdout",
          "output_type": "stream",
          "text": [
            "\u001b[1;35mt=2024-03-18T14:10:31+0000 lvl=info msg=\"join connections\" obj=join id=f9ec9cea7702 l=127.0.0.1:8237 r=102.222.70.103:55070\u001b[0m\n",
            "\u001b[1;35mGot token from cookie\u001b[0m\n",
            "\u001b[32mINFO\u001b[0m:     102.222.70.103:0 - \"\u001b[1mGET /api/v1/workspaces/default/stacks?sort_by=desc:created&logical_operator=and&page=1&size=10 HTTP/1.1\u001b[0m\" \u001b[32m200 OK\u001b[0m\n"
          ]
        },
        {
          "name": "stderr",
          "output_type": "stream",
          "text": [
            "INFO:pyngrok.process.ngrok:t=2024-03-18T14:10:37+0000 lvl=info msg=\"join connections\" obj=join id=6bd8386ea54a l=127.0.0.1:8237 r=102.222.70.103:55070\n"
          ]
        },
        {
          "name": "stdout",
          "output_type": "stream",
          "text": [
            "\u001b[1;35mt=2024-03-18T14:10:37+0000 lvl=info msg=\"join connections\" obj=join id=6bd8386ea54a l=127.0.0.1:8237 r=102.222.70.103:55070\u001b[0m\n",
            "\u001b[1;35mGot token from cookie\u001b[0m\n",
            "\u001b[32mINFO\u001b[0m:     102.222.70.103:0 - \"\u001b[1mGET /api/v1/workspaces/default/stacks?sort_by=desc:created&logical_operator=and&page=1&size=10 HTTP/1.1\u001b[0m\" \u001b[32m200 OK\u001b[0m\n"
          ]
        },
        {
          "name": "stderr",
          "output_type": "stream",
          "text": [
            "INFO:pyngrok.process.ngrok:t=2024-03-18T14:10:43+0000 lvl=info msg=\"join connections\" obj=join id=e6c31d340138 l=127.0.0.1:8237 r=102.222.70.103:55070\n"
          ]
        },
        {
          "name": "stdout",
          "output_type": "stream",
          "text": [
            "\u001b[1;35mt=2024-03-18T14:10:43+0000 lvl=info msg=\"join connections\" obj=join id=e6c31d340138 l=127.0.0.1:8237 r=102.222.70.103:55070\u001b[0m\n",
            "\u001b[1;35mGot token from cookie\u001b[0m\n",
            "\u001b[32mINFO\u001b[0m:     102.222.70.103:0 - \"\u001b[1mGET /api/v1/workspaces/default/stacks?sort_by=desc:created&logical_operator=and&page=1&size=10 HTTP/1.1\u001b[0m\" \u001b[32m200 OK\u001b[0m\n"
          ]
        },
        {
          "name": "stderr",
          "output_type": "stream",
          "text": [
            "INFO:pyngrok.process.ngrok:t=2024-03-18T14:10:49+0000 lvl=info msg=\"join connections\" obj=join id=bc91c4ad40e2 l=127.0.0.1:8237 r=102.222.70.103:55070\n"
          ]
        },
        {
          "name": "stdout",
          "output_type": "stream",
          "text": [
            "\u001b[1;35mt=2024-03-18T14:10:49+0000 lvl=info msg=\"join connections\" obj=join id=bc91c4ad40e2 l=127.0.0.1:8237 r=102.222.70.103:55070\u001b[0m\n",
            "\u001b[1;35mGot token from cookie\u001b[0m\n",
            "\u001b[32mINFO\u001b[0m:     102.222.70.103:0 - \"\u001b[1mGET /api/v1/workspaces/default/stacks?sort_by=desc:created&logical_operator=and&page=1&size=10 HTTP/1.1\u001b[0m\" \u001b[32m200 OK\u001b[0m\n"
          ]
        },
        {
          "name": "stderr",
          "output_type": "stream",
          "text": [
            "INFO:pyngrok.process.ngrok:t=2024-03-18T14:10:55+0000 lvl=info msg=\"join connections\" obj=join id=92ee10ee1d44 l=127.0.0.1:8237 r=102.222.70.103:55070\n"
          ]
        },
        {
          "name": "stdout",
          "output_type": "stream",
          "text": [
            "\u001b[1;35mt=2024-03-18T14:10:55+0000 lvl=info msg=\"join connections\" obj=join id=92ee10ee1d44 l=127.0.0.1:8237 r=102.222.70.103:55070\u001b[0m\n",
            "\u001b[1;35mGot token from cookie\u001b[0m\n",
            "\u001b[32mINFO\u001b[0m:     102.222.70.103:0 - \"\u001b[1mGET /api/v1/workspaces/default/stacks?sort_by=desc:created&logical_operator=and&page=1&size=10 HTTP/1.1\u001b[0m\" \u001b[32m200 OK\u001b[0m\n"
          ]
        },
        {
          "name": "stderr",
          "output_type": "stream",
          "text": [
            "INFO:pyngrok.process.ngrok:t=2024-03-18T14:11:01+0000 lvl=info msg=\"join connections\" obj=join id=8d56bf997072 l=127.0.0.1:8237 r=102.222.70.103:55070\n"
          ]
        },
        {
          "name": "stdout",
          "output_type": "stream",
          "text": [
            "\u001b[1;35mt=2024-03-18T14:11:01+0000 lvl=info msg=\"join connections\" obj=join id=8d56bf997072 l=127.0.0.1:8237 r=102.222.70.103:55070\u001b[0m\n",
            "\u001b[1;35mGot token from cookie\u001b[0m\n",
            "\u001b[32mINFO\u001b[0m:     102.222.70.103:0 - \"\u001b[1mGET /api/v1/workspaces/default/stacks?sort_by=desc:created&logical_operator=and&page=1&size=10 HTTP/1.1\u001b[0m\" \u001b[32m200 OK\u001b[0m\n"
          ]
        },
        {
          "name": "stderr",
          "output_type": "stream",
          "text": [
            "INFO:pyngrok.process.ngrok:t=2024-03-18T14:11:07+0000 lvl=info msg=\"join connections\" obj=join id=d52ca8b6ef1d l=127.0.0.1:8237 r=102.222.70.103:55070\n"
          ]
        },
        {
          "name": "stdout",
          "output_type": "stream",
          "text": [
            "\u001b[1;35mt=2024-03-18T14:11:07+0000 lvl=info msg=\"join connections\" obj=join id=d52ca8b6ef1d l=127.0.0.1:8237 r=102.222.70.103:55070\u001b[0m\n",
            "\u001b[1;35mGot token from cookie\u001b[0m\n",
            "\u001b[32mINFO\u001b[0m:     102.222.70.103:0 - \"\u001b[1mGET /api/v1/workspaces/default/stacks?sort_by=desc:created&logical_operator=and&page=1&size=10 HTTP/1.1\u001b[0m\" \u001b[32m200 OK\u001b[0m\n"
          ]
        },
        {
          "name": "stderr",
          "output_type": "stream",
          "text": [
            "INFO:pyngrok.process.ngrok:t=2024-03-18T14:11:13+0000 lvl=info msg=\"join connections\" obj=join id=13b12588cb8c l=127.0.0.1:8237 r=102.222.70.103:55070\n"
          ]
        },
        {
          "name": "stdout",
          "output_type": "stream",
          "text": [
            "\u001b[1;35mt=2024-03-18T14:11:13+0000 lvl=info msg=\"join connections\" obj=join id=13b12588cb8c l=127.0.0.1:8237 r=102.222.70.103:55070\u001b[0m\n",
            "\u001b[1;35mGot token from cookie\u001b[0m\n",
            "\u001b[32mINFO\u001b[0m:     102.222.70.103:0 - \"\u001b[1mGET /api/v1/workspaces/default/stacks?sort_by=desc:created&logical_operator=and&page=1&size=10 HTTP/1.1\u001b[0m\" \u001b[32m200 OK\u001b[0m\n"
          ]
        },
        {
          "name": "stderr",
          "output_type": "stream",
          "text": [
            "INFO:pyngrok.process.ngrok:t=2024-03-18T14:11:19+0000 lvl=info msg=\"join connections\" obj=join id=709c8b5e8698 l=127.0.0.1:8237 r=102.222.70.103:55070\n"
          ]
        },
        {
          "name": "stdout",
          "output_type": "stream",
          "text": [
            "\u001b[1;35mt=2024-03-18T14:11:19+0000 lvl=info msg=\"join connections\" obj=join id=709c8b5e8698 l=127.0.0.1:8237 r=102.222.70.103:55070\u001b[0m\n",
            "\u001b[1;35mGot token from cookie\u001b[0m\n",
            "\u001b[32mINFO\u001b[0m:     102.222.70.103:0 - \"\u001b[1mGET /api/v1/workspaces/default/stacks?sort_by=desc:created&logical_operator=and&page=1&size=10 HTTP/1.1\u001b[0m\" \u001b[32m200 OK\u001b[0m\n"
          ]
        },
        {
          "name": "stderr",
          "output_type": "stream",
          "text": [
            "INFO:pyngrok.process.ngrok:t=2024-03-18T14:11:25+0000 lvl=info msg=\"join connections\" obj=join id=b03fe234a81e l=127.0.0.1:8237 r=102.222.70.103:55070\n"
          ]
        },
        {
          "name": "stdout",
          "output_type": "stream",
          "text": [
            "\u001b[1;35mt=2024-03-18T14:11:25+0000 lvl=info msg=\"join connections\" obj=join id=b03fe234a81e l=127.0.0.1:8237 r=102.222.70.103:55070\u001b[0m\n",
            "\u001b[1;35mGot token from cookie\u001b[0m\n",
            "\u001b[32mINFO\u001b[0m:     102.222.70.103:0 - \"\u001b[1mGET /api/v1/workspaces/default/stacks?sort_by=desc:created&logical_operator=and&page=1&size=10 HTTP/1.1\u001b[0m\" \u001b[32m200 OK\u001b[0m\n"
          ]
        },
        {
          "name": "stderr",
          "output_type": "stream",
          "text": [
            "INFO:pyngrok.process.ngrok:t=2024-03-18T14:11:31+0000 lvl=info msg=\"join connections\" obj=join id=94b5f465c849 l=127.0.0.1:8237 r=102.222.70.103:55070\n"
          ]
        },
        {
          "name": "stdout",
          "output_type": "stream",
          "text": [
            "\u001b[1;35mt=2024-03-18T14:11:31+0000 lvl=info msg=\"join connections\" obj=join id=94b5f465c849 l=127.0.0.1:8237 r=102.222.70.103:55070\u001b[0m\n",
            "\u001b[1;35mGot token from cookie\u001b[0m\n",
            "\u001b[32mINFO\u001b[0m:     102.222.70.103:0 - \"\u001b[1mGET /api/v1/workspaces/default/stacks?sort_by=desc:created&logical_operator=and&page=1&size=10 HTTP/1.1\u001b[0m\" \u001b[32m200 OK\u001b[0m\n"
          ]
        },
        {
          "name": "stderr",
          "output_type": "stream",
          "text": [
            "INFO:pyngrok.process.ngrok:t=2024-03-18T14:11:37+0000 lvl=info msg=\"join connections\" obj=join id=27c1b89df79d l=127.0.0.1:8237 r=102.222.70.103:55070\n"
          ]
        },
        {
          "name": "stdout",
          "output_type": "stream",
          "text": [
            "\u001b[1;35mt=2024-03-18T14:11:37+0000 lvl=info msg=\"join connections\" obj=join id=27c1b89df79d l=127.0.0.1:8237 r=102.222.70.103:55070\u001b[0m\n",
            "\u001b[1;35mGot token from cookie\u001b[0m\n",
            "\u001b[32mINFO\u001b[0m:     102.222.70.103:0 - \"\u001b[1mGET /api/v1/workspaces/default/stacks?sort_by=desc:created&logical_operator=and&page=1&size=10 HTTP/1.1\u001b[0m\" \u001b[32m200 OK\u001b[0m\n"
          ]
        },
        {
          "name": "stderr",
          "output_type": "stream",
          "text": [
            "INFO:pyngrok.process.ngrok:t=2024-03-18T14:11:43+0000 lvl=info msg=\"join connections\" obj=join id=0a0a78e43ded l=127.0.0.1:8237 r=102.222.70.103:55070\n"
          ]
        },
        {
          "name": "stdout",
          "output_type": "stream",
          "text": [
            "\u001b[1;35mt=2024-03-18T14:11:43+0000 lvl=info msg=\"join connections\" obj=join id=0a0a78e43ded l=127.0.0.1:8237 r=102.222.70.103:55070\u001b[0m\n",
            "\u001b[1;35mGot token from cookie\u001b[0m\n",
            "\u001b[32mINFO\u001b[0m:     102.222.70.103:0 - \"\u001b[1mGET /api/v1/workspaces/default/stacks?sort_by=desc:created&logical_operator=and&page=1&size=10 HTTP/1.1\u001b[0m\" \u001b[32m200 OK\u001b[0m\n"
          ]
        },
        {
          "name": "stderr",
          "output_type": "stream",
          "text": [
            "INFO:pyngrok.process.ngrok:t=2024-03-18T14:11:49+0000 lvl=info msg=\"join connections\" obj=join id=e2c0939a9197 l=127.0.0.1:8237 r=102.222.70.103:55070\n"
          ]
        },
        {
          "name": "stdout",
          "output_type": "stream",
          "text": [
            "\u001b[1;35mt=2024-03-18T14:11:49+0000 lvl=info msg=\"join connections\" obj=join id=e2c0939a9197 l=127.0.0.1:8237 r=102.222.70.103:55070\u001b[0m\n",
            "\u001b[1;35mGot token from cookie\u001b[0m\n",
            "\u001b[32mINFO\u001b[0m:     102.222.70.103:0 - \"\u001b[1mGET /api/v1/workspaces/default/stacks?sort_by=desc:created&logical_operator=and&page=1&size=10 HTTP/1.1\u001b[0m\" \u001b[32m200 OK\u001b[0m\n"
          ]
        },
        {
          "name": "stderr",
          "output_type": "stream",
          "text": [
            "INFO:pyngrok.process.ngrok:t=2024-03-18T14:11:56+0000 lvl=info msg=\"join connections\" obj=join id=4154d10bfa56 l=127.0.0.1:8237 r=102.222.70.103:55070\n"
          ]
        },
        {
          "name": "stdout",
          "output_type": "stream",
          "text": [
            "\u001b[1;35mt=2024-03-18T14:11:56+0000 lvl=info msg=\"join connections\" obj=join id=4154d10bfa56 l=127.0.0.1:8237 r=102.222.70.103:55070\u001b[0m\n",
            "\u001b[1;35mGot token from cookie\u001b[0m\n",
            "\u001b[32mINFO\u001b[0m:     102.222.70.103:0 - \"\u001b[1mGET /api/v1/workspaces/default/stacks?sort_by=desc:created&logical_operator=and&page=1&size=10 HTTP/1.1\u001b[0m\" \u001b[32m200 OK\u001b[0m\n"
          ]
        },
        {
          "name": "stderr",
          "output_type": "stream",
          "text": [
            "INFO:pyngrok.process.ngrok:t=2024-03-18T14:12:02+0000 lvl=info msg=\"join connections\" obj=join id=b63fee43f4c5 l=127.0.0.1:8237 r=102.222.70.103:55070\n"
          ]
        },
        {
          "name": "stdout",
          "output_type": "stream",
          "text": [
            "\u001b[1;35mt=2024-03-18T14:12:02+0000 lvl=info msg=\"join connections\" obj=join id=b63fee43f4c5 l=127.0.0.1:8237 r=102.222.70.103:55070\u001b[0m\n",
            "\u001b[1;35mGot token from cookie\u001b[0m\n",
            "\u001b[32mINFO\u001b[0m:     102.222.70.103:0 - \"\u001b[1mGET /api/v1/workspaces/default/stacks?sort_by=desc:created&logical_operator=and&page=1&size=10 HTTP/1.1\u001b[0m\" \u001b[32m200 OK\u001b[0m\n"
          ]
        },
        {
          "name": "stderr",
          "output_type": "stream",
          "text": [
            "INFO:pyngrok.process.ngrok:t=2024-03-18T14:12:08+0000 lvl=info msg=\"join connections\" obj=join id=ce3fea094022 l=127.0.0.1:8237 r=102.222.70.103:55070\n"
          ]
        },
        {
          "name": "stdout",
          "output_type": "stream",
          "text": [
            "\u001b[1;35mt=2024-03-18T14:12:08+0000 lvl=info msg=\"join connections\" obj=join id=ce3fea094022 l=127.0.0.1:8237 r=102.222.70.103:55070\u001b[0m\n",
            "\u001b[1;35mGot token from cookie\u001b[0m\n",
            "\u001b[32mINFO\u001b[0m:     102.222.70.103:0 - \"\u001b[1mGET /api/v1/workspaces/default/stacks?sort_by=desc:created&logical_operator=and&page=1&size=10 HTTP/1.1\u001b[0m\" \u001b[32m200 OK\u001b[0m\n"
          ]
        },
        {
          "name": "stderr",
          "output_type": "stream",
          "text": [
            "INFO:pyngrok.process.ngrok:t=2024-03-18T14:12:14+0000 lvl=info msg=\"join connections\" obj=join id=ad61770ee98d l=127.0.0.1:8237 r=102.222.70.103:55070\n"
          ]
        },
        {
          "name": "stdout",
          "output_type": "stream",
          "text": [
            "\u001b[1;35mt=2024-03-18T14:12:14+0000 lvl=info msg=\"join connections\" obj=join id=ad61770ee98d l=127.0.0.1:8237 r=102.222.70.103:55070\u001b[0m\n",
            "\u001b[1;35mGot token from cookie\u001b[0m\n",
            "\u001b[32mINFO\u001b[0m:     102.222.70.103:0 - \"\u001b[1mGET /api/v1/workspaces/default/stacks?sort_by=desc:created&logical_operator=and&page=1&size=10 HTTP/1.1\u001b[0m\" \u001b[32m200 OK\u001b[0m\n"
          ]
        },
        {
          "name": "stderr",
          "output_type": "stream",
          "text": [
            "INFO:pyngrok.process.ngrok:t=2024-03-18T14:12:20+0000 lvl=info msg=\"join connections\" obj=join id=615d881e0aee l=127.0.0.1:8237 r=102.222.70.103:55070\n"
          ]
        },
        {
          "name": "stdout",
          "output_type": "stream",
          "text": [
            "\u001b[1;35mt=2024-03-18T14:12:20+0000 lvl=info msg=\"join connections\" obj=join id=615d881e0aee l=127.0.0.1:8237 r=102.222.70.103:55070\u001b[0m\n",
            "\u001b[1;35mGot token from cookie\u001b[0m\n",
            "\u001b[32mINFO\u001b[0m:     102.222.70.103:0 - \"\u001b[1mGET /api/v1/workspaces/default/stacks?sort_by=desc:created&logical_operator=and&page=1&size=10 HTTP/1.1\u001b[0m\" \u001b[32m200 OK\u001b[0m\n"
          ]
        },
        {
          "name": "stderr",
          "output_type": "stream",
          "text": [
            "INFO:pyngrok.process.ngrok:t=2024-03-18T14:12:26+0000 lvl=info msg=\"join connections\" obj=join id=76aa3c8da721 l=127.0.0.1:8237 r=102.222.70.103:55070\n"
          ]
        },
        {
          "name": "stdout",
          "output_type": "stream",
          "text": [
            "\u001b[1;35mt=2024-03-18T14:12:26+0000 lvl=info msg=\"join connections\" obj=join id=76aa3c8da721 l=127.0.0.1:8237 r=102.222.70.103:55070\u001b[0m\n",
            "\u001b[1;35mGot token from cookie\u001b[0m\n",
            "\u001b[32mINFO\u001b[0m:     102.222.70.103:0 - \"\u001b[1mGET /api/v1/workspaces/default/stacks?sort_by=desc:created&logical_operator=and&page=1&size=10 HTTP/1.1\u001b[0m\" \u001b[32m200 OK\u001b[0m\n"
          ]
        },
        {
          "name": "stderr",
          "output_type": "stream",
          "text": [
            "INFO:pyngrok.process.ngrok:t=2024-03-18T14:12:32+0000 lvl=info msg=\"join connections\" obj=join id=893cfc8e48c4 l=127.0.0.1:8237 r=102.222.70.103:55070\n"
          ]
        },
        {
          "name": "stdout",
          "output_type": "stream",
          "text": [
            "\u001b[1;35mt=2024-03-18T14:12:32+0000 lvl=info msg=\"join connections\" obj=join id=893cfc8e48c4 l=127.0.0.1:8237 r=102.222.70.103:55070\u001b[0m\n",
            "\u001b[1;35mGot token from cookie\u001b[0m\n",
            "\u001b[32mINFO\u001b[0m:     102.222.70.103:0 - \"\u001b[1mGET /api/v1/workspaces/default/stacks?sort_by=desc:created&logical_operator=and&page=1&size=10 HTTP/1.1\u001b[0m\" \u001b[32m200 OK\u001b[0m\n"
          ]
        },
        {
          "name": "stderr",
          "output_type": "stream",
          "text": [
            "INFO:pyngrok.process.ngrok:t=2024-03-18T14:12:41+0000 lvl=info msg=\"join connections\" obj=join id=2da23f1f904e l=127.0.0.1:8237 r=102.222.70.103:55070\n"
          ]
        },
        {
          "name": "stdout",
          "output_type": "stream",
          "text": [
            "\u001b[1;35mt=2024-03-18T14:12:41+0000 lvl=info msg=\"join connections\" obj=join id=2da23f1f904e l=127.0.0.1:8237 r=102.222.70.103:55070\u001b[0m\n",
            "\u001b[1;35mGot token from cookie\u001b[0m\n",
            "\u001b[32mINFO\u001b[0m:     102.222.70.103:0 - \"\u001b[1mGET /api/v1/workspaces/default/stacks?sort_by=desc:created&logical_operator=and&page=1&size=10 HTTP/1.1\u001b[0m\" \u001b[32m200 OK\u001b[0m\n"
          ]
        },
        {
          "name": "stderr",
          "output_type": "stream",
          "text": [
            "INFO:pyngrok.process.ngrok:t=2024-03-18T14:12:48+0000 lvl=info msg=\"join connections\" obj=join id=9d4fe2d0ffff l=127.0.0.1:8237 r=102.222.70.103:55070\n"
          ]
        },
        {
          "name": "stdout",
          "output_type": "stream",
          "text": [
            "\u001b[1;35mt=2024-03-18T14:12:48+0000 lvl=info msg=\"join connections\" obj=join id=9d4fe2d0ffff l=127.0.0.1:8237 r=102.222.70.103:55070\u001b[0m\n",
            "\u001b[1;35mGot token from cookie\u001b[0m\n",
            "\u001b[32mINFO\u001b[0m:     102.222.70.103:0 - \"\u001b[1mGET /api/v1/workspaces/default/stacks?sort_by=desc:created&logical_operator=and&page=1&size=10 HTTP/1.1\u001b[0m\" \u001b[32m200 OK\u001b[0m\n"
          ]
        },
        {
          "name": "stderr",
          "output_type": "stream",
          "text": [
            "INFO:pyngrok.process.ngrok:t=2024-03-18T14:12:54+0000 lvl=info msg=\"join connections\" obj=join id=d76bed73fe37 l=127.0.0.1:8237 r=102.222.70.103:55070\n"
          ]
        },
        {
          "name": "stdout",
          "output_type": "stream",
          "text": [
            "\u001b[1;35mt=2024-03-18T14:12:54+0000 lvl=info msg=\"join connections\" obj=join id=d76bed73fe37 l=127.0.0.1:8237 r=102.222.70.103:55070\u001b[0m\n",
            "\u001b[1;35mGot token from cookie\u001b[0m\n",
            "\u001b[32mINFO\u001b[0m:     102.222.70.103:0 - \"\u001b[1mGET /api/v1/workspaces/default/stacks?sort_by=desc:created&logical_operator=and&page=1&size=10 HTTP/1.1\u001b[0m\" \u001b[32m200 OK\u001b[0m\n"
          ]
        },
        {
          "name": "stderr",
          "output_type": "stream",
          "text": [
            "INFO:pyngrok.process.ngrok:t=2024-03-18T14:13:00+0000 lvl=info msg=\"join connections\" obj=join id=b5dce49a46f6 l=127.0.0.1:8237 r=102.222.70.103:55070\n"
          ]
        },
        {
          "name": "stdout",
          "output_type": "stream",
          "text": [
            "\u001b[1;35mt=2024-03-18T14:13:00+0000 lvl=info msg=\"join connections\" obj=join id=b5dce49a46f6 l=127.0.0.1:8237 r=102.222.70.103:55070\u001b[0m\n",
            "\u001b[1;35mGot token from cookie\u001b[0m\n",
            "\u001b[32mINFO\u001b[0m:     102.222.70.103:0 - \"\u001b[1mGET /api/v1/workspaces/default/stacks?sort_by=desc:created&logical_operator=and&page=1&size=10 HTTP/1.1\u001b[0m\" \u001b[32m200 OK\u001b[0m\n"
          ]
        },
        {
          "name": "stderr",
          "output_type": "stream",
          "text": [
            "INFO:pyngrok.process.ngrok:t=2024-03-18T14:13:06+0000 lvl=info msg=\"join connections\" obj=join id=095432590d5a l=127.0.0.1:8237 r=102.222.70.103:55070\n"
          ]
        },
        {
          "name": "stdout",
          "output_type": "stream",
          "text": [
            "\u001b[1;35mt=2024-03-18T14:13:06+0000 lvl=info msg=\"join connections\" obj=join id=095432590d5a l=127.0.0.1:8237 r=102.222.70.103:55070\u001b[0m\n",
            "\u001b[1;35mGot token from cookie\u001b[0m\n",
            "\u001b[32mINFO\u001b[0m:     102.222.70.103:0 - \"\u001b[1mGET /api/v1/workspaces/default/stacks?sort_by=desc:created&logical_operator=and&page=1&size=10 HTTP/1.1\u001b[0m\" \u001b[32m200 OK\u001b[0m\n"
          ]
        },
        {
          "name": "stderr",
          "output_type": "stream",
          "text": [
            "INFO:pyngrok.process.ngrok:t=2024-03-18T14:13:12+0000 lvl=info msg=\"join connections\" obj=join id=2c1d8ce11595 l=127.0.0.1:8237 r=102.222.70.103:55070\n"
          ]
        },
        {
          "name": "stdout",
          "output_type": "stream",
          "text": [
            "\u001b[1;35mt=2024-03-18T14:13:12+0000 lvl=info msg=\"join connections\" obj=join id=2c1d8ce11595 l=127.0.0.1:8237 r=102.222.70.103:55070\u001b[0m\n",
            "\u001b[1;35mGot token from cookie\u001b[0m\n",
            "\u001b[32mINFO\u001b[0m:     102.222.70.103:0 - \"\u001b[1mGET /api/v1/workspaces/default/stacks?sort_by=desc:created&logical_operator=and&page=1&size=10 HTTP/1.1\u001b[0m\" \u001b[32m200 OK\u001b[0m\n"
          ]
        },
        {
          "name": "stderr",
          "output_type": "stream",
          "text": [
            "INFO:pyngrok.process.ngrok:t=2024-03-18T14:13:18+0000 lvl=info msg=\"join connections\" obj=join id=fa83b6fdc4ae l=127.0.0.1:8237 r=102.222.70.103:55070\n"
          ]
        },
        {
          "name": "stdout",
          "output_type": "stream",
          "text": [
            "\u001b[1;35mt=2024-03-18T14:13:18+0000 lvl=info msg=\"join connections\" obj=join id=fa83b6fdc4ae l=127.0.0.1:8237 r=102.222.70.103:55070\u001b[0m\n",
            "\u001b[1;35mGot token from cookie\u001b[0m\n",
            "\u001b[32mINFO\u001b[0m:     102.222.70.103:0 - \"\u001b[1mGET /api/v1/workspaces/default/stacks?sort_by=desc:created&logical_operator=and&page=1&size=10 HTTP/1.1\u001b[0m\" \u001b[32m200 OK\u001b[0m\n"
          ]
        },
        {
          "name": "stderr",
          "output_type": "stream",
          "text": [
            "INFO:pyngrok.process.ngrok:t=2024-03-18T14:13:24+0000 lvl=info msg=\"join connections\" obj=join id=947baf961672 l=127.0.0.1:8237 r=102.222.70.103:55070\n"
          ]
        },
        {
          "name": "stdout",
          "output_type": "stream",
          "text": [
            "\u001b[1;35mt=2024-03-18T14:13:24+0000 lvl=info msg=\"join connections\" obj=join id=947baf961672 l=127.0.0.1:8237 r=102.222.70.103:55070\u001b[0m\n",
            "\u001b[1;35mGot token from cookie\u001b[0m\n",
            "\u001b[32mINFO\u001b[0m:     102.222.70.103:0 - \"\u001b[1mGET /api/v1/workspaces/default/stacks?sort_by=desc:created&logical_operator=and&page=1&size=10 HTTP/1.1\u001b[0m\" \u001b[32m200 OK\u001b[0m\n"
          ]
        },
        {
          "name": "stderr",
          "output_type": "stream",
          "text": [
            "INFO:pyngrok.process.ngrok:t=2024-03-18T14:13:31+0000 lvl=info msg=\"join connections\" obj=join id=fe847736aa66 l=127.0.0.1:8237 r=102.222.70.103:55070\n"
          ]
        },
        {
          "name": "stdout",
          "output_type": "stream",
          "text": [
            "\u001b[1;35mt=2024-03-18T14:13:31+0000 lvl=info msg=\"join connections\" obj=join id=fe847736aa66 l=127.0.0.1:8237 r=102.222.70.103:55070\u001b[0m\n",
            "\u001b[1;35mGot token from cookie\u001b[0m\n",
            "\u001b[32mINFO\u001b[0m:     102.222.70.103:0 - \"\u001b[1mGET /api/v1/workspaces/default/stacks?sort_by=desc:created&logical_operator=and&page=1&size=10 HTTP/1.1\u001b[0m\" \u001b[32m200 OK\u001b[0m\n"
          ]
        },
        {
          "name": "stderr",
          "output_type": "stream",
          "text": [
            "INFO:pyngrok.process.ngrok:t=2024-03-18T14:13:37+0000 lvl=info msg=\"join connections\" obj=join id=31cf9351c677 l=127.0.0.1:8237 r=102.222.70.103:55070\n"
          ]
        },
        {
          "name": "stdout",
          "output_type": "stream",
          "text": [
            "\u001b[1;35mt=2024-03-18T14:13:37+0000 lvl=info msg=\"join connections\" obj=join id=31cf9351c677 l=127.0.0.1:8237 r=102.222.70.103:55070\u001b[0m\n",
            "\u001b[1;35mGot token from cookie\u001b[0m\n",
            "\u001b[32mINFO\u001b[0m:     102.222.70.103:0 - \"\u001b[1mGET /api/v1/workspaces/default/stacks?sort_by=desc:created&logical_operator=and&page=1&size=10 HTTP/1.1\u001b[0m\" \u001b[32m200 OK\u001b[0m\n"
          ]
        },
        {
          "name": "stderr",
          "output_type": "stream",
          "text": [
            "INFO:pyngrok.process.ngrok:t=2024-03-18T14:13:43+0000 lvl=info msg=\"join connections\" obj=join id=350fdfeb1c3f l=127.0.0.1:8237 r=102.222.70.103:55070\n"
          ]
        },
        {
          "name": "stdout",
          "output_type": "stream",
          "text": [
            "\u001b[1;35mt=2024-03-18T14:13:43+0000 lvl=info msg=\"join connections\" obj=join id=350fdfeb1c3f l=127.0.0.1:8237 r=102.222.70.103:55070\u001b[0m\n",
            "\u001b[1;35mGot token from cookie\u001b[0m\n",
            "\u001b[32mINFO\u001b[0m:     102.222.70.103:0 - \"\u001b[1mGET /api/v1/workspaces/default/stacks?sort_by=desc:created&logical_operator=and&page=1&size=10 HTTP/1.1\u001b[0m\" \u001b[32m200 OK\u001b[0m\n"
          ]
        },
        {
          "name": "stderr",
          "output_type": "stream",
          "text": [
            "INFO:pyngrok.process.ngrok:t=2024-03-18T14:13:49+0000 lvl=info msg=\"join connections\" obj=join id=fae411f83831 l=127.0.0.1:8237 r=102.222.70.103:55070\n"
          ]
        },
        {
          "name": "stdout",
          "output_type": "stream",
          "text": [
            "\u001b[1;35mt=2024-03-18T14:13:49+0000 lvl=info msg=\"join connections\" obj=join id=fae411f83831 l=127.0.0.1:8237 r=102.222.70.103:55070\u001b[0m\n",
            "\u001b[1;35mGot token from cookie\u001b[0m\n",
            "\u001b[32mINFO\u001b[0m:     102.222.70.103:0 - \"\u001b[1mGET /api/v1/workspaces/default/stacks?sort_by=desc:created&logical_operator=and&page=1&size=10 HTTP/1.1\u001b[0m\" \u001b[32m200 OK\u001b[0m\n"
          ]
        },
        {
          "name": "stderr",
          "output_type": "stream",
          "text": [
            "INFO:pyngrok.process.ngrok:t=2024-03-18T14:13:55+0000 lvl=info msg=\"join connections\" obj=join id=a659bb8e8157 l=127.0.0.1:8237 r=102.222.70.103:55070\n"
          ]
        },
        {
          "name": "stdout",
          "output_type": "stream",
          "text": [
            "\u001b[1;35mt=2024-03-18T14:13:55+0000 lvl=info msg=\"join connections\" obj=join id=a659bb8e8157 l=127.0.0.1:8237 r=102.222.70.103:55070\u001b[0m\n",
            "\u001b[1;35mGot token from cookie\u001b[0m\n",
            "\u001b[32mINFO\u001b[0m:     102.222.70.103:0 - \"\u001b[1mGET /api/v1/workspaces/default/stacks?sort_by=desc:created&logical_operator=and&page=1&size=10 HTTP/1.1\u001b[0m\" \u001b[32m200 OK\u001b[0m\n"
          ]
        },
        {
          "name": "stderr",
          "output_type": "stream",
          "text": [
            "INFO:pyngrok.process.ngrok:t=2024-03-18T14:14:01+0000 lvl=info msg=\"join connections\" obj=join id=809bea71a2da l=127.0.0.1:8237 r=102.222.70.103:55070\n"
          ]
        },
        {
          "name": "stdout",
          "output_type": "stream",
          "text": [
            "\u001b[1;35mt=2024-03-18T14:14:01+0000 lvl=info msg=\"join connections\" obj=join id=809bea71a2da l=127.0.0.1:8237 r=102.222.70.103:55070\u001b[0m\n",
            "\u001b[1;35mGot token from cookie\u001b[0m\n",
            "\u001b[32mINFO\u001b[0m:     102.222.70.103:0 - \"\u001b[1mGET /api/v1/workspaces/default/stacks?sort_by=desc:created&logical_operator=and&page=1&size=10 HTTP/1.1\u001b[0m\" \u001b[32m200 OK\u001b[0m\n"
          ]
        },
        {
          "name": "stderr",
          "output_type": "stream",
          "text": [
            "INFO:pyngrok.process.ngrok:t=2024-03-18T14:14:07+0000 lvl=info msg=\"join connections\" obj=join id=23d36efe81bc l=127.0.0.1:8237 r=102.222.70.103:55070\n"
          ]
        },
        {
          "name": "stdout",
          "output_type": "stream",
          "text": [
            "\u001b[1;35mt=2024-03-18T14:14:07+0000 lvl=info msg=\"join connections\" obj=join id=23d36efe81bc l=127.0.0.1:8237 r=102.222.70.103:55070\u001b[0m\n",
            "\u001b[1;35mGot token from cookie\u001b[0m\n",
            "\u001b[32mINFO\u001b[0m:     102.222.70.103:0 - \"\u001b[1mGET /api/v1/workspaces/default/stacks?sort_by=desc:created&logical_operator=and&page=1&size=10 HTTP/1.1\u001b[0m\" \u001b[32m200 OK\u001b[0m\n"
          ]
        },
        {
          "name": "stderr",
          "output_type": "stream",
          "text": [
            "INFO:pyngrok.process.ngrok:t=2024-03-18T14:14:13+0000 lvl=info msg=\"join connections\" obj=join id=fba131d8d1d2 l=127.0.0.1:8237 r=102.222.70.103:55070\n"
          ]
        },
        {
          "name": "stdout",
          "output_type": "stream",
          "text": [
            "\u001b[1;35mt=2024-03-18T14:14:13+0000 lvl=info msg=\"join connections\" obj=join id=fba131d8d1d2 l=127.0.0.1:8237 r=102.222.70.103:55070\u001b[0m\n",
            "\u001b[1;35mGot token from cookie\u001b[0m\n",
            "\u001b[32mINFO\u001b[0m:     102.222.70.103:0 - \"\u001b[1mGET /api/v1/workspaces/default/stacks?sort_by=desc:created&logical_operator=and&page=1&size=10 HTTP/1.1\u001b[0m\" \u001b[32m200 OK\u001b[0m\n"
          ]
        },
        {
          "name": "stderr",
          "output_type": "stream",
          "text": [
            "INFO:pyngrok.process.ngrok:t=2024-03-18T14:14:19+0000 lvl=info msg=\"join connections\" obj=join id=ac67bbf6723d l=127.0.0.1:8237 r=102.222.70.103:55070\n"
          ]
        },
        {
          "name": "stdout",
          "output_type": "stream",
          "text": [
            "\u001b[1;35mt=2024-03-18T14:14:19+0000 lvl=info msg=\"join connections\" obj=join id=ac67bbf6723d l=127.0.0.1:8237 r=102.222.70.103:55070\u001b[0m\n",
            "\u001b[1;35mGot token from cookie\u001b[0m\n",
            "\u001b[32mINFO\u001b[0m:     102.222.70.103:0 - \"\u001b[1mGET /api/v1/workspaces/default/stacks?sort_by=desc:created&logical_operator=and&page=1&size=10 HTTP/1.1\u001b[0m\" \u001b[32m200 OK\u001b[0m\n"
          ]
        },
        {
          "name": "stderr",
          "output_type": "stream",
          "text": [
            "INFO:pyngrok.process.ngrok:t=2024-03-18T14:14:25+0000 lvl=info msg=\"join connections\" obj=join id=65c9f6b2e6eb l=127.0.0.1:8237 r=102.222.70.103:55070\n"
          ]
        },
        {
          "name": "stdout",
          "output_type": "stream",
          "text": [
            "\u001b[1;35mt=2024-03-18T14:14:25+0000 lvl=info msg=\"join connections\" obj=join id=65c9f6b2e6eb l=127.0.0.1:8237 r=102.222.70.103:55070\u001b[0m\n",
            "\u001b[1;35mGot token from cookie\u001b[0m\n",
            "\u001b[32mINFO\u001b[0m:     102.222.70.103:0 - \"\u001b[1mGET /api/v1/workspaces/default/stacks?sort_by=desc:created&logical_operator=and&page=1&size=10 HTTP/1.1\u001b[0m\" \u001b[32m200 OK\u001b[0m\n"
          ]
        },
        {
          "name": "stderr",
          "output_type": "stream",
          "text": [
            "INFO:pyngrok.process.ngrok:t=2024-03-18T14:14:31+0000 lvl=info msg=\"join connections\" obj=join id=b2f256023824 l=127.0.0.1:8237 r=102.222.70.103:55070\n"
          ]
        },
        {
          "name": "stdout",
          "output_type": "stream",
          "text": [
            "\u001b[1;35mt=2024-03-18T14:14:31+0000 lvl=info msg=\"join connections\" obj=join id=b2f256023824 l=127.0.0.1:8237 r=102.222.70.103:55070\u001b[0m\n",
            "\u001b[1;35mGot token from cookie\u001b[0m\n",
            "\u001b[32mINFO\u001b[0m:     102.222.70.103:0 - \"\u001b[1mGET /api/v1/workspaces/default/stacks?sort_by=desc:created&logical_operator=and&page=1&size=10 HTTP/1.1\u001b[0m\" \u001b[32m200 OK\u001b[0m\n"
          ]
        },
        {
          "name": "stderr",
          "output_type": "stream",
          "text": [
            "INFO:pyngrok.process.ngrok:t=2024-03-18T14:14:37+0000 lvl=info msg=\"join connections\" obj=join id=12dd6921ddc2 l=127.0.0.1:8237 r=102.222.70.103:55070\n"
          ]
        },
        {
          "name": "stdout",
          "output_type": "stream",
          "text": [
            "\u001b[1;35mt=2024-03-18T14:14:37+0000 lvl=info msg=\"join connections\" obj=join id=12dd6921ddc2 l=127.0.0.1:8237 r=102.222.70.103:55070\u001b[0m\n",
            "\u001b[1;35mGot token from cookie\u001b[0m\n",
            "\u001b[32mINFO\u001b[0m:     102.222.70.103:0 - \"\u001b[1mGET /api/v1/workspaces/default/stacks?sort_by=desc:created&logical_operator=and&page=1&size=10 HTTP/1.1\u001b[0m\" \u001b[32m200 OK\u001b[0m\n"
          ]
        },
        {
          "name": "stderr",
          "output_type": "stream",
          "text": [
            "INFO:pyngrok.process.ngrok:t=2024-03-18T14:14:43+0000 lvl=info msg=\"join connections\" obj=join id=1a5960f508ff l=127.0.0.1:8237 r=102.222.70.103:55070\n"
          ]
        },
        {
          "name": "stdout",
          "output_type": "stream",
          "text": [
            "\u001b[1;35mt=2024-03-18T14:14:43+0000 lvl=info msg=\"join connections\" obj=join id=1a5960f508ff l=127.0.0.1:8237 r=102.222.70.103:55070\u001b[0m\n",
            "\u001b[1;35mGot token from cookie\u001b[0m\n",
            "\u001b[32mINFO\u001b[0m:     102.222.70.103:0 - \"\u001b[1mGET /api/v1/workspaces/default/stacks?sort_by=desc:created&logical_operator=and&page=1&size=10 HTTP/1.1\u001b[0m\" \u001b[32m200 OK\u001b[0m\n"
          ]
        },
        {
          "name": "stderr",
          "output_type": "stream",
          "text": [
            "INFO:pyngrok.process.ngrok:t=2024-03-18T14:14:49+0000 lvl=info msg=\"join connections\" obj=join id=836b42a6c053 l=127.0.0.1:8237 r=102.222.70.103:55070\n"
          ]
        },
        {
          "name": "stdout",
          "output_type": "stream",
          "text": [
            "\u001b[1;35mt=2024-03-18T14:14:49+0000 lvl=info msg=\"join connections\" obj=join id=836b42a6c053 l=127.0.0.1:8237 r=102.222.70.103:55070\u001b[0m\n",
            "\u001b[1;35mGot token from cookie\u001b[0m\n",
            "\u001b[32mINFO\u001b[0m:     102.222.70.103:0 - \"\u001b[1mGET /api/v1/workspaces/default/stacks?sort_by=desc:created&logical_operator=and&page=1&size=10 HTTP/1.1\u001b[0m\" \u001b[32m200 OK\u001b[0m\n"
          ]
        },
        {
          "name": "stderr",
          "output_type": "stream",
          "text": [
            "INFO:pyngrok.process.ngrok:t=2024-03-18T14:14:55+0000 lvl=info msg=\"join connections\" obj=join id=6c1348152a27 l=127.0.0.1:8237 r=102.222.70.103:55070\n"
          ]
        },
        {
          "name": "stdout",
          "output_type": "stream",
          "text": [
            "\u001b[1;35mt=2024-03-18T14:14:55+0000 lvl=info msg=\"join connections\" obj=join id=6c1348152a27 l=127.0.0.1:8237 r=102.222.70.103:55070\u001b[0m\n",
            "\u001b[1;35mGot token from cookie\u001b[0m\n",
            "\u001b[32mINFO\u001b[0m:     102.222.70.103:0 - \"\u001b[1mGET /api/v1/workspaces/default/stacks?sort_by=desc:created&logical_operator=and&page=1&size=10 HTTP/1.1\u001b[0m\" \u001b[32m200 OK\u001b[0m\n"
          ]
        },
        {
          "name": "stderr",
          "output_type": "stream",
          "text": [
            "INFO:pyngrok.process.ngrok:t=2024-03-18T14:15:01+0000 lvl=info msg=\"join connections\" obj=join id=c9534158fbf1 l=127.0.0.1:8237 r=102.222.70.103:55070\n"
          ]
        },
        {
          "name": "stdout",
          "output_type": "stream",
          "text": [
            "\u001b[1;35mt=2024-03-18T14:15:01+0000 lvl=info msg=\"join connections\" obj=join id=c9534158fbf1 l=127.0.0.1:8237 r=102.222.70.103:55070\u001b[0m\n",
            "\u001b[1;35mGot token from cookie\u001b[0m\n",
            "\u001b[32mINFO\u001b[0m:     102.222.70.103:0 - \"\u001b[1mGET /api/v1/workspaces/default/stacks?sort_by=desc:created&logical_operator=and&page=1&size=10 HTTP/1.1\u001b[0m\" \u001b[32m200 OK\u001b[0m\n"
          ]
        },
        {
          "name": "stderr",
          "output_type": "stream",
          "text": [
            "INFO:pyngrok.process.ngrok:t=2024-03-18T14:15:07+0000 lvl=info msg=\"join connections\" obj=join id=acabfbdfacff l=127.0.0.1:8237 r=102.222.70.103:55070\n"
          ]
        },
        {
          "name": "stdout",
          "output_type": "stream",
          "text": [
            "\u001b[1;35mt=2024-03-18T14:15:07+0000 lvl=info msg=\"join connections\" obj=join id=acabfbdfacff l=127.0.0.1:8237 r=102.222.70.103:55070\u001b[0m\n",
            "\u001b[1;35mGot token from cookie\u001b[0m\n",
            "\u001b[32mINFO\u001b[0m:     102.222.70.103:0 - \"\u001b[1mGET /api/v1/workspaces/default/stacks?sort_by=desc:created&logical_operator=and&page=1&size=10 HTTP/1.1\u001b[0m\" \u001b[32m200 OK\u001b[0m\n"
          ]
        },
        {
          "name": "stderr",
          "output_type": "stream",
          "text": [
            "INFO:pyngrok.process.ngrok:t=2024-03-18T14:15:13+0000 lvl=info msg=\"join connections\" obj=join id=aacd6a19aa2c l=127.0.0.1:8237 r=102.222.70.103:55070\n"
          ]
        },
        {
          "name": "stdout",
          "output_type": "stream",
          "text": [
            "\u001b[1;35mt=2024-03-18T14:15:13+0000 lvl=info msg=\"join connections\" obj=join id=aacd6a19aa2c l=127.0.0.1:8237 r=102.222.70.103:55070\u001b[0m\n",
            "\u001b[1;35mGot token from cookie\u001b[0m\n",
            "\u001b[32mINFO\u001b[0m:     102.222.70.103:0 - \"\u001b[1mGET /api/v1/workspaces/default/stacks?sort_by=desc:created&logical_operator=and&page=1&size=10 HTTP/1.1\u001b[0m\" \u001b[32m200 OK\u001b[0m\n"
          ]
        },
        {
          "name": "stderr",
          "output_type": "stream",
          "text": [
            "INFO:pyngrok.process.ngrok:t=2024-03-18T14:15:19+0000 lvl=info msg=\"join connections\" obj=join id=f6e62740ed03 l=127.0.0.1:8237 r=102.222.70.103:55070\n"
          ]
        },
        {
          "name": "stdout",
          "output_type": "stream",
          "text": [
            "\u001b[1;35mt=2024-03-18T14:15:19+0000 lvl=info msg=\"join connections\" obj=join id=f6e62740ed03 l=127.0.0.1:8237 r=102.222.70.103:55070\u001b[0m\n",
            "\u001b[1;35mGot token from cookie\u001b[0m\n",
            "\u001b[32mINFO\u001b[0m:     102.222.70.103:0 - \"\u001b[1mGET /api/v1/workspaces/default/stacks?sort_by=desc:created&logical_operator=and&page=1&size=10 HTTP/1.1\u001b[0m\" \u001b[32m200 OK\u001b[0m\n"
          ]
        },
        {
          "name": "stderr",
          "output_type": "stream",
          "text": [
            "INFO:pyngrok.process.ngrok:t=2024-03-18T14:15:25+0000 lvl=info msg=\"join connections\" obj=join id=2ceb20cdabec l=127.0.0.1:8237 r=102.222.70.103:55070\n"
          ]
        },
        {
          "name": "stdout",
          "output_type": "stream",
          "text": [
            "\u001b[1;35mt=2024-03-18T14:15:25+0000 lvl=info msg=\"join connections\" obj=join id=2ceb20cdabec l=127.0.0.1:8237 r=102.222.70.103:55070\u001b[0m\n",
            "\u001b[1;35mGot token from cookie\u001b[0m\n",
            "\u001b[32mINFO\u001b[0m:     102.222.70.103:0 - \"\u001b[1mGET /api/v1/workspaces/default/stacks?sort_by=desc:created&logical_operator=and&page=1&size=10 HTTP/1.1\u001b[0m\" \u001b[32m200 OK\u001b[0m\n"
          ]
        },
        {
          "name": "stderr",
          "output_type": "stream",
          "text": [
            "INFO:pyngrok.process.ngrok:t=2024-03-18T14:15:31+0000 lvl=info msg=\"join connections\" obj=join id=b3adc2e7b874 l=127.0.0.1:8237 r=102.222.70.103:55070\n"
          ]
        },
        {
          "name": "stdout",
          "output_type": "stream",
          "text": [
            "\u001b[1;35mt=2024-03-18T14:15:31+0000 lvl=info msg=\"join connections\" obj=join id=b3adc2e7b874 l=127.0.0.1:8237 r=102.222.70.103:55070\u001b[0m\n",
            "\u001b[1;35mGot token from cookie\u001b[0m\n",
            "\u001b[32mINFO\u001b[0m:     102.222.70.103:0 - \"\u001b[1mGET /api/v1/workspaces/default/stacks?sort_by=desc:created&logical_operator=and&page=1&size=10 HTTP/1.1\u001b[0m\" \u001b[32m200 OK\u001b[0m\n"
          ]
        },
        {
          "name": "stderr",
          "output_type": "stream",
          "text": [
            "INFO:pyngrok.process.ngrok:t=2024-03-18T14:15:37+0000 lvl=info msg=\"join connections\" obj=join id=e46037e5f01b l=127.0.0.1:8237 r=102.222.70.103:55070\n"
          ]
        },
        {
          "name": "stdout",
          "output_type": "stream",
          "text": [
            "\u001b[1;35mt=2024-03-18T14:15:37+0000 lvl=info msg=\"join connections\" obj=join id=e46037e5f01b l=127.0.0.1:8237 r=102.222.70.103:55070\u001b[0m\n",
            "\u001b[1;35mGot token from cookie\u001b[0m\n",
            "\u001b[32mINFO\u001b[0m:     102.222.70.103:0 - \"\u001b[1mGET /api/v1/workspaces/default/stacks?sort_by=desc:created&logical_operator=and&page=1&size=10 HTTP/1.1\u001b[0m\" \u001b[32m200 OK\u001b[0m\n"
          ]
        },
        {
          "name": "stderr",
          "output_type": "stream",
          "text": [
            "INFO:pyngrok.process.ngrok:t=2024-03-18T14:15:43+0000 lvl=info msg=\"join connections\" obj=join id=824c97ea830e l=127.0.0.1:8237 r=102.222.70.103:55070\n"
          ]
        },
        {
          "name": "stdout",
          "output_type": "stream",
          "text": [
            "\u001b[1;35mt=2024-03-18T14:15:43+0000 lvl=info msg=\"join connections\" obj=join id=824c97ea830e l=127.0.0.1:8237 r=102.222.70.103:55070\u001b[0m\n",
            "\u001b[1;35mGot token from cookie\u001b[0m\n",
            "\u001b[32mINFO\u001b[0m:     102.222.70.103:0 - \"\u001b[1mGET /api/v1/workspaces/default/stacks?sort_by=desc:created&logical_operator=and&page=1&size=10 HTTP/1.1\u001b[0m\" \u001b[32m200 OK\u001b[0m\n"
          ]
        },
        {
          "name": "stderr",
          "output_type": "stream",
          "text": [
            "INFO:pyngrok.process.ngrok:t=2024-03-18T14:15:49+0000 lvl=info msg=\"join connections\" obj=join id=e321cc5b481b l=127.0.0.1:8237 r=102.222.70.103:55070\n"
          ]
        },
        {
          "name": "stdout",
          "output_type": "stream",
          "text": [
            "\u001b[1;35mt=2024-03-18T14:15:49+0000 lvl=info msg=\"join connections\" obj=join id=e321cc5b481b l=127.0.0.1:8237 r=102.222.70.103:55070\u001b[0m\n",
            "\u001b[1;35mGot token from cookie\u001b[0m\n",
            "\u001b[32mINFO\u001b[0m:     102.222.70.103:0 - \"\u001b[1mGET /api/v1/workspaces/default/stacks?sort_by=desc:created&logical_operator=and&page=1&size=10 HTTP/1.1\u001b[0m\" \u001b[32m200 OK\u001b[0m\n"
          ]
        },
        {
          "name": "stderr",
          "output_type": "stream",
          "text": [
            "INFO:pyngrok.process.ngrok:t=2024-03-18T14:15:55+0000 lvl=info msg=\"join connections\" obj=join id=d23cb4cffd49 l=127.0.0.1:8237 r=102.222.70.103:55070\n"
          ]
        },
        {
          "name": "stdout",
          "output_type": "stream",
          "text": [
            "\u001b[1;35mt=2024-03-18T14:15:55+0000 lvl=info msg=\"join connections\" obj=join id=d23cb4cffd49 l=127.0.0.1:8237 r=102.222.70.103:55070\u001b[0m\n",
            "\u001b[1;35mGot token from cookie\u001b[0m\n",
            "\u001b[32mINFO\u001b[0m:     102.222.70.103:0 - \"\u001b[1mGET /api/v1/workspaces/default/stacks?sort_by=desc:created&logical_operator=and&page=1&size=10 HTTP/1.1\u001b[0m\" \u001b[32m200 OK\u001b[0m\n"
          ]
        },
        {
          "name": "stderr",
          "output_type": "stream",
          "text": [
            "INFO:pyngrok.process.ngrok:t=2024-03-18T14:16:01+0000 lvl=info msg=\"join connections\" obj=join id=734328e003fe l=127.0.0.1:8237 r=102.222.70.103:55070\n"
          ]
        },
        {
          "name": "stdout",
          "output_type": "stream",
          "text": [
            "\u001b[1;35mt=2024-03-18T14:16:01+0000 lvl=info msg=\"join connections\" obj=join id=734328e003fe l=127.0.0.1:8237 r=102.222.70.103:55070\u001b[0m\n",
            "\u001b[1;35mGot token from cookie\u001b[0m\n",
            "\u001b[32mINFO\u001b[0m:     102.222.70.103:0 - \"\u001b[1mGET /api/v1/workspaces/default/stacks?sort_by=desc:created&logical_operator=and&page=1&size=10 HTTP/1.1\u001b[0m\" \u001b[32m200 OK\u001b[0m\n"
          ]
        },
        {
          "name": "stderr",
          "output_type": "stream",
          "text": [
            "INFO:pyngrok.process.ngrok:t=2024-03-18T14:16:07+0000 lvl=info msg=\"join connections\" obj=join id=130efd164888 l=127.0.0.1:8237 r=102.222.70.103:55070\n"
          ]
        },
        {
          "name": "stdout",
          "output_type": "stream",
          "text": [
            "\u001b[1;35mt=2024-03-18T14:16:07+0000 lvl=info msg=\"join connections\" obj=join id=130efd164888 l=127.0.0.1:8237 r=102.222.70.103:55070\u001b[0m\n",
            "\u001b[1;35mGot token from cookie\u001b[0m\n",
            "\u001b[32mINFO\u001b[0m:     102.222.70.103:0 - \"\u001b[1mGET /api/v1/workspaces/default/stacks?sort_by=desc:created&logical_operator=and&page=1&size=10 HTTP/1.1\u001b[0m\" \u001b[32m200 OK\u001b[0m\n"
          ]
        },
        {
          "name": "stderr",
          "output_type": "stream",
          "text": [
            "INFO:pyngrok.process.ngrok:t=2024-03-18T14:16:13+0000 lvl=info msg=\"join connections\" obj=join id=121d14325b86 l=127.0.0.1:8237 r=102.222.70.103:55070\n"
          ]
        },
        {
          "name": "stdout",
          "output_type": "stream",
          "text": [
            "\u001b[1;35mt=2024-03-18T14:16:13+0000 lvl=info msg=\"join connections\" obj=join id=121d14325b86 l=127.0.0.1:8237 r=102.222.70.103:55070\u001b[0m\n",
            "\u001b[1;35mGot token from cookie\u001b[0m\n",
            "\u001b[32mINFO\u001b[0m:     102.222.70.103:0 - \"\u001b[1mGET /api/v1/workspaces/default/stacks?sort_by=desc:created&logical_operator=and&page=1&size=10 HTTP/1.1\u001b[0m\" \u001b[32m200 OK\u001b[0m\n"
          ]
        },
        {
          "name": "stderr",
          "output_type": "stream",
          "text": [
            "INFO:pyngrok.process.ngrok:t=2024-03-18T14:16:19+0000 lvl=info msg=\"join connections\" obj=join id=917dbae41f38 l=127.0.0.1:8237 r=102.222.70.103:55070\n"
          ]
        },
        {
          "name": "stdout",
          "output_type": "stream",
          "text": [
            "\u001b[1;35mt=2024-03-18T14:16:19+0000 lvl=info msg=\"join connections\" obj=join id=917dbae41f38 l=127.0.0.1:8237 r=102.222.70.103:55070\u001b[0m\n",
            "\u001b[1;35mGot token from cookie\u001b[0m\n",
            "\u001b[32mINFO\u001b[0m:     102.222.70.103:0 - \"\u001b[1mGET /api/v1/workspaces/default/stacks?sort_by=desc:created&logical_operator=and&page=1&size=10 HTTP/1.1\u001b[0m\" \u001b[32m200 OK\u001b[0m\n"
          ]
        },
        {
          "name": "stderr",
          "output_type": "stream",
          "text": [
            "INFO:pyngrok.process.ngrok:t=2024-03-18T14:16:25+0000 lvl=info msg=\"join connections\" obj=join id=52e8d856fa30 l=127.0.0.1:8237 r=102.222.70.103:55070\n"
          ]
        },
        {
          "name": "stdout",
          "output_type": "stream",
          "text": [
            "\u001b[1;35mt=2024-03-18T14:16:25+0000 lvl=info msg=\"join connections\" obj=join id=52e8d856fa30 l=127.0.0.1:8237 r=102.222.70.103:55070\u001b[0m\n",
            "\u001b[1;35mGot token from cookie\u001b[0m\n",
            "\u001b[32mINFO\u001b[0m:     102.222.70.103:0 - \"\u001b[1mGET /api/v1/workspaces/default/stacks?sort_by=desc:created&logical_operator=and&page=1&size=10 HTTP/1.1\u001b[0m\" \u001b[32m200 OK\u001b[0m\n"
          ]
        },
        {
          "name": "stderr",
          "output_type": "stream",
          "text": [
            "INFO:pyngrok.process.ngrok:t=2024-03-18T14:16:31+0000 lvl=info msg=\"join connections\" obj=join id=18f978fc80bb l=127.0.0.1:8237 r=102.222.70.103:55070\n"
          ]
        },
        {
          "name": "stdout",
          "output_type": "stream",
          "text": [
            "\u001b[1;35mt=2024-03-18T14:16:31+0000 lvl=info msg=\"join connections\" obj=join id=18f978fc80bb l=127.0.0.1:8237 r=102.222.70.103:55070\u001b[0m\n",
            "\u001b[1;35mGot token from cookie\u001b[0m\n",
            "\u001b[32mINFO\u001b[0m:     102.222.70.103:0 - \"\u001b[1mGET /api/v1/workspaces/default/stacks?sort_by=desc:created&logical_operator=and&page=1&size=10 HTTP/1.1\u001b[0m\" \u001b[32m200 OK\u001b[0m\n"
          ]
        },
        {
          "name": "stderr",
          "output_type": "stream",
          "text": [
            "INFO:pyngrok.process.ngrok:t=2024-03-18T14:16:37+0000 lvl=info msg=\"join connections\" obj=join id=e57f4e564f63 l=127.0.0.1:8237 r=102.222.70.103:55070\n"
          ]
        },
        {
          "name": "stdout",
          "output_type": "stream",
          "text": [
            "\u001b[1;35mt=2024-03-18T14:16:37+0000 lvl=info msg=\"join connections\" obj=join id=e57f4e564f63 l=127.0.0.1:8237 r=102.222.70.103:55070\u001b[0m\n",
            "\u001b[1;35mGot token from cookie\u001b[0m\n",
            "\u001b[32mINFO\u001b[0m:     102.222.70.103:0 - \"\u001b[1mGET /api/v1/workspaces/default/stacks?sort_by=desc:created&logical_operator=and&page=1&size=10 HTTP/1.1\u001b[0m\" \u001b[32m200 OK\u001b[0m\n"
          ]
        },
        {
          "name": "stderr",
          "output_type": "stream",
          "text": [
            "INFO:pyngrok.process.ngrok:t=2024-03-18T14:16:43+0000 lvl=info msg=\"join connections\" obj=join id=4eae516c5094 l=127.0.0.1:8237 r=102.222.70.103:55070\n"
          ]
        },
        {
          "name": "stdout",
          "output_type": "stream",
          "text": [
            "\u001b[1;35mt=2024-03-18T14:16:43+0000 lvl=info msg=\"join connections\" obj=join id=4eae516c5094 l=127.0.0.1:8237 r=102.222.70.103:55070\u001b[0m\n",
            "\u001b[1;35mGot token from cookie\u001b[0m\n",
            "\u001b[32mINFO\u001b[0m:     102.222.70.103:0 - \"\u001b[1mGET /api/v1/workspaces/default/stacks?sort_by=desc:created&logical_operator=and&page=1&size=10 HTTP/1.1\u001b[0m\" \u001b[32m200 OK\u001b[0m\n"
          ]
        },
        {
          "name": "stderr",
          "output_type": "stream",
          "text": [
            "INFO:pyngrok.process.ngrok:t=2024-03-18T14:16:49+0000 lvl=info msg=\"join connections\" obj=join id=616409a40364 l=127.0.0.1:8237 r=102.222.70.103:55070\n"
          ]
        },
        {
          "name": "stdout",
          "output_type": "stream",
          "text": [
            "\u001b[1;35mt=2024-03-18T14:16:49+0000 lvl=info msg=\"join connections\" obj=join id=616409a40364 l=127.0.0.1:8237 r=102.222.70.103:55070\u001b[0m\n",
            "\u001b[1;35mGot token from cookie\u001b[0m\n",
            "\u001b[32mINFO\u001b[0m:     102.222.70.103:0 - \"\u001b[1mGET /api/v1/workspaces/default/stacks?sort_by=desc:created&logical_operator=and&page=1&size=10 HTTP/1.1\u001b[0m\" \u001b[32m200 OK\u001b[0m\n"
          ]
        },
        {
          "name": "stderr",
          "output_type": "stream",
          "text": [
            "INFO:pyngrok.process.ngrok:t=2024-03-18T14:16:55+0000 lvl=info msg=\"join connections\" obj=join id=8eeb473cba46 l=127.0.0.1:8237 r=102.222.70.103:55070\n"
          ]
        },
        {
          "name": "stdout",
          "output_type": "stream",
          "text": [
            "\u001b[1;35mt=2024-03-18T14:16:55+0000 lvl=info msg=\"join connections\" obj=join id=8eeb473cba46 l=127.0.0.1:8237 r=102.222.70.103:55070\u001b[0m\n",
            "\u001b[1;35mGot token from cookie\u001b[0m\n",
            "\u001b[32mINFO\u001b[0m:     102.222.70.103:0 - \"\u001b[1mGET /api/v1/workspaces/default/stacks?sort_by=desc:created&logical_operator=and&page=1&size=10 HTTP/1.1\u001b[0m\" \u001b[32m200 OK\u001b[0m\n"
          ]
        },
        {
          "name": "stderr",
          "output_type": "stream",
          "text": [
            "INFO:pyngrok.process.ngrok:t=2024-03-18T14:17:01+0000 lvl=info msg=\"join connections\" obj=join id=8eda9a425055 l=127.0.0.1:8237 r=102.222.70.103:55070\n"
          ]
        },
        {
          "name": "stdout",
          "output_type": "stream",
          "text": [
            "\u001b[1;35mt=2024-03-18T14:17:01+0000 lvl=info msg=\"join connections\" obj=join id=8eda9a425055 l=127.0.0.1:8237 r=102.222.70.103:55070\u001b[0m\n",
            "\u001b[1;35mGot token from cookie\u001b[0m\n",
            "\u001b[32mINFO\u001b[0m:     102.222.70.103:0 - \"\u001b[1mGET /api/v1/workspaces/default/stacks?sort_by=desc:created&logical_operator=and&page=1&size=10 HTTP/1.1\u001b[0m\" \u001b[32m200 OK\u001b[0m\n"
          ]
        },
        {
          "name": "stderr",
          "output_type": "stream",
          "text": [
            "INFO:pyngrok.process.ngrok:t=2024-03-18T14:17:07+0000 lvl=info msg=\"join connections\" obj=join id=0384f2386277 l=127.0.0.1:8237 r=102.222.70.103:55070\n"
          ]
        },
        {
          "name": "stdout",
          "output_type": "stream",
          "text": [
            "\u001b[1;35mt=2024-03-18T14:17:07+0000 lvl=info msg=\"join connections\" obj=join id=0384f2386277 l=127.0.0.1:8237 r=102.222.70.103:55070\u001b[0m\n",
            "\u001b[1;35mGot token from cookie\u001b[0m\n",
            "\u001b[32mINFO\u001b[0m:     102.222.70.103:0 - \"\u001b[1mGET /api/v1/workspaces/default/stacks?sort_by=desc:created&logical_operator=and&page=1&size=10 HTTP/1.1\u001b[0m\" \u001b[32m200 OK\u001b[0m\n"
          ]
        },
        {
          "name": "stderr",
          "output_type": "stream",
          "text": [
            "INFO:pyngrok.process.ngrok:t=2024-03-18T14:17:13+0000 lvl=info msg=\"join connections\" obj=join id=a22631818ef8 l=127.0.0.1:8237 r=102.222.70.103:55070\n"
          ]
        },
        {
          "name": "stdout",
          "output_type": "stream",
          "text": [
            "\u001b[1;35mt=2024-03-18T14:17:13+0000 lvl=info msg=\"join connections\" obj=join id=a22631818ef8 l=127.0.0.1:8237 r=102.222.70.103:55070\u001b[0m\n",
            "\u001b[1;35mGot token from cookie\u001b[0m\n",
            "\u001b[32mINFO\u001b[0m:     102.222.70.103:0 - \"\u001b[1mGET /api/v1/workspaces/default/stacks?sort_by=desc:created&logical_operator=and&page=1&size=10 HTTP/1.1\u001b[0m\" \u001b[32m200 OK\u001b[0m\n"
          ]
        },
        {
          "name": "stderr",
          "output_type": "stream",
          "text": [
            "INFO:pyngrok.process.ngrok:t=2024-03-18T14:17:19+0000 lvl=info msg=\"join connections\" obj=join id=c9ae59cf03a8 l=127.0.0.1:8237 r=102.222.70.103:55070\n"
          ]
        },
        {
          "name": "stdout",
          "output_type": "stream",
          "text": [
            "\u001b[1;35mt=2024-03-18T14:17:19+0000 lvl=info msg=\"join connections\" obj=join id=c9ae59cf03a8 l=127.0.0.1:8237 r=102.222.70.103:55070\u001b[0m\n",
            "\u001b[1;35mGot token from cookie\u001b[0m\n",
            "\u001b[32mINFO\u001b[0m:     102.222.70.103:0 - \"\u001b[1mGET /api/v1/workspaces/default/stacks?sort_by=desc:created&logical_operator=and&page=1&size=10 HTTP/1.1\u001b[0m\" \u001b[32m200 OK\u001b[0m\n"
          ]
        },
        {
          "name": "stderr",
          "output_type": "stream",
          "text": [
            "INFO:pyngrok.process.ngrok:t=2024-03-18T14:17:25+0000 lvl=info msg=\"join connections\" obj=join id=f6f4cffc1393 l=127.0.0.1:8237 r=102.222.70.103:55070\n"
          ]
        },
        {
          "name": "stdout",
          "output_type": "stream",
          "text": [
            "\u001b[1;35mt=2024-03-18T14:17:25+0000 lvl=info msg=\"join connections\" obj=join id=f6f4cffc1393 l=127.0.0.1:8237 r=102.222.70.103:55070\u001b[0m\n",
            "\u001b[1;35mGot token from cookie\u001b[0m\n",
            "\u001b[32mINFO\u001b[0m:     102.222.70.103:0 - \"\u001b[1mGET /api/v1/workspaces/default/stacks?sort_by=desc:created&logical_operator=and&page=1&size=10 HTTP/1.1\u001b[0m\" \u001b[32m200 OK\u001b[0m\n"
          ]
        },
        {
          "name": "stderr",
          "output_type": "stream",
          "text": [
            "INFO:pyngrok.process.ngrok:t=2024-03-18T14:17:31+0000 lvl=info msg=\"join connections\" obj=join id=7fad3aa2cd22 l=127.0.0.1:8237 r=102.222.70.103:55070\n"
          ]
        },
        {
          "name": "stdout",
          "output_type": "stream",
          "text": [
            "\u001b[1;35mt=2024-03-18T14:17:31+0000 lvl=info msg=\"join connections\" obj=join id=7fad3aa2cd22 l=127.0.0.1:8237 r=102.222.70.103:55070\u001b[0m\n",
            "\u001b[1;35mGot token from cookie\u001b[0m\n",
            "\u001b[32mINFO\u001b[0m:     102.222.70.103:0 - \"\u001b[1mGET /api/v1/workspaces/default/stacks?sort_by=desc:created&logical_operator=and&page=1&size=10 HTTP/1.1\u001b[0m\" \u001b[32m200 OK\u001b[0m\n"
          ]
        },
        {
          "name": "stderr",
          "output_type": "stream",
          "text": [
            "INFO:pyngrok.process.ngrok:t=2024-03-18T14:17:37+0000 lvl=info msg=\"join connections\" obj=join id=841ddaaffd5c l=127.0.0.1:8237 r=102.222.70.103:55070\n"
          ]
        },
        {
          "name": "stdout",
          "output_type": "stream",
          "text": [
            "\u001b[1;35mt=2024-03-18T14:17:37+0000 lvl=info msg=\"join connections\" obj=join id=841ddaaffd5c l=127.0.0.1:8237 r=102.222.70.103:55070\u001b[0m\n",
            "\u001b[1;35mGot token from cookie\u001b[0m\n",
            "\u001b[32mINFO\u001b[0m:     102.222.70.103:0 - \"\u001b[1mGET /api/v1/workspaces/default/stacks?sort_by=desc:created&logical_operator=and&page=1&size=10 HTTP/1.1\u001b[0m\" \u001b[32m200 OK\u001b[0m\n"
          ]
        },
        {
          "name": "stderr",
          "output_type": "stream",
          "text": [
            "INFO:pyngrok.process.ngrok:t=2024-03-18T14:17:43+0000 lvl=info msg=\"join connections\" obj=join id=4050f02148f7 l=127.0.0.1:8237 r=102.222.70.103:55070\n"
          ]
        },
        {
          "name": "stdout",
          "output_type": "stream",
          "text": [
            "\u001b[1;35mt=2024-03-18T14:17:43+0000 lvl=info msg=\"join connections\" obj=join id=4050f02148f7 l=127.0.0.1:8237 r=102.222.70.103:55070\u001b[0m\n",
            "\u001b[1;35mGot token from cookie\u001b[0m\n",
            "\u001b[32mINFO\u001b[0m:     102.222.70.103:0 - \"\u001b[1mGET /api/v1/workspaces/default/stacks?sort_by=desc:created&logical_operator=and&page=1&size=10 HTTP/1.1\u001b[0m\" \u001b[32m200 OK\u001b[0m\n"
          ]
        },
        {
          "name": "stderr",
          "output_type": "stream",
          "text": [
            "INFO:pyngrok.process.ngrok:t=2024-03-18T14:17:49+0000 lvl=info msg=\"join connections\" obj=join id=dda2b12eaa34 l=127.0.0.1:8237 r=102.222.70.103:55070\n"
          ]
        },
        {
          "name": "stdout",
          "output_type": "stream",
          "text": [
            "\u001b[1;35mt=2024-03-18T14:17:49+0000 lvl=info msg=\"join connections\" obj=join id=dda2b12eaa34 l=127.0.0.1:8237 r=102.222.70.103:55070\u001b[0m\n",
            "\u001b[1;35mGot token from cookie\u001b[0m\n",
            "\u001b[32mINFO\u001b[0m:     102.222.70.103:0 - \"\u001b[1mGET /api/v1/workspaces/default/stacks?sort_by=desc:created&logical_operator=and&page=1&size=10 HTTP/1.1\u001b[0m\" \u001b[32m200 OK\u001b[0m\n"
          ]
        },
        {
          "name": "stderr",
          "output_type": "stream",
          "text": [
            "INFO:pyngrok.process.ngrok:t=2024-03-18T14:17:55+0000 lvl=info msg=\"join connections\" obj=join id=5e435ec05819 l=127.0.0.1:8237 r=102.222.70.103:55070\n"
          ]
        },
        {
          "name": "stdout",
          "output_type": "stream",
          "text": [
            "\u001b[1;35mt=2024-03-18T14:17:55+0000 lvl=info msg=\"join connections\" obj=join id=5e435ec05819 l=127.0.0.1:8237 r=102.222.70.103:55070\u001b[0m\n",
            "\u001b[1;35mGot token from cookie\u001b[0m\n",
            "\u001b[32mINFO\u001b[0m:     102.222.70.103:0 - \"\u001b[1mGET /api/v1/workspaces/default/stacks?sort_by=desc:created&logical_operator=and&page=1&size=10 HTTP/1.1\u001b[0m\" \u001b[32m200 OK\u001b[0m\n"
          ]
        },
        {
          "name": "stderr",
          "output_type": "stream",
          "text": [
            "INFO:pyngrok.process.ngrok:t=2024-03-18T14:18:01+0000 lvl=info msg=\"join connections\" obj=join id=a61461f54628 l=127.0.0.1:8237 r=102.222.70.103:55070\n"
          ]
        },
        {
          "name": "stdout",
          "output_type": "stream",
          "text": [
            "\u001b[1;35mt=2024-03-18T14:18:01+0000 lvl=info msg=\"join connections\" obj=join id=a61461f54628 l=127.0.0.1:8237 r=102.222.70.103:55070\u001b[0m\n",
            "\u001b[1;35mGot token from cookie\u001b[0m\n",
            "\u001b[32mINFO\u001b[0m:     102.222.70.103:0 - \"\u001b[1mGET /api/v1/workspaces/default/stacks?sort_by=desc:created&logical_operator=and&page=1&size=10 HTTP/1.1\u001b[0m\" \u001b[32m200 OK\u001b[0m\n"
          ]
        },
        {
          "name": "stderr",
          "output_type": "stream",
          "text": [
            "INFO:pyngrok.process.ngrok:t=2024-03-18T14:18:07+0000 lvl=info msg=\"join connections\" obj=join id=35723c79940a l=127.0.0.1:8237 r=102.222.70.103:55070\n"
          ]
        },
        {
          "name": "stdout",
          "output_type": "stream",
          "text": [
            "\u001b[1;35mt=2024-03-18T14:18:07+0000 lvl=info msg=\"join connections\" obj=join id=35723c79940a l=127.0.0.1:8237 r=102.222.70.103:55070\u001b[0m\n",
            "\u001b[1;35mGot token from cookie\u001b[0m\n",
            "\u001b[32mINFO\u001b[0m:     102.222.70.103:0 - \"\u001b[1mGET /api/v1/workspaces/default/stacks?sort_by=desc:created&logical_operator=and&page=1&size=10 HTTP/1.1\u001b[0m\" \u001b[32m200 OK\u001b[0m\n"
          ]
        },
        {
          "name": "stderr",
          "output_type": "stream",
          "text": [
            "INFO:pyngrok.process.ngrok:t=2024-03-18T14:18:13+0000 lvl=info msg=\"join connections\" obj=join id=77dcedf69613 l=127.0.0.1:8237 r=102.222.70.103:55070\n"
          ]
        },
        {
          "name": "stdout",
          "output_type": "stream",
          "text": [
            "\u001b[1;35mt=2024-03-18T14:18:13+0000 lvl=info msg=\"join connections\" obj=join id=77dcedf69613 l=127.0.0.1:8237 r=102.222.70.103:55070\u001b[0m\n",
            "\u001b[1;35mGot token from cookie\u001b[0m\n",
            "\u001b[32mINFO\u001b[0m:     102.222.70.103:0 - \"\u001b[1mGET /api/v1/workspaces/default/stacks?sort_by=desc:created&logical_operator=and&page=1&size=10 HTTP/1.1\u001b[0m\" \u001b[32m200 OK\u001b[0m\n"
          ]
        },
        {
          "name": "stderr",
          "output_type": "stream",
          "text": [
            "INFO:pyngrok.process.ngrok:t=2024-03-18T14:18:19+0000 lvl=info msg=\"join connections\" obj=join id=6a1ff6ca3652 l=127.0.0.1:8237 r=102.222.70.103:55070\n"
          ]
        },
        {
          "name": "stdout",
          "output_type": "stream",
          "text": [
            "\u001b[1;35mt=2024-03-18T14:18:19+0000 lvl=info msg=\"join connections\" obj=join id=6a1ff6ca3652 l=127.0.0.1:8237 r=102.222.70.103:55070\u001b[0m\n",
            "\u001b[1;35mGot token from cookie\u001b[0m\n",
            "\u001b[32mINFO\u001b[0m:     102.222.70.103:0 - \"\u001b[1mGET /api/v1/workspaces/default/stacks?sort_by=desc:created&logical_operator=and&page=1&size=10 HTTP/1.1\u001b[0m\" \u001b[32m200 OK\u001b[0m\n"
          ]
        },
        {
          "name": "stderr",
          "output_type": "stream",
          "text": [
            "INFO:pyngrok.process.ngrok:t=2024-03-18T14:18:25+0000 lvl=info msg=\"join connections\" obj=join id=9f939a899102 l=127.0.0.1:8237 r=102.222.70.103:55070\n"
          ]
        },
        {
          "name": "stdout",
          "output_type": "stream",
          "text": [
            "\u001b[1;35mt=2024-03-18T14:18:25+0000 lvl=info msg=\"join connections\" obj=join id=9f939a899102 l=127.0.0.1:8237 r=102.222.70.103:55070\u001b[0m\n",
            "\u001b[1;35mGot token from cookie\u001b[0m\n",
            "\u001b[32mINFO\u001b[0m:     102.222.70.103:0 - \"\u001b[1mGET /api/v1/workspaces/default/stacks?sort_by=desc:created&logical_operator=and&page=1&size=10 HTTP/1.1\u001b[0m\" \u001b[32m200 OK\u001b[0m\n"
          ]
        },
        {
          "name": "stderr",
          "output_type": "stream",
          "text": [
            "INFO:pyngrok.process.ngrok:t=2024-03-18T14:18:31+0000 lvl=info msg=\"join connections\" obj=join id=b78098d3e671 l=127.0.0.1:8237 r=102.222.70.103:55070\n"
          ]
        },
        {
          "name": "stdout",
          "output_type": "stream",
          "text": [
            "\u001b[1;35mt=2024-03-18T14:18:31+0000 lvl=info msg=\"join connections\" obj=join id=b78098d3e671 l=127.0.0.1:8237 r=102.222.70.103:55070\u001b[0m\n",
            "\u001b[1;35mGot token from cookie\u001b[0m\n",
            "\u001b[32mINFO\u001b[0m:     102.222.70.103:0 - \"\u001b[1mGET /api/v1/workspaces/default/stacks?sort_by=desc:created&logical_operator=and&page=1&size=10 HTTP/1.1\u001b[0m\" \u001b[32m200 OK\u001b[0m\n"
          ]
        },
        {
          "name": "stderr",
          "output_type": "stream",
          "text": [
            "INFO:pyngrok.process.ngrok:t=2024-03-18T14:18:37+0000 lvl=info msg=\"join connections\" obj=join id=d05078c30b9e l=127.0.0.1:8237 r=102.222.70.103:55070\n"
          ]
        },
        {
          "name": "stdout",
          "output_type": "stream",
          "text": [
            "\u001b[1;35mt=2024-03-18T14:18:37+0000 lvl=info msg=\"join connections\" obj=join id=d05078c30b9e l=127.0.0.1:8237 r=102.222.70.103:55070\u001b[0m\n",
            "\u001b[1;35mGot token from cookie\u001b[0m\n",
            "\u001b[32mINFO\u001b[0m:     102.222.70.103:0 - \"\u001b[1mGET /api/v1/workspaces/default/stacks?sort_by=desc:created&logical_operator=and&page=1&size=10 HTTP/1.1\u001b[0m\" \u001b[32m200 OK\u001b[0m\n"
          ]
        },
        {
          "name": "stderr",
          "output_type": "stream",
          "text": [
            "INFO:pyngrok.process.ngrok:t=2024-03-18T14:18:43+0000 lvl=info msg=\"join connections\" obj=join id=e2e731a707ca l=127.0.0.1:8237 r=102.222.70.103:55070\n"
          ]
        },
        {
          "name": "stdout",
          "output_type": "stream",
          "text": [
            "\u001b[1;35mt=2024-03-18T14:18:43+0000 lvl=info msg=\"join connections\" obj=join id=e2e731a707ca l=127.0.0.1:8237 r=102.222.70.103:55070\u001b[0m\n",
            "\u001b[1;35mGot token from cookie\u001b[0m\n",
            "\u001b[32mINFO\u001b[0m:     102.222.70.103:0 - \"\u001b[1mGET /api/v1/workspaces/default/stacks?sort_by=desc:created&logical_operator=and&page=1&size=10 HTTP/1.1\u001b[0m\" \u001b[32m200 OK\u001b[0m\n"
          ]
        },
        {
          "name": "stderr",
          "output_type": "stream",
          "text": [
            "INFO:pyngrok.process.ngrok:t=2024-03-18T14:18:49+0000 lvl=info msg=\"join connections\" obj=join id=2122cf898c10 l=127.0.0.1:8237 r=102.222.70.103:55070\n"
          ]
        },
        {
          "name": "stdout",
          "output_type": "stream",
          "text": [
            "\u001b[1;35mt=2024-03-18T14:18:49+0000 lvl=info msg=\"join connections\" obj=join id=2122cf898c10 l=127.0.0.1:8237 r=102.222.70.103:55070\u001b[0m\n",
            "\u001b[1;35mGot token from cookie\u001b[0m\n",
            "\u001b[32mINFO\u001b[0m:     102.222.70.103:0 - \"\u001b[1mGET /api/v1/workspaces/default/stacks?sort_by=desc:created&logical_operator=and&page=1&size=10 HTTP/1.1\u001b[0m\" \u001b[32m200 OK\u001b[0m\n"
          ]
        },
        {
          "name": "stderr",
          "output_type": "stream",
          "text": [
            "INFO:pyngrok.process.ngrok:t=2024-03-18T14:18:55+0000 lvl=info msg=\"join connections\" obj=join id=0b6a10a2b5f2 l=127.0.0.1:8237 r=102.222.70.103:55070\n"
          ]
        },
        {
          "name": "stdout",
          "output_type": "stream",
          "text": [
            "\u001b[1;35mt=2024-03-18T14:18:55+0000 lvl=info msg=\"join connections\" obj=join id=0b6a10a2b5f2 l=127.0.0.1:8237 r=102.222.70.103:55070\u001b[0m\n",
            "\u001b[1;35mGot token from cookie\u001b[0m\n",
            "\u001b[32mINFO\u001b[0m:     102.222.70.103:0 - \"\u001b[1mGET /api/v1/workspaces/default/stacks?sort_by=desc:created&logical_operator=and&page=1&size=10 HTTP/1.1\u001b[0m\" \u001b[32m200 OK\u001b[0m\n"
          ]
        },
        {
          "name": "stderr",
          "output_type": "stream",
          "text": [
            "INFO:pyngrok.process.ngrok:t=2024-03-18T14:19:01+0000 lvl=info msg=\"join connections\" obj=join id=887e880c8ba9 l=127.0.0.1:8237 r=102.222.70.103:55070\n"
          ]
        },
        {
          "name": "stdout",
          "output_type": "stream",
          "text": [
            "\u001b[1;35mt=2024-03-18T14:19:01+0000 lvl=info msg=\"join connections\" obj=join id=887e880c8ba9 l=127.0.0.1:8237 r=102.222.70.103:55070\u001b[0m\n",
            "\u001b[1;35mGot token from cookie\u001b[0m\n",
            "\u001b[32mINFO\u001b[0m:     102.222.70.103:0 - \"\u001b[1mGET /api/v1/workspaces/default/stacks?sort_by=desc:created&logical_operator=and&page=1&size=10 HTTP/1.1\u001b[0m\" \u001b[32m200 OK\u001b[0m\n"
          ]
        },
        {
          "name": "stderr",
          "output_type": "stream",
          "text": [
            "INFO:pyngrok.process.ngrok:t=2024-03-18T14:19:07+0000 lvl=info msg=\"join connections\" obj=join id=475802b5576f l=127.0.0.1:8237 r=102.222.70.103:55070\n"
          ]
        },
        {
          "name": "stdout",
          "output_type": "stream",
          "text": [
            "\u001b[1;35mt=2024-03-18T14:19:07+0000 lvl=info msg=\"join connections\" obj=join id=475802b5576f l=127.0.0.1:8237 r=102.222.70.103:55070\u001b[0m\n",
            "\u001b[1;35mGot token from cookie\u001b[0m\n",
            "\u001b[32mINFO\u001b[0m:     102.222.70.103:0 - \"\u001b[1mGET /api/v1/workspaces/default/stacks?sort_by=desc:created&logical_operator=and&page=1&size=10 HTTP/1.1\u001b[0m\" \u001b[32m200 OK\u001b[0m\n"
          ]
        },
        {
          "name": "stderr",
          "output_type": "stream",
          "text": [
            "INFO:pyngrok.process.ngrok:t=2024-03-18T14:19:13+0000 lvl=info msg=\"join connections\" obj=join id=f6b5cacdf0d8 l=127.0.0.1:8237 r=102.222.70.103:55070\n"
          ]
        },
        {
          "name": "stdout",
          "output_type": "stream",
          "text": [
            "\u001b[1;35mt=2024-03-18T14:19:13+0000 lvl=info msg=\"join connections\" obj=join id=f6b5cacdf0d8 l=127.0.0.1:8237 r=102.222.70.103:55070\u001b[0m\n",
            "\u001b[1;35mGot token from cookie\u001b[0m\n",
            "\u001b[32mINFO\u001b[0m:     102.222.70.103:0 - \"\u001b[1mGET /api/v1/workspaces/default/stacks?sort_by=desc:created&logical_operator=and&page=1&size=10 HTTP/1.1\u001b[0m\" \u001b[32m200 OK\u001b[0m\n"
          ]
        },
        {
          "name": "stderr",
          "output_type": "stream",
          "text": [
            "INFO:pyngrok.process.ngrok:t=2024-03-18T14:19:19+0000 lvl=info msg=\"join connections\" obj=join id=0ef9b07266ba l=127.0.0.1:8237 r=102.222.70.103:55070\n"
          ]
        },
        {
          "name": "stdout",
          "output_type": "stream",
          "text": [
            "\u001b[1;35mt=2024-03-18T14:19:19+0000 lvl=info msg=\"join connections\" obj=join id=0ef9b07266ba l=127.0.0.1:8237 r=102.222.70.103:55070\u001b[0m\n",
            "\u001b[1;35mGot token from cookie\u001b[0m\n",
            "\u001b[32mINFO\u001b[0m:     102.222.70.103:0 - \"\u001b[1mGET /api/v1/workspaces/default/stacks?sort_by=desc:created&logical_operator=and&page=1&size=10 HTTP/1.1\u001b[0m\" \u001b[32m200 OK\u001b[0m\n"
          ]
        },
        {
          "name": "stderr",
          "output_type": "stream",
          "text": [
            "INFO:pyngrok.process.ngrok:t=2024-03-18T14:19:25+0000 lvl=info msg=\"join connections\" obj=join id=10143cd81c29 l=127.0.0.1:8237 r=102.222.70.103:55070\n"
          ]
        },
        {
          "name": "stdout",
          "output_type": "stream",
          "text": [
            "\u001b[1;35mt=2024-03-18T14:19:25+0000 lvl=info msg=\"join connections\" obj=join id=10143cd81c29 l=127.0.0.1:8237 r=102.222.70.103:55070\u001b[0m\n",
            "\u001b[1;35mGot token from cookie\u001b[0m\n",
            "\u001b[32mINFO\u001b[0m:     102.222.70.103:0 - \"\u001b[1mGET /api/v1/workspaces/default/stacks?sort_by=desc:created&logical_operator=and&page=1&size=10 HTTP/1.1\u001b[0m\" \u001b[32m200 OK\u001b[0m\n"
          ]
        },
        {
          "name": "stderr",
          "output_type": "stream",
          "text": [
            "INFO:pyngrok.process.ngrok:t=2024-03-18T14:19:31+0000 lvl=info msg=\"join connections\" obj=join id=ef42622db7e9 l=127.0.0.1:8237 r=102.222.70.103:55070\n"
          ]
        },
        {
          "name": "stdout",
          "output_type": "stream",
          "text": [
            "\u001b[1;35mt=2024-03-18T14:19:31+0000 lvl=info msg=\"join connections\" obj=join id=ef42622db7e9 l=127.0.0.1:8237 r=102.222.70.103:55070\u001b[0m\n",
            "\u001b[1;35mGot token from cookie\u001b[0m\n",
            "\u001b[32mINFO\u001b[0m:     102.222.70.103:0 - \"\u001b[1mGET /api/v1/workspaces/default/stacks?sort_by=desc:created&logical_operator=and&page=1&size=10 HTTP/1.1\u001b[0m\" \u001b[32m200 OK\u001b[0m\n"
          ]
        },
        {
          "name": "stderr",
          "output_type": "stream",
          "text": [
            "INFO:pyngrok.process.ngrok:t=2024-03-18T14:19:37+0000 lvl=info msg=\"join connections\" obj=join id=468163e8cd6b l=127.0.0.1:8237 r=102.222.70.103:55070\n"
          ]
        },
        {
          "name": "stdout",
          "output_type": "stream",
          "text": [
            "\u001b[1;35mt=2024-03-18T14:19:37+0000 lvl=info msg=\"join connections\" obj=join id=468163e8cd6b l=127.0.0.1:8237 r=102.222.70.103:55070\u001b[0m\n",
            "\u001b[1;35mGot token from cookie\u001b[0m\n",
            "\u001b[32mINFO\u001b[0m:     102.222.70.103:0 - \"\u001b[1mGET /api/v1/workspaces/default/stacks?sort_by=desc:created&logical_operator=and&page=1&size=10 HTTP/1.1\u001b[0m\" \u001b[32m200 OK\u001b[0m\n"
          ]
        },
        {
          "name": "stderr",
          "output_type": "stream",
          "text": [
            "INFO:pyngrok.process.ngrok:t=2024-03-18T14:19:43+0000 lvl=info msg=\"join connections\" obj=join id=5e35e27217be l=127.0.0.1:8237 r=102.222.70.103:55070\n"
          ]
        },
        {
          "name": "stdout",
          "output_type": "stream",
          "text": [
            "\u001b[1;35mt=2024-03-18T14:19:43+0000 lvl=info msg=\"join connections\" obj=join id=5e35e27217be l=127.0.0.1:8237 r=102.222.70.103:55070\u001b[0m\n",
            "\u001b[1;35mGot token from cookie\u001b[0m\n",
            "\u001b[32mINFO\u001b[0m:     102.222.70.103:0 - \"\u001b[1mGET /api/v1/workspaces/default/stacks?sort_by=desc:created&logical_operator=and&page=1&size=10 HTTP/1.1\u001b[0m\" \u001b[32m200 OK\u001b[0m\n"
          ]
        },
        {
          "name": "stderr",
          "output_type": "stream",
          "text": [
            "INFO:pyngrok.process.ngrok:t=2024-03-18T14:19:49+0000 lvl=info msg=\"join connections\" obj=join id=ee95da898687 l=127.0.0.1:8237 r=102.222.70.103:55070\n"
          ]
        },
        {
          "name": "stdout",
          "output_type": "stream",
          "text": [
            "\u001b[1;35mt=2024-03-18T14:19:49+0000 lvl=info msg=\"join connections\" obj=join id=ee95da898687 l=127.0.0.1:8237 r=102.222.70.103:55070\u001b[0m\n",
            "\u001b[1;35mGot token from cookie\u001b[0m\n",
            "\u001b[32mINFO\u001b[0m:     102.222.70.103:0 - \"\u001b[1mGET /api/v1/workspaces/default/stacks?sort_by=desc:created&logical_operator=and&page=1&size=10 HTTP/1.1\u001b[0m\" \u001b[32m200 OK\u001b[0m\n"
          ]
        },
        {
          "name": "stderr",
          "output_type": "stream",
          "text": [
            "INFO:pyngrok.process.ngrok:t=2024-03-18T14:19:55+0000 lvl=info msg=\"join connections\" obj=join id=a580d13a84f9 l=127.0.0.1:8237 r=102.222.70.103:55070\n"
          ]
        },
        {
          "name": "stdout",
          "output_type": "stream",
          "text": [
            "\u001b[1;35mt=2024-03-18T14:19:55+0000 lvl=info msg=\"join connections\" obj=join id=a580d13a84f9 l=127.0.0.1:8237 r=102.222.70.103:55070\u001b[0m\n",
            "\u001b[1;35mGot token from cookie\u001b[0m\n",
            "\u001b[32mINFO\u001b[0m:     102.222.70.103:0 - \"\u001b[1mGET /api/v1/workspaces/default/stacks?sort_by=desc:created&logical_operator=and&page=1&size=10 HTTP/1.1\u001b[0m\" \u001b[32m200 OK\u001b[0m\n"
          ]
        },
        {
          "name": "stderr",
          "output_type": "stream",
          "text": [
            "INFO:pyngrok.process.ngrok:t=2024-03-18T14:20:01+0000 lvl=info msg=\"join connections\" obj=join id=509dd51258d3 l=127.0.0.1:8237 r=102.222.70.103:55070\n"
          ]
        },
        {
          "name": "stdout",
          "output_type": "stream",
          "text": [
            "\u001b[1;35mt=2024-03-18T14:20:01+0000 lvl=info msg=\"join connections\" obj=join id=509dd51258d3 l=127.0.0.1:8237 r=102.222.70.103:55070\u001b[0m\n",
            "\u001b[1;35mGot token from cookie\u001b[0m\n",
            "\u001b[32mINFO\u001b[0m:     102.222.70.103:0 - \"\u001b[1mGET /api/v1/workspaces/default/stacks?sort_by=desc:created&logical_operator=and&page=1&size=10 HTTP/1.1\u001b[0m\" \u001b[32m200 OK\u001b[0m\n"
          ]
        },
        {
          "name": "stderr",
          "output_type": "stream",
          "text": [
            "INFO:pyngrok.process.ngrok:t=2024-03-18T14:20:07+0000 lvl=info msg=\"join connections\" obj=join id=f9f653cb0245 l=127.0.0.1:8237 r=102.222.70.103:55070\n"
          ]
        },
        {
          "name": "stdout",
          "output_type": "stream",
          "text": [
            "\u001b[1;35mt=2024-03-18T14:20:07+0000 lvl=info msg=\"join connections\" obj=join id=f9f653cb0245 l=127.0.0.1:8237 r=102.222.70.103:55070\u001b[0m\n",
            "\u001b[1;35mGot token from cookie\u001b[0m\n",
            "\u001b[32mINFO\u001b[0m:     102.222.70.103:0 - \"\u001b[1mGET /api/v1/workspaces/default/stacks?sort_by=desc:created&logical_operator=and&page=1&size=10 HTTP/1.1\u001b[0m\" \u001b[32m200 OK\u001b[0m\n"
          ]
        },
        {
          "name": "stderr",
          "output_type": "stream",
          "text": [
            "INFO:pyngrok.process.ngrok:t=2024-03-18T14:20:13+0000 lvl=info msg=\"join connections\" obj=join id=f61e708a8998 l=127.0.0.1:8237 r=102.222.70.103:55070\n"
          ]
        },
        {
          "name": "stdout",
          "output_type": "stream",
          "text": [
            "\u001b[1;35mt=2024-03-18T14:20:13+0000 lvl=info msg=\"join connections\" obj=join id=f61e708a8998 l=127.0.0.1:8237 r=102.222.70.103:55070\u001b[0m\n",
            "\u001b[1;35mGot token from cookie\u001b[0m\n",
            "\u001b[32mINFO\u001b[0m:     102.222.70.103:0 - \"\u001b[1mGET /api/v1/workspaces/default/stacks?sort_by=desc:created&logical_operator=and&page=1&size=10 HTTP/1.1\u001b[0m\" \u001b[32m200 OK\u001b[0m\n"
          ]
        },
        {
          "name": "stderr",
          "output_type": "stream",
          "text": [
            "INFO:pyngrok.process.ngrok:t=2024-03-18T14:20:19+0000 lvl=info msg=\"join connections\" obj=join id=c662d7222df1 l=127.0.0.1:8237 r=102.222.70.103:55070\n"
          ]
        },
        {
          "name": "stdout",
          "output_type": "stream",
          "text": [
            "\u001b[1;35mt=2024-03-18T14:20:19+0000 lvl=info msg=\"join connections\" obj=join id=c662d7222df1 l=127.0.0.1:8237 r=102.222.70.103:55070\u001b[0m\n",
            "\u001b[1;35mGot token from cookie\u001b[0m\n",
            "\u001b[32mINFO\u001b[0m:     102.222.70.103:0 - \"\u001b[1mGET /api/v1/workspaces/default/stacks?sort_by=desc:created&logical_operator=and&page=1&size=10 HTTP/1.1\u001b[0m\" \u001b[32m200 OK\u001b[0m\n"
          ]
        },
        {
          "name": "stderr",
          "output_type": "stream",
          "text": [
            "INFO:pyngrok.process.ngrok:t=2024-03-18T14:20:25+0000 lvl=info msg=\"join connections\" obj=join id=1e5af0cd8c1f l=127.0.0.1:8237 r=102.222.70.103:55070\n"
          ]
        },
        {
          "name": "stdout",
          "output_type": "stream",
          "text": [
            "\u001b[1;35mt=2024-03-18T14:20:25+0000 lvl=info msg=\"join connections\" obj=join id=1e5af0cd8c1f l=127.0.0.1:8237 r=102.222.70.103:55070\u001b[0m\n",
            "\u001b[1;35mGot token from cookie\u001b[0m\n",
            "\u001b[32mINFO\u001b[0m:     102.222.70.103:0 - \"\u001b[1mGET /api/v1/workspaces/default/stacks?sort_by=desc:created&logical_operator=and&page=1&size=10 HTTP/1.1\u001b[0m\" \u001b[32m200 OK\u001b[0m\n"
          ]
        },
        {
          "name": "stderr",
          "output_type": "stream",
          "text": [
            "INFO:pyngrok.process.ngrok:t=2024-03-18T14:20:31+0000 lvl=info msg=\"join connections\" obj=join id=8da7aa1ee58d l=127.0.0.1:8237 r=102.222.70.103:55070\n"
          ]
        },
        {
          "name": "stdout",
          "output_type": "stream",
          "text": [
            "\u001b[1;35mt=2024-03-18T14:20:31+0000 lvl=info msg=\"join connections\" obj=join id=8da7aa1ee58d l=127.0.0.1:8237 r=102.222.70.103:55070\u001b[0m\n",
            "\u001b[1;35mGot token from cookie\u001b[0m\n",
            "\u001b[32mINFO\u001b[0m:     102.222.70.103:0 - \"\u001b[1mGET /api/v1/workspaces/default/stacks?sort_by=desc:created&logical_operator=and&page=1&size=10 HTTP/1.1\u001b[0m\" \u001b[32m200 OK\u001b[0m\n"
          ]
        },
        {
          "name": "stderr",
          "output_type": "stream",
          "text": [
            "INFO:pyngrok.process.ngrok:t=2024-03-18T14:20:37+0000 lvl=info msg=\"join connections\" obj=join id=b4b67bd3f51b l=127.0.0.1:8237 r=102.222.70.103:55070\n"
          ]
        },
        {
          "name": "stdout",
          "output_type": "stream",
          "text": [
            "\u001b[1;35mt=2024-03-18T14:20:37+0000 lvl=info msg=\"join connections\" obj=join id=b4b67bd3f51b l=127.0.0.1:8237 r=102.222.70.103:55070\u001b[0m\n",
            "\u001b[1;35mGot token from cookie\u001b[0m\n",
            "\u001b[32mINFO\u001b[0m:     102.222.70.103:0 - \"\u001b[1mGET /api/v1/workspaces/default/stacks?sort_by=desc:created&logical_operator=and&page=1&size=10 HTTP/1.1\u001b[0m\" \u001b[32m200 OK\u001b[0m\n"
          ]
        },
        {
          "name": "stderr",
          "output_type": "stream",
          "text": [
            "INFO:pyngrok.process.ngrok:t=2024-03-18T14:20:43+0000 lvl=info msg=\"join connections\" obj=join id=30623cf65534 l=127.0.0.1:8237 r=102.222.70.103:55070\n"
          ]
        },
        {
          "name": "stdout",
          "output_type": "stream",
          "text": [
            "\u001b[1;35mt=2024-03-18T14:20:43+0000 lvl=info msg=\"join connections\" obj=join id=30623cf65534 l=127.0.0.1:8237 r=102.222.70.103:55070\u001b[0m\n",
            "\u001b[1;35mGot token from cookie\u001b[0m\n",
            "\u001b[32mINFO\u001b[0m:     102.222.70.103:0 - \"\u001b[1mGET /api/v1/workspaces/default/stacks?sort_by=desc:created&logical_operator=and&page=1&size=10 HTTP/1.1\u001b[0m\" \u001b[32m200 OK\u001b[0m\n"
          ]
        },
        {
          "name": "stderr",
          "output_type": "stream",
          "text": [
            "INFO:pyngrok.process.ngrok:t=2024-03-18T14:20:49+0000 lvl=info msg=\"join connections\" obj=join id=1db34f757079 l=127.0.0.1:8237 r=102.222.70.103:55070\n"
          ]
        },
        {
          "name": "stdout",
          "output_type": "stream",
          "text": [
            "\u001b[1;35mt=2024-03-18T14:20:49+0000 lvl=info msg=\"join connections\" obj=join id=1db34f757079 l=127.0.0.1:8237 r=102.222.70.103:55070\u001b[0m\n",
            "\u001b[1;35mGot token from cookie\u001b[0m\n",
            "\u001b[32mINFO\u001b[0m:     102.222.70.103:0 - \"\u001b[1mGET /api/v1/workspaces/default/stacks?sort_by=desc:created&logical_operator=and&page=1&size=10 HTTP/1.1\u001b[0m\" \u001b[32m200 OK\u001b[0m\n"
          ]
        },
        {
          "name": "stderr",
          "output_type": "stream",
          "text": [
            "INFO:pyngrok.process.ngrok:t=2024-03-18T14:20:55+0000 lvl=info msg=\"join connections\" obj=join id=a240c6722a53 l=127.0.0.1:8237 r=102.222.234.175:18515\n"
          ]
        },
        {
          "name": "stdout",
          "output_type": "stream",
          "text": [
            "\u001b[1;35mt=2024-03-18T14:20:55+0000 lvl=info msg=\"join connections\" obj=join id=a240c6722a53 l=127.0.0.1:8237 r=102.222.234.175:18515\u001b[0m\n",
            "\u001b[1;35mGot token from cookie\u001b[0m\n",
            "\u001b[32mINFO\u001b[0m:     102.222.234.175:0 - \"\u001b[1mGET /api/v1/workspaces/default/stacks?sort_by=desc:created&logical_operator=and&page=1&size=10 HTTP/1.1\u001b[0m\" \u001b[32m200 OK\u001b[0m\n"
          ]
        },
        {
          "name": "stderr",
          "output_type": "stream",
          "text": [
            "INFO:pyngrok.process.ngrok:t=2024-03-18T14:21:02+0000 lvl=info msg=\"join connections\" obj=join id=43961cd3ddf9 l=127.0.0.1:8237 r=102.222.234.175:18515\n"
          ]
        },
        {
          "name": "stdout",
          "output_type": "stream",
          "text": [
            "\u001b[1;35mt=2024-03-18T14:21:02+0000 lvl=info msg=\"join connections\" obj=join id=43961cd3ddf9 l=127.0.0.1:8237 r=102.222.234.175:18515\u001b[0m\n",
            "\u001b[1;35mGot token from cookie\u001b[0m\n",
            "\u001b[32mINFO\u001b[0m:     102.222.234.175:0 - \"\u001b[1mGET /api/v1/workspaces/default/stacks?sort_by=desc:created&logical_operator=and&page=1&size=10 HTTP/1.1\u001b[0m\" \u001b[32m200 OK\u001b[0m\n"
          ]
        },
        {
          "name": "stderr",
          "output_type": "stream",
          "text": [
            "INFO:pyngrok.process.ngrok:t=2024-03-18T14:21:08+0000 lvl=info msg=\"join connections\" obj=join id=b62f1dfcb017 l=127.0.0.1:8237 r=102.222.234.175:18515\n"
          ]
        },
        {
          "name": "stdout",
          "output_type": "stream",
          "text": [
            "\u001b[1;35mt=2024-03-18T14:21:08+0000 lvl=info msg=\"join connections\" obj=join id=b62f1dfcb017 l=127.0.0.1:8237 r=102.222.234.175:18515\u001b[0m\n",
            "\u001b[1;35mGot token from cookie\u001b[0m\n",
            "\u001b[32mINFO\u001b[0m:     102.222.234.175:0 - \"\u001b[1mGET /api/v1/workspaces/default/stacks?sort_by=desc:created&logical_operator=and&page=1&size=10 HTTP/1.1\u001b[0m\" \u001b[32m200 OK\u001b[0m\n"
          ]
        },
        {
          "name": "stderr",
          "output_type": "stream",
          "text": [
            "INFO:pyngrok.process.ngrok:t=2024-03-18T14:21:14+0000 lvl=info msg=\"join connections\" obj=join id=6ccd06371998 l=127.0.0.1:8237 r=102.222.234.175:18515\n"
          ]
        },
        {
          "name": "stdout",
          "output_type": "stream",
          "text": [
            "\u001b[1;35mt=2024-03-18T14:21:14+0000 lvl=info msg=\"join connections\" obj=join id=6ccd06371998 l=127.0.0.1:8237 r=102.222.234.175:18515\u001b[0m\n",
            "\u001b[1;35mGot token from cookie\u001b[0m\n",
            "\u001b[32mINFO\u001b[0m:     102.222.234.175:0 - \"\u001b[1mGET /api/v1/workspaces/default/stacks?sort_by=desc:created&logical_operator=and&page=1&size=10 HTTP/1.1\u001b[0m\" \u001b[32m200 OK\u001b[0m\n"
          ]
        },
        {
          "name": "stderr",
          "output_type": "stream",
          "text": [
            "INFO:pyngrok.process.ngrok:t=2024-03-18T14:21:20+0000 lvl=info msg=\"join connections\" obj=join id=b1c5284812b5 l=127.0.0.1:8237 r=102.219.103.197:55380\n"
          ]
        },
        {
          "name": "stdout",
          "output_type": "stream",
          "text": [
            "\u001b[1;35mt=2024-03-18T14:21:20+0000 lvl=info msg=\"join connections\" obj=join id=b1c5284812b5 l=127.0.0.1:8237 r=102.219.103.197:55380\u001b[0m\n",
            "\u001b[1;35mGot token from cookie\u001b[0m\n",
            "\u001b[32mINFO\u001b[0m:     102.219.103.197:0 - \"\u001b[1mGET /api/v1/workspaces/default/stacks?sort_by=desc:created&logical_operator=and&page=1&size=10 HTTP/1.1\u001b[0m\" \u001b[32m200 OK\u001b[0m\n"
          ]
        },
        {
          "name": "stderr",
          "output_type": "stream",
          "text": [
            "INFO:pyngrok.process.ngrok:t=2024-03-18T14:21:27+0000 lvl=info msg=\"join connections\" obj=join id=f4a2894db9f7 l=127.0.0.1:8237 r=102.219.103.197:55380\n"
          ]
        },
        {
          "name": "stdout",
          "output_type": "stream",
          "text": [
            "\u001b[1;35mt=2024-03-18T14:21:27+0000 lvl=info msg=\"join connections\" obj=join id=f4a2894db9f7 l=127.0.0.1:8237 r=102.219.103.197:55380\u001b[0m\n",
            "\u001b[1;35mGot token from cookie\u001b[0m\n",
            "\u001b[32mINFO\u001b[0m:     102.219.103.197:0 - \"\u001b[1mGET /api/v1/workspaces/default/stacks?sort_by=desc:created&logical_operator=and&page=1&size=10 HTTP/1.1\u001b[0m\" \u001b[32m200 OK\u001b[0m\n"
          ]
        },
        {
          "name": "stderr",
          "output_type": "stream",
          "text": [
            "INFO:pyngrok.process.ngrok:t=2024-03-18T14:21:33+0000 lvl=info msg=\"join connections\" obj=join id=c8fe529fd982 l=127.0.0.1:8237 r=102.219.103.197:55380\n"
          ]
        },
        {
          "name": "stdout",
          "output_type": "stream",
          "text": [
            "\u001b[1;35mt=2024-03-18T14:21:33+0000 lvl=info msg=\"join connections\" obj=join id=c8fe529fd982 l=127.0.0.1:8237 r=102.219.103.197:55380\u001b[0m\n",
            "\u001b[1;35mGot token from cookie\u001b[0m\n",
            "\u001b[32mINFO\u001b[0m:     102.219.103.197:0 - \"\u001b[1mGET /api/v1/workspaces/default/stacks?sort_by=desc:created&logical_operator=and&page=1&size=10 HTTP/1.1\u001b[0m\" \u001b[32m200 OK\u001b[0m\n"
          ]
        },
        {
          "name": "stderr",
          "output_type": "stream",
          "text": [
            "INFO:pyngrok.process.ngrok:t=2024-03-18T14:21:39+0000 lvl=info msg=\"join connections\" obj=join id=60aaad0aa217 l=127.0.0.1:8237 r=102.219.103.197:55380\n"
          ]
        },
        {
          "name": "stdout",
          "output_type": "stream",
          "text": [
            "\u001b[1;35mt=2024-03-18T14:21:39+0000 lvl=info msg=\"join connections\" obj=join id=60aaad0aa217 l=127.0.0.1:8237 r=102.219.103.197:55380\u001b[0m\n",
            "\u001b[1;35mGot token from cookie\u001b[0m\n",
            "\u001b[32mINFO\u001b[0m:     102.219.103.197:0 - \"\u001b[1mGET /api/v1/workspaces/default/stacks?sort_by=desc:created&logical_operator=and&page=1&size=10 HTTP/1.1\u001b[0m\" \u001b[32m200 OK\u001b[0m\n"
          ]
        },
        {
          "name": "stderr",
          "output_type": "stream",
          "text": [
            "INFO:pyngrok.process.ngrok:t=2024-03-18T14:21:45+0000 lvl=info msg=\"join connections\" obj=join id=1975f3efebe0 l=127.0.0.1:8237 r=102.219.103.197:55380\n"
          ]
        },
        {
          "name": "stdout",
          "output_type": "stream",
          "text": [
            "\u001b[1;35mt=2024-03-18T14:21:45+0000 lvl=info msg=\"join connections\" obj=join id=1975f3efebe0 l=127.0.0.1:8237 r=102.219.103.197:55380\u001b[0m\n",
            "\u001b[1;35mGot token from cookie\u001b[0m\n",
            "\u001b[32mINFO\u001b[0m:     102.219.103.197:0 - \"\u001b[1mGET /api/v1/workspaces/default/stacks?sort_by=desc:created&logical_operator=and&page=1&size=10 HTTP/1.1\u001b[0m\" \u001b[32m200 OK\u001b[0m\n"
          ]
        },
        {
          "name": "stderr",
          "output_type": "stream",
          "text": [
            "INFO:pyngrok.process.ngrok:t=2024-03-18T14:21:51+0000 lvl=info msg=\"join connections\" obj=join id=288243213a10 l=127.0.0.1:8237 r=102.219.103.197:55380\n"
          ]
        },
        {
          "name": "stdout",
          "output_type": "stream",
          "text": [
            "\u001b[1;35mt=2024-03-18T14:21:51+0000 lvl=info msg=\"join connections\" obj=join id=288243213a10 l=127.0.0.1:8237 r=102.219.103.197:55380\u001b[0m\n",
            "\u001b[1;35mGot token from cookie\u001b[0m\n",
            "\u001b[32mINFO\u001b[0m:     102.219.103.197:0 - \"\u001b[1mGET /api/v1/workspaces/default/stacks?sort_by=desc:created&logical_operator=and&page=1&size=10 HTTP/1.1\u001b[0m\" \u001b[32m200 OK\u001b[0m\n"
          ]
        },
        {
          "name": "stderr",
          "output_type": "stream",
          "text": [
            "INFO:pyngrok.process.ngrok:t=2024-03-18T14:21:58+0000 lvl=info msg=\"join connections\" obj=join id=df19e22abf83 l=127.0.0.1:8237 r=102.219.103.197:55380\n"
          ]
        },
        {
          "name": "stdout",
          "output_type": "stream",
          "text": [
            "\u001b[1;35mt=2024-03-18T14:21:58+0000 lvl=info msg=\"join connections\" obj=join id=df19e22abf83 l=127.0.0.1:8237 r=102.219.103.197:55380\u001b[0m\n",
            "\u001b[1;35mGot token from cookie\u001b[0m\n",
            "\u001b[32mINFO\u001b[0m:     102.219.103.197:0 - \"\u001b[1mGET /api/v1/workspaces/default/stacks?sort_by=desc:created&logical_operator=and&page=1&size=10 HTTP/1.1\u001b[0m\" \u001b[32m200 OK\u001b[0m\n"
          ]
        },
        {
          "name": "stderr",
          "output_type": "stream",
          "text": [
            "INFO:pyngrok.process.ngrok:t=2024-03-18T14:22:04+0000 lvl=info msg=\"join connections\" obj=join id=762bc8069d85 l=127.0.0.1:8237 r=102.219.103.197:55380\n"
          ]
        },
        {
          "name": "stdout",
          "output_type": "stream",
          "text": [
            "\u001b[1;35mt=2024-03-18T14:22:04+0000 lvl=info msg=\"join connections\" obj=join id=762bc8069d85 l=127.0.0.1:8237 r=102.219.103.197:55380\u001b[0m\n",
            "\u001b[1;35mGot token from cookie\u001b[0m\n",
            "\u001b[32mINFO\u001b[0m:     102.219.103.197:0 - \"\u001b[1mGET /api/v1/workspaces/default/stacks?sort_by=desc:created&logical_operator=and&page=1&size=10 HTTP/1.1\u001b[0m\" \u001b[32m200 OK\u001b[0m\n"
          ]
        },
        {
          "name": "stderr",
          "output_type": "stream",
          "text": [
            "INFO:pyngrok.process.ngrok:t=2024-03-18T14:22:10+0000 lvl=info msg=\"join connections\" obj=join id=718c7fe9708b l=127.0.0.1:8237 r=102.219.103.197:55380\n"
          ]
        },
        {
          "name": "stdout",
          "output_type": "stream",
          "text": [
            "\u001b[1;35mt=2024-03-18T14:22:10+0000 lvl=info msg=\"join connections\" obj=join id=718c7fe9708b l=127.0.0.1:8237 r=102.219.103.197:55380\u001b[0m\n",
            "\u001b[1;35mGot token from cookie\u001b[0m\n",
            "\u001b[32mINFO\u001b[0m:     102.219.103.197:0 - \"\u001b[1mGET /api/v1/workspaces/default/stacks?sort_by=desc:created&logical_operator=and&page=1&size=10 HTTP/1.1\u001b[0m\" \u001b[32m200 OK\u001b[0m\n"
          ]
        },
        {
          "name": "stderr",
          "output_type": "stream",
          "text": [
            "INFO:pyngrok.process.ngrok:t=2024-03-18T14:22:16+0000 lvl=info msg=\"join connections\" obj=join id=125c0dabbc7a l=127.0.0.1:8237 r=102.219.103.197:55380\n"
          ]
        },
        {
          "name": "stdout",
          "output_type": "stream",
          "text": [
            "\u001b[1;35mt=2024-03-18T14:22:16+0000 lvl=info msg=\"join connections\" obj=join id=125c0dabbc7a l=127.0.0.1:8237 r=102.219.103.197:55380\u001b[0m\n",
            "\u001b[1;35mGot token from cookie\u001b[0m\n",
            "\u001b[32mINFO\u001b[0m:     102.219.103.197:0 - \"\u001b[1mGET /api/v1/workspaces/default/stacks?sort_by=desc:created&logical_operator=and&page=1&size=10 HTTP/1.1\u001b[0m\" \u001b[32m200 OK\u001b[0m\n"
          ]
        },
        {
          "name": "stderr",
          "output_type": "stream",
          "text": [
            "INFO:pyngrok.process.ngrok:t=2024-03-18T14:22:22+0000 lvl=info msg=\"join connections\" obj=join id=bf3042b29f3b l=127.0.0.1:8237 r=102.219.103.197:55380\n"
          ]
        },
        {
          "name": "stdout",
          "output_type": "stream",
          "text": [
            "\u001b[1;35mt=2024-03-18T14:22:22+0000 lvl=info msg=\"join connections\" obj=join id=bf3042b29f3b l=127.0.0.1:8237 r=102.219.103.197:55380\u001b[0m\n",
            "\u001b[1;35mGot token from cookie\u001b[0m\n",
            "\u001b[32mINFO\u001b[0m:     102.219.103.197:0 - \"\u001b[1mGET /api/v1/workspaces/default/stacks?sort_by=desc:created&logical_operator=and&page=1&size=10 HTTP/1.1\u001b[0m\" \u001b[32m200 OK\u001b[0m\n"
          ]
        },
        {
          "name": "stderr",
          "output_type": "stream",
          "text": [
            "INFO:pyngrok.process.ngrok:t=2024-03-18T14:22:28+0000 lvl=info msg=\"join connections\" obj=join id=3e645fa7dbd2 l=127.0.0.1:8237 r=102.219.103.197:55380\n"
          ]
        },
        {
          "name": "stdout",
          "output_type": "stream",
          "text": [
            "\u001b[1;35mt=2024-03-18T14:22:28+0000 lvl=info msg=\"join connections\" obj=join id=3e645fa7dbd2 l=127.0.0.1:8237 r=102.219.103.197:55380\u001b[0m\n",
            "\u001b[1;35mGot token from cookie\u001b[0m\n",
            "\u001b[32mINFO\u001b[0m:     102.219.103.197:0 - \"\u001b[1mGET /api/v1/workspaces/default/stacks?sort_by=desc:created&logical_operator=and&page=1&size=10 HTTP/1.1\u001b[0m\" \u001b[32m200 OK\u001b[0m\n"
          ]
        },
        {
          "name": "stderr",
          "output_type": "stream",
          "text": [
            "INFO:pyngrok.process.ngrok:t=2024-03-18T14:22:34+0000 lvl=info msg=\"join connections\" obj=join id=a8615e3d2d41 l=127.0.0.1:8237 r=102.219.103.197:55380\n"
          ]
        },
        {
          "name": "stdout",
          "output_type": "stream",
          "text": [
            "\u001b[1;35mt=2024-03-18T14:22:34+0000 lvl=info msg=\"join connections\" obj=join id=a8615e3d2d41 l=127.0.0.1:8237 r=102.219.103.197:55380\u001b[0m\n",
            "\u001b[1;35mGot token from cookie\u001b[0m\n",
            "\u001b[32mINFO\u001b[0m:     102.219.103.197:0 - \"\u001b[1mGET /api/v1/workspaces/default/stacks?sort_by=desc:created&logical_operator=and&page=1&size=10 HTTP/1.1\u001b[0m\" \u001b[32m200 OK\u001b[0m\n"
          ]
        },
        {
          "name": "stderr",
          "output_type": "stream",
          "text": [
            "INFO:pyngrok.process.ngrok:t=2024-03-18T14:22:40+0000 lvl=info msg=\"join connections\" obj=join id=b57122874394 l=127.0.0.1:8237 r=102.219.103.197:55380\n"
          ]
        },
        {
          "name": "stdout",
          "output_type": "stream",
          "text": [
            "\u001b[1;35mt=2024-03-18T14:22:40+0000 lvl=info msg=\"join connections\" obj=join id=b57122874394 l=127.0.0.1:8237 r=102.219.103.197:55380\u001b[0m\n",
            "\u001b[1;35mGot token from cookie\u001b[0m\n",
            "\u001b[32mINFO\u001b[0m:     102.219.103.197:0 - \"\u001b[1mGET /api/v1/workspaces/default/stacks?sort_by=desc:created&logical_operator=and&page=1&size=10 HTTP/1.1\u001b[0m\" \u001b[32m200 OK\u001b[0m\n"
          ]
        },
        {
          "name": "stderr",
          "output_type": "stream",
          "text": [
            "INFO:pyngrok.process.ngrok:t=2024-03-18T14:22:46+0000 lvl=info msg=\"join connections\" obj=join id=4cbf768533c6 l=127.0.0.1:8237 r=102.219.103.197:55380\n"
          ]
        },
        {
          "name": "stdout",
          "output_type": "stream",
          "text": [
            "\u001b[1;35mt=2024-03-18T14:22:46+0000 lvl=info msg=\"join connections\" obj=join id=4cbf768533c6 l=127.0.0.1:8237 r=102.219.103.197:55380\u001b[0m\n",
            "\u001b[1;35mGot token from cookie\u001b[0m\n",
            "\u001b[32mINFO\u001b[0m:     102.219.103.197:0 - \"\u001b[1mGET /api/v1/workspaces/default/stacks?sort_by=desc:created&logical_operator=and&page=1&size=10 HTTP/1.1\u001b[0m\" \u001b[32m200 OK\u001b[0m\n"
          ]
        },
        {
          "name": "stderr",
          "output_type": "stream",
          "text": [
            "INFO:pyngrok.process.ngrok:t=2024-03-18T14:22:52+0000 lvl=info msg=\"join connections\" obj=join id=69d7adc47dd7 l=127.0.0.1:8237 r=102.219.103.197:55380\n"
          ]
        },
        {
          "name": "stdout",
          "output_type": "stream",
          "text": [
            "\u001b[1;35mt=2024-03-18T14:22:52+0000 lvl=info msg=\"join connections\" obj=join id=69d7adc47dd7 l=127.0.0.1:8237 r=102.219.103.197:55380\u001b[0m\n",
            "\u001b[1;35mGot token from cookie\u001b[0m\n",
            "\u001b[32mINFO\u001b[0m:     102.219.103.197:0 - \"\u001b[1mGET /api/v1/workspaces/default/stacks?sort_by=desc:created&logical_operator=and&page=1&size=10 HTTP/1.1\u001b[0m\" \u001b[32m200 OK\u001b[0m\n"
          ]
        },
        {
          "name": "stderr",
          "output_type": "stream",
          "text": [
            "INFO:pyngrok.process.ngrok:t=2024-03-18T14:22:58+0000 lvl=info msg=\"join connections\" obj=join id=093a65cbbdba l=127.0.0.1:8237 r=102.219.103.197:55380\n"
          ]
        },
        {
          "name": "stdout",
          "output_type": "stream",
          "text": [
            "\u001b[1;35mt=2024-03-18T14:22:58+0000 lvl=info msg=\"join connections\" obj=join id=093a65cbbdba l=127.0.0.1:8237 r=102.219.103.197:55380\u001b[0m\n",
            "\u001b[1;35mGot token from cookie\u001b[0m\n",
            "\u001b[32mINFO\u001b[0m:     102.219.103.197:0 - \"\u001b[1mGET /api/v1/workspaces/default/stacks?sort_by=desc:created&logical_operator=and&page=1&size=10 HTTP/1.1\u001b[0m\" \u001b[32m200 OK\u001b[0m\n"
          ]
        },
        {
          "name": "stderr",
          "output_type": "stream",
          "text": [
            "INFO:pyngrok.process.ngrok:t=2024-03-18T14:23:04+0000 lvl=info msg=\"join connections\" obj=join id=1b16a1bc4911 l=127.0.0.1:8237 r=102.219.103.197:55380\n"
          ]
        },
        {
          "name": "stdout",
          "output_type": "stream",
          "text": [
            "\u001b[1;35mt=2024-03-18T14:23:04+0000 lvl=info msg=\"join connections\" obj=join id=1b16a1bc4911 l=127.0.0.1:8237 r=102.219.103.197:55380\u001b[0m\n",
            "\u001b[1;35mGot token from cookie\u001b[0m\n",
            "\u001b[32mINFO\u001b[0m:     102.219.103.197:0 - \"\u001b[1mGET /api/v1/workspaces/default/stacks?sort_by=desc:created&logical_operator=and&page=1&size=10 HTTP/1.1\u001b[0m\" \u001b[32m200 OK\u001b[0m\n"
          ]
        },
        {
          "name": "stderr",
          "output_type": "stream",
          "text": [
            "INFO:pyngrok.process.ngrok:t=2024-03-18T14:23:10+0000 lvl=info msg=\"join connections\" obj=join id=d318e3c797aa l=127.0.0.1:8237 r=102.219.103.197:55380\n"
          ]
        },
        {
          "name": "stdout",
          "output_type": "stream",
          "text": [
            "\u001b[1;35mt=2024-03-18T14:23:10+0000 lvl=info msg=\"join connections\" obj=join id=d318e3c797aa l=127.0.0.1:8237 r=102.219.103.197:55380\u001b[0m\n",
            "\u001b[1;35mGot token from cookie\u001b[0m\n",
            "\u001b[32mINFO\u001b[0m:     102.219.103.197:0 - \"\u001b[1mGET /api/v1/workspaces/default/stacks?sort_by=desc:created&logical_operator=and&page=1&size=10 HTTP/1.1\u001b[0m\" \u001b[32m200 OK\u001b[0m\n"
          ]
        },
        {
          "name": "stderr",
          "output_type": "stream",
          "text": [
            "INFO:pyngrok.process.ngrok:t=2024-03-18T14:23:16+0000 lvl=info msg=\"join connections\" obj=join id=081a0acd1c2a l=127.0.0.1:8237 r=102.219.103.197:55380\n"
          ]
        },
        {
          "name": "stdout",
          "output_type": "stream",
          "text": [
            "\u001b[1;35mt=2024-03-18T14:23:16+0000 lvl=info msg=\"join connections\" obj=join id=081a0acd1c2a l=127.0.0.1:8237 r=102.219.103.197:55380\u001b[0m\n",
            "\u001b[1;35mGot token from cookie\u001b[0m\n",
            "\u001b[32mINFO\u001b[0m:     102.219.103.197:0 - \"\u001b[1mGET /api/v1/workspaces/default/stacks?sort_by=desc:created&logical_operator=and&page=1&size=10 HTTP/1.1\u001b[0m\" \u001b[32m200 OK\u001b[0m\n"
          ]
        },
        {
          "name": "stderr",
          "output_type": "stream",
          "text": [
            "INFO:pyngrok.process.ngrok:t=2024-03-18T14:23:22+0000 lvl=info msg=\"join connections\" obj=join id=7c9137c673e5 l=127.0.0.1:8237 r=102.219.103.197:55380\n"
          ]
        },
        {
          "name": "stdout",
          "output_type": "stream",
          "text": [
            "\u001b[1;35mt=2024-03-18T14:23:22+0000 lvl=info msg=\"join connections\" obj=join id=7c9137c673e5 l=127.0.0.1:8237 r=102.219.103.197:55380\u001b[0m\n",
            "\u001b[1;35mGot token from cookie\u001b[0m\n",
            "\u001b[32mINFO\u001b[0m:     102.219.103.197:0 - \"\u001b[1mGET /api/v1/workspaces/default/stacks?sort_by=desc:created&logical_operator=and&page=1&size=10 HTTP/1.1\u001b[0m\" \u001b[32m200 OK\u001b[0m\n"
          ]
        },
        {
          "name": "stderr",
          "output_type": "stream",
          "text": [
            "INFO:pyngrok.process.ngrok:t=2024-03-18T14:23:28+0000 lvl=info msg=\"join connections\" obj=join id=7f571166dd35 l=127.0.0.1:8237 r=102.219.103.197:55380\n"
          ]
        },
        {
          "name": "stdout",
          "output_type": "stream",
          "text": [
            "\u001b[1;35mt=2024-03-18T14:23:28+0000 lvl=info msg=\"join connections\" obj=join id=7f571166dd35 l=127.0.0.1:8237 r=102.219.103.197:55380\u001b[0m\n",
            "\u001b[1;35mGot token from cookie\u001b[0m\n",
            "\u001b[32mINFO\u001b[0m:     102.219.103.197:0 - \"\u001b[1mGET /api/v1/workspaces/default/stacks?sort_by=desc:created&logical_operator=and&page=1&size=10 HTTP/1.1\u001b[0m\" \u001b[32m200 OK\u001b[0m\n"
          ]
        },
        {
          "name": "stderr",
          "output_type": "stream",
          "text": [
            "INFO:pyngrok.process.ngrok:t=2024-03-18T14:23:34+0000 lvl=info msg=\"join connections\" obj=join id=ad9d31cc8d76 l=127.0.0.1:8237 r=102.219.103.197:55380\n"
          ]
        },
        {
          "name": "stdout",
          "output_type": "stream",
          "text": [
            "\u001b[1;35mt=2024-03-18T14:23:34+0000 lvl=info msg=\"join connections\" obj=join id=ad9d31cc8d76 l=127.0.0.1:8237 r=102.219.103.197:55380\u001b[0m\n",
            "\u001b[1;35mGot token from cookie\u001b[0m\n",
            "\u001b[32mINFO\u001b[0m:     102.219.103.197:0 - \"\u001b[1mGET /api/v1/workspaces/default/stacks?sort_by=desc:created&logical_operator=and&page=1&size=10 HTTP/1.1\u001b[0m\" \u001b[32m200 OK\u001b[0m\n"
          ]
        },
        {
          "name": "stderr",
          "output_type": "stream",
          "text": [
            "INFO:pyngrok.process.ngrok:t=2024-03-18T14:23:40+0000 lvl=info msg=\"join connections\" obj=join id=255858c36d80 l=127.0.0.1:8237 r=102.219.103.197:55380\n"
          ]
        },
        {
          "name": "stdout",
          "output_type": "stream",
          "text": [
            "\u001b[1;35mt=2024-03-18T14:23:40+0000 lvl=info msg=\"join connections\" obj=join id=255858c36d80 l=127.0.0.1:8237 r=102.219.103.197:55380\u001b[0m\n",
            "\u001b[1;35mGot token from cookie\u001b[0m\n",
            "\u001b[32mINFO\u001b[0m:     102.219.103.197:0 - \"\u001b[1mGET /api/v1/workspaces/default/stacks?sort_by=desc:created&logical_operator=and&page=1&size=10 HTTP/1.1\u001b[0m\" \u001b[32m200 OK\u001b[0m\n"
          ]
        },
        {
          "name": "stderr",
          "output_type": "stream",
          "text": [
            "INFO:pyngrok.process.ngrok:t=2024-03-18T14:23:46+0000 lvl=info msg=\"join connections\" obj=join id=fe3bddca80b9 l=127.0.0.1:8237 r=102.219.103.197:55380\n"
          ]
        },
        {
          "name": "stdout",
          "output_type": "stream",
          "text": [
            "\u001b[1;35mt=2024-03-18T14:23:46+0000 lvl=info msg=\"join connections\" obj=join id=fe3bddca80b9 l=127.0.0.1:8237 r=102.219.103.197:55380\u001b[0m\n",
            "\u001b[1;35mGot token from cookie\u001b[0m\n",
            "\u001b[32mINFO\u001b[0m:     102.219.103.197:0 - \"\u001b[1mGET /api/v1/workspaces/default/stacks?sort_by=desc:created&logical_operator=and&page=1&size=10 HTTP/1.1\u001b[0m\" \u001b[32m200 OK\u001b[0m\n"
          ]
        },
        {
          "name": "stderr",
          "output_type": "stream",
          "text": [
            "INFO:pyngrok.process.ngrok:t=2024-03-18T14:23:52+0000 lvl=info msg=\"join connections\" obj=join id=e7c311181b4d l=127.0.0.1:8237 r=102.219.103.197:55380\n"
          ]
        },
        {
          "name": "stdout",
          "output_type": "stream",
          "text": [
            "\u001b[1;35mt=2024-03-18T14:23:52+0000 lvl=info msg=\"join connections\" obj=join id=e7c311181b4d l=127.0.0.1:8237 r=102.219.103.197:55380\u001b[0m\n",
            "\u001b[1;35mGot token from cookie\u001b[0m\n",
            "\u001b[32mINFO\u001b[0m:     102.219.103.197:0 - \"\u001b[1mGET /api/v1/workspaces/default/stacks?sort_by=desc:created&logical_operator=and&page=1&size=10 HTTP/1.1\u001b[0m\" \u001b[32m200 OK\u001b[0m\n"
          ]
        },
        {
          "name": "stderr",
          "output_type": "stream",
          "text": [
            "INFO:pyngrok.process.ngrok:t=2024-03-18T14:23:58+0000 lvl=info msg=\"join connections\" obj=join id=3bb59886431a l=127.0.0.1:8237 r=102.219.103.197:55380\n"
          ]
        },
        {
          "name": "stdout",
          "output_type": "stream",
          "text": [
            "\u001b[1;35mt=2024-03-18T14:23:58+0000 lvl=info msg=\"join connections\" obj=join id=3bb59886431a l=127.0.0.1:8237 r=102.219.103.197:55380\u001b[0m\n",
            "\u001b[1;35mGot token from cookie\u001b[0m\n",
            "\u001b[32mINFO\u001b[0m:     102.219.103.197:0 - \"\u001b[1mGET /api/v1/workspaces/default/stacks?sort_by=desc:created&logical_operator=and&page=1&size=10 HTTP/1.1\u001b[0m\" \u001b[32m200 OK\u001b[0m\n"
          ]
        },
        {
          "name": "stderr",
          "output_type": "stream",
          "text": [
            "INFO:pyngrok.process.ngrok:t=2024-03-18T14:24:04+0000 lvl=info msg=\"join connections\" obj=join id=13d2046350a6 l=127.0.0.1:8237 r=102.219.103.197:55380\n"
          ]
        },
        {
          "name": "stdout",
          "output_type": "stream",
          "text": [
            "\u001b[1;35mt=2024-03-18T14:24:04+0000 lvl=info msg=\"join connections\" obj=join id=13d2046350a6 l=127.0.0.1:8237 r=102.219.103.197:55380\u001b[0m\n",
            "\u001b[1;35mGot token from cookie\u001b[0m\n",
            "\u001b[32mINFO\u001b[0m:     102.219.103.197:0 - \"\u001b[1mGET /api/v1/workspaces/default/stacks?sort_by=desc:created&logical_operator=and&page=1&size=10 HTTP/1.1\u001b[0m\" \u001b[32m200 OK\u001b[0m\n"
          ]
        },
        {
          "name": "stderr",
          "output_type": "stream",
          "text": [
            "INFO:pyngrok.process.ngrok:t=2024-03-18T14:24:10+0000 lvl=info msg=\"join connections\" obj=join id=ba738170906c l=127.0.0.1:8237 r=102.219.103.197:55380\n"
          ]
        },
        {
          "name": "stdout",
          "output_type": "stream",
          "text": [
            "\u001b[1;35mt=2024-03-18T14:24:10+0000 lvl=info msg=\"join connections\" obj=join id=ba738170906c l=127.0.0.1:8237 r=102.219.103.197:55380\u001b[0m\n",
            "\u001b[1;35mGot token from cookie\u001b[0m\n",
            "\u001b[32mINFO\u001b[0m:     102.219.103.197:0 - \"\u001b[1mGET /api/v1/workspaces/default/stacks?sort_by=desc:created&logical_operator=and&page=1&size=10 HTTP/1.1\u001b[0m\" \u001b[32m200 OK\u001b[0m\n"
          ]
        },
        {
          "name": "stderr",
          "output_type": "stream",
          "text": [
            "INFO:pyngrok.process.ngrok:t=2024-03-18T14:24:16+0000 lvl=info msg=\"join connections\" obj=join id=9c8f4ea5c50a l=127.0.0.1:8237 r=102.219.103.197:55380\n"
          ]
        },
        {
          "name": "stdout",
          "output_type": "stream",
          "text": [
            "\u001b[1;35mt=2024-03-18T14:24:16+0000 lvl=info msg=\"join connections\" obj=join id=9c8f4ea5c50a l=127.0.0.1:8237 r=102.219.103.197:55380\u001b[0m\n",
            "\u001b[1;35mGot token from cookie\u001b[0m\n",
            "\u001b[32mINFO\u001b[0m:     102.219.103.197:0 - \"\u001b[1mGET /api/v1/workspaces/default/stacks?sort_by=desc:created&logical_operator=and&page=1&size=10 HTTP/1.1\u001b[0m\" \u001b[32m200 OK\u001b[0m\n"
          ]
        },
        {
          "name": "stderr",
          "output_type": "stream",
          "text": [
            "INFO:pyngrok.process.ngrok:t=2024-03-18T14:24:23+0000 lvl=info msg=\"join connections\" obj=join id=d689cda15b87 l=127.0.0.1:8237 r=102.219.103.197:55380\n"
          ]
        },
        {
          "name": "stdout",
          "output_type": "stream",
          "text": [
            "\u001b[1;35mt=2024-03-18T14:24:23+0000 lvl=info msg=\"join connections\" obj=join id=d689cda15b87 l=127.0.0.1:8237 r=102.219.103.197:55380\u001b[0m\n",
            "\u001b[1;35mGot token from cookie\u001b[0m\n",
            "\u001b[32mINFO\u001b[0m:     102.219.103.197:0 - \"\u001b[1mGET /api/v1/workspaces/default/stacks?sort_by=desc:created&logical_operator=and&page=1&size=10 HTTP/1.1\u001b[0m\" \u001b[32m200 OK\u001b[0m\n"
          ]
        },
        {
          "name": "stderr",
          "output_type": "stream",
          "text": [
            "INFO:pyngrok.process.ngrok:t=2024-03-18T14:24:29+0000 lvl=info msg=\"join connections\" obj=join id=ce350de76418 l=127.0.0.1:8237 r=102.219.103.197:55380\n"
          ]
        },
        {
          "name": "stdout",
          "output_type": "stream",
          "text": [
            "\u001b[1;35mt=2024-03-18T14:24:29+0000 lvl=info msg=\"join connections\" obj=join id=ce350de76418 l=127.0.0.1:8237 r=102.219.103.197:55380\u001b[0m\n",
            "\u001b[1;35mGot token from cookie\u001b[0m\n",
            "\u001b[32mINFO\u001b[0m:     102.219.103.197:0 - \"\u001b[1mGET /api/v1/workspaces/default/stacks?sort_by=desc:created&logical_operator=and&page=1&size=10 HTTP/1.1\u001b[0m\" \u001b[32m200 OK\u001b[0m\n"
          ]
        },
        {
          "name": "stderr",
          "output_type": "stream",
          "text": [
            "INFO:pyngrok.process.ngrok:t=2024-03-18T14:24:35+0000 lvl=info msg=\"join connections\" obj=join id=927d54208d74 l=127.0.0.1:8237 r=102.219.103.197:55380\n"
          ]
        },
        {
          "name": "stdout",
          "output_type": "stream",
          "text": [
            "\u001b[1;35mt=2024-03-18T14:24:35+0000 lvl=info msg=\"join connections\" obj=join id=927d54208d74 l=127.0.0.1:8237 r=102.219.103.197:55380\u001b[0m\n",
            "\u001b[1;35mGot token from cookie\u001b[0m\n",
            "\u001b[32mINFO\u001b[0m:     102.219.103.197:0 - \"\u001b[1mGET /api/v1/workspaces/default/stacks?sort_by=desc:created&logical_operator=and&page=1&size=10 HTTP/1.1\u001b[0m\" \u001b[32m200 OK\u001b[0m\n"
          ]
        },
        {
          "name": "stderr",
          "output_type": "stream",
          "text": [
            "INFO:pyngrok.process.ngrok:t=2024-03-18T14:24:41+0000 lvl=info msg=\"join connections\" obj=join id=e173b6df65bc l=127.0.0.1:8237 r=102.219.103.197:55380\n"
          ]
        },
        {
          "name": "stdout",
          "output_type": "stream",
          "text": [
            "\u001b[1;35mt=2024-03-18T14:24:41+0000 lvl=info msg=\"join connections\" obj=join id=e173b6df65bc l=127.0.0.1:8237 r=102.219.103.197:55380\u001b[0m\n",
            "\u001b[1;35mGot token from cookie\u001b[0m\n",
            "\u001b[32mINFO\u001b[0m:     102.219.103.197:0 - \"\u001b[1mGET /api/v1/workspaces/default/stacks?sort_by=desc:created&logical_operator=and&page=1&size=10 HTTP/1.1\u001b[0m\" \u001b[32m200 OK\u001b[0m\n"
          ]
        },
        {
          "name": "stderr",
          "output_type": "stream",
          "text": [
            "INFO:pyngrok.process.ngrok:t=2024-03-18T14:24:47+0000 lvl=info msg=\"join connections\" obj=join id=05e37df66ce2 l=127.0.0.1:8237 r=102.219.103.197:55380\n"
          ]
        },
        {
          "name": "stdout",
          "output_type": "stream",
          "text": [
            "\u001b[1;35mt=2024-03-18T14:24:47+0000 lvl=info msg=\"join connections\" obj=join id=05e37df66ce2 l=127.0.0.1:8237 r=102.219.103.197:55380\u001b[0m\n",
            "\u001b[1;35mGot token from cookie\u001b[0m\n",
            "\u001b[32mINFO\u001b[0m:     102.219.103.197:0 - \"\u001b[1mGET /api/v1/workspaces/default/stacks?sort_by=desc:created&logical_operator=and&page=1&size=10 HTTP/1.1\u001b[0m\" \u001b[32m200 OK\u001b[0m\n"
          ]
        },
        {
          "name": "stderr",
          "output_type": "stream",
          "text": [
            "INFO:pyngrok.process.ngrok:t=2024-03-18T14:24:53+0000 lvl=info msg=\"join connections\" obj=join id=349edd0f5102 l=127.0.0.1:8237 r=102.219.103.197:55380\n"
          ]
        },
        {
          "name": "stdout",
          "output_type": "stream",
          "text": [
            "\u001b[1;35mt=2024-03-18T14:24:53+0000 lvl=info msg=\"join connections\" obj=join id=349edd0f5102 l=127.0.0.1:8237 r=102.219.103.197:55380\u001b[0m\n",
            "\u001b[1;35mGot token from cookie\u001b[0m\n",
            "\u001b[32mINFO\u001b[0m:     102.219.103.197:0 - \"\u001b[1mGET /api/v1/workspaces/default/stacks?sort_by=desc:created&logical_operator=and&page=1&size=10 HTTP/1.1\u001b[0m\" \u001b[32m200 OK\u001b[0m\n"
          ]
        },
        {
          "name": "stderr",
          "output_type": "stream",
          "text": [
            "INFO:pyngrok.process.ngrok:t=2024-03-18T14:24:59+0000 lvl=info msg=\"join connections\" obj=join id=90e0c65468f7 l=127.0.0.1:8237 r=102.219.103.197:55380\n"
          ]
        },
        {
          "name": "stdout",
          "output_type": "stream",
          "text": [
            "\u001b[1;35mt=2024-03-18T14:24:59+0000 lvl=info msg=\"join connections\" obj=join id=90e0c65468f7 l=127.0.0.1:8237 r=102.219.103.197:55380\u001b[0m\n",
            "\u001b[1;35mGot token from cookie\u001b[0m\n",
            "\u001b[32mINFO\u001b[0m:     102.219.103.197:0 - \"\u001b[1mGET /api/v1/workspaces/default/stacks?sort_by=desc:created&logical_operator=and&page=1&size=10 HTTP/1.1\u001b[0m\" \u001b[32m200 OK\u001b[0m\n"
          ]
        },
        {
          "name": "stderr",
          "output_type": "stream",
          "text": [
            "INFO:pyngrok.process.ngrok:t=2024-03-18T14:25:05+0000 lvl=info msg=\"join connections\" obj=join id=5c444bbc22cd l=127.0.0.1:8237 r=102.219.103.197:55380\n"
          ]
        },
        {
          "name": "stdout",
          "output_type": "stream",
          "text": [
            "\u001b[1;35mt=2024-03-18T14:25:05+0000 lvl=info msg=\"join connections\" obj=join id=5c444bbc22cd l=127.0.0.1:8237 r=102.219.103.197:55380\u001b[0m\n",
            "\u001b[1;35mGot token from cookie\u001b[0m\n",
            "\u001b[32mINFO\u001b[0m:     102.219.103.197:0 - \"\u001b[1mGET /api/v1/workspaces/default/stacks?sort_by=desc:created&logical_operator=and&page=1&size=10 HTTP/1.1\u001b[0m\" \u001b[32m200 OK\u001b[0m\n"
          ]
        },
        {
          "name": "stderr",
          "output_type": "stream",
          "text": [
            "INFO:pyngrok.process.ngrok:t=2024-03-18T14:25:11+0000 lvl=info msg=\"join connections\" obj=join id=e91a61422b28 l=127.0.0.1:8237 r=102.219.103.197:55380\n"
          ]
        },
        {
          "name": "stdout",
          "output_type": "stream",
          "text": [
            "\u001b[1;35mt=2024-03-18T14:25:11+0000 lvl=info msg=\"join connections\" obj=join id=e91a61422b28 l=127.0.0.1:8237 r=102.219.103.197:55380\u001b[0m\n",
            "\u001b[1;35mGot token from cookie\u001b[0m\n",
            "\u001b[32mINFO\u001b[0m:     102.219.103.197:0 - \"\u001b[1mGET /api/v1/workspaces/default/stacks?sort_by=desc:created&logical_operator=and&page=1&size=10 HTTP/1.1\u001b[0m\" \u001b[32m200 OK\u001b[0m\n"
          ]
        },
        {
          "name": "stderr",
          "output_type": "stream",
          "text": [
            "INFO:pyngrok.process.ngrok:t=2024-03-18T14:25:17+0000 lvl=info msg=\"join connections\" obj=join id=93a2c4b09936 l=127.0.0.1:8237 r=102.219.103.197:55380\n"
          ]
        },
        {
          "name": "stdout",
          "output_type": "stream",
          "text": [
            "\u001b[1;35mt=2024-03-18T14:25:17+0000 lvl=info msg=\"join connections\" obj=join id=93a2c4b09936 l=127.0.0.1:8237 r=102.219.103.197:55380\u001b[0m\n",
            "\u001b[1;35mGot token from cookie\u001b[0m\n",
            "\u001b[32mINFO\u001b[0m:     102.219.103.197:0 - \"\u001b[1mGET /api/v1/workspaces/default/stacks?sort_by=desc:created&logical_operator=and&page=1&size=10 HTTP/1.1\u001b[0m\" \u001b[32m200 OK\u001b[0m\n"
          ]
        },
        {
          "name": "stderr",
          "output_type": "stream",
          "text": [
            "INFO:pyngrok.process.ngrok:t=2024-03-18T14:25:23+0000 lvl=info msg=\"join connections\" obj=join id=a7adacc56cb2 l=127.0.0.1:8237 r=102.219.103.197:55380\n"
          ]
        },
        {
          "name": "stdout",
          "output_type": "stream",
          "text": [
            "\u001b[1;35mt=2024-03-18T14:25:23+0000 lvl=info msg=\"join connections\" obj=join id=a7adacc56cb2 l=127.0.0.1:8237 r=102.219.103.197:55380\u001b[0m\n",
            "\u001b[1;35mGot token from cookie\u001b[0m\n",
            "\u001b[32mINFO\u001b[0m:     102.219.103.197:0 - \"\u001b[1mGET /api/v1/workspaces/default/stacks?sort_by=desc:created&logical_operator=and&page=1&size=10 HTTP/1.1\u001b[0m\" \u001b[32m200 OK\u001b[0m\n"
          ]
        },
        {
          "name": "stderr",
          "output_type": "stream",
          "text": [
            "INFO:pyngrok.process.ngrok:t=2024-03-18T14:25:29+0000 lvl=info msg=\"join connections\" obj=join id=84af97648771 l=127.0.0.1:8237 r=102.219.103.197:55380\n"
          ]
        },
        {
          "name": "stdout",
          "output_type": "stream",
          "text": [
            "\u001b[1;35mt=2024-03-18T14:25:29+0000 lvl=info msg=\"join connections\" obj=join id=84af97648771 l=127.0.0.1:8237 r=102.219.103.197:55380\u001b[0m\n",
            "\u001b[1;35mGot token from cookie\u001b[0m\n",
            "\u001b[32mINFO\u001b[0m:     102.219.103.197:0 - \"\u001b[1mGET /api/v1/workspaces/default/stacks?sort_by=desc:created&logical_operator=and&page=1&size=10 HTTP/1.1\u001b[0m\" \u001b[32m200 OK\u001b[0m\n"
          ]
        },
        {
          "name": "stderr",
          "output_type": "stream",
          "text": [
            "INFO:pyngrok.process.ngrok:t=2024-03-18T14:25:36+0000 lvl=info msg=\"join connections\" obj=join id=329a36704e78 l=127.0.0.1:8237 r=102.219.103.197:55380\n"
          ]
        },
        {
          "name": "stdout",
          "output_type": "stream",
          "text": [
            "\u001b[1;35mt=2024-03-18T14:25:36+0000 lvl=info msg=\"join connections\" obj=join id=329a36704e78 l=127.0.0.1:8237 r=102.219.103.197:55380\u001b[0m\n",
            "\u001b[1;35mGot token from cookie\u001b[0m\n",
            "\u001b[32mINFO\u001b[0m:     102.219.103.197:0 - \"\u001b[1mGET /api/v1/workspaces/default/stacks?sort_by=desc:created&logical_operator=and&page=1&size=10 HTTP/1.1\u001b[0m\" \u001b[32m200 OK\u001b[0m\n"
          ]
        },
        {
          "name": "stderr",
          "output_type": "stream",
          "text": [
            "INFO:pyngrok.process.ngrok:t=2024-03-18T14:25:42+0000 lvl=info msg=\"join connections\" obj=join id=0d4d31006b43 l=127.0.0.1:8237 r=102.219.103.197:55380\n"
          ]
        },
        {
          "name": "stdout",
          "output_type": "stream",
          "text": [
            "\u001b[1;35mt=2024-03-18T14:25:42+0000 lvl=info msg=\"join connections\" obj=join id=0d4d31006b43 l=127.0.0.1:8237 r=102.219.103.197:55380\u001b[0m\n",
            "\u001b[1;35mGot token from cookie\u001b[0m\n",
            "\u001b[32mINFO\u001b[0m:     102.219.103.197:0 - \"\u001b[1mGET /api/v1/workspaces/default/stacks?sort_by=desc:created&logical_operator=and&page=1&size=10 HTTP/1.1\u001b[0m\" \u001b[32m200 OK\u001b[0m\n"
          ]
        },
        {
          "name": "stderr",
          "output_type": "stream",
          "text": [
            "INFO:pyngrok.process.ngrok:t=2024-03-18T14:25:48+0000 lvl=info msg=\"join connections\" obj=join id=e05addcb3fd8 l=127.0.0.1:8237 r=102.219.103.197:55380\n"
          ]
        },
        {
          "name": "stdout",
          "output_type": "stream",
          "text": [
            "\u001b[1;35mt=2024-03-18T14:25:48+0000 lvl=info msg=\"join connections\" obj=join id=e05addcb3fd8 l=127.0.0.1:8237 r=102.219.103.197:55380\u001b[0m\n",
            "\u001b[1;35mGot token from cookie\u001b[0m\n",
            "\u001b[32mINFO\u001b[0m:     102.219.103.197:0 - \"\u001b[1mGET /api/v1/workspaces/default/stacks?sort_by=desc:created&logical_operator=and&page=1&size=10 HTTP/1.1\u001b[0m\" \u001b[32m200 OK\u001b[0m\n"
          ]
        },
        {
          "name": "stderr",
          "output_type": "stream",
          "text": [
            "INFO:pyngrok.process.ngrok:t=2024-03-18T14:25:54+0000 lvl=info msg=\"join connections\" obj=join id=b3292c76a399 l=127.0.0.1:8237 r=102.219.103.197:55380\n"
          ]
        },
        {
          "name": "stdout",
          "output_type": "stream",
          "text": [
            "\u001b[1;35mt=2024-03-18T14:25:54+0000 lvl=info msg=\"join connections\" obj=join id=b3292c76a399 l=127.0.0.1:8237 r=102.219.103.197:55380\u001b[0m\n",
            "\u001b[1;35mGot token from cookie\u001b[0m\n",
            "\u001b[32mINFO\u001b[0m:     102.219.103.197:0 - \"\u001b[1mGET /api/v1/workspaces/default/stacks?sort_by=desc:created&logical_operator=and&page=1&size=10 HTTP/1.1\u001b[0m\" \u001b[32m200 OK\u001b[0m\n"
          ]
        },
        {
          "name": "stderr",
          "output_type": "stream",
          "text": [
            "INFO:pyngrok.process.ngrok:t=2024-03-18T14:26:00+0000 lvl=info msg=\"join connections\" obj=join id=917ebdff398b l=127.0.0.1:8237 r=102.219.103.197:55380\n"
          ]
        },
        {
          "name": "stdout",
          "output_type": "stream",
          "text": [
            "\u001b[1;35mt=2024-03-18T14:26:00+0000 lvl=info msg=\"join connections\" obj=join id=917ebdff398b l=127.0.0.1:8237 r=102.219.103.197:55380\u001b[0m\n",
            "\u001b[1;35mGot token from cookie\u001b[0m\n",
            "\u001b[32mINFO\u001b[0m:     102.219.103.197:0 - \"\u001b[1mGET /api/v1/workspaces/default/stacks?sort_by=desc:created&logical_operator=and&page=1&size=10 HTTP/1.1\u001b[0m\" \u001b[32m200 OK\u001b[0m\n"
          ]
        },
        {
          "name": "stderr",
          "output_type": "stream",
          "text": [
            "INFO:pyngrok.process.ngrok:t=2024-03-18T14:26:06+0000 lvl=info msg=\"join connections\" obj=join id=f5638cc13527 l=127.0.0.1:8237 r=102.219.103.197:55380\n"
          ]
        },
        {
          "name": "stdout",
          "output_type": "stream",
          "text": [
            "\u001b[1;35mt=2024-03-18T14:26:06+0000 lvl=info msg=\"join connections\" obj=join id=f5638cc13527 l=127.0.0.1:8237 r=102.219.103.197:55380\u001b[0m\n",
            "\u001b[1;35mGot token from cookie\u001b[0m\n",
            "\u001b[32mINFO\u001b[0m:     102.219.103.197:0 - \"\u001b[1mGET /api/v1/workspaces/default/stacks?sort_by=desc:created&logical_operator=and&page=1&size=10 HTTP/1.1\u001b[0m\" \u001b[32m200 OK\u001b[0m\n"
          ]
        },
        {
          "name": "stderr",
          "output_type": "stream",
          "text": [
            "INFO:pyngrok.process.ngrok:t=2024-03-18T14:26:12+0000 lvl=info msg=\"join connections\" obj=join id=b34c7ed2ec56 l=127.0.0.1:8237 r=102.219.103.197:55380\n"
          ]
        },
        {
          "name": "stdout",
          "output_type": "stream",
          "text": [
            "\u001b[1;35mt=2024-03-18T14:26:12+0000 lvl=info msg=\"join connections\" obj=join id=b34c7ed2ec56 l=127.0.0.1:8237 r=102.219.103.197:55380\u001b[0m\n",
            "\u001b[1;35mGot token from cookie\u001b[0m\n",
            "\u001b[32mINFO\u001b[0m:     102.219.103.197:0 - \"\u001b[1mGET /api/v1/workspaces/default/stacks?sort_by=desc:created&logical_operator=and&page=1&size=10 HTTP/1.1\u001b[0m\" \u001b[32m200 OK\u001b[0m\n"
          ]
        },
        {
          "name": "stderr",
          "output_type": "stream",
          "text": [
            "INFO:pyngrok.process.ngrok:t=2024-03-18T14:26:18+0000 lvl=info msg=\"join connections\" obj=join id=58036ec70643 l=127.0.0.1:8237 r=102.219.103.197:55380\n"
          ]
        },
        {
          "name": "stdout",
          "output_type": "stream",
          "text": [
            "\u001b[1;35mt=2024-03-18T14:26:18+0000 lvl=info msg=\"join connections\" obj=join id=58036ec70643 l=127.0.0.1:8237 r=102.219.103.197:55380\u001b[0m\n",
            "\u001b[1;35mGot token from cookie\u001b[0m\n",
            "\u001b[32mINFO\u001b[0m:     102.219.103.197:0 - \"\u001b[1mGET /api/v1/workspaces/default/stacks?sort_by=desc:created&logical_operator=and&page=1&size=10 HTTP/1.1\u001b[0m\" \u001b[32m200 OK\u001b[0m\n"
          ]
        },
        {
          "name": "stderr",
          "output_type": "stream",
          "text": [
            "INFO:pyngrok.process.ngrok:t=2024-03-18T14:26:24+0000 lvl=info msg=\"join connections\" obj=join id=b2ce7182ab5a l=127.0.0.1:8237 r=102.219.103.197:55380\n"
          ]
        },
        {
          "name": "stdout",
          "output_type": "stream",
          "text": [
            "\u001b[1;35mt=2024-03-18T14:26:24+0000 lvl=info msg=\"join connections\" obj=join id=b2ce7182ab5a l=127.0.0.1:8237 r=102.219.103.197:55380\u001b[0m\n",
            "\u001b[1;35mGot token from cookie\u001b[0m\n",
            "\u001b[32mINFO\u001b[0m:     102.219.103.197:0 - \"\u001b[1mGET /api/v1/workspaces/default/stacks?sort_by=desc:created&logical_operator=and&page=1&size=10 HTTP/1.1\u001b[0m\" \u001b[32m200 OK\u001b[0m\n"
          ]
        },
        {
          "name": "stderr",
          "output_type": "stream",
          "text": [
            "INFO:pyngrok.process.ngrok:t=2024-03-18T14:26:30+0000 lvl=info msg=\"join connections\" obj=join id=04a08980d843 l=127.0.0.1:8237 r=102.219.103.197:55380\n"
          ]
        },
        {
          "name": "stdout",
          "output_type": "stream",
          "text": [
            "\u001b[1;35mt=2024-03-18T14:26:30+0000 lvl=info msg=\"join connections\" obj=join id=04a08980d843 l=127.0.0.1:8237 r=102.219.103.197:55380\u001b[0m\n",
            "\u001b[1;35mGot token from cookie\u001b[0m\n",
            "\u001b[32mINFO\u001b[0m:     102.219.103.197:0 - \"\u001b[1mGET /api/v1/workspaces/default/stacks?sort_by=desc:created&logical_operator=and&page=1&size=10 HTTP/1.1\u001b[0m\" \u001b[32m200 OK\u001b[0m\n"
          ]
        },
        {
          "name": "stderr",
          "output_type": "stream",
          "text": [
            "INFO:pyngrok.process.ngrok:t=2024-03-18T14:26:36+0000 lvl=info msg=\"join connections\" obj=join id=94ea357a5d0b l=127.0.0.1:8237 r=102.219.103.197:55380\n"
          ]
        },
        {
          "name": "stdout",
          "output_type": "stream",
          "text": [
            "\u001b[1;35mt=2024-03-18T14:26:36+0000 lvl=info msg=\"join connections\" obj=join id=94ea357a5d0b l=127.0.0.1:8237 r=102.219.103.197:55380\u001b[0m\n",
            "\u001b[1;35mGot token from cookie\u001b[0m\n",
            "\u001b[32mINFO\u001b[0m:     102.219.103.197:0 - \"\u001b[1mGET /api/v1/workspaces/default/stacks?sort_by=desc:created&logical_operator=and&page=1&size=10 HTTP/1.1\u001b[0m\" \u001b[32m200 OK\u001b[0m\n"
          ]
        },
        {
          "name": "stderr",
          "output_type": "stream",
          "text": [
            "INFO:pyngrok.process.ngrok:t=2024-03-18T14:26:42+0000 lvl=info msg=\"join connections\" obj=join id=7e6ca2239f64 l=127.0.0.1:8237 r=102.219.103.197:55380\n"
          ]
        },
        {
          "name": "stdout",
          "output_type": "stream",
          "text": [
            "\u001b[1;35mt=2024-03-18T14:26:42+0000 lvl=info msg=\"join connections\" obj=join id=7e6ca2239f64 l=127.0.0.1:8237 r=102.219.103.197:55380\u001b[0m\n",
            "\u001b[1;35mGot token from cookie\u001b[0m\n",
            "\u001b[32mINFO\u001b[0m:     102.219.103.197:0 - \"\u001b[1mGET /api/v1/workspaces/default/stacks?sort_by=desc:created&logical_operator=and&page=1&size=10 HTTP/1.1\u001b[0m\" \u001b[32m200 OK\u001b[0m\n"
          ]
        },
        {
          "name": "stderr",
          "output_type": "stream",
          "text": [
            "INFO:pyngrok.process.ngrok:t=2024-03-18T14:26:48+0000 lvl=info msg=\"join connections\" obj=join id=3707a7cb5e5b l=127.0.0.1:8237 r=102.219.103.197:55380\n"
          ]
        },
        {
          "name": "stdout",
          "output_type": "stream",
          "text": [
            "\u001b[1;35mt=2024-03-18T14:26:48+0000 lvl=info msg=\"join connections\" obj=join id=3707a7cb5e5b l=127.0.0.1:8237 r=102.219.103.197:55380\u001b[0m\n",
            "\u001b[1;35mGot token from cookie\u001b[0m\n",
            "\u001b[32mINFO\u001b[0m:     102.219.103.197:0 - \"\u001b[1mGET /api/v1/workspaces/default/stacks?sort_by=desc:created&logical_operator=and&page=1&size=10 HTTP/1.1\u001b[0m\" \u001b[32m200 OK\u001b[0m\n"
          ]
        },
        {
          "name": "stderr",
          "output_type": "stream",
          "text": [
            "INFO:pyngrok.process.ngrok:t=2024-03-18T14:26:54+0000 lvl=info msg=\"join connections\" obj=join id=82a560b85e7a l=127.0.0.1:8237 r=102.219.103.197:55380\n"
          ]
        },
        {
          "name": "stdout",
          "output_type": "stream",
          "text": [
            "\u001b[1;35mt=2024-03-18T14:26:54+0000 lvl=info msg=\"join connections\" obj=join id=82a560b85e7a l=127.0.0.1:8237 r=102.219.103.197:55380\u001b[0m\n",
            "\u001b[1;35mGot token from cookie\u001b[0m\n",
            "\u001b[32mINFO\u001b[0m:     102.219.103.197:0 - \"\u001b[1mGET /api/v1/workspaces/default/stacks?sort_by=desc:created&logical_operator=and&page=1&size=10 HTTP/1.1\u001b[0m\" \u001b[32m200 OK\u001b[0m\n"
          ]
        },
        {
          "name": "stderr",
          "output_type": "stream",
          "text": [
            "INFO:pyngrok.process.ngrok:t=2024-03-18T14:27:00+0000 lvl=info msg=\"join connections\" obj=join id=1b9c9e6338a0 l=127.0.0.1:8237 r=102.219.103.197:55380\n"
          ]
        },
        {
          "name": "stdout",
          "output_type": "stream",
          "text": [
            "\u001b[1;35mt=2024-03-18T14:27:00+0000 lvl=info msg=\"join connections\" obj=join id=1b9c9e6338a0 l=127.0.0.1:8237 r=102.219.103.197:55380\u001b[0m\n",
            "\u001b[1;35mGot token from cookie\u001b[0m\n",
            "\u001b[32mINFO\u001b[0m:     102.219.103.197:0 - \"\u001b[1mGET /api/v1/workspaces/default/stacks?sort_by=desc:created&logical_operator=and&page=1&size=10 HTTP/1.1\u001b[0m\" \u001b[32m200 OK\u001b[0m\n"
          ]
        },
        {
          "name": "stderr",
          "output_type": "stream",
          "text": [
            "INFO:pyngrok.process.ngrok:t=2024-03-18T14:27:06+0000 lvl=info msg=\"join connections\" obj=join id=fcf953cb9ea7 l=127.0.0.1:8237 r=102.219.103.197:55380\n"
          ]
        },
        {
          "name": "stdout",
          "output_type": "stream",
          "text": [
            "\u001b[1;35mt=2024-03-18T14:27:06+0000 lvl=info msg=\"join connections\" obj=join id=fcf953cb9ea7 l=127.0.0.1:8237 r=102.219.103.197:55380\u001b[0m\n",
            "\u001b[1;35mGot token from cookie\u001b[0m\n",
            "\u001b[32mINFO\u001b[0m:     102.219.103.197:0 - \"\u001b[1mGET /api/v1/workspaces/default/stacks?sort_by=desc:created&logical_operator=and&page=1&size=10 HTTP/1.1\u001b[0m\" \u001b[32m200 OK\u001b[0m\n"
          ]
        },
        {
          "name": "stderr",
          "output_type": "stream",
          "text": [
            "INFO:pyngrok.process.ngrok:t=2024-03-18T14:27:12+0000 lvl=info msg=\"join connections\" obj=join id=1a4f1b4532ff l=127.0.0.1:8237 r=102.219.103.197:55380\n"
          ]
        },
        {
          "name": "stdout",
          "output_type": "stream",
          "text": [
            "\u001b[1;35mt=2024-03-18T14:27:12+0000 lvl=info msg=\"join connections\" obj=join id=1a4f1b4532ff l=127.0.0.1:8237 r=102.219.103.197:55380\u001b[0m\n",
            "\u001b[1;35mGot token from cookie\u001b[0m\n",
            "\u001b[32mINFO\u001b[0m:     102.219.103.197:0 - \"\u001b[1mGET /api/v1/workspaces/default/stacks?sort_by=desc:created&logical_operator=and&page=1&size=10 HTTP/1.1\u001b[0m\" \u001b[32m200 OK\u001b[0m\n"
          ]
        },
        {
          "name": "stderr",
          "output_type": "stream",
          "text": [
            "INFO:pyngrok.process.ngrok:t=2024-03-18T14:27:19+0000 lvl=info msg=\"join connections\" obj=join id=36e11775fd8a l=127.0.0.1:8237 r=102.219.103.197:55380\n"
          ]
        },
        {
          "name": "stdout",
          "output_type": "stream",
          "text": [
            "\u001b[1;35mt=2024-03-18T14:27:19+0000 lvl=info msg=\"join connections\" obj=join id=36e11775fd8a l=127.0.0.1:8237 r=102.219.103.197:55380\u001b[0m\n",
            "\u001b[1;35mGot token from cookie\u001b[0m\n",
            "\u001b[32mINFO\u001b[0m:     102.219.103.197:0 - \"\u001b[1mGET /api/v1/workspaces/default/stacks?sort_by=desc:created&logical_operator=and&page=1&size=10 HTTP/1.1\u001b[0m\" \u001b[32m200 OK\u001b[0m\n"
          ]
        },
        {
          "name": "stderr",
          "output_type": "stream",
          "text": [
            "INFO:pyngrok.process.ngrok:t=2024-03-18T14:27:26+0000 lvl=info msg=\"join connections\" obj=join id=589d898c24bd l=127.0.0.1:8237 r=102.222.234.175:18589\n"
          ]
        },
        {
          "name": "stdout",
          "output_type": "stream",
          "text": [
            "\u001b[1;35mt=2024-03-18T14:27:26+0000 lvl=info msg=\"join connections\" obj=join id=589d898c24bd l=127.0.0.1:8237 r=102.222.234.175:18589\u001b[0m\n",
            "\u001b[1;35mGot token from cookie\u001b[0m\n",
            "\u001b[32mINFO\u001b[0m:     102.222.234.175:0 - \"\u001b[1mGET /api/v1/workspaces/default/stacks?sort_by=desc:created&logical_operator=and&page=1&size=10 HTTP/1.1\u001b[0m\" \u001b[32m200 OK\u001b[0m\n"
          ]
        },
        {
          "name": "stderr",
          "output_type": "stream",
          "text": [
            "INFO:pyngrok.process.ngrok:t=2024-03-18T14:27:32+0000 lvl=info msg=\"join connections\" obj=join id=a9fe3adc0e53 l=127.0.0.1:8237 r=102.222.234.175:18589\n"
          ]
        },
        {
          "name": "stdout",
          "output_type": "stream",
          "text": [
            "\u001b[1;35mt=2024-03-18T14:27:32+0000 lvl=info msg=\"join connections\" obj=join id=a9fe3adc0e53 l=127.0.0.1:8237 r=102.222.234.175:18589\u001b[0m\n",
            "\u001b[1;35mGot token from cookie\u001b[0m\n",
            "\u001b[32mINFO\u001b[0m:     102.222.234.175:0 - \"\u001b[1mGET /api/v1/workspaces/default/stacks?sort_by=desc:created&logical_operator=and&page=1&size=10 HTTP/1.1\u001b[0m\" \u001b[32m200 OK\u001b[0m\n"
          ]
        },
        {
          "name": "stderr",
          "output_type": "stream",
          "text": [
            "INFO:pyngrok.process.ngrok:t=2024-03-18T14:27:38+0000 lvl=info msg=\"join connections\" obj=join id=2a6e0c51dc9c l=127.0.0.1:8237 r=102.211.61.95:55603\n"
          ]
        },
        {
          "name": "stdout",
          "output_type": "stream",
          "text": [
            "\u001b[1;35mt=2024-03-18T14:27:38+0000 lvl=info msg=\"join connections\" obj=join id=2a6e0c51dc9c l=127.0.0.1:8237 r=102.211.61.95:55603\u001b[0m\n",
            "\u001b[1;35mGot token from cookie\u001b[0m\n",
            "\u001b[32mINFO\u001b[0m:     102.211.61.95:0 - \"\u001b[1mGET /api/v1/workspaces/default/stacks?sort_by=desc:created&logical_operator=and&page=1&size=10 HTTP/1.1\u001b[0m\" \u001b[32m200 OK\u001b[0m\n"
          ]
        },
        {
          "name": "stderr",
          "output_type": "stream",
          "text": [
            "INFO:pyngrok.process.ngrok:t=2024-03-18T14:27:45+0000 lvl=info msg=\"join connections\" obj=join id=cef8a40fca97 l=127.0.0.1:8237 r=102.211.61.95:55607\n"
          ]
        },
        {
          "name": "stdout",
          "output_type": "stream",
          "text": [
            "\u001b[1;35mt=2024-03-18T14:27:45+0000 lvl=info msg=\"join connections\" obj=join id=cef8a40fca97 l=127.0.0.1:8237 r=102.211.61.95:55607\u001b[0m\n",
            "\u001b[1;35mGot token from cookie\u001b[0m\n",
            "\u001b[32mINFO\u001b[0m:     102.211.61.95:0 - \"\u001b[1mGET /api/v1/workspaces/default/stacks?sort_by=desc:created&logical_operator=and&page=1&size=10 HTTP/1.1\u001b[0m\" \u001b[32m200 OK\u001b[0m\n"
          ]
        },
        {
          "name": "stderr",
          "output_type": "stream",
          "text": [
            "INFO:pyngrok.process.ngrok:t=2024-03-18T14:27:52+0000 lvl=info msg=\"join connections\" obj=join id=d96892d4cedf l=127.0.0.1:8237 r=102.211.61.95:55607\n"
          ]
        },
        {
          "name": "stdout",
          "output_type": "stream",
          "text": [
            "\u001b[1;35mt=2024-03-18T14:27:52+0000 lvl=info msg=\"join connections\" obj=join id=d96892d4cedf l=127.0.0.1:8237 r=102.211.61.95:55607\u001b[0m\n",
            "\u001b[1;35mGot token from cookie\u001b[0m\n",
            "\u001b[32mINFO\u001b[0m:     102.211.61.95:0 - \"\u001b[1mGET /api/v1/workspaces/default/stacks?sort_by=desc:created&logical_operator=and&page=1&size=10 HTTP/1.1\u001b[0m\" \u001b[32m200 OK\u001b[0m\n"
          ]
        },
        {
          "name": "stderr",
          "output_type": "stream",
          "text": [
            "INFO:pyngrok.process.ngrok:t=2024-03-18T14:27:58+0000 lvl=info msg=\"join connections\" obj=join id=18ab1dba3042 l=127.0.0.1:8237 r=102.222.70.103:55620\n"
          ]
        },
        {
          "name": "stdout",
          "output_type": "stream",
          "text": [
            "\u001b[1;35mt=2024-03-18T14:27:58+0000 lvl=info msg=\"join connections\" obj=join id=18ab1dba3042 l=127.0.0.1:8237 r=102.222.70.103:55620\u001b[0m\n",
            "\u001b[1;35mGot token from cookie\u001b[0m\n",
            "\u001b[32mINFO\u001b[0m:     102.222.70.103:0 - \"\u001b[1mGET /api/v1/workspaces/default/stacks?sort_by=desc:created&logical_operator=and&page=1&size=10 HTTP/1.1\u001b[0m\" \u001b[32m200 OK\u001b[0m\n"
          ]
        },
        {
          "name": "stderr",
          "output_type": "stream",
          "text": [
            "INFO:pyngrok.process.ngrok:t=2024-03-18T14:28:05+0000 lvl=info msg=\"join connections\" obj=join id=beb348e7b53f l=127.0.0.1:8237 r=102.222.234.175:18474\n"
          ]
        },
        {
          "name": "stdout",
          "output_type": "stream",
          "text": [
            "\u001b[1;35mt=2024-03-18T14:28:05+0000 lvl=info msg=\"join connections\" obj=join id=beb348e7b53f l=127.0.0.1:8237 r=102.222.234.175:18474\u001b[0m\n",
            "\u001b[1;35mGot token from cookie\u001b[0m\n",
            "\u001b[32mINFO\u001b[0m:     102.222.234.175:0 - \"\u001b[1mGET /api/v1/workspaces/default/stacks?sort_by=desc:created&logical_operator=and&page=1&size=10 HTTP/1.1\u001b[0m\" \u001b[32m200 OK\u001b[0m\n"
          ]
        },
        {
          "name": "stderr",
          "output_type": "stream",
          "text": [
            "INFO:pyngrok.process.ngrok:t=2024-03-18T14:28:12+0000 lvl=info msg=\"join connections\" obj=join id=0cee7e69f9b4 l=127.0.0.1:8237 r=102.222.234.175:18474\n"
          ]
        },
        {
          "name": "stdout",
          "output_type": "stream",
          "text": [
            "\u001b[1;35mt=2024-03-18T14:28:12+0000 lvl=info msg=\"join connections\" obj=join id=0cee7e69f9b4 l=127.0.0.1:8237 r=102.222.234.175:18474\u001b[0m\n",
            "\u001b[1;35mGot token from cookie\u001b[0m\n",
            "\u001b[32mINFO\u001b[0m:     102.222.234.175:0 - \"\u001b[1mGET /api/v1/workspaces/default/stacks?sort_by=desc:created&logical_operator=and&page=1&size=10 HTTP/1.1\u001b[0m\" \u001b[32m200 OK\u001b[0m\n"
          ]
        },
        {
          "name": "stderr",
          "output_type": "stream",
          "text": [
            "INFO:pyngrok.process.ngrok:t=2024-03-18T14:28:18+0000 lvl=info msg=\"join connections\" obj=join id=d5965705d0c9 l=127.0.0.1:8237 r=102.222.234.175:18474\n"
          ]
        },
        {
          "name": "stdout",
          "output_type": "stream",
          "text": [
            "\u001b[1;35mt=2024-03-18T14:28:18+0000 lvl=info msg=\"join connections\" obj=join id=d5965705d0c9 l=127.0.0.1:8237 r=102.222.234.175:18474\u001b[0m\n",
            "\u001b[1;35mGot token from cookie\u001b[0m\n",
            "\u001b[32mINFO\u001b[0m:     102.222.234.175:0 - \"\u001b[1mGET /api/v1/workspaces/default/stacks?sort_by=desc:created&logical_operator=and&page=1&size=10 HTTP/1.1\u001b[0m\" \u001b[32m200 OK\u001b[0m\n"
          ]
        },
        {
          "name": "stderr",
          "output_type": "stream",
          "text": [
            "INFO:pyngrok.process.ngrok:t=2024-03-18T14:28:24+0000 lvl=info msg=\"join connections\" obj=join id=ecba79b4583a l=127.0.0.1:8237 r=102.222.234.175:18546\n"
          ]
        },
        {
          "name": "stdout",
          "output_type": "stream",
          "text": [
            "\u001b[1;35mt=2024-03-18T14:28:24+0000 lvl=info msg=\"join connections\" obj=join id=ecba79b4583a l=127.0.0.1:8237 r=102.222.234.175:18546\u001b[0m\n",
            "\u001b[1;35mGot token from cookie\u001b[0m\n",
            "\u001b[32mINFO\u001b[0m:     102.222.234.175:0 - \"\u001b[1mGET /api/v1/workspaces/default/stacks?sort_by=desc:created&logical_operator=and&page=1&size=10 HTTP/1.1\u001b[0m\" \u001b[32m200 OK\u001b[0m\n"
          ]
        },
        {
          "name": "stderr",
          "output_type": "stream",
          "text": [
            "INFO:pyngrok.process.ngrok:t=2024-03-18T14:28:32+0000 lvl=info msg=\"join connections\" obj=join id=aa19bf862364 l=127.0.0.1:8237 r=102.222.234.175:18546\n"
          ]
        },
        {
          "name": "stdout",
          "output_type": "stream",
          "text": [
            "\u001b[1;35mt=2024-03-18T14:28:32+0000 lvl=info msg=\"join connections\" obj=join id=aa19bf862364 l=127.0.0.1:8237 r=102.222.234.175:18546\u001b[0m\n",
            "\u001b[1;35mGot token from cookie\u001b[0m\n",
            "\u001b[32mINFO\u001b[0m:     102.222.234.175:0 - \"\u001b[1mGET /api/v1/workspaces/default/stacks?sort_by=desc:created&logical_operator=and&page=1&size=10 HTTP/1.1\u001b[0m\" \u001b[32m200 OK\u001b[0m\n"
          ]
        },
        {
          "name": "stderr",
          "output_type": "stream",
          "text": [
            "INFO:pyngrok.process.ngrok:t=2024-03-18T14:28:39+0000 lvl=info msg=\"join connections\" obj=join id=fcc4ee432f83 l=127.0.0.1:8237 r=102.222.234.175:18595\n"
          ]
        },
        {
          "name": "stdout",
          "output_type": "stream",
          "text": [
            "\u001b[1;35mt=2024-03-18T14:28:39+0000 lvl=info msg=\"join connections\" obj=join id=fcc4ee432f83 l=127.0.0.1:8237 r=102.222.234.175:18595\u001b[0m\n",
            "\u001b[1;35mGot token from cookie\u001b[0m\n",
            "\u001b[32mINFO\u001b[0m:     102.222.234.175:0 - \"\u001b[1mGET /api/v1/workspaces/default/stacks?sort_by=desc:created&logical_operator=and&page=1&size=10 HTTP/1.1\u001b[0m\" \u001b[32m200 OK\u001b[0m\n"
          ]
        },
        {
          "name": "stderr",
          "output_type": "stream",
          "text": [
            "INFO:pyngrok.process.ngrok:t=2024-03-18T14:28:46+0000 lvl=info msg=\"join connections\" obj=join id=d0f3b9a5e34d l=127.0.0.1:8237 r=102.219.103.197:55651\n"
          ]
        },
        {
          "name": "stdout",
          "output_type": "stream",
          "text": [
            "\u001b[1;35mt=2024-03-18T14:28:46+0000 lvl=info msg=\"join connections\" obj=join id=d0f3b9a5e34d l=127.0.0.1:8237 r=102.219.103.197:55651\u001b[0m\n",
            "\u001b[1;35mGot token from cookie\u001b[0m\n",
            "\u001b[32mINFO\u001b[0m:     102.219.103.197:0 - \"\u001b[1mGET /api/v1/workspaces/default/stacks?sort_by=desc:created&logical_operator=and&page=1&size=10 HTTP/1.1\u001b[0m\" \u001b[32m200 OK\u001b[0m\n"
          ]
        },
        {
          "name": "stderr",
          "output_type": "stream",
          "text": [
            "INFO:pyngrok.process.ngrok:t=2024-03-18T14:28:53+0000 lvl=info msg=\"join connections\" obj=join id=d647a7653a1d l=127.0.0.1:8237 r=102.219.103.197:55651\n"
          ]
        },
        {
          "name": "stdout",
          "output_type": "stream",
          "text": [
            "\u001b[1;35mt=2024-03-18T14:28:53+0000 lvl=info msg=\"join connections\" obj=join id=d647a7653a1d l=127.0.0.1:8237 r=102.219.103.197:55651\u001b[0m\n",
            "\u001b[1;35mGot token from cookie\u001b[0m\n",
            "\u001b[32mINFO\u001b[0m:     102.219.103.197:0 - \"\u001b[1mGET /api/v1/workspaces/default/stacks?sort_by=desc:created&logical_operator=and&page=1&size=10 HTTP/1.1\u001b[0m\" \u001b[32m200 OK\u001b[0m\n"
          ]
        },
        {
          "name": "stderr",
          "output_type": "stream",
          "text": [
            "INFO:pyngrok.process.ngrok:t=2024-03-18T14:28:59+0000 lvl=info msg=\"join connections\" obj=join id=d4c9f6d190bd l=127.0.0.1:8237 r=102.219.103.197:55651\n"
          ]
        },
        {
          "name": "stdout",
          "output_type": "stream",
          "text": [
            "\u001b[1;35mt=2024-03-18T14:28:59+0000 lvl=info msg=\"join connections\" obj=join id=d4c9f6d190bd l=127.0.0.1:8237 r=102.219.103.197:55651\u001b[0m\n",
            "\u001b[1;35mGot token from cookie\u001b[0m\n",
            "\u001b[32mINFO\u001b[0m:     102.219.103.197:0 - \"\u001b[1mGET /api/v1/workspaces/default/stacks?sort_by=desc:created&logical_operator=and&page=1&size=10 HTTP/1.1\u001b[0m\" \u001b[32m200 OK\u001b[0m\n"
          ]
        },
        {
          "name": "stderr",
          "output_type": "stream",
          "text": [
            "INFO:pyngrok.process.ngrok:t=2024-03-18T14:29:05+0000 lvl=info msg=\"join connections\" obj=join id=f0aa00af8c3f l=127.0.0.1:8237 r=102.219.103.197:55651\n"
          ]
        },
        {
          "name": "stdout",
          "output_type": "stream",
          "text": [
            "\u001b[1;35mt=2024-03-18T14:29:05+0000 lvl=info msg=\"join connections\" obj=join id=f0aa00af8c3f l=127.0.0.1:8237 r=102.219.103.197:55651\u001b[0m\n",
            "\u001b[1;35mGot token from cookie\u001b[0m\n",
            "\u001b[32mINFO\u001b[0m:     102.219.103.197:0 - \"\u001b[1mGET /api/v1/workspaces/default/stacks?sort_by=desc:created&logical_operator=and&page=1&size=10 HTTP/1.1\u001b[0m\" \u001b[32m200 OK\u001b[0m\n"
          ]
        },
        {
          "name": "stderr",
          "output_type": "stream",
          "text": [
            "INFO:pyngrok.process.ngrok:t=2024-03-18T14:29:11+0000 lvl=info msg=\"join connections\" obj=join id=eb5e9001f3b4 l=127.0.0.1:8237 r=102.219.103.197:55651\n"
          ]
        },
        {
          "name": "stdout",
          "output_type": "stream",
          "text": [
            "\u001b[1;35mt=2024-03-18T14:29:11+0000 lvl=info msg=\"join connections\" obj=join id=eb5e9001f3b4 l=127.0.0.1:8237 r=102.219.103.197:55651\u001b[0m\n",
            "\u001b[1;35mGot token from cookie\u001b[0m\n",
            "\u001b[32mINFO\u001b[0m:     102.219.103.197:0 - \"\u001b[1mGET /api/v1/workspaces/default/stacks?sort_by=desc:created&logical_operator=and&page=1&size=10 HTTP/1.1\u001b[0m\" \u001b[32m200 OK\u001b[0m\n"
          ]
        },
        {
          "name": "stderr",
          "output_type": "stream",
          "text": [
            "INFO:pyngrok.process.ngrok:t=2024-03-18T14:29:17+0000 lvl=info msg=\"join connections\" obj=join id=af0f2a56a4c6 l=127.0.0.1:8237 r=102.219.103.197:55651\n"
          ]
        },
        {
          "name": "stdout",
          "output_type": "stream",
          "text": [
            "\u001b[1;35mt=2024-03-18T14:29:17+0000 lvl=info msg=\"join connections\" obj=join id=af0f2a56a4c6 l=127.0.0.1:8237 r=102.219.103.197:55651\u001b[0m\n",
            "\u001b[1;35mGot token from cookie\u001b[0m\n",
            "\u001b[32mINFO\u001b[0m:     102.219.103.197:0 - \"\u001b[1mGET /api/v1/workspaces/default/stacks?sort_by=desc:created&logical_operator=and&page=1&size=10 HTTP/1.1\u001b[0m\" \u001b[32m200 OK\u001b[0m\n"
          ]
        },
        {
          "name": "stderr",
          "output_type": "stream",
          "text": [
            "INFO:pyngrok.process.ngrok:t=2024-03-18T14:29:23+0000 lvl=info msg=\"join connections\" obj=join id=11a7bf5e7fa9 l=127.0.0.1:8237 r=102.219.103.197:55651\n"
          ]
        },
        {
          "name": "stdout",
          "output_type": "stream",
          "text": [
            "\u001b[1;35mt=2024-03-18T14:29:23+0000 lvl=info msg=\"join connections\" obj=join id=11a7bf5e7fa9 l=127.0.0.1:8237 r=102.219.103.197:55651\u001b[0m\n",
            "\u001b[1;35mGot token from cookie\u001b[0m\n",
            "\u001b[32mINFO\u001b[0m:     102.219.103.197:0 - \"\u001b[1mGET /api/v1/workspaces/default/stacks?sort_by=desc:created&logical_operator=and&page=1&size=10 HTTP/1.1\u001b[0m\" \u001b[32m200 OK\u001b[0m\n"
          ]
        },
        {
          "name": "stderr",
          "output_type": "stream",
          "text": [
            "INFO:pyngrok.process.ngrok:t=2024-03-18T14:29:29+0000 lvl=info msg=\"join connections\" obj=join id=fbd7a2078dc1 l=127.0.0.1:8237 r=102.219.103.197:55651\n"
          ]
        },
        {
          "name": "stdout",
          "output_type": "stream",
          "text": [
            "\u001b[1;35mt=2024-03-18T14:29:29+0000 lvl=info msg=\"join connections\" obj=join id=fbd7a2078dc1 l=127.0.0.1:8237 r=102.219.103.197:55651\u001b[0m\n",
            "\u001b[1;35mGot token from cookie\u001b[0m\n",
            "\u001b[32mINFO\u001b[0m:     102.219.103.197:0 - \"\u001b[1mGET /api/v1/workspaces/default/stacks?sort_by=desc:created&logical_operator=and&page=1&size=10 HTTP/1.1\u001b[0m\" \u001b[32m200 OK\u001b[0m\n"
          ]
        },
        {
          "name": "stderr",
          "output_type": "stream",
          "text": [
            "INFO:pyngrok.process.ngrok:t=2024-03-18T14:29:35+0000 lvl=info msg=\"join connections\" obj=join id=8a73f1e5ef15 l=127.0.0.1:8237 r=102.222.234.175:18489\n"
          ]
        },
        {
          "name": "stdout",
          "output_type": "stream",
          "text": [
            "\u001b[1;35mt=2024-03-18T14:29:35+0000 lvl=info msg=\"join connections\" obj=join id=8a73f1e5ef15 l=127.0.0.1:8237 r=102.222.234.175:18489\u001b[0m\n",
            "\u001b[1;35mGot token from cookie\u001b[0m\n",
            "\u001b[32mINFO\u001b[0m:     102.222.234.175:0 - \"\u001b[1mGET /api/v1/workspaces/default/stacks?sort_by=desc:created&logical_operator=and&page=1&size=10 HTTP/1.1\u001b[0m\" \u001b[32m200 OK\u001b[0m\n"
          ]
        },
        {
          "name": "stderr",
          "output_type": "stream",
          "text": [
            "INFO:pyngrok.process.ngrok:t=2024-03-18T14:29:42+0000 lvl=info msg=\"join connections\" obj=join id=c7cc905e433e l=127.0.0.1:8237 r=102.222.234.175:18489\n"
          ]
        },
        {
          "name": "stdout",
          "output_type": "stream",
          "text": [
            "\u001b[1;35mt=2024-03-18T14:29:42+0000 lvl=info msg=\"join connections\" obj=join id=c7cc905e433e l=127.0.0.1:8237 r=102.222.234.175:18489\u001b[0m\n",
            "\u001b[1;35mGot token from cookie\u001b[0m\n",
            "\u001b[32mINFO\u001b[0m:     102.222.234.175:0 - \"\u001b[1mGET /api/v1/workspaces/default/stacks?sort_by=desc:created&logical_operator=and&page=1&size=10 HTTP/1.1\u001b[0m\" \u001b[32m200 OK\u001b[0m\n"
          ]
        },
        {
          "name": "stderr",
          "output_type": "stream",
          "text": [
            "INFO:pyngrok.process.ngrok:t=2024-03-18T14:29:48+0000 lvl=info msg=\"join connections\" obj=join id=858aa20f6586 l=127.0.0.1:8237 r=102.222.234.175:18615\n"
          ]
        },
        {
          "name": "stdout",
          "output_type": "stream",
          "text": [
            "\u001b[1;35mt=2024-03-18T14:29:48+0000 lvl=info msg=\"join connections\" obj=join id=858aa20f6586 l=127.0.0.1:8237 r=102.222.234.175:18615\u001b[0m\n",
            "\u001b[1;35mGot token from cookie\u001b[0m\n",
            "\u001b[32mINFO\u001b[0m:     102.222.234.175:0 - \"\u001b[1mGET /api/v1/workspaces/default/stacks?sort_by=desc:created&logical_operator=and&page=1&size=10 HTTP/1.1\u001b[0m\" \u001b[32m200 OK\u001b[0m\n"
          ]
        },
        {
          "name": "stderr",
          "output_type": "stream",
          "text": [
            "INFO:pyngrok.process.ngrok:t=2024-03-18T14:29:55+0000 lvl=info msg=\"join connections\" obj=join id=21219ba2fb0b l=127.0.0.1:8237 r=102.222.234.175:18483\n"
          ]
        },
        {
          "name": "stdout",
          "output_type": "stream",
          "text": [
            "\u001b[1;35mt=2024-03-18T14:29:55+0000 lvl=info msg=\"join connections\" obj=join id=21219ba2fb0b l=127.0.0.1:8237 r=102.222.234.175:18483\u001b[0m\n",
            "\u001b[1;35mGot token from cookie\u001b[0m\n",
            "\u001b[32mINFO\u001b[0m:     102.222.234.175:0 - \"\u001b[1mGET /api/v1/workspaces/default/stacks?sort_by=desc:created&logical_operator=and&page=1&size=10 HTTP/1.1\u001b[0m\" \u001b[32m200 OK\u001b[0m\n"
          ]
        },
        {
          "name": "stderr",
          "output_type": "stream",
          "text": [
            "INFO:pyngrok.process.ngrok:t=2024-03-18T14:30:02+0000 lvl=info msg=\"join connections\" obj=join id=81c7e8d4ae3f l=127.0.0.1:8237 r=102.222.234.175:18483\n"
          ]
        },
        {
          "name": "stdout",
          "output_type": "stream",
          "text": [
            "\u001b[1;35mt=2024-03-18T14:30:02+0000 lvl=info msg=\"join connections\" obj=join id=81c7e8d4ae3f l=127.0.0.1:8237 r=102.222.234.175:18483\u001b[0m\n",
            "\u001b[1;35mGot token from cookie\u001b[0m\n",
            "\u001b[32mINFO\u001b[0m:     102.222.234.175:0 - \"\u001b[1mGET /api/v1/workspaces/default/stacks?sort_by=desc:created&logical_operator=and&page=1&size=10 HTTP/1.1\u001b[0m\" \u001b[32m200 OK\u001b[0m\n"
          ]
        },
        {
          "name": "stderr",
          "output_type": "stream",
          "text": [
            "INFO:pyngrok.process.ngrok:t=2024-03-18T14:30:08+0000 lvl=info msg=\"join connections\" obj=join id=d9050de353d1 l=127.0.0.1:8237 r=102.222.70.103:55714\n"
          ]
        },
        {
          "name": "stdout",
          "output_type": "stream",
          "text": [
            "\u001b[1;35mt=2024-03-18T14:30:08+0000 lvl=info msg=\"join connections\" obj=join id=d9050de353d1 l=127.0.0.1:8237 r=102.222.70.103:55714\u001b[0m\n",
            "\u001b[1;35mGot token from cookie\u001b[0m\n",
            "\u001b[32mINFO\u001b[0m:     102.222.70.103:0 - \"\u001b[1mGET /api/v1/workspaces/default/stacks?sort_by=desc:created&logical_operator=and&page=1&size=10 HTTP/1.1\u001b[0m\" \u001b[32m200 OK\u001b[0m\n"
          ]
        },
        {
          "name": "stderr",
          "output_type": "stream",
          "text": [
            "INFO:pyngrok.process.ngrok:t=2024-03-18T14:30:15+0000 lvl=info msg=\"join connections\" obj=join id=29a6005bd5a1 l=127.0.0.1:8237 r=102.222.70.103:55714\n"
          ]
        },
        {
          "name": "stdout",
          "output_type": "stream",
          "text": [
            "\u001b[1;35mt=2024-03-18T14:30:15+0000 lvl=info msg=\"join connections\" obj=join id=29a6005bd5a1 l=127.0.0.1:8237 r=102.222.70.103:55714\u001b[0m\n",
            "\u001b[1;35mGot token from cookie\u001b[0m\n",
            "\u001b[32mINFO\u001b[0m:     102.222.70.103:0 - \"\u001b[1mGET /api/v1/workspaces/default/stacks?sort_by=desc:created&logical_operator=and&page=1&size=10 HTTP/1.1\u001b[0m\" \u001b[32m200 OK\u001b[0m\n"
          ]
        },
        {
          "name": "stderr",
          "output_type": "stream",
          "text": [
            "INFO:pyngrok.process.ngrok:t=2024-03-18T14:30:21+0000 lvl=info msg=\"join connections\" obj=join id=1c9ebf2048c3 l=127.0.0.1:8237 r=102.222.70.103:55714\n"
          ]
        },
        {
          "name": "stdout",
          "output_type": "stream",
          "text": [
            "\u001b[1;35mt=2024-03-18T14:30:21+0000 lvl=info msg=\"join connections\" obj=join id=1c9ebf2048c3 l=127.0.0.1:8237 r=102.222.70.103:55714\u001b[0m\n",
            "\u001b[1;35mGot token from cookie\u001b[0m\n",
            "\u001b[32mINFO\u001b[0m:     102.222.70.103:0 - \"\u001b[1mGET /api/v1/workspaces/default/stacks?sort_by=desc:created&logical_operator=and&page=1&size=10 HTTP/1.1\u001b[0m\" \u001b[32m200 OK\u001b[0m\n"
          ]
        },
        {
          "name": "stderr",
          "output_type": "stream",
          "text": [
            "INFO:pyngrok.process.ngrok:t=2024-03-18T14:30:27+0000 lvl=info msg=\"join connections\" obj=join id=bac3a600c710 l=127.0.0.1:8237 r=102.222.70.103:55714\n"
          ]
        },
        {
          "name": "stdout",
          "output_type": "stream",
          "text": [
            "\u001b[1;35mt=2024-03-18T14:30:27+0000 lvl=info msg=\"join connections\" obj=join id=bac3a600c710 l=127.0.0.1:8237 r=102.222.70.103:55714\u001b[0m\n",
            "\u001b[1;35mGot token from cookie\u001b[0m\n",
            "\u001b[32mINFO\u001b[0m:     102.222.70.103:0 - \"\u001b[1mGET /api/v1/workspaces/default/stacks?sort_by=desc:created&logical_operator=and&page=1&size=10 HTTP/1.1\u001b[0m\" \u001b[32m200 OK\u001b[0m\n"
          ]
        },
        {
          "name": "stderr",
          "output_type": "stream",
          "text": [
            "INFO:pyngrok.process.ngrok:t=2024-03-18T14:30:33+0000 lvl=info msg=\"join connections\" obj=join id=3ff5ae7846b6 l=127.0.0.1:8237 r=102.222.70.103:55714\n"
          ]
        },
        {
          "name": "stdout",
          "output_type": "stream",
          "text": [
            "\u001b[1;35mt=2024-03-18T14:30:33+0000 lvl=info msg=\"join connections\" obj=join id=3ff5ae7846b6 l=127.0.0.1:8237 r=102.222.70.103:55714\u001b[0m\n",
            "\u001b[1;35mGot token from cookie\u001b[0m\n",
            "\u001b[32mINFO\u001b[0m:     102.222.70.103:0 - \"\u001b[1mGET /api/v1/workspaces/default/stacks?sort_by=desc:created&logical_operator=and&page=1&size=10 HTTP/1.1\u001b[0m\" \u001b[32m200 OK\u001b[0m\n"
          ]
        },
        {
          "name": "stderr",
          "output_type": "stream",
          "text": [
            "INFO:pyngrok.process.ngrok:t=2024-03-18T14:30:38+0000 lvl=info msg=\"join connections\" obj=join id=cc85aeff8c49 l=127.0.0.1:8237 r=102.222.70.103:55714\n"
          ]
        },
        {
          "name": "stdout",
          "output_type": "stream",
          "text": [
            "\u001b[1;35mt=2024-03-18T14:30:38+0000 lvl=info msg=\"join connections\" obj=join id=cc85aeff8c49 l=127.0.0.1:8237 r=102.222.70.103:55714\u001b[0m\n"
          ]
        },
        {
          "name": "stderr",
          "output_type": "stream",
          "text": [
            "INFO:pyngrok.process.ngrok:t=2024-03-18T14:30:38+0000 lvl=info msg=\"join connections\" obj=join id=ec61e89637aa l=127.0.0.1:8237 r=102.222.70.103:55714\n"
          ]
        },
        {
          "name": "stdout",
          "output_type": "stream",
          "text": [
            "\u001b[1;35mt=2024-03-18T14:30:38+0000 lvl=info msg=\"join connections\" obj=join id=ec61e89637aa l=127.0.0.1:8237 r=102.222.70.103:55714\u001b[0m\n"
          ]
        },
        {
          "name": "stderr",
          "output_type": "stream",
          "text": [
            "INFO:pyngrok.process.ngrok:t=2024-03-18T14:30:38+0000 lvl=info msg=\"join connections\" obj=join id=a7a0defafabf l=127.0.0.1:8237 r=102.222.70.103:55714\n"
          ]
        },
        {
          "name": "stdout",
          "output_type": "stream",
          "text": [
            "\u001b[1;35mt=2024-03-18T14:30:38+0000 lvl=info msg=\"join connections\" obj=join id=a7a0defafabf l=127.0.0.1:8237 r=102.222.70.103:55714\u001b[0m\n",
            "\u001b[32mINFO\u001b[0m:     102.222.70.103:0 - \"\u001b[1mGET /api/v1/info HTTP/1.1\u001b[0m\" \u001b[32m200 OK\u001b[0m\n",
            "\u001b[1;35mGot token from cookie\u001b[0m\n",
            "\u001b[1;35mGot token from cookie\u001b[0m\n",
            "\u001b[32mINFO\u001b[0m:     102.222.70.103:0 - \"\u001b[1mGET /api/v1/workspaces HTTP/1.1\u001b[0m\" \u001b[32m200 OK\u001b[0m\n",
            "\u001b[32mINFO\u001b[0m:     102.222.70.103:0 - \"\u001b[1mGET /api/v1/workspaces/default/runs?sort_by=desc:created&logical_operator=and&page=1&size=10 HTTP/1.1\u001b[0m\" \u001b[32m200 OK\u001b[0m\n"
          ]
        },
        {
          "name": "stderr",
          "output_type": "stream",
          "text": [
            "INFO:pyngrok.process.ngrok:t=2024-03-18T14:30:44+0000 lvl=info msg=\"join connections\" obj=join id=2dbef4ae4cf2 l=127.0.0.1:8237 r=102.222.70.103:55714\n"
          ]
        },
        {
          "name": "stdout",
          "output_type": "stream",
          "text": [
            "\u001b[1;35mt=2024-03-18T14:30:44+0000 lvl=info msg=\"join connections\" obj=join id=2dbef4ae4cf2 l=127.0.0.1:8237 r=102.222.70.103:55714\u001b[0m\n"
          ]
        },
        {
          "name": "stderr",
          "output_type": "stream",
          "text": [
            "INFO:pyngrok.process.ngrok:t=2024-03-18T14:30:44+0000 lvl=info msg=\"join connections\" obj=join id=0dd3e0f55063 l=127.0.0.1:8237 r=102.222.70.103:55714\n"
          ]
        },
        {
          "name": "stdout",
          "output_type": "stream",
          "text": [
            "\u001b[32mINFO\u001b[0m:     102.222.70.103:0 - \"\u001b[1mGET /api/v1/info HTTP/1.1\u001b[0m\" \u001b[32m200 OK\u001b[0m\n",
            "\u001b[1;35mt=2024-03-18T14:30:44+0000 lvl=info msg=\"join connections\" obj=join id=0dd3e0f55063 l=127.0.0.1:8237 r=102.222.70.103:55714\u001b[0m\n"
          ]
        },
        {
          "name": "stderr",
          "output_type": "stream",
          "text": [
            "INFO:pyngrok.process.ngrok:t=2024-03-18T14:30:44+0000 lvl=info msg=\"join connections\" obj=join id=575ea61d6f53 l=127.0.0.1:8237 r=102.222.70.103:55714\n"
          ]
        },
        {
          "name": "stdout",
          "output_type": "stream",
          "text": [
            "\u001b[1;35mt=2024-03-18T14:30:44+0000 lvl=info msg=\"join connections\" obj=join id=575ea61d6f53 l=127.0.0.1:8237 r=102.222.70.103:55714\u001b[0m\n",
            "\u001b[1;35mGot token from cookie\u001b[0m\n",
            "\u001b[1;35mGot token from cookie\u001b[0m\n",
            "\u001b[32mINFO\u001b[0m:     102.222.70.103:0 - \"\u001b[1mGET /api/v1/workspaces HTTP/1.1\u001b[0m\" \u001b[32m200 OK\u001b[0m\n",
            "\u001b[32mINFO\u001b[0m:     102.222.70.103:0 - \"\u001b[1mGET /api/v1/workspaces/default/pipelines?sort_by=desc:created&logical_operator=and&page=1&size=10 HTTP/1.1\u001b[0m\" \u001b[32m200 OK\u001b[0m\n"
          ]
        },
        {
          "name": "stderr",
          "output_type": "stream",
          "text": [
            "INFO:pyngrok.process.ngrok:t=2024-03-18T14:30:49+0000 lvl=info msg=\"join connections\" obj=join id=1f64a91bc9a8 l=127.0.0.1:8237 r=102.222.70.103:55714\n"
          ]
        },
        {
          "name": "stdout",
          "output_type": "stream",
          "text": [
            "\u001b[1;35mt=2024-03-18T14:30:49+0000 lvl=info msg=\"join connections\" obj=join id=1f64a91bc9a8 l=127.0.0.1:8237 r=102.222.70.103:55714\u001b[0m\n"
          ]
        },
        {
          "name": "stderr",
          "output_type": "stream",
          "text": [
            "INFO:pyngrok.process.ngrok:t=2024-03-18T14:30:49+0000 lvl=info msg=\"join connections\" obj=join id=df8a8be725be l=127.0.0.1:8237 r=102.222.70.103:55714\n"
          ]
        },
        {
          "name": "stdout",
          "output_type": "stream",
          "text": [
            "\u001b[1;35mt=2024-03-18T14:30:49+0000 lvl=info msg=\"join connections\" obj=join id=df8a8be725be l=127.0.0.1:8237 r=102.222.70.103:55714\u001b[0m\n"
          ]
        },
        {
          "name": "stderr",
          "output_type": "stream",
          "text": [
            "INFO:pyngrok.process.ngrok:t=2024-03-18T14:30:49+0000 lvl=info msg=\"join connections\" obj=join id=c99ac7c5e43c l=127.0.0.1:8237 r=102.222.70.103:55714\n"
          ]
        },
        {
          "name": "stdout",
          "output_type": "stream",
          "text": [
            "\u001b[1;35mt=2024-03-18T14:30:49+0000 lvl=info msg=\"join connections\" obj=join id=c99ac7c5e43c l=127.0.0.1:8237 r=102.222.70.103:55714\u001b[0m\n",
            "\u001b[1;35mGot token from cookie\u001b[0m\n",
            "\u001b[32mINFO\u001b[0m:     102.222.70.103:0 - \"\u001b[1mGET /api/v1/info HTTP/1.1\u001b[0m\" \u001b[32m200 OK\u001b[0m\n",
            "\u001b[1;35mGot token from cookie\u001b[0m\n",
            "\u001b[32mINFO\u001b[0m:     102.222.70.103:0 - \"\u001b[1mGET /api/v1/workspaces HTTP/1.1\u001b[0m\" \u001b[32m200 OK\u001b[0m\n",
            "\u001b[32mINFO\u001b[0m:     102.222.70.103:0 - \"\u001b[1mGET /api/v1/workspaces/default/runs?sort_by=desc:created&logical_operator=and&page=1&size=10 HTTP/1.1\u001b[0m\" \u001b[32m200 OK\u001b[0m\n"
          ]
        },
        {
          "name": "stderr",
          "output_type": "stream",
          "text": [
            "INFO:pyngrok.process.ngrok:t=2024-03-18T14:30:53+0000 lvl=info msg=\"join connections\" obj=join id=559c31203654 l=127.0.0.1:8237 r=102.222.70.103:55714\n"
          ]
        },
        {
          "name": "stdout",
          "output_type": "stream",
          "text": [
            "\u001b[1;35mGot token from cookie\u001b[0m\n",
            "\u001b[32mINFO\u001b[0m:     102.222.70.103:0 - \"\u001b[1mGET /api/v1/info HTTP/1.1\u001b[0m\" \u001b[32m200 OK\u001b[0m\n",
            "\u001b[32mINFO\u001b[0m:     102.222.70.103:0 - \"\u001b[1mGET /api/v1/workspaces HTTP/1.1\u001b[0m\" \u001b[32m200 OK\u001b[0m\n",
            "\u001b[1;35mt=2024-03-18T14:30:53+0000 lvl=info msg=\"join connections\" obj=join id=559c31203654 l=127.0.0.1:8237 r=102.222.70.103:55714\u001b[0m\n"
          ]
        },
        {
          "name": "stderr",
          "output_type": "stream",
          "text": [
            "INFO:pyngrok.process.ngrok:t=2024-03-18T14:30:53+0000 lvl=info msg=\"join connections\" obj=join id=50ff04e45bf9 l=127.0.0.1:8237 r=102.222.70.103:55714\n"
          ]
        },
        {
          "name": "stdout",
          "output_type": "stream",
          "text": [
            "\u001b[1;35mt=2024-03-18T14:30:53+0000 lvl=info msg=\"join connections\" obj=join id=50ff04e45bf9 l=127.0.0.1:8237 r=102.222.70.103:55714\u001b[0m\n",
            "\u001b[32mINFO\u001b[0m:     102.222.70.103:0 - \"\u001b[1mGET /media/arrowClose.cbd53f3f.svg HTTP/1.1\u001b[0m\" \u001b[33m304 Not Modified\u001b[0m\n",
            "\u001b[1;35mGot token from cookie\u001b[0m\n",
            "\u001b[32mINFO\u001b[0m:     102.222.70.103:0 - \"\u001b[1mGET /api/v1/runs/e3a32f65-6b01-4efe-ab0d-ef5f0b41cbc2 HTTP/1.1\u001b[0m\" \u001b[32m200 OK\u001b[0m\n",
            "\u001b[1;35mGot token from cookie\u001b[0m\n",
            "\u001b[32mINFO\u001b[0m:     102.222.70.103:0 - \"\u001b[1mGET /api/v1/runs/e3a32f65-6b01-4efe-ab0d-ef5f0b41cbc2/graph HTTP/1.1\u001b[0m\" \u001b[32m200 OK\u001b[0m\n",
            "\u001b[1;35mGot token from cookie\u001b[0m\n",
            "\u001b[32mINFO\u001b[0m:     102.222.70.103:0 - \"\u001b[1mGET /api/v1/run-metadata?pipeline_run_id=e3a32f65-6b01-4efe-ab0d-ef5f0b41cbc2&key=orchestrator_url HTTP/1.1\u001b[0m\" \u001b[32m200 OK\u001b[0m\n"
          ]
        },
        {
          "name": "stderr",
          "output_type": "stream",
          "text": [
            "INFO:pyngrok.process.ngrok:t=2024-03-18T14:31:04+0000 lvl=info msg=\"join connections\" obj=join id=725fb980cab0 l=127.0.0.1:8237 r=102.222.70.103:55714\n"
          ]
        },
        {
          "name": "stdout",
          "output_type": "stream",
          "text": [
            "\u001b[1;35mt=2024-03-18T14:31:04+0000 lvl=info msg=\"join connections\" obj=join id=725fb980cab0 l=127.0.0.1:8237 r=102.222.70.103:55714\u001b[0m\n",
            "\u001b[32mINFO\u001b[0m:     102.222.70.103:0 - \"\u001b[1mGET /media/arrowOpen.6ceef0af.svg HTTP/1.1\u001b[0m\" \u001b[32m200 OK\u001b[0m\n"
          ]
        },
        {
          "name": "stderr",
          "output_type": "stream",
          "text": [
            "INFO:pyngrok.process.ngrok:t=2024-03-18T14:49:08+0000 lvl=info msg=\"join connections\" obj=join id=74c97bca108d l=127.0.0.1:8237 r=102.222.70.103:56631\n"
          ]
        },
        {
          "name": "stdout",
          "output_type": "stream",
          "text": [
            "\u001b[1;35mt=2024-03-18T14:49:08+0000 lvl=info msg=\"join connections\" obj=join id=74c97bca108d l=127.0.0.1:8237 r=102.222.70.103:56631\u001b[0m\n"
          ]
        },
        {
          "name": "stderr",
          "output_type": "stream",
          "text": [
            "INFO:pyngrok.process.ngrok:t=2024-03-18T14:49:08+0000 lvl=info msg=\"join connections\" obj=join id=f8de5a59cdca l=127.0.0.1:8237 r=102.222.70.103:56631\n"
          ]
        },
        {
          "name": "stdout",
          "output_type": "stream",
          "text": [
            "\u001b[1;35mt=2024-03-18T14:49:08+0000 lvl=info msg=\"join connections\" obj=join id=f8de5a59cdca l=127.0.0.1:8237 r=102.222.70.103:56631\u001b[0m\n"
          ]
        },
        {
          "name": "stderr",
          "output_type": "stream",
          "text": [
            "INFO:pyngrok.process.ngrok:t=2024-03-18T14:49:08+0000 lvl=info msg=\"join connections\" obj=join id=48f57370a982 l=127.0.0.1:8237 r=102.222.70.103:56631\n"
          ]
        },
        {
          "name": "stdout",
          "output_type": "stream",
          "text": [
            "\u001b[1;35mt=2024-03-18T14:49:08+0000 lvl=info msg=\"join connections\" obj=join id=48f57370a982 l=127.0.0.1:8237 r=102.222.70.103:56631\u001b[0m\n",
            "\u001b[1;35mGot token from cookie\u001b[0m\n",
            "\u001b[1;35mGot token from cookie\u001b[0m\n",
            "\u001b[32mINFO\u001b[0m:     102.222.70.103:0 - \"\u001b[1mGET /api/v1/info HTTP/1.1\u001b[0m\" \u001b[32m200 OK\u001b[0m\n",
            "\u001b[32mINFO\u001b[0m:     102.222.70.103:0 - \"\u001b[1mGET /api/v1/workspaces HTTP/1.1\u001b[0m\" \u001b[32m200 OK\u001b[0m\n",
            "\u001b[32mINFO\u001b[0m:     102.222.70.103:0 - \"\u001b[1mGET /api/v1/workspaces/default/runs?sort_by=desc:created&logical_operator=and&page=1&size=10 HTTP/1.1\u001b[0m\" \u001b[32m200 OK\u001b[0m\n"
          ]
        },
        {
          "name": "stderr",
          "output_type": "stream",
          "text": [
            "INFO:pyngrok.process.ngrok:t=2024-03-18T14:49:13+0000 lvl=info msg=\"join connections\" obj=join id=18617275d7dd l=127.0.0.1:8237 r=102.222.70.103:56631\n"
          ]
        },
        {
          "name": "stdout",
          "output_type": "stream",
          "text": [
            "\u001b[1;35mGot token from cookie\u001b[0m\n",
            "\u001b[32mINFO\u001b[0m:     102.222.70.103:0 - \"\u001b[1mGET /api/v1/info HTTP/1.1\u001b[0m\" \u001b[32m200 OK\u001b[0m\n",
            "\u001b[32mINFO\u001b[0m:     102.222.70.103:0 - \"\u001b[1mGET /api/v1/runs/e3a32f65-6b01-4efe-ab0d-ef5f0b41cbc2 HTTP/1.1\u001b[0m\" \u001b[32m200 OK\u001b[0m\n",
            "\u001b[1;35mt=2024-03-18T14:49:13+0000 lvl=info msg=\"join connections\" obj=join id=18617275d7dd l=127.0.0.1:8237 r=102.222.70.103:56631\u001b[0m\n",
            "\u001b[1;35mGot token from cookie\u001b[0m\n",
            "\u001b[32mINFO\u001b[0m:     102.222.70.103:0 - \"\u001b[1mGET /api/v1/workspaces HTTP/1.1\u001b[0m\" \u001b[32m200 OK\u001b[0m\n",
            "\u001b[1;35mGot token from cookie\u001b[0m\n",
            "\u001b[32mINFO\u001b[0m:     102.222.70.103:0 - \"\u001b[1mGET /api/v1/runs/e3a32f65-6b01-4efe-ab0d-ef5f0b41cbc2/graph HTTP/1.1\u001b[0m\" \u001b[32m200 OK\u001b[0m\n",
            "\u001b[1;35mGot token from cookie\u001b[0m\n",
            "\u001b[32mINFO\u001b[0m:     102.222.70.103:0 - \"\u001b[1mGET /api/v1/run-metadata?pipeline_run_id=e3a32f65-6b01-4efe-ab0d-ef5f0b41cbc2&key=orchestrator_url HTTP/1.1\u001b[0m\" \u001b[32m200 OK\u001b[0m\n"
          ]
        },
        {
          "name": "stderr",
          "output_type": "stream",
          "text": [
            "INFO:pyngrok.process.ngrok:t=2024-03-18T14:49:25+0000 lvl=info msg=\"join connections\" obj=join id=e4f475a83cf0 l=127.0.0.1:8237 r=102.222.70.103:56631\n"
          ]
        },
        {
          "name": "stdout",
          "output_type": "stream",
          "text": [
            "\u001b[1;35mt=2024-03-18T14:49:25+0000 lvl=info msg=\"join connections\" obj=join id=e4f475a83cf0 l=127.0.0.1:8237 r=102.222.70.103:56631\u001b[0m\n",
            "\u001b[32mINFO\u001b[0m:     102.222.70.103:0 - \"\u001b[1mGET /media/arrowOpen.6ceef0af.svg HTTP/1.1\u001b[0m\" \u001b[33m304 Not Modified\u001b[0m\n"
          ]
        },
        {
          "name": "stderr",
          "output_type": "stream",
          "text": [
            "INFO:pyngrok.process.ngrok:t=2024-03-18T14:49:34+0000 lvl=info msg=\"join connections\" obj=join id=9b32e96b236e l=127.0.0.1:8237 r=102.222.70.103:56631\n"
          ]
        },
        {
          "name": "stdout",
          "output_type": "stream",
          "text": [
            "\u001b[1;35mt=2024-03-18T14:49:34+0000 lvl=info msg=\"join connections\" obj=join id=9b32e96b236e l=127.0.0.1:8237 r=102.222.70.103:56631\u001b[0m\n"
          ]
        },
        {
          "name": "stderr",
          "output_type": "stream",
          "text": [
            "INFO:pyngrok.process.ngrok:t=2024-03-18T14:49:34+0000 lvl=info msg=\"join connections\" obj=join id=96a0bc0ddd54 l=127.0.0.1:8237 r=102.222.70.103:56631\n"
          ]
        },
        {
          "name": "stdout",
          "output_type": "stream",
          "text": [
            "\u001b[1;35mt=2024-03-18T14:49:34+0000 lvl=info msg=\"join connections\" obj=join id=96a0bc0ddd54 l=127.0.0.1:8237 r=102.222.70.103:56631\u001b[0m\n"
          ]
        },
        {
          "name": "stderr",
          "output_type": "stream",
          "text": [
            "INFO:pyngrok.process.ngrok:t=2024-03-18T14:49:34+0000 lvl=info msg=\"join connections\" obj=join id=2190772098d2 l=127.0.0.1:8237 r=102.222.70.103:56631\n"
          ]
        },
        {
          "name": "stdout",
          "output_type": "stream",
          "text": [
            "\u001b[1;35mt=2024-03-18T14:49:34+0000 lvl=info msg=\"join connections\" obj=join id=2190772098d2 l=127.0.0.1:8237 r=102.222.70.103:56631\u001b[0m\n",
            "\u001b[1;35mGot token from cookie\u001b[0m\n",
            "\u001b[1;35mGot token from cookie\u001b[0m\n",
            "\u001b[32mINFO\u001b[0m:     102.222.70.103:0 - \"\u001b[1mGET /api/v1/info HTTP/1.1\u001b[0m\" \u001b[32m200 OK\u001b[0m\n",
            "\u001b[32mINFO\u001b[0m:     102.222.70.103:0 - \"\u001b[1mGET /api/v1/workspaces HTTP/1.1\u001b[0m\" \u001b[32m200 OK\u001b[0m\n",
            "\u001b[32mINFO\u001b[0m:     102.222.70.103:0 - \"\u001b[1mGET /api/v1/workspaces/default/pipelines?sort_by=desc:created&logical_operator=and&page=1&size=10 HTTP/1.1\u001b[0m\" \u001b[32m200 OK\u001b[0m\n"
          ]
        },
        {
          "name": "stderr",
          "output_type": "stream",
          "text": [
            "INFO:pyngrok.process.ngrok:t=2024-03-18T14:49:40+0000 lvl=info msg=\"join connections\" obj=join id=520758a62f48 l=127.0.0.1:8237 r=102.222.70.103:56631\n"
          ]
        },
        {
          "name": "stdout",
          "output_type": "stream",
          "text": [
            "\u001b[1;35mt=2024-03-18T14:49:40+0000 lvl=info msg=\"join connections\" obj=join id=520758a62f48 l=127.0.0.1:8237 r=102.222.70.103:56631\u001b[0m\n",
            "\u001b[1;35mGot token from cookie\u001b[0m\n",
            "\u001b[32mINFO\u001b[0m:     102.222.70.103:0 - \"\u001b[1mGET /api/v1/workspaces/default/pipelines?sort_by=desc:created&logical_operator=and&page=1&size=10 HTTP/1.1\u001b[0m\" \u001b[32m200 OK\u001b[0m\n"
          ]
        },
        {
          "name": "stderr",
          "output_type": "stream",
          "text": [
            "INFO:pyngrok.process.ngrok:t=2024-03-18T14:49:47+0000 lvl=info msg=\"join connections\" obj=join id=db8339048745 l=127.0.0.1:8237 r=102.211.61.95:56685\n"
          ]
        },
        {
          "name": "stdout",
          "output_type": "stream",
          "text": [
            "\u001b[1;35mt=2024-03-18T14:49:47+0000 lvl=info msg=\"join connections\" obj=join id=db8339048745 l=127.0.0.1:8237 r=102.211.61.95:56685\u001b[0m\n",
            "\u001b[1;35mGot token from cookie\u001b[0m\n",
            "\u001b[32mINFO\u001b[0m:     102.211.61.95:0 - \"\u001b[1mGET /api/v1/workspaces/default/pipelines?sort_by=desc:created&logical_operator=and&page=1&size=10 HTTP/1.1\u001b[0m\" \u001b[32m200 OK\u001b[0m\n"
          ]
        },
        {
          "name": "stderr",
          "output_type": "stream",
          "text": [
            "INFO:pyngrok.process.ngrok:t=2024-03-18T14:49:51+0000 lvl=info msg=\"join connections\" obj=join id=57131eb673c4 l=127.0.0.1:8237 r=102.211.61.95:56685\n"
          ]
        },
        {
          "name": "stdout",
          "output_type": "stream",
          "text": [
            "\u001b[1;35mGot token from cookie\u001b[0m\n",
            "\u001b[32mINFO\u001b[0m:     102.211.61.95:0 - \"\u001b[1mGET /api/v1/workspaces/default/statistics HTTP/1.1\u001b[0m\" \u001b[32m200 OK\u001b[0m\n",
            "\u001b[1;35mt=2024-03-18T14:49:51+0000 lvl=info msg=\"join connections\" obj=join id=57131eb673c4 l=127.0.0.1:8237 r=102.211.61.95:56685\u001b[0m\n"
          ]
        },
        {
          "name": "stderr",
          "output_type": "stream",
          "text": [
            "INFO:pyngrok.process.ngrok:t=2024-03-18T14:49:51+0000 lvl=info msg=\"join connections\" obj=join id=aa162e5d8b44 l=127.0.0.1:8237 r=102.211.61.95:56685\n"
          ]
        },
        {
          "name": "stdout",
          "output_type": "stream",
          "text": [
            "\u001b[1;35mt=2024-03-18T14:49:51+0000 lvl=info msg=\"join connections\" obj=join id=aa162e5d8b44 l=127.0.0.1:8237 r=102.211.61.95:56685\u001b[0m\n"
          ]
        },
        {
          "name": "stderr",
          "output_type": "stream",
          "text": [
            "INFO:pyngrok.process.ngrok:t=2024-03-18T14:49:51+0000 lvl=info msg=\"join connections\" obj=join id=36f98f263eed l=127.0.0.1:8237 r=102.211.61.95:56685\n"
          ]
        },
        {
          "name": "stdout",
          "output_type": "stream",
          "text": [
            "\u001b[1;35mGot token from cookie\u001b[0m\n",
            "\u001b[1;35mt=2024-03-18T14:49:51+0000 lvl=info msg=\"join connections\" obj=join id=36f98f263eed l=127.0.0.1:8237 r=102.211.61.95:56685\u001b[0m\n",
            "\u001b[32mINFO\u001b[0m:     102.211.61.95:0 - \"\u001b[1mGET /api/v1/users?hydrate=true&size=1000&page=1 HTTP/1.1\u001b[0m\" \u001b[32m200 OK\u001b[0m\n",
            "\u001b[1;35mGot token from cookie\u001b[0m\n",
            "\u001b[32mINFO\u001b[0m:     102.211.61.95:0 - \"\u001b[1mGET /api/v1/info HTTP/1.1\u001b[0m\" \u001b[32m200 OK\u001b[0m\n",
            "\u001b[32mINFO\u001b[0m:     102.211.61.95:0 - \"\u001b[1mGET /api/v1/workspaces HTTP/1.1\u001b[0m\" \u001b[32m200 OK\u001b[0m\n"
          ]
        }
      ],
      "source": [
        "from zenml.environment import Environment\n",
        "def start_zenml_dashboard(port=8237):\n",
        "  if Environment.in_google_colab():\n",
        "    from pyngrok import ngrok\n",
        "\n",
        "    public_url = ngrok.connect(port)\n",
        "    print(f\"\\x1b[31mIn Colab, use this URL instead: {public_url}!\\x1b[0m\")\n",
        "    !zenml up --blocking --port {port}\n",
        "  else:\n",
        "    !zenml up --port{port}\n",
        "start_zenml_dashboard()"
      ]
    },
    {
      "cell_type": "code",
      "execution_count": null,
      "metadata": {
        "id": "SSw_qqEKKvxg"
      },
      "outputs": [],
      "source": []
    },
    {
      "cell_type": "code",
      "execution_count": null,
      "metadata": {
        "id": "vfAlkhbIKwC4"
      },
      "outputs": [],
      "source": []
    }
  ],
  "metadata": {
    "colab": {
      "provenance": [],
      "authorship_tag": "ABX9TyO1lmoONp/SD7FTneAIhJfy",
      "include_colab_link": true
    },
    "kernelspec": {
      "display_name": "Python 3",
      "name": "python3"
    },
    "language_info": {
      "name": "python"
    }
  },
  "nbformat": 4,
  "nbformat_minor": 0
}